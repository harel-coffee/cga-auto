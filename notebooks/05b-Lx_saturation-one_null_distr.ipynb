{
 "cells": [
  {
   "cell_type": "markdown",
   "metadata": {},
   "source": [
    "## Saturation analyses on the Lx"
   ]
  },
  {
   "cell_type": "markdown",
   "metadata": {},
   "source": [
    "Saturation analyses, using recall generaeted from 06-recall_one_null_distr. Where a single null distribution was used. Conclusion that using sampled null distribution per gene vs using a single null distribution for all genes does not make a difference on the recall scores generally, and saturation analyses results were similar."
   ]
  },
  {
   "cell_type": "code",
   "execution_count": 40,
   "metadata": {},
   "outputs": [],
   "source": [
    "import pandas as pd\n",
    "import numpy as np\n",
    "import matplotlib.pyplot as plt\n",
    "import seaborn as sns"
   ]
  },
  {
   "cell_type": "code",
   "execution_count": 41,
   "metadata": {},
   "outputs": [],
   "source": [
    "dir_Lx = './tmp/'\n",
    "recall_cutoff = 0.95\n",
    "model_name = 'topfeat'"
   ]
  },
  {
   "cell_type": "code",
   "execution_count": 42,
   "metadata": {},
   "outputs": [],
   "source": [
    "def getPct(x, model_name, cutoff=0.95):\n",
    "    # get the fraction of targets with recall > cutoff\n",
    "    # given as is refering to Lx\n",
    "    df_results = pd.read_csv('%s/model_results_L%s_reg_rf_boruta_%s.csv' % (dir_Lx, x, model_name))\n",
    "    df_results = df_results.loc[df_results.model == model_name,:].copy()\n",
    "    n_total = df_results.shape[0]\n",
    "    n_pass = sum(df_results.corr_test_recall_1null > cutoff)\n",
    "                \n",
    "    return n_pass/n_total, np.nanmean(df_results.corr_test)"
   ]
  },
  {
   "cell_type": "markdown",
   "metadata": {},
   "source": [
    "#### based on reduced model"
   ]
  },
  {
   "cell_type": "code",
   "execution_count": 43,
   "metadata": {},
   "outputs": [],
   "source": [
    "df_stats = {'Lx':[], 'recall_pct':[], 'mean_corr':[]}\n",
    "for x in [25,75,100,200,300]:\n",
    "    df_stats['Lx'].append(x)\n",
    "    recall_pct, mean_corr = getPct(x, model_name, recall_cutoff)\n",
    "    df_stats['recall_pct'].append(recall_pct)\n",
    "    df_stats['mean_corr'].append(mean_corr)\n",
    "df_stats = pd.DataFrame(df_stats)"
   ]
  },
  {
   "cell_type": "code",
   "execution_count": 44,
   "metadata": {},
   "outputs": [
    {
     "data": {
      "text/html": [
       "<div>\n",
       "<style scoped>\n",
       "    .dataframe tbody tr th:only-of-type {\n",
       "        vertical-align: middle;\n",
       "    }\n",
       "\n",
       "    .dataframe tbody tr th {\n",
       "        vertical-align: top;\n",
       "    }\n",
       "\n",
       "    .dataframe thead th {\n",
       "        text-align: right;\n",
       "    }\n",
       "</style>\n",
       "<table border=\"1\" class=\"dataframe\">\n",
       "  <thead>\n",
       "    <tr style=\"text-align: right;\">\n",
       "      <th></th>\n",
       "      <th>Lx</th>\n",
       "      <th>recall_pct</th>\n",
       "      <th>mean_corr</th>\n",
       "    </tr>\n",
       "  </thead>\n",
       "  <tbody>\n",
       "    <tr>\n",
       "      <th>0</th>\n",
       "      <td>25</td>\n",
       "      <td>0.207513</td>\n",
       "      <td>0.111615</td>\n",
       "    </tr>\n",
       "    <tr>\n",
       "      <th>1</th>\n",
       "      <td>75</td>\n",
       "      <td>0.426740</td>\n",
       "      <td>0.224617</td>\n",
       "    </tr>\n",
       "    <tr>\n",
       "      <th>2</th>\n",
       "      <td>100</td>\n",
       "      <td>0.418692</td>\n",
       "      <td>0.237213</td>\n",
       "    </tr>\n",
       "    <tr>\n",
       "      <th>3</th>\n",
       "      <td>200</td>\n",
       "      <td>0.518234</td>\n",
       "      <td>0.297754</td>\n",
       "    </tr>\n",
       "    <tr>\n",
       "      <th>4</th>\n",
       "      <td>300</td>\n",
       "      <td>0.592000</td>\n",
       "      <td>0.345809</td>\n",
       "    </tr>\n",
       "  </tbody>\n",
       "</table>\n",
       "</div>"
      ],
      "text/plain": [
       "    Lx  recall_pct  mean_corr\n",
       "0   25    0.207513   0.111615\n",
       "1   75    0.426740   0.224617\n",
       "2  100    0.418692   0.237213\n",
       "3  200    0.518234   0.297754\n",
       "4  300    0.592000   0.345809"
      ]
     },
     "execution_count": 44,
     "metadata": {},
     "output_type": "execute_result"
    }
   ],
   "source": [
    "df_stats"
   ]
  },
  {
   "cell_type": "code",
   "execution_count": 45,
   "metadata": {},
   "outputs": [
    {
     "data": {
      "text/plain": [
       "[Text(0,0.5,'% targets with recall > 0.95'), Text(0.5,0,'Lx')]"
      ]
     },
     "execution_count": 45,
     "metadata": {},
     "output_type": "execute_result"
    },
    {
     "data": {
      "image/png": "[encoded data removed]",
      "text/plain": [
       "<Figure size 432x288 with 1 Axes>"
      ]
     },
     "metadata": {
      "needs_background": "light"
     },
     "output_type": "display_data"
    }
   ],
   "source": [
    "ax = sns.scatterplot(df_stats.Lx, df_stats.recall_pct, s=100)\n",
    "ax.set(xlabel='Lx', ylabel='%% targets with recall > %s' % recall_cutoff)"
   ]
  },
  {
   "cell_type": "code",
   "execution_count": 46,
   "metadata": {},
   "outputs": [
    {
     "data": {
      "text/plain": [
       "[Text(0,0.5,'Mean correlation (rho)'), Text(0.5,0,'Lx')]"
      ]
     },
     "execution_count": 46,
     "metadata": {},
     "output_type": "execute_result"
    },
    {
     "data": {
      "image/png": "[encoded data removed]",
      "text/plain": [
       "<Figure size 432x288 with 1 Axes>"
      ]
     },
     "metadata": {
      "needs_background": "light"
     },
     "output_type": "display_data"
    }
   ],
   "source": [
    "ax = sns.scatterplot(df_stats.Lx, df_stats.mean_corr, s=100)\n",
    "ax.set(xlabel='Lx', ylabel='Mean correlation (rho)')"
   ]
  }
 ],
 "metadata": {
  "kernelspec": {
   "display_name": "Python 3",
   "language": "python",
   "name": "python3"
  },
  "language_info": {
   "codemirror_mode": {
    "name": "ipython",
    "version": 3
   },
   "file_extension": ".py",
   "mimetype": "text/x-python",
   "name": "python",
   "nbconvert_exporter": "python",
   "pygments_lexer": "ipython3",
   "version": "3.7.7"
  },
  "toc": {
   "base_numbering": 1,
   "nav_menu": {},
   "number_sections": true,
   "sideBar": true,
   "skip_h1_title": false,
   "title_cell": "Table of Contents",
   "title_sidebar": "Contents",
   "toc_cell": false,
   "toc_position": {},
   "toc_section_display": true,
   "toc_window_display": true
  }
 },
 "nbformat": 4,
 "nbformat_minor": 2
}
