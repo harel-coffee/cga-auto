{
 "cells": [
  {
   "cell_type": "markdown",
   "metadata": {},
   "source": [
    "## Saturation analyses on the Lx, for whole genome"
   ]
  },
  {
   "cell_type": "code",
   "execution_count": 1,
   "metadata": {},
   "outputs": [],
   "source": [
    "import pandas as pd\n",
    "import numpy as np\n",
    "import matplotlib.pyplot as plt\n",
    "import seaborn as sns"
   ]
  },
  {
   "cell_type": "code",
   "execution_count": 89,
   "metadata": {},
   "outputs": [],
   "source": [
    "dir_Lx = '../out/20.0909 Lx/'\n",
    "recall_cutoff = 0.95\n",
    "#Lx_range = [25, 75, 100, 200, 300]\n",
    "Lx_range = [25, 100, 200, 300]"
   ]
  },
  {
   "cell_type": "markdown",
   "metadata": {},
   "source": [
    "### reduced model top 10 feat, mean"
   ]
  },
  {
   "cell_type": "code",
   "execution_count": 171,
   "metadata": {},
   "outputs": [],
   "source": [
    "def getPct(x, model_name, cutoff=0.95):\n",
    "    # get the fraction of targets with recall > cutoff\n",
    "    # given as is refering to Lx\n",
    "    df_results = pd.read_csv('%s/L%sonly_reg_rf_boruta_all/model_results.csv' % (dir_Lx, x))\n",
    "    \n",
    "    #genes_pass = df_results.loc[df_results.score_test>0,'target']\n",
    "    #genes_pass = df_results.loc[(df_results.score_train - df_results.score_test) < 0.1,'target']\n",
    "    #df_results = df_results.loc[df_results.target.isin(set(genes_pass)),:].copy()\n",
    "    \n",
    "    df_results = df_results.loc[df_results.model == model_name,:].copy()\n",
    "    n_total = df_results.shape[0]\n",
    "    n_pass = sum(df_results.corr_test_recall > cutoff)\n",
    "                \n",
    "    return n_total, n_pass/n_total, np.nanmean(df_results.corr_test), np.nanmean(df_results.score_test), np.nanmean(df_results.score_train)\n",
    "    \n",
    "def getStats(model_name):\n",
    "    df_stats = {'Lx':[], 'recall_pct':[], 'mean_corr':[], 'mean_R2_test':[], 'mean_R2_train':[], 'n':[]}\n",
    "    for x in Lx_range:\n",
    "        df_stats['Lx'].append(x)\n",
    "        n, recall_pct, mean_corr, mean_R2_test, mean_R2_train = getPct(x, model_name, recall_cutoff)\n",
    "        df_stats['recall_pct'].append(recall_pct)\n",
    "        df_stats['mean_corr'].append(mean_corr)\n",
    "        df_stats['mean_R2_test'].append(mean_R2_test)\n",
    "        df_stats['mean_R2_train'].append(mean_R2_train)\n",
    "        df_stats['n'].append(n)\n",
    "    df_stats = pd.DataFrame(df_stats)\n",
    "    return df_stats"
   ]
  },
  {
   "cell_type": "code",
   "execution_count": 172,
   "metadata": {},
   "outputs": [
    {
     "data": {
      "text/html": [
       "<div>\n",
       "<style scoped>\n",
       "    .dataframe tbody tr th:only-of-type {\n",
       "        vertical-align: middle;\n",
       "    }\n",
       "\n",
       "    .dataframe tbody tr th {\n",
       "        vertical-align: top;\n",
       "    }\n",
       "\n",
       "    .dataframe thead th {\n",
       "        text-align: right;\n",
       "    }\n",
       "</style>\n",
       "<table border=\"1\" class=\"dataframe\">\n",
       "  <thead>\n",
       "    <tr style=\"text-align: right;\">\n",
       "      <th></th>\n",
       "      <th>Lx</th>\n",
       "      <th>recall_pct</th>\n",
       "      <th>mean_corr</th>\n",
       "      <th>mean_R2_test</th>\n",
       "      <th>mean_R2_train</th>\n",
       "      <th>n</th>\n",
       "    </tr>\n",
       "  </thead>\n",
       "  <tbody>\n",
       "    <tr>\n",
       "      <th>0</th>\n",
       "      <td>25</td>\n",
       "      <td>0.139093</td>\n",
       "      <td>0.051634</td>\n",
       "      <td>-0.068053</td>\n",
       "      <td>0.280914</td>\n",
       "      <td>16507</td>\n",
       "    </tr>\n",
       "    <tr>\n",
       "      <th>1</th>\n",
       "      <td>100</td>\n",
       "      <td>0.260729</td>\n",
       "      <td>0.113942</td>\n",
       "      <td>-0.026150</td>\n",
       "      <td>0.388743</td>\n",
       "      <td>18222</td>\n",
       "    </tr>\n",
       "    <tr>\n",
       "      <th>2</th>\n",
       "      <td>200</td>\n",
       "      <td>0.337688</td>\n",
       "      <td>0.147208</td>\n",
       "      <td>-0.006163</td>\n",
       "      <td>0.433879</td>\n",
       "      <td>18141</td>\n",
       "    </tr>\n",
       "    <tr>\n",
       "      <th>3</th>\n",
       "      <td>300</td>\n",
       "      <td>0.375242</td>\n",
       "      <td>0.162597</td>\n",
       "      <td>0.004070</td>\n",
       "      <td>0.452212</td>\n",
       "      <td>18047</td>\n",
       "    </tr>\n",
       "  </tbody>\n",
       "</table>\n",
       "</div>"
      ],
      "text/plain": [
       "    Lx  recall_pct  mean_corr  mean_R2_test  mean_R2_train      n\n",
       "0   25    0.139093   0.051634     -0.068053       0.280914  16507\n",
       "1  100    0.260729   0.113942     -0.026150       0.388743  18222\n",
       "2  200    0.337688   0.147208     -0.006163       0.433879  18141\n",
       "3  300    0.375242   0.162597      0.004070       0.452212  18047"
      ]
     },
     "execution_count": 172,
     "metadata": {},
     "output_type": "execute_result"
    }
   ],
   "source": [
    "df_stats = getStats('top10feat')\n",
    "df_stats"
   ]
  },
  {
   "cell_type": "code",
   "execution_count": 173,
   "metadata": {},
   "outputs": [
    {
     "data": {
      "text/plain": [
       "[Text(0.5, 0, 'Lx'), Text(0, 0.5, '% targets with recall > 0.95')]"
      ]
     },
     "execution_count": 173,
     "metadata": {},
     "output_type": "execute_result"
    },
    {
     "data": {
      "image/png": "[encoded data removed]",
      "text/plain": [
       "<Figure size 432x288 with 1 Axes>"
      ]
     },
     "metadata": {
      "needs_background": "light"
     },
     "output_type": "display_data"
    }
   ],
   "source": [
    "ax = sns.scatterplot(df_stats.Lx, df_stats.recall_pct, s=100)\n",
    "ax.set(xlabel='Lx', ylabel='%% targets with recall > %s' % recall_cutoff)"
   ]
  },
  {
   "cell_type": "code",
   "execution_count": 174,
   "metadata": {},
   "outputs": [
    {
     "data": {
      "text/plain": [
       "[Text(0.5, 0, 'Lx'), Text(0, 0.5, 'Normalized % targets with recall > 0.95')]"
      ]
     },
     "execution_count": 174,
     "metadata": {},
     "output_type": "execute_result"
    },
    {
     "data": {
      "image/png": "[encoded data removed]",
      "text/plain": [
       "<Figure size 432x288 with 1 Axes>"
      ]
     },
     "metadata": {
      "needs_background": "light"
     },
     "output_type": "display_data"
    }
   ],
   "source": [
    "ax = sns.scatterplot(df_stats.Lx, df_stats.recall_pct / df_stats.recall_pct[0], s=100)\n",
    "ax.set(xlabel='Lx', ylabel='Normalized %% targets with recall > %s' % recall_cutoff)"
   ]
  },
  {
   "cell_type": "code",
   "execution_count": 175,
   "metadata": {},
   "outputs": [
    {
     "data": {
      "text/plain": [
       "[Text(0.5, 0, 'Lx'), Text(0, 0.5, 'Mean correlation (rho)')]"
      ]
     },
     "execution_count": 175,
     "metadata": {},
     "output_type": "execute_result"
    },
    {
     "data": {
      "image/png": "[encoded data removed]",
      "text/plain": [
       "<Figure size 432x288 with 1 Axes>"
      ]
     },
     "metadata": {
      "needs_background": "light"
     },
     "output_type": "display_data"
    }
   ],
   "source": [
    "ax = sns.scatterplot(df_stats.Lx, df_stats.mean_corr, s=100)\n",
    "ax.set(xlabel='Lx', ylabel='Mean correlation (rho)')"
   ]
  },
  {
   "cell_type": "code",
   "execution_count": 176,
   "metadata": {},
   "outputs": [
    {
     "data": {
      "text/plain": [
       "[Text(0.5, 0, 'Lx'), Text(0, 0.5, 'Normalized Mean correlation (rho)')]"
      ]
     },
     "execution_count": 176,
     "metadata": {},
     "output_type": "execute_result"
    },
    {
     "data": {
      "image/png": "[encoded data removed]",
      "text/plain": [
       "<Figure size 432x288 with 1 Axes>"
      ]
     },
     "metadata": {
      "needs_background": "light"
     },
     "output_type": "display_data"
    }
   ],
   "source": [
    "ax = sns.scatterplot(df_stats.Lx, df_stats.mean_corr / df_stats.mean_corr[0], s=100)\n",
    "ax.set(xlabel='Lx', ylabel='Normalized Mean correlation (rho)')"
   ]
  },
  {
   "cell_type": "code",
   "execution_count": 177,
   "metadata": {},
   "outputs": [
    {
     "data": {
      "text/plain": [
       "[Text(0.5, 0, 'Lx'), Text(0, 0.5, 'Mean R2')]"
      ]
     },
     "execution_count": 177,
     "metadata": {},
     "output_type": "execute_result"
    },
    {
     "data": {
      "image/png": "[encoded data removed]",
      "text/plain": [
       "<Figure size 432x288 with 1 Axes>"
      ]
     },
     "metadata": {
      "needs_background": "light"
     },
     "output_type": "display_data"
    }
   ],
   "source": [
    "ax = sns.scatterplot(df_stats.Lx, df_stats.mean_R2_test, s=100)\n",
    "ax.set(xlabel='Lx', ylabel='Mean R2')"
   ]
  },
  {
   "cell_type": "code",
   "execution_count": 178,
   "metadata": {
    "scrolled": true
   },
   "outputs": [
    {
     "data": {
      "text/plain": [
       "[Text(0.5, 0, 'Lx'), Text(0, 0.5, 'Normalized Mean R2')]"
      ]
     },
     "execution_count": 178,
     "metadata": {},
     "output_type": "execute_result"
    },
    {
     "data": {
      "image/png": "[encoded data removed]",
      "text/plain": [
       "<Figure size 432x288 with 1 Axes>"
      ]
     },
     "metadata": {
      "needs_background": "light"
     },
     "output_type": "display_data"
    }
   ],
   "source": [
    "ax = sns.scatterplot(df_stats.Lx, df_stats.mean_R2_test / df_stats.mean_R2_test[0], s=100)\n",
    "ax.set(xlabel='Lx', ylabel='Normalized Mean R2')"
   ]
  },
  {
   "cell_type": "markdown",
   "metadata": {},
   "source": [
    "### reduced model top 10 feat, median"
   ]
  },
  {
   "cell_type": "code",
   "execution_count": 179,
   "metadata": {},
   "outputs": [],
   "source": [
    "def getPct(x, model_name, cutoff=0.95):\n",
    "    # get the fraction of targets with recall > cutoff\n",
    "    # given as is refering to Lx\n",
    "    df_results = pd.read_csv('%s/L%sonly_reg_rf_boruta_all/model_results.csv' % (dir_Lx, x))\n",
    "    \n",
    "    #genes_pass = df_results.loc[df_results.score_test>0,'target']\n",
    "    #genes_pass = df_results.loc[(df_results.score_train - df_results.score_test) < 0.1,'target']\n",
    "    #df_results = df_results.loc[df_results.target.isin(set(genes_pass)),:].copy()\n",
    "    \n",
    "    df_results = df_results.loc[df_results.model == model_name,:].copy()\n",
    "    n_total = df_results.shape[0]\n",
    "    n_pass = sum(df_results.corr_test_recall > cutoff)\n",
    "                \n",
    "    return n_total, n_pass/n_total, np.nanmedian(df_results.corr_test), np.nanmedian(df_results.score_test), np.nanmedian(df_results.score_train)\n",
    "    \n",
    "def getStats(model_name):\n",
    "    df_stats = {'Lx':[], 'recall_pct':[], 'med_corr':[], 'med_R2_test':[], 'med_R2_train':[], 'n':[]}\n",
    "    for x in Lx_range:\n",
    "        df_stats['Lx'].append(x)\n",
    "        n, recall_pct, med_corr, med_R2_test, med_R2_train = getPct(x, model_name, recall_cutoff)\n",
    "        df_stats['recall_pct'].append(recall_pct)\n",
    "        df_stats['med_corr'].append(med_corr)\n",
    "        df_stats['med_R2_test'].append(med_R2_test)\n",
    "        df_stats['med_R2_train'].append(med_R2_train)\n",
    "        df_stats['n'].append(n)\n",
    "    df_stats = pd.DataFrame(df_stats)\n",
    "    return df_stats"
   ]
  },
  {
   "cell_type": "code",
   "execution_count": 180,
   "metadata": {},
   "outputs": [
    {
     "data": {
      "text/html": [
       "<div>\n",
       "<style scoped>\n",
       "    .dataframe tbody tr th:only-of-type {\n",
       "        vertical-align: middle;\n",
       "    }\n",
       "\n",
       "    .dataframe tbody tr th {\n",
       "        vertical-align: top;\n",
       "    }\n",
       "\n",
       "    .dataframe thead th {\n",
       "        text-align: right;\n",
       "    }\n",
       "</style>\n",
       "<table border=\"1\" class=\"dataframe\">\n",
       "  <thead>\n",
       "    <tr style=\"text-align: right;\">\n",
       "      <th></th>\n",
       "      <th>Lx</th>\n",
       "      <th>recall_pct</th>\n",
       "      <th>med_corr</th>\n",
       "      <th>med_R2_test</th>\n",
       "      <th>med_R2_train</th>\n",
       "      <th>n</th>\n",
       "    </tr>\n",
       "  </thead>\n",
       "  <tbody>\n",
       "    <tr>\n",
       "      <th>0</th>\n",
       "      <td>25</td>\n",
       "      <td>0.139093</td>\n",
       "      <td>0.047550</td>\n",
       "      <td>-0.065761</td>\n",
       "      <td>0.271612</td>\n",
       "      <td>16507</td>\n",
       "    </tr>\n",
       "    <tr>\n",
       "      <th>1</th>\n",
       "      <td>100</td>\n",
       "      <td>0.260729</td>\n",
       "      <td>0.104086</td>\n",
       "      <td>-0.031741</td>\n",
       "      <td>0.384168</td>\n",
       "      <td>18222</td>\n",
       "    </tr>\n",
       "    <tr>\n",
       "      <th>2</th>\n",
       "      <td>200</td>\n",
       "      <td>0.337688</td>\n",
       "      <td>0.139498</td>\n",
       "      <td>-0.012504</td>\n",
       "      <td>0.430771</td>\n",
       "      <td>18141</td>\n",
       "    </tr>\n",
       "    <tr>\n",
       "      <th>3</th>\n",
       "      <td>300</td>\n",
       "      <td>0.375242</td>\n",
       "      <td>0.152985</td>\n",
       "      <td>-0.004447</td>\n",
       "      <td>0.446097</td>\n",
       "      <td>18047</td>\n",
       "    </tr>\n",
       "  </tbody>\n",
       "</table>\n",
       "</div>"
      ],
      "text/plain": [
       "    Lx  recall_pct  med_corr  med_R2_test  med_R2_train      n\n",
       "0   25    0.139093  0.047550    -0.065761      0.271612  16507\n",
       "1  100    0.260729  0.104086    -0.031741      0.384168  18222\n",
       "2  200    0.337688  0.139498    -0.012504      0.430771  18141\n",
       "3  300    0.375242  0.152985    -0.004447      0.446097  18047"
      ]
     },
     "execution_count": 180,
     "metadata": {},
     "output_type": "execute_result"
    }
   ],
   "source": [
    "df_stats = getStats('top10feat')\n",
    "df_stats"
   ]
  },
  {
   "cell_type": "code",
   "execution_count": 181,
   "metadata": {},
   "outputs": [
    {
     "data": {
      "text/plain": [
       "[Text(0.5, 0, 'Lx'), Text(0, 0.5, '% targets with recall > 0.95')]"
      ]
     },
     "execution_count": 181,
     "metadata": {},
     "output_type": "execute_result"
    },
    {
     "data": {
      "image/png": "[encoded data removed]",
      "text/plain": [
       "<Figure size 432x288 with 1 Axes>"
      ]
     },
     "metadata": {
      "needs_background": "light"
     },
     "output_type": "display_data"
    }
   ],
   "source": [
    "ax = sns.scatterplot(df_stats.Lx, df_stats.recall_pct, s=100)\n",
    "ax.set(xlabel='Lx', ylabel='%% targets with recall > %s' % recall_cutoff)"
   ]
  },
  {
   "cell_type": "code",
   "execution_count": 182,
   "metadata": {},
   "outputs": [
    {
     "data": {
      "text/plain": [
       "[Text(0.5, 0, 'Lx'), Text(0, 0.5, 'Normalized % targets with recall > 0.95')]"
      ]
     },
     "execution_count": 182,
     "metadata": {},
     "output_type": "execute_result"
    },
    {
     "data": {
      "image/png": "[encoded data removed]",
      "text/plain": [
       "<Figure size 432x288 with 1 Axes>"
      ]
     },
     "metadata": {
      "needs_background": "light"
     },
     "output_type": "display_data"
    }
   ],
   "source": [
    "ax = sns.scatterplot(df_stats.Lx, df_stats.recall_pct / df_stats.recall_pct[0], s=100)\n",
    "ax.set(xlabel='Lx', ylabel='Normalized %% targets with recall > %s' % recall_cutoff)"
   ]
  },
  {
   "cell_type": "code",
   "execution_count": 183,
   "metadata": {},
   "outputs": [
    {
     "data": {
      "text/plain": [
       "[Text(0.5, 0, 'Lx'), Text(0, 0.5, 'Median correlation (rho)')]"
      ]
     },
     "execution_count": 183,
     "metadata": {},
     "output_type": "execute_result"
    },
    {
     "data": {
      "image/png": "[encoded data removed]",
      "text/plain": [
       "<Figure size 432x288 with 1 Axes>"
      ]
     },
     "metadata": {
      "needs_background": "light"
     },
     "output_type": "display_data"
    }
   ],
   "source": [
    "ax = sns.scatterplot(df_stats.Lx, df_stats.med_corr, s=100)\n",
    "ax.set(xlabel='Lx', ylabel='Median correlation (rho)')"
   ]
  },
  {
   "cell_type": "code",
   "execution_count": 184,
   "metadata": {},
   "outputs": [
    {
     "data": {
      "text/plain": [
       "[Text(0.5, 0, 'Lx'), Text(0, 0.5, 'Normalized Median correlation (rho)')]"
      ]
     },
     "execution_count": 184,
     "metadata": {},
     "output_type": "execute_result"
    },
    {
     "data": {
      "image/png": "[encoded data removed]",
      "text/plain": [
       "<Figure size 432x288 with 1 Axes>"
      ]
     },
     "metadata": {
      "needs_background": "light"
     },
     "output_type": "display_data"
    }
   ],
   "source": [
    "ax = sns.scatterplot(df_stats.Lx, df_stats.med_corr / df_stats.med_corr[0], s=100)\n",
    "ax.set(xlabel='Lx', ylabel='Normalized Median correlation (rho)')"
   ]
  },
  {
   "cell_type": "code",
   "execution_count": 185,
   "metadata": {},
   "outputs": [
    {
     "data": {
      "text/plain": [
       "[Text(0.5, 0, 'Lx'), Text(0, 0.5, 'Median R2')]"
      ]
     },
     "execution_count": 185,
     "metadata": {},
     "output_type": "execute_result"
    },
    {
     "data": {
      "image/png": "[encoded data removed]",
      "text/plain": [
       "<Figure size 432x288 with 1 Axes>"
      ]
     },
     "metadata": {
      "needs_background": "light"
     },
     "output_type": "display_data"
    }
   ],
   "source": [
    "ax = sns.scatterplot(df_stats.Lx, df_stats.med_R2_test, s=100)\n",
    "ax.set(xlabel='Lx', ylabel='Median R2')"
   ]
  },
  {
   "cell_type": "code",
   "execution_count": 186,
   "metadata": {
    "scrolled": true
   },
   "outputs": [
    {
     "data": {
      "text/plain": [
       "[Text(0.5, 0, 'Lx'), Text(0, 0.5, 'Normalized Median R2')]"
      ]
     },
     "execution_count": 186,
     "metadata": {},
     "output_type": "execute_result"
    },
    {
     "data": {
      "image/png": "[encoded data removed]",
      "text/plain": [
       "<Figure size 432x288 with 1 Axes>"
      ]
     },
     "metadata": {
      "needs_background": "light"
     },
     "output_type": "display_data"
    }
   ],
   "source": [
    "ax = sns.scatterplot(df_stats.Lx, df_stats.med_R2_test / df_stats.med_R2_test[0], s=100)\n",
    "ax.set(xlabel='Lx', ylabel='Normalized Median R2')"
   ]
  },
  {
   "cell_type": "markdown",
   "metadata": {},
   "source": [
    "### final"
   ]
  },
  {
   "cell_type": "code",
   "execution_count": 6,
   "metadata": {},
   "outputs": [],
   "source": [
    "import pandas as pd\n",
    "import numpy as np\n",
    "import matplotlib.pyplot as plt\n",
    "import seaborn as sns"
   ]
  },
  {
   "cell_type": "code",
   "execution_count": 11,
   "metadata": {},
   "outputs": [],
   "source": [
    "dir_Lx = '../out/20.0909 Lx/'\n",
    "recall_cutoff = 0.95\n",
    "Lx_range = [25, 100, 200, 300]"
   ]
  },
  {
   "cell_type": "code",
   "execution_count": 12,
   "metadata": {},
   "outputs": [],
   "source": [
    "def getLxPct(x, model_name, cutoff=0.95):\n",
    "    # get the fraction of targets with recall > cutoff\n",
    "    # given as is refering to Lx\n",
    "    df_results = pd.read_csv('%s/L%sonly_reg_rf_boruta_all/model_results.csv' % (dir_Lx, x))\n",
    "\n",
    "    df_results = df_results.loc[df_results.model == model_name,:].copy()\n",
    "    n_total = df_results.shape[0]\n",
    "    n_pass = sum(df_results.corr_test_recall > cutoff)\n",
    "                \n",
    "    return n_pass/n_total\n",
    "    \n",
    "def getLxStats(model_name):\n",
    "    df_stats = {'Lx':[], 'recall_pct':[]}\n",
    "    for x in Lx_range:\n",
    "        df_stats['Lx'].append(x)\n",
    "        recall_pct = getLxPct(x, model_name, recall_cutoff)\n",
    "        df_stats['recall_pct'].append(recall_pct)\n",
    "    df_stats = pd.DataFrame(df_stats)\n",
    "    return df_stats"
   ]
  },
  {
   "cell_type": "code",
   "execution_count": 30,
   "metadata": {},
   "outputs": [
    {
     "data": {
      "text/html": [
       "<div>\n",
       "<style scoped>\n",
       "    .dataframe tbody tr th:only-of-type {\n",
       "        vertical-align: middle;\n",
       "    }\n",
       "\n",
       "    .dataframe tbody tr th {\n",
       "        vertical-align: top;\n",
       "    }\n",
       "\n",
       "    .dataframe thead th {\n",
       "        text-align: right;\n",
       "    }\n",
       "</style>\n",
       "<table border=\"1\" class=\"dataframe\">\n",
       "  <thead>\n",
       "    <tr style=\"text-align: right;\">\n",
       "      <th></th>\n",
       "      <th>Lx</th>\n",
       "      <th>recall_pct</th>\n",
       "      <th>normalized</th>\n",
       "    </tr>\n",
       "  </thead>\n",
       "  <tbody>\n",
       "    <tr>\n",
       "      <th>0</th>\n",
       "      <td>25</td>\n",
       "      <td>0.139093</td>\n",
       "      <td>1.000000</td>\n",
       "    </tr>\n",
       "    <tr>\n",
       "      <th>1</th>\n",
       "      <td>100</td>\n",
       "      <td>0.260729</td>\n",
       "      <td>1.874499</td>\n",
       "    </tr>\n",
       "    <tr>\n",
       "      <th>2</th>\n",
       "      <td>200</td>\n",
       "      <td>0.337688</td>\n",
       "      <td>2.427795</td>\n",
       "    </tr>\n",
       "    <tr>\n",
       "      <th>3</th>\n",
       "      <td>300</td>\n",
       "      <td>0.375242</td>\n",
       "      <td>2.697790</td>\n",
       "    </tr>\n",
       "  </tbody>\n",
       "</table>\n",
       "</div>"
      ],
      "text/plain": [
       "    Lx  recall_pct  normalized\n",
       "0   25    0.139093    1.000000\n",
       "1  100    0.260729    1.874499\n",
       "2  200    0.337688    2.427795\n",
       "3  300    0.375242    2.697790"
      ]
     },
     "execution_count": 30,
     "metadata": {},
     "output_type": "execute_result"
    }
   ],
   "source": [
    "df_stats = getLxStats('top10feat')\n",
    "df_stats['normalized'] =  df_stats.recall_pct / df_stats.recall_pct[0]\n",
    "df_stats"
   ]
  },
  {
   "cell_type": "code",
   "execution_count": 31,
   "metadata": {},
   "outputs": [
    {
     "data": {
      "text/plain": [
       "[Text(0.5, 0, 'Lx'),\n",
       " Text(0, 0.5, 'Normalized proportions of \\npredictable gene targets'),\n",
       " (0.8, 2.9)]"
      ]
     },
     "execution_count": 31,
     "metadata": {},
     "output_type": "execute_result"
    },
    {
     "data": {
      "image/png": "[encoded data removed]",
      "text/plain": [
       "<Figure size 432x288 with 1 Axes>"
      ]
     },
     "metadata": {
      "needs_background": "light"
     },
     "output_type": "display_data"
    }
   ],
   "source": [
    "ax = sns.scatterplot(df_stats.Lx, df_stats.normalized,\n",
    "                     s=150, alpha=0.9, linewidth=0, color='steelblue')\n",
    "ax.set(xlabel='Lx', ylabel='Normalized proportions of \\npredictable gene targets',\n",
    "       ylim=[0.8,2.9])"
   ]
  },
  {
   "cell_type": "code",
   "execution_count": null,
   "metadata": {},
   "outputs": [],
   "source": []
  }
 ],
 "metadata": {
  "kernelspec": {
   "display_name": "Python 3",
   "language": "python",
   "name": "python3"
  },
  "language_info": {
   "codemirror_mode": {
    "name": "ipython",
    "version": 3
   },
   "file_extension": ".py",
   "mimetype": "text/x-python",
   "name": "python",
   "nbconvert_exporter": "python",
   "pygments_lexer": "ipython3",
   "version": "3.7.7"
  },
  "toc": {
   "base_numbering": 1,
   "nav_menu": {},
   "number_sections": true,
   "sideBar": true,
   "skip_h1_title": false,
   "title_cell": "Table of Contents",
   "title_sidebar": "Contents",
   "toc_cell": false,
   "toc_position": {
    "height": "calc(100% - 180px)",
    "left": "10px",
    "top": "150px",
    "width": "331.797px"
   },
   "toc_section_display": true,
   "toc_window_display": true
  }
 },
 "nbformat": 4,
 "nbformat_minor": 2
}
