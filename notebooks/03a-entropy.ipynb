{
 "cells": [
  {
   "cell_type": "markdown",
   "metadata": {},
   "source": [
    "#### Entropy - multinomial distribution\n",
    "We model each overlap between a given L100 gene set and a list of target gene sets as a multinomial distribution, where the overlap corresponding to the number of successes. The multivariate nature comes from the multiple target gene sets. We can also add a new 'other' gene set (that is based on all genes between inference/association methods that is not in the given list of gene sets)"
   ]
  },
  {
   "cell_type": "code",
   "execution_count": 1,
   "metadata": {},
   "outputs": [],
   "source": [
    "import pandas as pd\n",
    "import re\n",
    "import seaborn as sns\n",
    "import matplotlib.pyplot as plt\n",
    "import numpy as np"
   ]
  },
  {
   "cell_type": "code",
   "execution_count": 150,
   "metadata": {},
   "outputs": [],
   "source": [
    "def getGS(fname):\n",
    "    df = pd.read_csv(fname, delimiter='_', header=None)\n",
    "    df['gs'] = df.loc[:,2].str.replace('^\\d+\\t\\t','').str.split('\\t')\n",
    "    df.drop([0,1,2], inplace=True, axis=1)\n",
    "    return df.copy()\n",
    "\n",
    "df_assoc = getGS('../out/20.0216 feat/reg_univariate_rf/network/gs.txt') #get the reg univariate-rf results\n",
    "df_infer = getGS('../out/20.0216 feat/reg_rf_boruta/network/gs.txt') #get the rf-boruta results\n",
    "\n",
    "# L100 results\n",
    "df_L100 = pd.read_csv('../out/19.1013 tight cluster/landmarks_n100_k100.csv')"
   ]
  },
  {
   "cell_type": "code",
   "execution_count": 151,
   "metadata": {},
   "outputs": [],
   "source": [
    "df_assoc['gs_size'] = df_assoc.apply(lambda x: len(x[0]), axis=1)\n",
    "df_infer['gs_size'] = df_infer.apply(lambda x: len(x[0]), axis=1)"
   ]
  },
  {
   "cell_type": "code",
   "execution_count": 152,
   "metadata": {},
   "outputs": [
    {
     "data": {
      "text/html": [
       "<div>\n",
       "<style scoped>\n",
       "    .dataframe tbody tr th:only-of-type {\n",
       "        vertical-align: middle;\n",
       "    }\n",
       "\n",
       "    .dataframe tbody tr th {\n",
       "        vertical-align: top;\n",
       "    }\n",
       "\n",
       "    .dataframe thead th {\n",
       "        text-align: right;\n",
       "    }\n",
       "</style>\n",
       "<table border=\"1\" class=\"dataframe\">\n",
       "  <thead>\n",
       "    <tr style=\"text-align: right;\">\n",
       "      <th></th>\n",
       "      <th>gs</th>\n",
       "      <th>gs_size</th>\n",
       "    </tr>\n",
       "  </thead>\n",
       "  <tbody>\n",
       "    <tr>\n",
       "      <th>0</th>\n",
       "      <td>[FASN, ACACA, SCD, HLCS, PRR3, CYB5B, ALG6, KC...</td>\n",
       "      <td>96</td>\n",
       "    </tr>\n",
       "    <tr>\n",
       "      <th>1</th>\n",
       "      <td>[HSD17B12, RNASEH2C, ACTR1B, ACTR1A, VEZT, RTC...</td>\n",
       "      <td>159</td>\n",
       "    </tr>\n",
       "    <tr>\n",
       "      <th>2</th>\n",
       "      <td>[EIF2AK4, UBE2J1, DERL2, UBE2G2, SYVN1, DNAJC3...</td>\n",
       "      <td>76</td>\n",
       "    </tr>\n",
       "    <tr>\n",
       "      <th>3</th>\n",
       "      <td>[CAST, PSTK, EEFSEC, SEPSECS, SEPHS2, GPX4, SE...</td>\n",
       "      <td>64</td>\n",
       "    </tr>\n",
       "    <tr>\n",
       "      <th>4</th>\n",
       "      <td>[AP2M1, ADSL, ACO2, IDH3A, GMPS, TFRC, SDHA, A...</td>\n",
       "      <td>119</td>\n",
       "    </tr>\n",
       "  </tbody>\n",
       "</table>\n",
       "</div>"
      ],
      "text/plain": [
       "                                                  gs  gs_size\n",
       "0  [FASN, ACACA, SCD, HLCS, PRR3, CYB5B, ALG6, KC...       96\n",
       "1  [HSD17B12, RNASEH2C, ACTR1B, ACTR1A, VEZT, RTC...      159\n",
       "2  [EIF2AK4, UBE2J1, DERL2, UBE2G2, SYVN1, DNAJC3...       76\n",
       "3  [CAST, PSTK, EEFSEC, SEPSECS, SEPHS2, GPX4, SE...       64\n",
       "4  [AP2M1, ADSL, ACO2, IDH3A, GMPS, TFRC, SDHA, A...      119"
      ]
     },
     "execution_count": 152,
     "metadata": {},
     "output_type": "execute_result"
    }
   ],
   "source": [
    "df_infer.head()"
   ]
  },
  {
   "cell_type": "code",
   "execution_count": 153,
   "metadata": {},
   "outputs": [
    {
     "data": {
      "text/html": [
       "<div>\n",
       "<style scoped>\n",
       "    .dataframe tbody tr th:only-of-type {\n",
       "        vertical-align: middle;\n",
       "    }\n",
       "\n",
       "    .dataframe tbody tr th {\n",
       "        vertical-align: top;\n",
       "    }\n",
       "\n",
       "    .dataframe thead th {\n",
       "        text-align: right;\n",
       "    }\n",
       "</style>\n",
       "<table border=\"1\" class=\"dataframe\">\n",
       "  <thead>\n",
       "    <tr style=\"text-align: right;\">\n",
       "      <th></th>\n",
       "      <th>gs</th>\n",
       "      <th>gs_size</th>\n",
       "    </tr>\n",
       "  </thead>\n",
       "  <tbody>\n",
       "    <tr>\n",
       "      <th>0</th>\n",
       "      <td>[FASN, ACACA, CHP1, GOLGA8EP, GPAT4, GOLGA8CP,...</td>\n",
       "      <td>103</td>\n",
       "    </tr>\n",
       "    <tr>\n",
       "      <th>1</th>\n",
       "      <td>[ACLY, ACSS1, TFRC, MTHFD1, LCA5, AP2M1, PAICS...</td>\n",
       "      <td>117</td>\n",
       "    </tr>\n",
       "    <tr>\n",
       "      <th>2</th>\n",
       "      <td>[SCD, ACSL1, ACSL3, C12orf49, MIR137HG, AC0087...</td>\n",
       "      <td>80</td>\n",
       "    </tr>\n",
       "    <tr>\n",
       "      <th>3</th>\n",
       "      <td>[IL16, SLC37A3, USP22, ATXN7L3, ENY2, SUPT20H,...</td>\n",
       "      <td>82</td>\n",
       "    </tr>\n",
       "    <tr>\n",
       "      <th>4</th>\n",
       "      <td>[SOD2, POP5, AK6, PARN, EXOSC10, NOL6, TAMM41,...</td>\n",
       "      <td>167</td>\n",
       "    </tr>\n",
       "  </tbody>\n",
       "</table>\n",
       "</div>"
      ],
      "text/plain": [
       "                                                  gs  gs_size\n",
       "0  [FASN, ACACA, CHP1, GOLGA8EP, GPAT4, GOLGA8CP,...      103\n",
       "1  [ACLY, ACSS1, TFRC, MTHFD1, LCA5, AP2M1, PAICS...      117\n",
       "2  [SCD, ACSL1, ACSL3, C12orf49, MIR137HG, AC0087...       80\n",
       "3  [IL16, SLC37A3, USP22, ATXN7L3, ENY2, SUPT20H,...       82\n",
       "4  [SOD2, POP5, AK6, PARN, EXOSC10, NOL6, TAMM41,...      167"
      ]
     },
     "execution_count": 153,
     "metadata": {},
     "output_type": "execute_result"
    }
   ],
   "source": [
    "df_assoc.head()"
   ]
  },
  {
   "cell_type": "code",
   "execution_count": 154,
   "metadata": {},
   "outputs": [
    {
     "data": {
      "text/plain": [
       "<matplotlib.axes._subplots.AxesSubplot at 0x1a1cb33358>"
      ]
     },
     "execution_count": 154,
     "metadata": {},
     "output_type": "execute_result"
    },
    {
     "data": {
      "image/png": "[encoded data removed]",
      "text/plain": [
       "<Figure size 432x288 with 1 Axes>"
      ]
     },
     "metadata": {
      "needs_background": "light"
     },
     "output_type": "display_data"
    }
   ],
   "source": [
    "sns.distplot(df_assoc.gs_size)"
   ]
  },
  {
   "cell_type": "code",
   "execution_count": 155,
   "metadata": {},
   "outputs": [
    {
     "data": {
      "text/plain": [
       "<matplotlib.axes._subplots.AxesSubplot at 0x1a1cc09320>"
      ]
     },
     "execution_count": 155,
     "metadata": {},
     "output_type": "execute_result"
    },
    {
     "data": {
      "image/png": "[encoded data removed]",
      "text/plain": [
       "<Figure size 432x288 with 1 Axes>"
      ]
     },
     "metadata": {
      "needs_background": "light"
     },
     "output_type": "display_data"
    }
   ],
   "source": [
    "sns.distplot(df_infer.gs_size)"
   ]
  },
  {
   "cell_type": "code",
   "execution_count": 156,
   "metadata": {},
   "outputs": [],
   "source": [
    "#add in the nonoverlap genes between assoc and infer, and append each table as an extra row\n",
    "genes_infer = []\n",
    "for n in df_infer.gs:\n",
    "    for m in n:\n",
    "        genes_infer.append(m)\n",
    "genes_assoc = []\n",
    "for n in df_assoc.gs:\n",
    "    for m in n:\n",
    "        genes_assoc.append(m)  \n",
    "\n",
    "genes_overlap = set(genes_infer).intersection(set(genes_assoc))\n",
    "genes_nonoverlap = (set(genes_infer)-genes_overlap).union(set(genes_assoc)-genes_overlap)\n",
    "\n",
    "df = pd.DataFrame([{'gs':list(genes_nonoverlap),'gs_size':len(genes_nonoverlap)}])\n",
    "df_assoc = pd.concat([df_assoc,df], ignore_index=True)\n",
    "df_infer = pd.concat([df_infer,df], ignore_index=True)"
   ]
  },
  {
   "cell_type": "code",
   "execution_count": 157,
   "metadata": {},
   "outputs": [
    {
     "data": {
      "text/html": [
       "<div>\n",
       "<style scoped>\n",
       "    .dataframe tbody tr th:only-of-type {\n",
       "        vertical-align: middle;\n",
       "    }\n",
       "\n",
       "    .dataframe tbody tr th {\n",
       "        vertical-align: top;\n",
       "    }\n",
       "\n",
       "    .dataframe thead th {\n",
       "        text-align: right;\n",
       "    }\n",
       "</style>\n",
       "<table border=\"1\" class=\"dataframe\">\n",
       "  <thead>\n",
       "    <tr style=\"text-align: right;\">\n",
       "      <th></th>\n",
       "      <th>cluster</th>\n",
       "      <th>genes</th>\n",
       "      <th>size</th>\n",
       "      <th>landmark</th>\n",
       "      <th>gs</th>\n",
       "      <th>gs_size</th>\n",
       "    </tr>\n",
       "  </thead>\n",
       "  <tbody>\n",
       "    <tr>\n",
       "      <th>0</th>\n",
       "      <td>1</td>\n",
       "      <td>ABHD8..79575.,ACP5..54.,ACTL9..284382.,ADAMTS1...</td>\n",
       "      <td>224</td>\n",
       "      <td>TMEM167A (153339)</td>\n",
       "      <td>[TMEM167A, ABHD8, ACP5, ACTL9, ADAMTS10, AKAP8...</td>\n",
       "      <td>225</td>\n",
       "    </tr>\n",
       "    <tr>\n",
       "      <th>1</th>\n",
       "      <td>2</td>\n",
       "      <td>AADAT..51166.,ABAT..18.,ACTL6B..51412.,ADHFE1....</td>\n",
       "      <td>226</td>\n",
       "      <td>CDC40 (51362)</td>\n",
       "      <td>[CDC40, AADAT, ABAT, ACTL6B, ADHFE1, AEBP2, AF...</td>\n",
       "      <td>227</td>\n",
       "    </tr>\n",
       "    <tr>\n",
       "      <th>2</th>\n",
       "      <td>3</td>\n",
       "      <td>AASS..10157.,ADI1..55256.,ADO..84890.,AES..166...</td>\n",
       "      <td>261</td>\n",
       "      <td>PBRM1 (55193)</td>\n",
       "      <td>[PBRM1, AASS, ADI1, ADO, AES, AGXT, AGXT2, AIM...</td>\n",
       "      <td>262</td>\n",
       "    </tr>\n",
       "    <tr>\n",
       "      <th>3</th>\n",
       "      <td>4</td>\n",
       "      <td>ACTR5..79913.,ADRM1..11047.,AICDA..57379.,ARID...</td>\n",
       "      <td>182</td>\n",
       "      <td>PDS5A (23244)</td>\n",
       "      <td>[PDS5A, ACTR5, ADRM1, AICDA, ARID1B, ARID3C, A...</td>\n",
       "      <td>183</td>\n",
       "    </tr>\n",
       "    <tr>\n",
       "      <th>4</th>\n",
       "      <td>5</td>\n",
       "      <td>ABT1..29777.,ACD..65057.,ACTR8..93973.,AFF1..4...</td>\n",
       "      <td>173</td>\n",
       "      <td>SMARCE1 (6605)</td>\n",
       "      <td>[SMARCE1, ABT1, ACD, ACTR8, AFF1, AFF4, AIP, A...</td>\n",
       "      <td>174</td>\n",
       "    </tr>\n",
       "  </tbody>\n",
       "</table>\n",
       "</div>"
      ],
      "text/plain": [
       "   cluster                                              genes  size  \\\n",
       "0        1  ABHD8..79575.,ACP5..54.,ACTL9..284382.,ADAMTS1...   224   \n",
       "1        2  AADAT..51166.,ABAT..18.,ACTL6B..51412.,ADHFE1....   226   \n",
       "2        3  AASS..10157.,ADI1..55256.,ADO..84890.,AES..166...   261   \n",
       "3        4  ACTR5..79913.,ADRM1..11047.,AICDA..57379.,ARID...   182   \n",
       "4        5  ABT1..29777.,ACD..65057.,ACTR8..93973.,AFF1..4...   173   \n",
       "\n",
       "            landmark                                                 gs  \\\n",
       "0  TMEM167A (153339)  [TMEM167A, ABHD8, ACP5, ACTL9, ADAMTS10, AKAP8...   \n",
       "1      CDC40 (51362)  [CDC40, AADAT, ABAT, ACTL6B, ADHFE1, AEBP2, AF...   \n",
       "2      PBRM1 (55193)  [PBRM1, AASS, ADI1, ADO, AES, AGXT, AGXT2, AIM...   \n",
       "3      PDS5A (23244)  [PDS5A, ACTR5, ADRM1, AICDA, ARID1B, ARID3C, A...   \n",
       "4     SMARCE1 (6605)  [SMARCE1, ABT1, ACD, ACTR8, AFF1, AFF4, AIP, A...   \n",
       "\n",
       "   gs_size  \n",
       "0      225  \n",
       "1      227  \n",
       "2      262  \n",
       "3      183  \n",
       "4      174  "
      ]
     },
     "execution_count": 157,
     "metadata": {},
     "output_type": "execute_result"
    }
   ],
   "source": [
    "# retrieve the genes L100\n",
    "df_L100['gs'] = df_L100.genes.apply(lambda x: re.findall('(\\w*)\\.\\.', x))\n",
    "df_L100['gs'] = df_L100.apply(lambda x: re.findall('(\\w*)\\s', x['landmark'])+x['gs'], axis=1)\n",
    "df_L100['gs_size'] = df_L100.apply(lambda x: len(x['gs']), axis=1)\n",
    "df_L100.head()"
   ]
  },
  {
   "cell_type": "code",
   "execution_count": 158,
   "metadata": {},
   "outputs": [
    {
     "data": {
      "text/plain": [
       "<matplotlib.axes._subplots.AxesSubplot at 0x1a1cb00198>"
      ]
     },
     "execution_count": 158,
     "metadata": {},
     "output_type": "execute_result"
    },
    {
     "data": {
      "image/png": "[encoded data removed]",
      "text/plain": [
       "<Figure size 432x288 with 1 Axes>"
      ]
     },
     "metadata": {
      "needs_background": "light"
     },
     "output_type": "display_data"
    }
   ],
   "source": [
    "sns.distplot(df_L100.gs_size)"
   ]
  },
  {
   "cell_type": "markdown",
   "metadata": {},
   "source": [
    "#### calculate multinomial probability, and entropy"
   ]
  },
  {
   "cell_type": "code",
   "execution_count": 159,
   "metadata": {},
   "outputs": [],
   "source": [
    "from scipy.stats import multinomial\n",
    "\n",
    "def calcOverlap(df_source, df_target):\n",
    "    score = 1\n",
    "    gs_target = df_target['gs']\n",
    "    gs_target_sizes = df_target['gs_size']\n",
    "    gs_source = df_source['gs']\n",
    "    \n",
    "    overlap_n = []\n",
    "    for gs in gs_target:\n",
    "        overlap_n.append( len(set(gs).intersection(set(gs_source))) )\n",
    "\n",
    "    p = multinomial.pmf(overlap_n, n=sum(overlap_n), p = gs_target_sizes.values/gs_target_sizes.sum() )\n",
    "    return p\n",
    "\n",
    "pmfs_assoc = df_L100.apply(calcOverlap, df_target=df_assoc, axis=1)\n",
    "pmfs_infer = df_L100.apply(calcOverlap, df_target=df_infer, axis=1)"
   ]
  },
  {
   "cell_type": "code",
   "execution_count": 167,
   "metadata": {},
   "outputs": [],
   "source": [
    "df_pmfs = pd.DataFrame({'assoc': pmfs_assoc,\n",
    "                        'infer': pmfs_infer,})"
   ]
  },
  {
   "cell_type": "code",
   "execution_count": 168,
   "metadata": {},
   "outputs": [
    {
     "data": {
      "text/html": [
       "<div>\n",
       "<style scoped>\n",
       "    .dataframe tbody tr th:only-of-type {\n",
       "        vertical-align: middle;\n",
       "    }\n",
       "\n",
       "    .dataframe tbody tr th {\n",
       "        vertical-align: top;\n",
       "    }\n",
       "\n",
       "    .dataframe thead th {\n",
       "        text-align: right;\n",
       "    }\n",
       "</style>\n",
       "<table border=\"1\" class=\"dataframe\">\n",
       "  <thead>\n",
       "    <tr style=\"text-align: right;\">\n",
       "      <th></th>\n",
       "      <th>assoc</th>\n",
       "      <th>infer</th>\n",
       "    </tr>\n",
       "  </thead>\n",
       "  <tbody>\n",
       "    <tr>\n",
       "      <th>count</th>\n",
       "      <td>1.000000e+02</td>\n",
       "      <td>1.000000e+02</td>\n",
       "    </tr>\n",
       "    <tr>\n",
       "      <th>mean</th>\n",
       "      <td>8.561705e-05</td>\n",
       "      <td>3.157775e-07</td>\n",
       "    </tr>\n",
       "    <tr>\n",
       "      <th>std</th>\n",
       "      <td>7.100060e-04</td>\n",
       "      <td>2.433996e-06</td>\n",
       "    </tr>\n",
       "    <tr>\n",
       "      <th>min</th>\n",
       "      <td>2.100165e-104</td>\n",
       "      <td>3.888555e-109</td>\n",
       "    </tr>\n",
       "    <tr>\n",
       "      <th>25%</th>\n",
       "      <td>1.506623e-18</td>\n",
       "      <td>9.910466e-20</td>\n",
       "    </tr>\n",
       "    <tr>\n",
       "      <th>50%</th>\n",
       "      <td>7.607040e-13</td>\n",
       "      <td>3.386116e-13</td>\n",
       "    </tr>\n",
       "    <tr>\n",
       "      <th>75%</th>\n",
       "      <td>2.345382e-10</td>\n",
       "      <td>1.318394e-10</td>\n",
       "    </tr>\n",
       "    <tr>\n",
       "      <th>max</th>\n",
       "      <td>6.929703e-03</td>\n",
       "      <td>2.408172e-05</td>\n",
       "    </tr>\n",
       "  </tbody>\n",
       "</table>\n",
       "</div>"
      ],
      "text/plain": [
       "               assoc          infer\n",
       "count   1.000000e+02   1.000000e+02\n",
       "mean    8.561705e-05   3.157775e-07\n",
       "std     7.100060e-04   2.433996e-06\n",
       "min    2.100165e-104  3.888555e-109\n",
       "25%     1.506623e-18   9.910466e-20\n",
       "50%     7.607040e-13   3.386116e-13\n",
       "75%     2.345382e-10   1.318394e-10\n",
       "max     6.929703e-03   2.408172e-05"
      ]
     },
     "execution_count": 168,
     "metadata": {},
     "output_type": "execute_result"
    }
   ],
   "source": [
    "df_pmfs.describe()"
   ]
  },
  {
   "cell_type": "code",
   "execution_count": 169,
   "metadata": {},
   "outputs": [
    {
     "data": {
      "image/png": "[encoded data removed]",
      "text/plain": [
       "<Figure size 432x288 with 1 Axes>"
      ]
     },
     "metadata": {
      "needs_background": "light"
     },
     "output_type": "display_data"
    }
   ],
   "source": [
    "sns.distplot(df_pmfs.infer)\n",
    "sns.distplot(df_pmfs.assoc)\n",
    "\n",
    "plt.legend(title='list',loc='upper right', labels=['infer pmfs', 'assoc pmfs'])\n",
    "plt.xlabel('PMF values')\n",
    "plt.show()"
   ]
  },
  {
   "cell_type": "code",
   "execution_count": 170,
   "metadata": {},
   "outputs": [
    {
     "data": {
      "text/html": [
       "<div>\n",
       "<style scoped>\n",
       "    .dataframe tbody tr th:only-of-type {\n",
       "        vertical-align: middle;\n",
       "    }\n",
       "\n",
       "    .dataframe tbody tr th {\n",
       "        vertical-align: top;\n",
       "    }\n",
       "\n",
       "    .dataframe thead th {\n",
       "        text-align: right;\n",
       "    }\n",
       "</style>\n",
       "<table border=\"1\" class=\"dataframe\">\n",
       "  <thead>\n",
       "    <tr style=\"text-align: right;\">\n",
       "      <th></th>\n",
       "      <th>assoc</th>\n",
       "      <th>infer</th>\n",
       "    </tr>\n",
       "  </thead>\n",
       "  <tbody>\n",
       "    <tr>\n",
       "      <th>entropy</th>\n",
       "      <td>0.045028</td>\n",
       "      <td>0.000355</td>\n",
       "    </tr>\n",
       "  </tbody>\n",
       "</table>\n",
       "</div>"
      ],
      "text/plain": [
       "            assoc     infer\n",
       "entropy  0.045028  0.000355"
      ]
     },
     "execution_count": 170,
     "metadata": {},
     "output_type": "execute_result"
    }
   ],
   "source": [
    "pd.DataFrame([{'assoc':-np.sum(df_pmfs.assoc* np.log(df_pmfs.assoc)),\n",
    "              'infer':-np.sum(df_pmfs.infer* np.log(df_pmfs.infer))}], index=['entropy'])"
   ]
  },
  {
   "cell_type": "markdown",
   "metadata": {},
   "source": [
    "#### Calculate simply overlap counts"
   ]
  },
  {
   "cell_type": "code",
   "execution_count": 163,
   "metadata": {},
   "outputs": [],
   "source": [
    "def calcOverlap(df_source, df_target):\n",
    "    score = 1\n",
    "    gs_target = df_target['gs']\n",
    "    gs_target_sizes = df_target['gs_size']\n",
    "    gs_source = df_source['gs']\n",
    "    \n",
    "    overlap_n = []\n",
    "    for gs in gs_target:\n",
    "        overlap_n.append( len(set(gs).intersection(set(gs_source))) )\n",
    "        \n",
    "    return overlap_n\n",
    "        \n",
    "overlapN_assoc = df_L100.apply(calcOverlap, df_target=df_assoc, axis=1)\n",
    "overlapN_infer = df_L100.apply(calcOverlap, df_target=df_infer, axis=1)"
   ]
  },
  {
   "cell_type": "code",
   "execution_count": 164,
   "metadata": {},
   "outputs": [
    {
     "data": {
      "image/png": "[encoded data removed]",
      "text/plain": [
       "<Figure size 432x288 with 1 Axes>"
      ]
     },
     "metadata": {
      "needs_background": "light"
     },
     "output_type": "display_data"
    }
   ],
   "source": [
    "sns.distplot(overlapN_infer.apply(lambda x: np.mean(x)))\n",
    "sns.distplot(overlapN_assoc.apply(lambda x: np.mean(x)))\n",
    "\n",
    "plt.legend(title='list',loc='upper right', labels=['infer_only', 'assoc_only'])\n",
    "plt.xlabel('genes overlap between each L100 group and list')\n",
    "plt.show()"
   ]
  },
  {
   "cell_type": "code",
   "execution_count": 165,
   "metadata": {},
   "outputs": [
    {
     "data": {
      "image/png": "[encoded data removed]",
      "text/plain": [
       "<Figure size 432x288 with 1 Axes>"
      ]
     },
     "metadata": {
      "needs_background": "light"
     },
     "output_type": "display_data"
    }
   ],
   "source": [
    "df1 = pd.DataFrame({'val':overlapN_infer.apply(lambda x: np.mean(x)), 'method':'infer only'})\n",
    "df2 = pd.DataFrame({'val':overlapN_assoc.apply(lambda x: np.mean(x)), 'method':'assoc only'})\n",
    "df = pd.concat([df1,df2])\n",
    "sns.boxplot('method', 'val', data = df)\n",
    "plt.ylabel('genes overlap between\\neach L100 group and list')\n",
    "plt.show()"
   ]
  },
  {
   "cell_type": "code",
   "execution_count": null,
   "metadata": {},
   "outputs": [],
   "source": []
  }
 ],
 "metadata": {
  "kernelspec": {
   "display_name": "Python 3",
   "language": "python",
   "name": "python3"
  },
  "language_info": {
   "codemirror_mode": {
    "name": "ipython",
    "version": 3
   },
   "file_extension": ".py",
   "mimetype": "text/x-python",
   "name": "python",
   "nbconvert_exporter": "python",
   "pygments_lexer": "ipython3",
   "version": "3.7.7"
  }
 },
 "nbformat": 4,
 "nbformat_minor": 2
}
