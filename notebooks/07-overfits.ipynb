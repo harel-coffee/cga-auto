{
 "cells": [
  {
   "cell_type": "markdown",
   "metadata": {},
   "source": [
    "#### Analyze overfits"
   ]
  },
  {
   "cell_type": "code",
   "execution_count": 4,
   "metadata": {},
   "outputs": [],
   "source": [
    "import pandas as pd\n",
    "import seaborn as sns"
   ]
  },
  {
   "cell_type": "code",
   "execution_count": 29,
   "metadata": {},
   "outputs": [],
   "source": [
    "#df_results = pd.read_csv('../out/20.0216 feat/reg_rf_boruta/model_results.csv')\n",
    "df_results = pd.read_csv('../out/20.0518 Lx/L200only_reg_lm/model_results.csv')"
   ]
  },
  {
   "cell_type": "code",
   "execution_count": 30,
   "metadata": {},
   "outputs": [
    {
     "data": {
      "text/html": [
       "<div>\n",
       "<style scoped>\n",
       "    .dataframe tbody tr th:only-of-type {\n",
       "        vertical-align: middle;\n",
       "    }\n",
       "\n",
       "    .dataframe tbody tr th {\n",
       "        vertical-align: top;\n",
       "    }\n",
       "\n",
       "    .dataframe thead th {\n",
       "        text-align: right;\n",
       "    }\n",
       "</style>\n",
       "<table border=\"1\" class=\"dataframe\">\n",
       "  <thead>\n",
       "    <tr style=\"text-align: right;\">\n",
       "      <th></th>\n",
       "      <th>model</th>\n",
       "      <th>feature</th>\n",
       "      <th>target</th>\n",
       "      <th>score_train</th>\n",
       "      <th>score_test</th>\n",
       "      <th>corr_test</th>\n",
       "      <th>corr_test_recall</th>\n",
       "      <th>score_p19q4</th>\n",
       "      <th>corr_p19q4</th>\n",
       "      <th>corr_p19q4_recall</th>\n",
       "      <th>feat_id</th>\n",
       "      <th>feat_idx</th>\n",
       "    </tr>\n",
       "  </thead>\n",
       "  <tbody>\n",
       "    <tr>\n",
       "      <th>0</th>\n",
       "      <td>all</td>\n",
       "      <td>all</td>\n",
       "      <td>NDUFS8</td>\n",
       "      <td>0.822095</td>\n",
       "      <td>0.393389</td>\n",
       "      <td>0.652748</td>\n",
       "      <td>1.0</td>\n",
       "      <td>NaN</td>\n",
       "      <td>NaN</td>\n",
       "      <td>NaN</td>\n",
       "      <td>NaN</td>\n",
       "      <td>NaN</td>\n",
       "    </tr>\n",
       "    <tr>\n",
       "      <th>1</th>\n",
       "      <td>topfeat</td>\n",
       "      <td>topfeat</td>\n",
       "      <td>NDUFS8</td>\n",
       "      <td>0.732989</td>\n",
       "      <td>0.506332</td>\n",
       "      <td>0.703525</td>\n",
       "      <td>1.0</td>\n",
       "      <td>NaN</td>\n",
       "      <td>NaN</td>\n",
       "      <td>NaN</td>\n",
       "      <td>NaN</td>\n",
       "      <td>NaN</td>\n",
       "    </tr>\n",
       "    <tr>\n",
       "      <th>2</th>\n",
       "      <td>top10feat</td>\n",
       "      <td>top10feat</td>\n",
       "      <td>NDUFS8</td>\n",
       "      <td>0.656348</td>\n",
       "      <td>0.565189</td>\n",
       "      <td>0.737242</td>\n",
       "      <td>1.0</td>\n",
       "      <td>0.697506</td>\n",
       "      <td>0.826174</td>\n",
       "      <td>1.0</td>\n",
       "      <td>NaN</td>\n",
       "      <td>NaN</td>\n",
       "    </tr>\n",
       "    <tr>\n",
       "      <th>3</th>\n",
       "      <td>univariate</td>\n",
       "      <td>NDUFA8 (4702) [CERES]</td>\n",
       "      <td>NDUFS8</td>\n",
       "      <td>0.607593</td>\n",
       "      <td>0.591334</td>\n",
       "      <td>NaN</td>\n",
       "      <td>NaN</td>\n",
       "      <td>NaN</td>\n",
       "      <td>NaN</td>\n",
       "      <td>NaN</td>\n",
       "      <td>96.0</td>\n",
       "      <td>0.0</td>\n",
       "    </tr>\n",
       "    <tr>\n",
       "      <th>4</th>\n",
       "      <td>univariate</td>\n",
       "      <td>PTPRG (5793) [CERES]</td>\n",
       "      <td>NDUFS8</td>\n",
       "      <td>0.005830</td>\n",
       "      <td>0.003461</td>\n",
       "      <td>NaN</td>\n",
       "      <td>NaN</td>\n",
       "      <td>NaN</td>\n",
       "      <td>NaN</td>\n",
       "      <td>NaN</td>\n",
       "      <td>126.0</td>\n",
       "      <td>1.0</td>\n",
       "    </tr>\n",
       "  </tbody>\n",
       "</table>\n",
       "</div>"
      ],
      "text/plain": [
       "        model                feature  target  score_train  score_test  \\\n",
       "0         all                    all  NDUFS8     0.822095    0.393389   \n",
       "1     topfeat                topfeat  NDUFS8     0.732989    0.506332   \n",
       "2   top10feat              top10feat  NDUFS8     0.656348    0.565189   \n",
       "3  univariate  NDUFA8 (4702) [CERES]  NDUFS8     0.607593    0.591334   \n",
       "4  univariate   PTPRG (5793) [CERES]  NDUFS8     0.005830    0.003461   \n",
       "\n",
       "   corr_test  corr_test_recall  score_p19q4  corr_p19q4  corr_p19q4_recall  \\\n",
       "0   0.652748               1.0          NaN         NaN                NaN   \n",
       "1   0.703525               1.0          NaN         NaN                NaN   \n",
       "2   0.737242               1.0     0.697506    0.826174                1.0   \n",
       "3        NaN               NaN          NaN         NaN                NaN   \n",
       "4        NaN               NaN          NaN         NaN                NaN   \n",
       "\n",
       "   feat_id  feat_idx  \n",
       "0      NaN       NaN  \n",
       "1      NaN       NaN  \n",
       "2      NaN       NaN  \n",
       "3     96.0       0.0  \n",
       "4    126.0       1.0  "
      ]
     },
     "execution_count": 30,
     "metadata": {},
     "output_type": "execute_result"
    }
   ],
   "source": [
    "df_results.head()"
   ]
  },
  {
   "cell_type": "code",
   "execution_count": 31,
   "metadata": {},
   "outputs": [],
   "source": [
    "df_results = df_results.loc[df_results.model.str.match('(all|topfeat|top10feat)'),:].copy()"
   ]
  },
  {
   "cell_type": "code",
   "execution_count": 32,
   "metadata": {},
   "outputs": [],
   "source": [
    "df1 = df_results[['model','score_train']].copy()\n",
    "df1.rename(columns={'score_train':'score'}, inplace=True)\n",
    "df1['score_type'] = 'score_train'\n",
    "df2 = df_results[['model','score_test']].copy()\n",
    "df2['score_type'] = 'score_test'\n",
    "df2.rename(columns={'score_test':'score'}, inplace=True)\n",
    "df = pd.concat([df1,df2])"
   ]
  },
  {
   "cell_type": "code",
   "execution_count": 33,
   "metadata": {},
   "outputs": [
    {
     "data": {
      "text/plain": [
       "<matplotlib.axes._subplots.AxesSubplot at 0x1a1fb35438>"
      ]
     },
     "execution_count": 33,
     "metadata": {},
     "output_type": "execute_result"
    },
    {
     "data": {
      "image/png": "[encoded data removed]",
      "text/plain": [
       "<Figure size 432x288 with 1 Axes>"
      ]
     },
     "metadata": {
      "needs_background": "light"
     },
     "output_type": "display_data"
    }
   ],
   "source": [
    "ax = sns.boxplot(x='model', hue='score_type', y='score', data=df)"
   ]
  },
  {
   "cell_type": "code",
   "execution_count": null,
   "metadata": {},
   "outputs": [],
   "source": []
  }
 ],
 "metadata": {
  "kernelspec": {
   "display_name": "Python 3",
   "language": "python",
   "name": "python3"
  },
  "language_info": {
   "codemirror_mode": {
    "name": "ipython",
    "version": 3
   },
   "file_extension": ".py",
   "mimetype": "text/x-python",
   "name": "python",
   "nbconvert_exporter": "python",
   "pygments_lexer": "ipython3",
   "version": "3.7.7"
  },
  "toc": {
   "base_numbering": 1,
   "nav_menu": {},
   "number_sections": true,
   "sideBar": true,
   "skip_h1_title": false,
   "title_cell": "Table of Contents",
   "title_sidebar": "Contents",
   "toc_cell": false,
   "toc_position": {},
   "toc_section_display": true,
   "toc_window_display": true
  }
 },
 "nbformat": 4,
 "nbformat_minor": 2
}
