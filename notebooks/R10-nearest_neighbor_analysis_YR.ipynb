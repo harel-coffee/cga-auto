{
 "cells": [
  {
   "cell_type": "code",
   "execution_count": 1,
   "metadata": {},
   "outputs": [],
   "source": [
    "# This note book use nearest neighbor method(The most closest cell line) to predict CERES score of each gene. \n",
    "\n",
    "# Author: Yiyun\n",
    "\n",
    "import pandas as pd\n",
    "from os.path import join\n",
    "import time\n",
    "from scipy.spatial import distance\n",
    "import seaborn as sns"
   ]
  },
  {
   "cell_type": "code",
   "execution_count": 2,
   "metadata": {},
   "outputs": [],
   "source": [
    "# We first get the closets cell line from the Celligner in Depmap\n",
    "celligner_dir = '../data/DepMap/celligner'\n",
    "q3_dir = '../data/DepMap/19Q3'"
   ]
  },
  {
   "cell_type": "code",
   "execution_count": 3,
   "metadata": {},
   "outputs": [],
   "source": [
    "# Read data\n",
    "df_celligner = pd.read_csv(join(celligner_dir,'celligner_alignment.csv'),index_col = 0)\n",
    "df_ref19q3 = pd.read_csv(join(q3_dir,'Achilles_gene_effect.csv'), index_col = 0)\n",
    "\n",
    "\n",
    "\n",
    "# Check if the UMAP data is consistant as on the Celligner website\n",
    "# df_cells.plot.scatter(x='UMAP_1',\n",
    "#                       y='UMAP_2')"
   ]
  },
  {
   "cell_type": "code",
   "execution_count": 4,
   "metadata": {},
   "outputs": [],
   "source": [
    "### Not all 19q3 cell lines are in celligner, we find nearest neighbors in 19q3 dataset\n",
    "# Therefore the closest cell line is not necessarily the one in the Celligner\n",
    "\n",
    "# Get only the cell line data in celligner\n",
    "df_cells = df_celligner[df_celligner['sampleID'].str.startswith('ACH-')][['sampleID','UMAP_1','UMAP_2']]\n",
    "df_cells = df_cells.transpose()\n",
    "new_header = df_cells.iloc[0] \n",
    "df_cells = df_cells[1:] \n",
    "df_cells.columns = new_header "
   ]
  },
  {
   "cell_type": "code",
   "execution_count": 5,
   "metadata": {},
   "outputs": [],
   "source": [
    "# Select 19q3 cell line in Celligner cell lines, 3 cell lines are not found, process as missing data\n",
    "cells_19q3 = df_ref19q3.index\n",
    "cells_celligner = df_cells.columns\n",
    "\n",
    "# Check if there's cell line in 19q3 not in celligner\n",
    "cells_NF = [q3_cell for q3_cell in cells_19q3 if q3_cell not in cells_celligner]\n",
    "\n",
    "# drop those cell lines from 19q3 list\n",
    "cells_F = [q3_cell for q3_cell in cells_19q3 if q3_cell not in cells_NF]"
   ]
  },
  {
   "cell_type": "code",
   "execution_count": 26,
   "metadata": {},
   "outputs": [],
   "source": [
    "# Select q3 cell line in celligner\n",
    "df_cells = df_cells[cells_F]"
   ]
  },
  {
   "cell_type": "code",
   "execution_count": 37,
   "metadata": {},
   "outputs": [],
   "source": [
    "### Calculate euclidean distance for each samples\n",
    "df_close_cells = pd.DataFrame(index = ['closest_cell_line','distance'])\n",
    "\n",
    "for cells in df_cells.columns:\n",
    "    rest_cells = df_cells.columns.drop(cells)\n",
    "    \n",
    "    dist_0 = float(10000) # initiate a biggest value to find the smallest value\n",
    "    close_cell = 'Random'\n",
    "    for rest_cell in rest_cells:\n",
    "        dist = distance.euclidean(df_cells[cells],df_cells[rest_cell])\n",
    "        if dist <= dist_0:\n",
    "            dist_0=dist\n",
    "            close_cell = rest_cell\n",
    "    df_close_cells[cells] = [close_cell,dist_0]"
   ]
  },
  {
   "cell_type": "code",
   "execution_count": 38,
   "metadata": {},
   "outputs": [
    {
     "data": {
      "text/html": [
       "<div>\n",
       "<style scoped>\n",
       "    .dataframe tbody tr th:only-of-type {\n",
       "        vertical-align: middle;\n",
       "    }\n",
       "\n",
       "    .dataframe tbody tr th {\n",
       "        vertical-align: top;\n",
       "    }\n",
       "\n",
       "    .dataframe thead th {\n",
       "        text-align: right;\n",
       "    }\n",
       "</style>\n",
       "<table border=\"1\" class=\"dataframe\">\n",
       "  <thead>\n",
       "    <tr style=\"text-align: right;\">\n",
       "      <th></th>\n",
       "      <th>ACH-000004</th>\n",
       "      <th>ACH-000005</th>\n",
       "      <th>ACH-000007</th>\n",
       "      <th>ACH-000009</th>\n",
       "      <th>ACH-000011</th>\n",
       "      <th>ACH-000012</th>\n",
       "      <th>ACH-000013</th>\n",
       "      <th>ACH-000014</th>\n",
       "      <th>ACH-000015</th>\n",
       "      <th>ACH-000017</th>\n",
       "      <th>...</th>\n",
       "      <th>ACH-001715</th>\n",
       "      <th>ACH-001735</th>\n",
       "      <th>ACH-001736</th>\n",
       "      <th>ACH-001737</th>\n",
       "      <th>ACH-001740</th>\n",
       "      <th>ACH-001745</th>\n",
       "      <th>ACH-001750</th>\n",
       "      <th>ACH-001765</th>\n",
       "      <th>ACH-001814</th>\n",
       "      <th>ACH-001838</th>\n",
       "    </tr>\n",
       "  </thead>\n",
       "  <tbody>\n",
       "    <tr>\n",
       "      <th>closest_cell_line</th>\n",
       "      <td>ACH-000005</td>\n",
       "      <td>ACH-000004</td>\n",
       "      <td>ACH-000820</td>\n",
       "      <td>ACH-000296</td>\n",
       "      <td>ACH-000234</td>\n",
       "      <td>ACH-000528</td>\n",
       "      <td>ACH-000293</td>\n",
       "      <td>ACH-000322</td>\n",
       "      <td>ACH-000221</td>\n",
       "      <td>ACH-000248</td>\n",
       "      <td>...</td>\n",
       "      <td>ACH-000673</td>\n",
       "      <td>ACH-001736</td>\n",
       "      <td>ACH-000782</td>\n",
       "      <td>ACH-000953</td>\n",
       "      <td>ACH-001765</td>\n",
       "      <td>ACH-001765</td>\n",
       "      <td>ACH-000133</td>\n",
       "      <td>ACH-001745</td>\n",
       "      <td>ACH-000082</td>\n",
       "      <td>ACH-000042</td>\n",
       "    </tr>\n",
       "    <tr>\n",
       "      <th>distance</th>\n",
       "      <td>0.230702</td>\n",
       "      <td>0.230702</td>\n",
       "      <td>0.709248</td>\n",
       "      <td>0.395715</td>\n",
       "      <td>0.212912</td>\n",
       "      <td>0.347879</td>\n",
       "      <td>0.206121</td>\n",
       "      <td>0.0550587</td>\n",
       "      <td>0.128074</td>\n",
       "      <td>0.325979</td>\n",
       "      <td>...</td>\n",
       "      <td>0.0737915</td>\n",
       "      <td>0.369783</td>\n",
       "      <td>0.274713</td>\n",
       "      <td>0.705307</td>\n",
       "      <td>0.716216</td>\n",
       "      <td>0.144185</td>\n",
       "      <td>0.257814</td>\n",
       "      <td>0.144185</td>\n",
       "      <td>0.10245</td>\n",
       "      <td>0.0516301</td>\n",
       "    </tr>\n",
       "  </tbody>\n",
       "</table>\n",
       "<p>2 rows × 622 columns</p>\n",
       "</div>"
      ],
      "text/plain": [
       "                   ACH-000004  ACH-000005  ACH-000007  ACH-000009  ACH-000011  \\\n",
       "closest_cell_line  ACH-000005  ACH-000004  ACH-000820  ACH-000296  ACH-000234   \n",
       "distance             0.230702    0.230702    0.709248    0.395715    0.212912   \n",
       "\n",
       "                   ACH-000012  ACH-000013  ACH-000014  ACH-000015  ACH-000017  \\\n",
       "closest_cell_line  ACH-000528  ACH-000293  ACH-000322  ACH-000221  ACH-000248   \n",
       "distance             0.347879    0.206121   0.0550587    0.128074    0.325979   \n",
       "\n",
       "                   ...  ACH-001715  ACH-001735  ACH-001736  ACH-001737  \\\n",
       "closest_cell_line  ...  ACH-000673  ACH-001736  ACH-000782  ACH-000953   \n",
       "distance           ...   0.0737915    0.369783    0.274713    0.705307   \n",
       "\n",
       "                   ACH-001740  ACH-001745  ACH-001750  ACH-001765  ACH-001814  \\\n",
       "closest_cell_line  ACH-001765  ACH-001765  ACH-000133  ACH-001745  ACH-000082   \n",
       "distance             0.716216    0.144185    0.257814    0.144185     0.10245   \n",
       "\n",
       "                   ACH-001838  \n",
       "closest_cell_line  ACH-000042  \n",
       "distance            0.0516301  \n",
       "\n",
       "[2 rows x 622 columns]"
      ]
     },
     "execution_count": 38,
     "metadata": {},
     "output_type": "execute_result"
    }
   ],
   "source": [
    "df_close_cells"
   ]
  },
  {
   "cell_type": "code",
   "execution_count": 39,
   "metadata": {},
   "outputs": [],
   "source": [
    "# df_close_cells.to_csv('nearest_neighbor_cell_dist.csv')"
   ]
  },
  {
   "cell_type": "code",
   "execution_count": null,
   "metadata": {},
   "outputs": [],
   "source": [
    "# Create a prediction dataframe\n",
    "index_cellline = df_ref19q3.index\n",
    "column_genes = df_ref19q3.columns\n",
    "\n",
    "df_prediction = pd.DataFrame(index = index_cellline, columns = column_genes)"
   ]
  },
  {
   "cell_type": "code",
   "execution_count": null,
   "metadata": {},
   "outputs": [],
   "source": [
    "### Fill the prediction dataframe by the value of the closest cell line\n",
    "### This part runs ~30min\n",
    "for genes in column_genes:\n",
    "    for cells in index_cellline:\n",
    "        try:\n",
    "            close_cellline = df_close_cells.loc[0,cells]\n",
    "            pred_score = df_ref19q3.loc[close_cellline,genes]\n",
    "            df_prediction.loc[cells,genes] = pred_score\n",
    "        except KeyError:\n",
    "            df_prediction.loc[cells,genes] = None"
   ]
  },
  {
   "cell_type": "code",
   "execution_count": null,
   "metadata": {},
   "outputs": [],
   "source": [
    "# df_prediction"
   ]
  },
  {
   "cell_type": "code",
   "execution_count": null,
   "metadata": {},
   "outputs": [],
   "source": [
    "# df_prediction.to_csv('prediction_040621.csv')"
   ]
  },
  {
   "cell_type": "code",
   "execution_count": 6,
   "metadata": {},
   "outputs": [],
   "source": [
    "df_prediction = pd.read_csv('prediction_040621.csv', index_col = 0)"
   ]
  },
  {
   "cell_type": "code",
   "execution_count": 8,
   "metadata": {},
   "outputs": [],
   "source": [
    "### correlation dataframe between actual and predicted, for every cell line\n",
    "df_corr_cellline = pd.DataFrame(columns = ['cell_line','corr_sp','corr_pe'])\n",
    "\n",
    "list_sp =[]; list_pe = []\n",
    "for cell_lines in cells_F:\n",
    "    df_score = pd.DataFrame(columns = ['actual','predicted'])\n",
    "    score_actual = df_ref19q3.loc[cell_lines,:]\n",
    "    score_predicted = df_prediction.loc[cell_lines,:]\n",
    "    df_score['actual'] = score_actual\n",
    "    df_score['predicted'] = score_predicted\n",
    "#     ax = sns.regplot(x='actual', y='predicted',data = df_score)\n",
    "    corr_sp = df_score['actual'].corr(df_score['predicted'],method = 'spearman')\n",
    "    corr_pe = df_score['actual'].corr(df_score['predicted'],method = 'pearson')\n",
    "    list_sp.append(corr_sp)\n",
    "    list_pe.append(corr_pe)\n",
    "\n",
    "df_corr_cellline['cell_line'] = cells_F; df_corr_cellline['corr_sp'] = list_sp; df_corr_cellline['corr_pe'] = list_pe"
   ]
  },
  {
   "cell_type": "code",
   "execution_count": 44,
   "metadata": {},
   "outputs": [
    {
     "name": "stdout",
     "output_type": "stream",
     "text": [
      "              actual  predicted\n",
      "ACH-000004  0.168684  -0.068759\n",
      "ACH-000005 -0.068759   0.168684\n",
      "ACH-000007  0.053893   0.048482\n",
      "ACH-000009  0.059874   0.078662\n",
      "ACH-000011  0.277165   0.318330\n",
      "...              ...        ...\n",
      "ACH-001765  0.136364   0.208843\n",
      "ACH-001814  0.216507   0.052705\n",
      "ACH-001838 -0.086149   0.076815\n",
      "ACH-001956 -0.076893        NaN\n",
      "ACH-001957  0.055750        NaN\n",
      "\n",
      "[625 rows x 2 columns]\n"
     ]
    },
    {
     "data": {
      "image/png": "[encoded data removed]",
      "text/plain": [
       "<Figure size 432x288 with 1 Axes>"
      ]
     },
     "metadata": {
      "needs_background": "light"
     },
     "output_type": "display_data"
    }
   ],
   "source": [
    "### Plot the correlation plot between actual and predicted, for every gene\n",
    "df_corr_gene = pd.DataFrame(columns = ['gene','corr_sp','corr_pe'])\n",
    "\n",
    "list_sp =[]; list_pe = []\n",
    "n=0\n",
    "for gene in df_prediction.columns:\n",
    "    n+=1\n",
    "    if n == 1:\n",
    "        df_score = pd.DataFrame(columns = ['actual','predicted'])\n",
    "        score_actual = df_ref19q3.loc[:,gene]\n",
    "        score_predicted = df_prediction.loc[:,gene]\n",
    "        df_score['actual'] = score_actual\n",
    "        df_score['predicted'] = score_predicted\n",
    "        print(df_score)\n",
    "        ax = sns.regplot(x='actual', y='predicted',data = df_score)\n",
    "        corr_sp = df_score['actual'].corr(df_score['predicted'],method = 'spearman')\n",
    "        corr_pe = df_score['actual'].corr(df_score['predicted'],method = 'pearson')\n",
    "        list_sp.append(corr_sp)\n",
    "        list_pe.append(corr_pe)"
   ]
  },
  {
   "cell_type": "code",
   "execution_count": 21,
   "metadata": {},
   "outputs": [],
   "source": [
    "df_corr_gene['gene'] = df_prediction.columns; df_corr_gene['corr_sp'] = list_sp; df_corr_gene['corr_pe'] = list_pe"
   ]
  },
  {
   "cell_type": "code",
   "execution_count": 23,
   "metadata": {},
   "outputs": [
    {
     "data": {
      "text/plain": [
       "0.040643303495763526"
      ]
     },
     "execution_count": 23,
     "metadata": {},
     "output_type": "execute_result"
    }
   ],
   "source": [
    "# The mean spearman correlation across all genes\n",
    "df_corr_gene['corr_sp'].mean()"
   ]
  },
  {
   "cell_type": "code",
   "execution_count": 24,
   "metadata": {},
   "outputs": [
    {
     "data": {
      "text/plain": [
       "0.041398470963850305"
      ]
     },
     "execution_count": 24,
     "metadata": {},
     "output_type": "execute_result"
    }
   ],
   "source": [
    "# The mean pearson correlation across all genes\n",
    "df_corr_gene['corr_pe'].mean()"
   ]
  },
  {
   "cell_type": "code",
   "execution_count": 40,
   "metadata": {},
   "outputs": [
    {
     "data": {
      "text/html": [
       "<div>\n",
       "<style scoped>\n",
       "    .dataframe tbody tr th:only-of-type {\n",
       "        vertical-align: middle;\n",
       "    }\n",
       "\n",
       "    .dataframe tbody tr th {\n",
       "        vertical-align: top;\n",
       "    }\n",
       "\n",
       "    .dataframe thead th {\n",
       "        text-align: right;\n",
       "    }\n",
       "</style>\n",
       "<table border=\"1\" class=\"dataframe\">\n",
       "  <thead>\n",
       "    <tr style=\"text-align: right;\">\n",
       "      <th></th>\n",
       "      <th>gene</th>\n",
       "      <th>corr_sp</th>\n",
       "      <th>corr_pe</th>\n",
       "    </tr>\n",
       "  </thead>\n",
       "  <tbody>\n",
       "    <tr>\n",
       "      <th>0</th>\n",
       "      <td>A1BG (1)</td>\n",
       "      <td>0.045787</td>\n",
       "      <td>0.074071</td>\n",
       "    </tr>\n",
       "    <tr>\n",
       "      <th>1</th>\n",
       "      <td>A1CF (29974)</td>\n",
       "      <td>-0.005754</td>\n",
       "      <td>-0.056495</td>\n",
       "    </tr>\n",
       "    <tr>\n",
       "      <th>2</th>\n",
       "      <td>A2M (2)</td>\n",
       "      <td>0.100579</td>\n",
       "      <td>0.074782</td>\n",
       "    </tr>\n",
       "    <tr>\n",
       "      <th>3</th>\n",
       "      <td>A2ML1 (144568)</td>\n",
       "      <td>0.057937</td>\n",
       "      <td>0.057189</td>\n",
       "    </tr>\n",
       "    <tr>\n",
       "      <th>4</th>\n",
       "      <td>A3GALT2 (127550)</td>\n",
       "      <td>0.005255</td>\n",
       "      <td>-0.013797</td>\n",
       "    </tr>\n",
       "    <tr>\n",
       "      <th>...</th>\n",
       "      <td>...</td>\n",
       "      <td>...</td>\n",
       "      <td>...</td>\n",
       "    </tr>\n",
       "    <tr>\n",
       "      <th>18328</th>\n",
       "      <td>ZYG11A (440590)</td>\n",
       "      <td>0.107568</td>\n",
       "      <td>0.117498</td>\n",
       "    </tr>\n",
       "    <tr>\n",
       "      <th>18329</th>\n",
       "      <td>ZYG11B (79699)</td>\n",
       "      <td>0.083490</td>\n",
       "      <td>0.120389</td>\n",
       "    </tr>\n",
       "    <tr>\n",
       "      <th>18330</th>\n",
       "      <td>ZYX (7791)</td>\n",
       "      <td>0.079915</td>\n",
       "      <td>0.083616</td>\n",
       "    </tr>\n",
       "    <tr>\n",
       "      <th>18331</th>\n",
       "      <td>ZZEF1 (23140)</td>\n",
       "      <td>0.131284</td>\n",
       "      <td>0.106524</td>\n",
       "    </tr>\n",
       "    <tr>\n",
       "      <th>18332</th>\n",
       "      <td>ZZZ3 (26009)</td>\n",
       "      <td>-0.041868</td>\n",
       "      <td>-0.038665</td>\n",
       "    </tr>\n",
       "  </tbody>\n",
       "</table>\n",
       "<p>18333 rows × 3 columns</p>\n",
       "</div>"
      ],
      "text/plain": [
       "                   gene   corr_sp   corr_pe\n",
       "0              A1BG (1)  0.045787  0.074071\n",
       "1          A1CF (29974) -0.005754 -0.056495\n",
       "2               A2M (2)  0.100579  0.074782\n",
       "3        A2ML1 (144568)  0.057937  0.057189\n",
       "4      A3GALT2 (127550)  0.005255 -0.013797\n",
       "...                 ...       ...       ...\n",
       "18328   ZYG11A (440590)  0.107568  0.117498\n",
       "18329    ZYG11B (79699)  0.083490  0.120389\n",
       "18330        ZYX (7791)  0.079915  0.083616\n",
       "18331     ZZEF1 (23140)  0.131284  0.106524\n",
       "18332      ZZZ3 (26009) -0.041868 -0.038665\n",
       "\n",
       "[18333 rows x 3 columns]"
      ]
     },
     "execution_count": 40,
     "metadata": {},
     "output_type": "execute_result"
    }
   ],
   "source": [
    "df_corr_gene"
   ]
  },
  {
   "cell_type": "code",
   "execution_count": 41,
   "metadata": {},
   "outputs": [],
   "source": [
    "# Save the correlation for each gene\n",
    "# df_corr_gene.to_csv('nearest_neighbor_gene_corr_040921.csv', index = False)"
   ]
  }
 ],
 "metadata": {
  "kernelspec": {
   "display_name": "Python 3",
   "language": "python",
   "name": "python3"
  },
  "language_info": {
   "codemirror_mode": {
    "name": "ipython",
    "version": 3
   },
   "file_extension": ".py",
   "mimetype": "text/x-python",
   "name": "python",
   "nbconvert_exporter": "python",
   "pygments_lexer": "ipython3",
   "version": "3.7.9"
  }
 },
 "nbformat": 4,
 "nbformat_minor": 4
}
