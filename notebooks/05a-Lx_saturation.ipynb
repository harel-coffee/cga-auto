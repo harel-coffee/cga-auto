{
 "cells": [
  {
   "cell_type": "markdown",
   "metadata": {},
   "source": [
    "## Saturation analyses on the Lx"
   ]
  },
  {
   "cell_type": "code",
   "execution_count": 74,
   "metadata": {},
   "outputs": [],
   "source": [
    "import pandas as pd\n",
    "import numpy as np\n",
    "import matplotlib.pyplot as plt\n",
    "import seaborn as sns"
   ]
  },
  {
   "cell_type": "code",
   "execution_count": 144,
   "metadata": {},
   "outputs": [],
   "source": [
    "dir_Lx = '../out/20.0518 Lx/'\n",
    "recall_cutoff = 0.95\n",
    "Lx_range = [25,75,100,200,300]"
   ]
  },
  {
   "cell_type": "code",
   "execution_count": 191,
   "metadata": {},
   "outputs": [],
   "source": [
    "def getPct(x, model_name, cutoff=0.95):\n",
    "    # get the fraction of targets with recall > cutoff\n",
    "    # given as is refering to Lx\n",
    "    df_results = pd.read_csv('%s/L%sonly_reg_rf_boruta/model_results.csv' % (dir_Lx, x))\n",
    "    \n",
    "    #genes_pass = df_results.loc[df_results.score_test>0,'target']\n",
    "    #genes_pass = df_results.loc[(df_results.score_train - df_results.score_test) < 0.1,'target']\n",
    "    #df_results = df_results.loc[df_results.target.isin(set(genes_pass)),:].copy()\n",
    "    \n",
    "    df_results = df_results.loc[df_results.model == model_name,:].copy()\n",
    "    n_total = df_results.shape[0]\n",
    "    n_pass = sum(df_results.corr_test_recall > cutoff)\n",
    "                \n",
    "    return n_total, n_pass/n_total, np.nanmean(df_results.corr_test), np.nanmean(df_results.score_test), np.nanmean(df_results.score_train)\n",
    "\n",
    "\n",
    "def getStats(model_name):\n",
    "    df_stats = {'Lx':[], 'recall_pct':[], 'mean_corr':[], 'mean_R2_test':[], 'mean_R2_train':[], 'n':[]}\n",
    "    for x in Lx_range:\n",
    "        df_stats['Lx'].append(x)\n",
    "        n, recall_pct, mean_corr, mean_R2_test, mean_R2_train = getPct(x, model_name, recall_cutoff)\n",
    "        df_stats['recall_pct'].append(recall_pct)\n",
    "        df_stats['mean_corr'].append(mean_corr)\n",
    "        df_stats['mean_R2_test'].append(mean_R2_test)\n",
    "        df_stats['mean_R2_train'].append(mean_R2_train)\n",
    "        df_stats['n'].append(n)\n",
    "    df_stats = pd.DataFrame(df_stats)\n",
    "    return df_stats"
   ]
  },
  {
   "cell_type": "markdown",
   "metadata": {},
   "source": [
    "#### based on reduced model top 10 feat"
   ]
  },
  {
   "cell_type": "code",
   "execution_count": 192,
   "metadata": {},
   "outputs": [
    {
     "data": {
      "text/html": [
       "<div>\n",
       "<style scoped>\n",
       "    .dataframe tbody tr th:only-of-type {\n",
       "        vertical-align: middle;\n",
       "    }\n",
       "\n",
       "    .dataframe tbody tr th {\n",
       "        vertical-align: top;\n",
       "    }\n",
       "\n",
       "    .dataframe thead th {\n",
       "        text-align: right;\n",
       "    }\n",
       "</style>\n",
       "<table border=\"1\" class=\"dataframe\">\n",
       "  <thead>\n",
       "    <tr style=\"text-align: right;\">\n",
       "      <th></th>\n",
       "      <th>Lx</th>\n",
       "      <th>recall_pct</th>\n",
       "      <th>mean_corr</th>\n",
       "      <th>mean_R2_test</th>\n",
       "      <th>mean_R2_train</th>\n",
       "      <th>n</th>\n",
       "    </tr>\n",
       "  </thead>\n",
       "  <tbody>\n",
       "    <tr>\n",
       "      <th>0</th>\n",
       "      <td>25</td>\n",
       "      <td>0.246869</td>\n",
       "      <td>0.106354</td>\n",
       "      <td>-0.059472</td>\n",
       "      <td>0.239941</td>\n",
       "      <td>559</td>\n",
       "    </tr>\n",
       "    <tr>\n",
       "      <th>1</th>\n",
       "      <td>75</td>\n",
       "      <td>0.518315</td>\n",
       "      <td>0.226301</td>\n",
       "      <td>0.041199</td>\n",
       "      <td>0.349949</td>\n",
       "      <td>546</td>\n",
       "    </tr>\n",
       "    <tr>\n",
       "      <th>2</th>\n",
       "      <td>100</td>\n",
       "      <td>0.536449</td>\n",
       "      <td>0.236194</td>\n",
       "      <td>0.049812</td>\n",
       "      <td>0.359463</td>\n",
       "      <td>535</td>\n",
       "    </tr>\n",
       "    <tr>\n",
       "      <th>3</th>\n",
       "      <td>200</td>\n",
       "      <td>0.694818</td>\n",
       "      <td>0.299055</td>\n",
       "      <td>0.099621</td>\n",
       "      <td>0.404988</td>\n",
       "      <td>521</td>\n",
       "    </tr>\n",
       "    <tr>\n",
       "      <th>4</th>\n",
       "      <td>300</td>\n",
       "      <td>0.758000</td>\n",
       "      <td>0.346371</td>\n",
       "      <td>0.139522</td>\n",
       "      <td>0.502333</td>\n",
       "      <td>500</td>\n",
       "    </tr>\n",
       "  </tbody>\n",
       "</table>\n",
       "</div>"
      ],
      "text/plain": [
       "    Lx  recall_pct  mean_corr  mean_R2_test  mean_R2_train    n\n",
       "0   25    0.246869   0.106354     -0.059472       0.239941  559\n",
       "1   75    0.518315   0.226301      0.041199       0.349949  546\n",
       "2  100    0.536449   0.236194      0.049812       0.359463  535\n",
       "3  200    0.694818   0.299055      0.099621       0.404988  521\n",
       "4  300    0.758000   0.346371      0.139522       0.502333  500"
      ]
     },
     "execution_count": 192,
     "metadata": {},
     "output_type": "execute_result"
    }
   ],
   "source": [
    "df_stats = getStats('top10feat')\n",
    "df_stats"
   ]
  },
  {
   "cell_type": "code",
   "execution_count": 193,
   "metadata": {},
   "outputs": [
    {
     "data": {
      "text/plain": [
       "[Text(0,0.5,'% targets with recall > 0.95'), Text(0.5,0,'Lx')]"
      ]
     },
     "execution_count": 193,
     "metadata": {},
     "output_type": "execute_result"
    },
    {
     "data": {
      "image/png": "[encoded data removed]",
      "text/plain": [
       "<Figure size 432x288 with 1 Axes>"
      ]
     },
     "metadata": {
      "needs_background": "light"
     },
     "output_type": "display_data"
    }
   ],
   "source": [
    "ax = sns.scatterplot(df_stats.Lx, df_stats.recall_pct, s=100)\n",
    "ax.set(xlabel='Lx', ylabel='%% targets with recall > %s' % recall_cutoff)"
   ]
  },
  {
   "cell_type": "code",
   "execution_count": 194,
   "metadata": {},
   "outputs": [
    {
     "data": {
      "text/plain": [
       "[Text(0,0.5,'Mean correlation (rho)'), Text(0.5,0,'Lx')]"
      ]
     },
     "execution_count": 194,
     "metadata": {},
     "output_type": "execute_result"
    },
    {
     "data": {
      "image/png": "[encoded data removed]",
      "text/plain": [
       "<Figure size 432x288 with 1 Axes>"
      ]
     },
     "metadata": {
      "needs_background": "light"
     },
     "output_type": "display_data"
    }
   ],
   "source": [
    "ax = sns.scatterplot(df_stats.Lx, df_stats.mean_corr, s=100)\n",
    "ax.set(xlabel='Lx', ylabel='Mean correlation (rho)')"
   ]
  },
  {
   "cell_type": "code",
   "execution_count": 195,
   "metadata": {},
   "outputs": [
    {
     "data": {
      "text/plain": [
       "<matplotlib.legend.Legend at 0x1a22a327f0>"
      ]
     },
     "execution_count": 195,
     "metadata": {},
     "output_type": "execute_result"
    },
    {
     "data": {
      "image/png": "[encoded data removed]",
      "text/plain": [
       "<Figure size 432x288 with 1 Axes>"
      ]
     },
     "metadata": {
      "needs_background": "light"
     },
     "output_type": "display_data"
    }
   ],
   "source": [
    "ax = sns.scatterplot(df_stats.Lx, df_stats.mean_R2_test, s=100)\n",
    "ax = sns.scatterplot(df_stats.Lx, df_stats.mean_R2_train, s=100)\n",
    "ax.set(xlabel='Lx', ylabel='Mean R2')\n",
    "ax.legend(labels=['test', 'train'])"
   ]
  },
  {
   "cell_type": "markdown",
   "metadata": {},
   "source": [
    "#### based on reduced model"
   ]
  },
  {
   "cell_type": "code",
   "execution_count": 196,
   "metadata": {},
   "outputs": [
    {
     "data": {
      "text/html": [
       "<div>\n",
       "<style scoped>\n",
       "    .dataframe tbody tr th:only-of-type {\n",
       "        vertical-align: middle;\n",
       "    }\n",
       "\n",
       "    .dataframe tbody tr th {\n",
       "        vertical-align: top;\n",
       "    }\n",
       "\n",
       "    .dataframe thead th {\n",
       "        text-align: right;\n",
       "    }\n",
       "</style>\n",
       "<table border=\"1\" class=\"dataframe\">\n",
       "  <thead>\n",
       "    <tr style=\"text-align: right;\">\n",
       "      <th></th>\n",
       "      <th>Lx</th>\n",
       "      <th>recall_pct</th>\n",
       "      <th>mean_corr</th>\n",
       "      <th>mean_R2_test</th>\n",
       "      <th>mean_R2_train</th>\n",
       "      <th>n</th>\n",
       "    </tr>\n",
       "  </thead>\n",
       "  <tbody>\n",
       "    <tr>\n",
       "      <th>0</th>\n",
       "      <td>25</td>\n",
       "      <td>0.264758</td>\n",
       "      <td>0.111615</td>\n",
       "      <td>-0.057973</td>\n",
       "      <td>0.240618</td>\n",
       "      <td>559</td>\n",
       "    </tr>\n",
       "    <tr>\n",
       "      <th>1</th>\n",
       "      <td>75</td>\n",
       "      <td>0.529304</td>\n",
       "      <td>0.224617</td>\n",
       "      <td>0.041741</td>\n",
       "      <td>0.350896</td>\n",
       "      <td>546</td>\n",
       "    </tr>\n",
       "    <tr>\n",
       "      <th>2</th>\n",
       "      <td>100</td>\n",
       "      <td>0.538318</td>\n",
       "      <td>0.237213</td>\n",
       "      <td>0.051937</td>\n",
       "      <td>0.359600</td>\n",
       "      <td>535</td>\n",
       "    </tr>\n",
       "    <tr>\n",
       "      <th>3</th>\n",
       "      <td>200</td>\n",
       "      <td>0.679463</td>\n",
       "      <td>0.297754</td>\n",
       "      <td>0.098049</td>\n",
       "      <td>0.404863</td>\n",
       "      <td>521</td>\n",
       "    </tr>\n",
       "    <tr>\n",
       "      <th>4</th>\n",
       "      <td>300</td>\n",
       "      <td>0.754000</td>\n",
       "      <td>0.345809</td>\n",
       "      <td>0.140441</td>\n",
       "      <td>0.501915</td>\n",
       "      <td>500</td>\n",
       "    </tr>\n",
       "  </tbody>\n",
       "</table>\n",
       "</div>"
      ],
      "text/plain": [
       "    Lx  recall_pct  mean_corr  mean_R2_test  mean_R2_train    n\n",
       "0   25    0.264758   0.111615     -0.057973       0.240618  559\n",
       "1   75    0.529304   0.224617      0.041741       0.350896  546\n",
       "2  100    0.538318   0.237213      0.051937       0.359600  535\n",
       "3  200    0.679463   0.297754      0.098049       0.404863  521\n",
       "4  300    0.754000   0.345809      0.140441       0.501915  500"
      ]
     },
     "execution_count": 196,
     "metadata": {},
     "output_type": "execute_result"
    }
   ],
   "source": [
    "df_stats = getStats('topfeat')\n",
    "df_stats"
   ]
  },
  {
   "cell_type": "code",
   "execution_count": 197,
   "metadata": {},
   "outputs": [
    {
     "data": {
      "text/plain": [
       "[Text(0,0.5,'% targets with recall > 0.95'), Text(0.5,0,'Lx')]"
      ]
     },
     "execution_count": 197,
     "metadata": {},
     "output_type": "execute_result"
    },
    {
     "data": {
      "image/png": "[encoded data removed]",
      "text/plain": [
       "<Figure size 432x288 with 1 Axes>"
      ]
     },
     "metadata": {
      "needs_background": "light"
     },
     "output_type": "display_data"
    }
   ],
   "source": [
    "ax = sns.scatterplot(df_stats.Lx, df_stats.recall_pct, s=100)\n",
    "ax.set(xlabel='Lx', ylabel='%% targets with recall > %s' % recall_cutoff)"
   ]
  },
  {
   "cell_type": "code",
   "execution_count": 198,
   "metadata": {},
   "outputs": [
    {
     "data": {
      "text/plain": [
       "[Text(0,0.5,'Mean correlation (rho)'), Text(0.5,0,'Lx')]"
      ]
     },
     "execution_count": 198,
     "metadata": {},
     "output_type": "execute_result"
    },
    {
     "data": {
      "image/png": "[encoded data removed]",
      "text/plain": [
       "<Figure size 432x288 with 1 Axes>"
      ]
     },
     "metadata": {
      "needs_background": "light"
     },
     "output_type": "display_data"
    }
   ],
   "source": [
    "ax = sns.scatterplot(df_stats.Lx, df_stats.mean_corr, s=100)\n",
    "ax.set(xlabel='Lx', ylabel='Mean correlation (rho)')"
   ]
  },
  {
   "cell_type": "code",
   "execution_count": 199,
   "metadata": {},
   "outputs": [
    {
     "data": {
      "text/plain": [
       "<matplotlib.legend.Legend at 0x1a2341eba8>"
      ]
     },
     "execution_count": 199,
     "metadata": {},
     "output_type": "execute_result"
    },
    {
     "data": {
      "image/png": "[encoded data removed]",
      "text/plain": [
       "<Figure size 432x288 with 1 Axes>"
      ]
     },
     "metadata": {
      "needs_background": "light"
     },
     "output_type": "display_data"
    }
   ],
   "source": [
    "ax = sns.scatterplot(df_stats.Lx, df_stats.mean_R2_test, s=100)\n",
    "ax = sns.scatterplot(df_stats.Lx, df_stats.mean_R2_train, s=100)\n",
    "ax.set(xlabel='Lx', ylabel='Mean R2')\n",
    "ax.legend(labels=['test', 'train'])"
   ]
  },
  {
   "cell_type": "markdown",
   "metadata": {},
   "source": [
    "#### based on full model"
   ]
  },
  {
   "cell_type": "code",
   "execution_count": 200,
   "metadata": {},
   "outputs": [
    {
     "data": {
      "text/html": [
       "<div>\n",
       "<style scoped>\n",
       "    .dataframe tbody tr th:only-of-type {\n",
       "        vertical-align: middle;\n",
       "    }\n",
       "\n",
       "    .dataframe tbody tr th {\n",
       "        vertical-align: top;\n",
       "    }\n",
       "\n",
       "    .dataframe thead th {\n",
       "        text-align: right;\n",
       "    }\n",
       "</style>\n",
       "<table border=\"1\" class=\"dataframe\">\n",
       "  <thead>\n",
       "    <tr style=\"text-align: right;\">\n",
       "      <th></th>\n",
       "      <th>Lx</th>\n",
       "      <th>recall_pct</th>\n",
       "      <th>mean_corr</th>\n",
       "      <th>mean_R2_test</th>\n",
       "      <th>mean_R2_train</th>\n",
       "      <th>n</th>\n",
       "    </tr>\n",
       "  </thead>\n",
       "  <tbody>\n",
       "    <tr>\n",
       "      <th>0</th>\n",
       "      <td>25</td>\n",
       "      <td>0.665480</td>\n",
       "      <td>0.256757</td>\n",
       "      <td>0.068091</td>\n",
       "      <td>0.578205</td>\n",
       "      <td>562</td>\n",
       "    </tr>\n",
       "    <tr>\n",
       "      <th>1</th>\n",
       "      <td>75</td>\n",
       "      <td>0.853480</td>\n",
       "      <td>0.361275</td>\n",
       "      <td>0.104481</td>\n",
       "      <td>0.627492</td>\n",
       "      <td>546</td>\n",
       "    </tr>\n",
       "    <tr>\n",
       "      <th>2</th>\n",
       "      <td>100</td>\n",
       "      <td>0.882243</td>\n",
       "      <td>0.380047</td>\n",
       "      <td>0.109904</td>\n",
       "      <td>0.629350</td>\n",
       "      <td>535</td>\n",
       "    </tr>\n",
       "    <tr>\n",
       "      <th>3</th>\n",
       "      <td>200</td>\n",
       "      <td>0.911708</td>\n",
       "      <td>0.415252</td>\n",
       "      <td>0.104197</td>\n",
       "      <td>0.638537</td>\n",
       "      <td>521</td>\n",
       "    </tr>\n",
       "    <tr>\n",
       "      <th>4</th>\n",
       "      <td>300</td>\n",
       "      <td>0.910000</td>\n",
       "      <td>0.430339</td>\n",
       "      <td>0.108591</td>\n",
       "      <td>0.649487</td>\n",
       "      <td>500</td>\n",
       "    </tr>\n",
       "  </tbody>\n",
       "</table>\n",
       "</div>"
      ],
      "text/plain": [
       "    Lx  recall_pct  mean_corr  mean_R2_test  mean_R2_train    n\n",
       "0   25    0.665480   0.256757      0.068091       0.578205  562\n",
       "1   75    0.853480   0.361275      0.104481       0.627492  546\n",
       "2  100    0.882243   0.380047      0.109904       0.629350  535\n",
       "3  200    0.911708   0.415252      0.104197       0.638537  521\n",
       "4  300    0.910000   0.430339      0.108591       0.649487  500"
      ]
     },
     "execution_count": 200,
     "metadata": {},
     "output_type": "execute_result"
    }
   ],
   "source": [
    "df_stats = getStats('all')\n",
    "df_stats"
   ]
  },
  {
   "cell_type": "code",
   "execution_count": 201,
   "metadata": {},
   "outputs": [
    {
     "data": {
      "text/plain": [
       "[Text(0,0.5,'% targets with recall > 0.95'), Text(0.5,0,'Lx')]"
      ]
     },
     "execution_count": 201,
     "metadata": {},
     "output_type": "execute_result"
    },
    {
     "data": {
      "image/png": "[encoded data removed]",
      "text/plain": [
       "<Figure size 432x288 with 1 Axes>"
      ]
     },
     "metadata": {
      "needs_background": "light"
     },
     "output_type": "display_data"
    }
   ],
   "source": [
    "ax = sns.scatterplot(df_stats.Lx, df_stats.recall_pct, s=100)\n",
    "ax.set(xlabel='Lx', ylabel='%% targets with recall > %s' % recall_cutoff)"
   ]
  },
  {
   "cell_type": "code",
   "execution_count": 202,
   "metadata": {},
   "outputs": [
    {
     "data": {
      "text/plain": [
       "[Text(0,0.5,'Mean correlation (rho)'), Text(0.5,0,'Lx')]"
      ]
     },
     "execution_count": 202,
     "metadata": {},
     "output_type": "execute_result"
    },
    {
     "data": {
      "image/png": "[encoded data removed]",
      "text/plain": [
       "<Figure size 432x288 with 1 Axes>"
      ]
     },
     "metadata": {
      "needs_background": "light"
     },
     "output_type": "display_data"
    }
   ],
   "source": [
    "ax = sns.scatterplot(df_stats.Lx, df_stats.mean_corr, s=100)\n",
    "ax.set(xlabel='Lx', ylabel='Mean correlation (rho)')"
   ]
  },
  {
   "cell_type": "code",
   "execution_count": 203,
   "metadata": {},
   "outputs": [
    {
     "data": {
      "text/plain": [
       "<matplotlib.legend.Legend at 0x1a20939518>"
      ]
     },
     "execution_count": 203,
     "metadata": {},
     "output_type": "execute_result"
    },
    {
     "data": {
      "image/png": "[encoded data removed]",
      "text/plain": [
       "<Figure size 432x288 with 1 Axes>"
      ]
     },
     "metadata": {
      "needs_background": "light"
     },
     "output_type": "display_data"
    }
   ],
   "source": [
    "ax = sns.scatterplot(df_stats.Lx, df_stats.mean_R2_test, s=100)\n",
    "ax = sns.scatterplot(df_stats.Lx, df_stats.mean_R2_train, s=100)\n",
    "ax.set(xlabel='Lx', ylabel='Mean R2')\n",
    "ax.legend(labels=['test', 'train'])"
   ]
  },
  {
   "cell_type": "code",
   "execution_count": null,
   "metadata": {},
   "outputs": [],
   "source": []
  }
 ],
 "metadata": {
  "kernelspec": {
   "display_name": "Python 3",
   "language": "python",
   "name": "python3"
  },
  "language_info": {
   "codemirror_mode": {
    "name": "ipython",
    "version": 3
   },
   "file_extension": ".py",
   "mimetype": "text/x-python",
   "name": "python",
   "nbconvert_exporter": "python",
   "pygments_lexer": "ipython3",
   "version": "3.7.7"
  },
  "toc": {
   "base_numbering": 1,
   "nav_menu": {},
   "number_sections": true,
   "sideBar": true,
   "skip_h1_title": false,
   "title_cell": "Table of Contents",
   "title_sidebar": "Contents",
   "toc_cell": false,
   "toc_position": {},
   "toc_section_display": true,
   "toc_window_display": true
  }
 },
 "nbformat": 4,
 "nbformat_minor": 2
}
