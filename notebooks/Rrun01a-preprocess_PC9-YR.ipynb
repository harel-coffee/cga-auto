{
 "cells": [
  {
   "cell_type": "code",
   "execution_count": 6,
   "metadata": {},
   "outputs": [
    {
     "name": "stdout",
     "output_type": "stream",
     "text": [
      "The autoreload extension is already loaded. To reload it, use:\n",
      "  %reload_ext autoreload\n"
     ]
    }
   ],
   "source": [
    "%load_ext autoreload\n",
    "%autoreload 2"
   ]
  },
  {
   "cell_type": "code",
   "execution_count": 11,
   "metadata": {},
   "outputs": [],
   "source": [
    "from ceres_infer.data import process_data"
   ]
  },
  {
   "cell_type": "code",
   "execution_count": 12,
   "metadata": {},
   "outputs": [],
   "source": [
    "# Preprocess data for gene effect (continuous)\n",
    "ext_data = {'dir_datasets': '../data/DepMap_DROP_PC9/19Q3',\n",
    "\t\t\t'dir_ceres_datasets': '../data/ceres_external/PC9_corrected',\n",
    "\t\t\t'data_name': 'data_pc9',\n",
    "\t\t\t'fname_gene_effect': 'gene_effect.csv',\n",
    "\t\t\t'fname_gene_dependency': None,\n",
    "\t\t\t'out_name': 'dm_data_pc9',\n",
    "\t\t\t'out_match_name': 'dm_data_match_pc9'}\n",
    "\n",
    "preprocess_params = {'useGene_dependency': False,\n",
    "\t\t\t\t\t 'dir_out': '../out/21.0722 proc PC9/gene_effect/',\n",
    "\t\t\t\t\t 'dir_depmap': '../data/DepMap_DROP_PC9/',\n",
    "\t\t\t\t\t 'ext_data':ext_data}"
   ]
  },
  {
   "cell_type": "code",
   "execution_count": 14,
   "metadata": {},
   "outputs": [
    {
     "name": "stdout",
     "output_type": "stream",
     "text": [
      "start data_19Q3 preprocessing...\n",
      "loading rna-seq...\n",
      "loading copy number...\n",
      "loading mutations...\n"
     ]
    },
    {
     "name": "stderr",
     "output_type": "stream",
     "text": [
      "/storage/home/yur97/anaconda3/envs/cnp/lib/python3.7/site-packages/IPython/core/interactiveshell.py:3417: DtypeWarning: Columns (3,19,25,26,27,28,29,30,31) have mixed types.Specify dtype option on import or set low_memory=False.\n",
      "  exec(code_obj, self.user_global_ns, self.user_ns)\n"
     ]
    },
    {
     "name": "stdout",
     "output_type": "stream",
     "text": [
      "loading sample_info...\n",
      "loading Achilles gene effect...\n",
      "processing CERES...\n",
      "There are 43 cell lines out of 624 that will be dropped, due to missing data\n",
      "processing rna-seq...\n",
      "processing copy number...\n",
      "processing mutations...\n",
      "processing sample_info...\n",
      "finalizing processing...\n",
      "filtering: keep only shared samples...\n",
      "filtering: baseline feature pruning...\n",
      "start data_pc9 preprocessing...\n",
      "loading rna-seq...\n",
      "loading copy number...\n",
      "loading mutations...\n"
     ]
    },
    {
     "name": "stderr",
     "output_type": "stream",
     "text": [
      "/storage/home/yur97/anaconda3/envs/cnp/lib/python3.7/site-packages/IPython/core/interactiveshell.py:3417: DtypeWarning: Columns (3,19,25,26,27,28,29,30,31) have mixed types.Specify dtype option on import or set low_memory=False.\n",
      "  exec(code_obj, self.user_global_ns, self.user_ns)\n"
     ]
    },
    {
     "name": "stdout",
     "output_type": "stream",
     "text": [
      "loading sample_info...\n",
      "loading Achilles gene effect...\n",
      "processing CERES...\n",
      "processing rna-seq...\n",
      "processing copy number...\n",
      "processing mutations...\n",
      "processing sample_info...\n",
      "finalizing processing...\n",
      "filtering: keep only shared samples...\n"
     ]
    }
   ],
   "source": [
    "# Run preprocess\n",
    "proc = process_data(preprocess_params)\n",
    "proc.process()\n",
    "proc.process_external()"
   ]
  },
  {
   "cell_type": "markdown",
   "metadata": {},
   "source": [
    "***\n",
    "### Standalone l200"
   ]
  },
  {
   "cell_type": "code",
   "execution_count": 2,
   "metadata": {},
   "outputs": [],
   "source": [
    "from ceres_infer.data import preprocessData"
   ]
  },
  {
   "cell_type": "code",
   "execution_count": null,
   "metadata": {},
   "outputs": [],
   "source": [
    "# Preprocess data for gene effect (continuous)\n",
    "ext_data = {'dir_datasets': '../data/DepMap_DROP_PC9/19Q3',\n",
    "\t\t\t'dir_ceres_datasets': '../data/ceres_external/PC9_corrected',\n",
    "\t\t\t'data_name': 'data_pc9',\n",
    "\t\t\t'fname_gene_effect': 'gene_effect_standalone.csv',\n",
    "\t\t\t'fname_gene_dependency': None,\n",
    "\t\t\t'out_name': 'dm_data_pc9',\n",
    "\t\t\t'out_match_name': 'dm_data_match_pc9'}\n",
    "\n",
    "preprocess_params = {'useGene_dependency': False,\n",
    "\t\t\t\t\t 'dir_out': '../out/21.0720 proc_data PC9Standalone/gene_effect/',\n",
    "\t\t\t\t\t 'dir_depmap': '../data/DepMap_DROP_PC9/',\n",
    "\t\t\t\t\t 'ext_data': ext_data}"
   ]
  },
  {
   "cell_type": "code",
   "execution_count": 3,
   "metadata": {},
   "outputs": [
    {
     "name": "stdout",
     "output_type": "stream",
     "text": [
      "start data_19Q3 preprocessing...\n",
      "loading rna-seq...\n",
      "loading copy number...\n",
      "loading mutations...\n"
     ]
    },
    {
     "name": "stderr",
     "output_type": "stream",
     "text": [
      "/storage/home/yur97/anaconda3/envs/cnp/lib/python3.7/site-packages/IPython/core/interactiveshell.py:3417: DtypeWarning: Columns (3,19,25,26,27,28,29,30,31) have mixed types.Specify dtype option on import or set low_memory=False.\n",
      "  exec(code_obj, self.user_global_ns, self.user_ns)\n"
     ]
    },
    {
     "name": "stdout",
     "output_type": "stream",
     "text": [
      "loading sample_info...\n",
      "loading Achilles gene effect...\n",
      "processing CERES...\n",
      "There are 43 cell lines out of 624 that will be dropped, due to missing data\n",
      "processing rna-seq...\n",
      "processing copy number...\n",
      "processing mutations...\n",
      "processing sample_info...\n",
      "finalizing processing...\n",
      "filtering: keep only shared samples...\n",
      "filtering: baseline feature pruning...\n",
      "start data_pc9 preprocessing...\n",
      "loading rna-seq...\n",
      "loading copy number...\n",
      "loading mutations...\n"
     ]
    },
    {
     "name": "stderr",
     "output_type": "stream",
     "text": [
      "/storage/home/yur97/anaconda3/envs/cnp/lib/python3.7/site-packages/IPython/core/interactiveshell.py:3417: DtypeWarning: Columns (3,19,25,26,27,28,29,30,31) have mixed types.Specify dtype option on import or set low_memory=False.\n",
      "  exec(code_obj, self.user_global_ns, self.user_ns)\n"
     ]
    },
    {
     "name": "stdout",
     "output_type": "stream",
     "text": [
      "loading sample_info...\n",
      "loading Achilles gene effect...\n",
      "processing CERES...\n",
      "processing rna-seq...\n",
      "processing copy number...\n",
      "processing mutations...\n",
      "processing sample_info...\n",
      "finalizing processing...\n",
      "filtering: keep only shared samples...\n"
     ]
    }
   ],
   "source": [
    "proc = process_data(preprocess_params)\n",
    "proc.process()\n",
    "proc.process_external(match_cell_lines=False)"
   ]
  }
 ],
 "metadata": {
  "interpreter": {
   "hash": "860a4de2e062491567bac01bbbef181437a3458bd5f98fc4b8301e08ccc4fc55"
  },
  "kernelspec": {
   "display_name": "Python 3.7.7 64-bit ('cnp': conda)",
   "name": "python3"
  },
  "language_info": {
   "name": "python",
   "version": ""
  },
  "toc": {
   "base_numbering": 1,
   "nav_menu": {},
   "number_sections": true,
   "sideBar": true,
   "skip_h1_title": false,
   "title_cell": "Table of Contents",
   "title_sidebar": "Contents",
   "toc_cell": false,
   "toc_position": {},
   "toc_section_display": true,
   "toc_window_display": true
  }
 },
 "nbformat": 4,
 "nbformat_minor": 4
}