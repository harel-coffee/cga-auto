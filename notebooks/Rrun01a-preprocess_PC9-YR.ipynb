{
 "cells": [
  {
   "cell_type": "code",
   "execution_count": null,
   "metadata": {},
   "outputs": [],
   "source": [
    "from ceres_infer.data import preprocessData"
   ]
  },
  {
   "cell_type": "code",
   "execution_count": null,
   "metadata": {},
   "outputs": [],
   "source": [
    "# Preprocess data for gene effect (continuous)\n",
    "ext_data = {'dir_datasets': '19Q3',\n",
    "\t\t\t'dir_ceres_datasets': '19Q3/PC9_corrected',\n",
    "\t\t\t'data_name': 'data_pc9',\n",
    "\t\t\t'fname_gene_effect': 'gene_effect.csv',\n",
    "\t\t\t'fname_gene_dependency': None,\n",
    "\t\t\t'out_name': 'dm_data_pc9',\n",
    "\t\t\t'out_match_name': 'dm_data_match_pc9'}\n",
    "\n",
    "preprocessData(useGene_dependency = False,\n",
    "               dir_out = '../out/21.0423 proc_data/gene_effect/',\n",
    "               dir_depmap = '../data/DepMap_DROP_PC9/',\n",
    "               ext_data = ext_data)"
   ]
  }
 ],
 "metadata": {
  "kernelspec": {
   "display_name": "Python 3",
   "language": "python",
   "name": "python3"
  },
  "language_info": {
   "codemirror_mode": {
    "name": "ipython",
    "version": 3
   },
   "file_extension": ".py",
   "mimetype": "text/x-python",
   "name": "python",
   "nbconvert_exporter": "python",
   "pygments_lexer": "ipython3",
   "version": "3.7.9"
  }
 },
 "nbformat": 4,
 "nbformat_minor": 4
}
