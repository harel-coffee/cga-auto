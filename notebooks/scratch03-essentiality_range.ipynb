{
 "cells": [
  {
   "cell_type": "markdown",
   "metadata": {},
   "source": [
    "Getting processed genomic/ceres datasets"
   ]
  },
  {
   "cell_type": "code",
   "execution_count": 1,
   "metadata": {},
   "outputs": [],
   "source": [
    "import pickle\n",
    "import sys\n",
    "import pandas as pd\n",
    "import seaborn as sns\n",
    "import matplotlib.pyplot as plt"
   ]
  },
  {
   "cell_type": "code",
   "execution_count": 2,
   "metadata": {},
   "outputs": [],
   "source": [
    "dm_data = pickle.load(open('../out/20.0817 proc_data/gene_effect/dm_data.pkl','rb'))"
   ]
  },
  {
   "cell_type": "code",
   "execution_count": 157,
   "metadata": {},
   "outputs": [],
   "source": [
    "dm_data.df_crispr.to_csv('ceres_processed.csv') # for analyses in R later"
   ]
  },
  {
   "cell_type": "code",
   "execution_count": null,
   "metadata": {},
   "outputs": [],
   "source": [
    "#get gene names\n",
    "dm_data.df_crispr.columns = dm_data.df_crispr.columns.str.extract('^(.*)\\s\\(').squeeze().values"
   ]
  },
  {
   "cell_type": "code",
   "execution_count": 69,
   "metadata": {},
   "outputs": [],
   "source": [
    "df = dm_data.df_crispr"
   ]
  },
  {
   "cell_type": "code",
   "execution_count": 3,
   "metadata": {},
   "outputs": [],
   "source": [
    "df_genedep = pd.read_csv('%s/%s' % (dm_data.dir_datasets, dm_data.fname_gene_dependency), header=0, index_col=0)\n",
    "df_genedep.columns = df_genedep.columns.str.extract('^(.*)\\s').squeeze().values"
   ]
  },
  {
   "cell_type": "code",
   "execution_count": 4,
   "metadata": {},
   "outputs": [],
   "source": [
    "# get which ones are selective essential, and which ones are common essential, common nonessential\n",
    "def classifyDep(x):\n",
    "    if all(x>0.5):\n",
    "        return 'common_essential'\n",
    "    elif all(x<0.5):\n",
    "        return 'common_nonessential'\n",
    "    else:\n",
    "        return 'selective_essential'\n",
    "\n",
    "dep_class = df_genedep.apply(lambda x: classifyDep(x), axis=0)"
   ]
  },
  {
   "cell_type": "code",
   "execution_count": 8,
   "metadata": {},
   "outputs": [],
   "source": [
    "dep_class.to_csv('ceres_class.csv') # for analyses in R later"
   ]
  },
  {
   "cell_type": "code",
   "execution_count": 76,
   "metadata": {},
   "outputs": [],
   "source": [
    "df_common_essential = df.loc[:,df.columns.isin(dep_class[dep_class=='common_essential'].index)]\n",
    "df_common_nonessential = df.loc[:,df.columns.isin(dep_class[dep_class=='common_nonessential'].index)]\n",
    "df_selective_essential = df.loc[:,df.columns.isin(dep_class[dep_class=='selective_essential'].index)]"
   ]
  },
  {
   "cell_type": "code",
   "execution_count": null,
   "metadata": {},
   "outputs": [],
   "source": []
  },
  {
   "cell_type": "code",
   "execution_count": 150,
   "metadata": {},
   "outputs": [],
   "source": [
    "df1 = -1*df_common_essential.kurtosis()\n",
    "df1.name = 'neg_kurtosis'\n",
    "df2 = (df_common_essential.max()-df_common_essential.min())\n",
    "df2.name = 'range'\n",
    "df3 = pd.merge(df1,df2, left_index=True, right_index=True)"
   ]
  },
  {
   "cell_type": "code",
   "execution_count": 152,
   "metadata": {},
   "outputs": [
    {
     "data": {
      "text/html": [
       "<div>\n",
       "<style scoped>\n",
       "    .dataframe tbody tr th:only-of-type {\n",
       "        vertical-align: middle;\n",
       "    }\n",
       "\n",
       "    .dataframe tbody tr th {\n",
       "        vertical-align: top;\n",
       "    }\n",
       "\n",
       "    .dataframe thead th {\n",
       "        text-align: right;\n",
       "    }\n",
       "</style>\n",
       "<table border=\"1\" class=\"dataframe\">\n",
       "  <thead>\n",
       "    <tr style=\"text-align: right;\">\n",
       "      <th></th>\n",
       "      <th>neg_kurtosis</th>\n",
       "      <th>range</th>\n",
       "    </tr>\n",
       "  </thead>\n",
       "  <tbody>\n",
       "    <tr>\n",
       "      <th>BMS1</th>\n",
       "      <td>0.013432</td>\n",
       "      <td>0.874643</td>\n",
       "    </tr>\n",
       "    <tr>\n",
       "      <th>EBNA1BP2</th>\n",
       "      <td>-0.419947</td>\n",
       "      <td>0.936300</td>\n",
       "    </tr>\n",
       "    <tr>\n",
       "      <th>OR4F4</th>\n",
       "      <td>-0.494024</td>\n",
       "      <td>1.000560</td>\n",
       "    </tr>\n",
       "    <tr>\n",
       "      <th>ZNF525</th>\n",
       "      <td>-1.986116</td>\n",
       "      <td>1.002833</td>\n",
       "    </tr>\n",
       "    <tr>\n",
       "      <th>NVL</th>\n",
       "      <td>-0.389975</td>\n",
       "      <td>1.005366</td>\n",
       "    </tr>\n",
       "    <tr>\n",
       "      <th>...</th>\n",
       "      <td>...</td>\n",
       "      <td>...</td>\n",
       "    </tr>\n",
       "    <tr>\n",
       "      <th>POLR2L</th>\n",
       "      <td>-2.485191</td>\n",
       "      <td>2.600147</td>\n",
       "    </tr>\n",
       "    <tr>\n",
       "      <th>DPAGT1</th>\n",
       "      <td>-4.038254</td>\n",
       "      <td>2.761249</td>\n",
       "    </tr>\n",
       "    <tr>\n",
       "      <th>RAN</th>\n",
       "      <td>-3.341701</td>\n",
       "      <td>3.174758</td>\n",
       "    </tr>\n",
       "    <tr>\n",
       "      <th>HIST2H3A</th>\n",
       "      <td>-10.779312</td>\n",
       "      <td>3.182055</td>\n",
       "    </tr>\n",
       "    <tr>\n",
       "      <th>BUB3</th>\n",
       "      <td>-4.981861</td>\n",
       "      <td>3.233332</td>\n",
       "    </tr>\n",
       "  </tbody>\n",
       "</table>\n",
       "<p>424 rows × 2 columns</p>\n",
       "</div>"
      ],
      "text/plain": [
       "          neg_kurtosis     range\n",
       "BMS1          0.013432  0.874643\n",
       "EBNA1BP2     -0.419947  0.936300\n",
       "OR4F4        -0.494024  1.000560\n",
       "ZNF525       -1.986116  1.002833\n",
       "NVL          -0.389975  1.005366\n",
       "...                ...       ...\n",
       "POLR2L       -2.485191  2.600147\n",
       "DPAGT1       -4.038254  2.761249\n",
       "RAN          -3.341701  3.174758\n",
       "HIST2H3A    -10.779312  3.182055\n",
       "BUB3         -4.981861  3.233332\n",
       "\n",
       "[424 rows x 2 columns]"
      ]
     },
     "execution_count": 152,
     "metadata": {},
     "output_type": "execute_result"
    }
   ],
   "source": [
    "df3.sort_values(['range', 'neg_kurtosis'])"
   ]
  },
  {
   "cell_type": "code",
   "execution_count": null,
   "metadata": {},
   "outputs": [],
   "source": []
  },
  {
   "cell_type": "code",
   "execution_count": null,
   "metadata": {},
   "outputs": [],
   "source": []
  },
  {
   "cell_type": "code",
   "execution_count": 153,
   "metadata": {},
   "outputs": [
    {
     "data": {
      "text/plain": [
       "CDC123       4.962942\n",
       "BUB3         4.981861\n",
       "VPS25        5.024443\n",
       "HIST2H3A    10.779312\n",
       "MCM7        11.140457\n",
       "dtype: float64"
      ]
     },
     "execution_count": 153,
     "metadata": {},
     "output_type": "execute_result"
    }
   ],
   "source": [
    "# common essential, high kurtosis\n",
    "df_common_essential.kurtosis().sort_values()[-5:]"
   ]
  },
  {
   "cell_type": "code",
   "execution_count": 154,
   "metadata": {},
   "outputs": [
    {
     "data": {
      "text/plain": [
       "MAD2L2   -0.457443\n",
       "EIF2B3   -0.248467\n",
       "BMS1     -0.013432\n",
       "BOP1     -0.006465\n",
       "PDCD2     0.030516\n",
       "dtype: float64"
      ]
     },
     "execution_count": 154,
     "metadata": {},
     "output_type": "execute_result"
    }
   ],
   "source": [
    "# common essential, low kurtosis\n",
    "df_common_essential.kurtosis().sort_values()[:5]"
   ]
  },
  {
   "cell_type": "code",
   "execution_count": 155,
   "metadata": {},
   "outputs": [
    {
     "data": {
      "text/plain": [
       "SATB2      55.795402\n",
       "IL2RG      59.506148\n",
       "IKZF2      66.199901\n",
       "ARRDC3     75.472915\n",
       "MPL       155.842785\n",
       "dtype: float64"
      ]
     },
     "execution_count": 155,
     "metadata": {},
     "output_type": "execute_result"
    }
   ],
   "source": [
    "# common selective-essential, high kurtosis\n",
    "df_selective_essential.kurtosis().sort_values()[-5:]"
   ]
  },
  {
   "cell_type": "code",
   "execution_count": 156,
   "metadata": {},
   "outputs": [
    {
     "data": {
      "text/plain": [
       "GPX4    -0.982439\n",
       "EFR3A   -0.852144\n",
       "BRAT1   -0.838868\n",
       "RIC1    -0.810536\n",
       "RAB6A   -0.787164\n",
       "dtype: float64"
      ]
     },
     "execution_count": 156,
     "metadata": {},
     "output_type": "execute_result"
    }
   ],
   "source": [
    "# common selective-essential, low kurtosis\n",
    "df_selective_essential.kurtosis().sort_values()[:5]"
   ]
  },
  {
   "cell_type": "code",
   "execution_count": null,
   "metadata": {
    "lines_to_next_cell": 2
   },
   "outputs": [],
   "source": []
  },
  {
   "cell_type": "code",
   "execution_count": 102,
   "metadata": {},
   "outputs": [
    {
     "data": {
      "text/plain": [
       "POLR2L      2.600147\n",
       "DPAGT1      2.761249\n",
       "RAN         3.174758\n",
       "HIST2H3A    3.182055\n",
       "BUB3        3.233332\n",
       "dtype: float64"
      ]
     },
     "execution_count": 102,
     "metadata": {},
     "output_type": "execute_result"
    }
   ],
   "source": [
    "# common essential, high range\n",
    "(df_common_essential.max()-df_common_essential.min()).sort_values()[-5:]"
   ]
  },
  {
   "cell_type": "code",
   "execution_count": 103,
   "metadata": {},
   "outputs": [
    {
     "data": {
      "text/plain": [
       "BMS1        0.874643\n",
       "EBNA1BP2    0.936300\n",
       "OR4F4       1.000560\n",
       "ZNF525      1.002833\n",
       "NVL         1.005366\n",
       "dtype: float64"
      ]
     },
     "execution_count": 103,
     "metadata": {},
     "output_type": "execute_result"
    }
   ],
   "source": [
    "# common essential, tight range\n",
    "(df_common_essential.max()-df_common_essential.min()).sort_values()[:5]"
   ]
  },
  {
   "cell_type": "code",
   "execution_count": 104,
   "metadata": {},
   "outputs": [
    {
     "data": {
      "text/plain": [
       "NF2       4.157365\n",
       "KEAP1     4.712487\n",
       "ARRDC3    4.742344\n",
       "TP53      6.220990\n",
       "PTEN      7.354605\n",
       "dtype: float64"
      ]
     },
     "execution_count": 104,
     "metadata": {},
     "output_type": "execute_result"
    }
   ],
   "source": [
    "# common selective-essential, high range\n",
    "(df_selective_essential.max()-df_selective_essential.min()).sort_values()[-5:]"
   ]
  },
  {
   "cell_type": "code",
   "execution_count": 105,
   "metadata": {},
   "outputs": [
    {
     "data": {
      "text/plain": [
       "ZNF182    0.528340\n",
       "CFAP47    0.545004\n",
       "BRS3      0.581436\n",
       "OR4X1     0.598336\n",
       "MAGED4    0.607449\n",
       "dtype: float64"
      ]
     },
     "execution_count": 105,
     "metadata": {},
     "output_type": "execute_result"
    }
   ],
   "source": [
    "# common selective-essential, tight range\n",
    "(df_selective_essential.max()-df_selective_essential.min()).sort_values()[:5]"
   ]
  },
  {
   "cell_type": "code",
   "execution_count": null,
   "metadata": {},
   "outputs": [],
   "source": []
  },
  {
   "cell_type": "code",
   "execution_count": 132,
   "metadata": {},
   "outputs": [
    {
     "data": {
      "text/plain": [
       "<AxesSubplot:xlabel='range'>"
      ]
     },
     "execution_count": 132,
     "metadata": {},
     "output_type": "execute_result"
    },
    {
     "data": {
      "image/png": "[encoded data removed]",
      "text/plain": [
       "<Figure size 432x288 with 1 Axes>"
      ]
     },
     "metadata": {
      "needs_background": "light"
     },
     "output_type": "display_data"
    }
   ],
   "source": [
    "sns.distplot(df_range_merged.range)"
   ]
  },
  {
   "cell_type": "code",
   "execution_count": 130,
   "metadata": {},
   "outputs": [],
   "source": [
    "df_range = (df_selective_essential.max()-df_selective_essential.min())\n",
    "df_range.name = 'range'\n",
    "dep_class.name = 'dep_class'\n",
    "df_range_merged = pd.merge(df_range,dep_class, left_index=True, right_index=True)"
   ]
  },
  {
   "cell_type": "code",
   "execution_count": 131,
   "metadata": {},
   "outputs": [
    {
     "ename": "AttributeError",
     "evalue": "module 'seaborn' has no attribute 'histplot'",
     "output_type": "error",
     "traceback": [
      "\u001b[0;31m---------------------------------------------------------------------------\u001b[0m",
      "\u001b[0;31mAttributeError\u001b[0m                            Traceback (most recent call last)",
      "\u001b[0;32m<ipython-input-131-493e5d03e7f1>\u001b[0m in \u001b[0;36m<module>\u001b[0;34m\u001b[0m\n\u001b[0;32m----> 1\u001b[0;31m \u001b[0msns\u001b[0m\u001b[0;34m.\u001b[0m\u001b[0mhistplot\u001b[0m\u001b[0;34m(\u001b[0m\u001b[0mdata\u001b[0m\u001b[0;34m=\u001b[0m\u001b[0mdf_range_merged\u001b[0m\u001b[0;34m,\u001b[0m \u001b[0mx\u001b[0m\u001b[0;34m=\u001b[0m\u001b[0;34m'range'\u001b[0m\u001b[0;34m,\u001b[0m \u001b[0mhue\u001b[0m\u001b[0;34m=\u001b[0m\u001b[0;34m'dep_class'\u001b[0m\u001b[0;34m)\u001b[0m\u001b[0;34m\u001b[0m\u001b[0;34m\u001b[0m\u001b[0m\n\u001b[0m",
      "\u001b[0;31mAttributeError\u001b[0m: module 'seaborn' has no attribute 'histplot'"
     ]
    }
   ],
   "source": [
    "sns.distplot(data=df_range_merged, x='range', hue='dep_class')"
   ]
  },
  {
   "cell_type": "code",
   "execution_count": null,
   "metadata": {},
   "outputs": [],
   "source": []
  }
 ],
 "metadata": {
  "kernelspec": {
   "display_name": "Python 3",
   "language": "python",
   "name": "python3"
  },
  "language_info": {
   "codemirror_mode": {
    "name": "ipython",
    "version": 3
   },
   "file_extension": ".py",
   "mimetype": "text/x-python",
   "name": "python",
   "nbconvert_exporter": "python",
   "pygments_lexer": "ipython3",
   "version": "3.7.7"
  },
  "toc": {
   "base_numbering": 1,
   "nav_menu": {},
   "number_sections": true,
   "sideBar": true,
   "skip_h1_title": false,
   "title_cell": "Table of Contents",
   "title_sidebar": "Contents",
   "toc_cell": false,
   "toc_position": {},
   "toc_section_display": true,
   "toc_window_display": true
  }
 },
 "nbformat": 4,
 "nbformat_minor": 4
}
