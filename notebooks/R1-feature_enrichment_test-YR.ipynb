{
 "cells": [
  {
   "cell_type": "code",
   "execution_count": 104,
   "metadata": {},
   "outputs": [],
   "source": [
    "# This script performs a statistical test of feature enrichment between fig2a and fig1a\n",
    "# Author: Yiyun\n",
    "\n",
    "import pickle\n",
    "import pandas as pd\n",
    "import sys\n",
    "import os\n",
    "from ast import literal_eval\n",
    "from src.lib.analyses import *\n",
    "from scipy.stats import chi2_contingency\n",
    "from scipy import stats\n",
    "from scipy.stats.contingency import margins\n",
    "import numpy as np\n",
    "\n",
    "sys.path.append('../')"
   ]
  },
  {
   "cell_type": "code",
   "execution_count": 25,
   "metadata": {},
   "outputs": [],
   "source": [
    "### fig1a data source count\n",
    "# read in data\n",
    "dm_data = pickle.load(open('../out/20.0216 feat/reg_rf_boruta/dm_data.pkl','rb'))\n",
    "\n",
    "# get count \n",
    "df_counts_1a = pd.DataFrame([{'CERES':dm_data.df_crispr.shape[1],\n",
    "                           'RNA-seq':dm_data.df_rnaseq.shape[1],\n",
    "                           'CN':dm_data.df_cn.shape[1],\n",
    "                           'Mut':dm_data.df_mut.shape[1],\n",
    "                           'Lineage':dm_data.df_lineage.shape[1]}])"
   ]
  },
  {
   "cell_type": "code",
   "execution_count": 26,
   "metadata": {},
   "outputs": [],
   "source": [
    "### fig2a TOP10 feature count table\n",
    "# read in data\n",
    "dir_in_res = '../out/20.0216 feat/reg_rf_boruta'\n",
    "dir_in_anlyz = os.path.join(dir_in_res, 'anlyz_filtered')\n",
    "df_featSummary = pd.read_csv(os.path.join(dir_in_anlyz, 'feat_summary.csv')) #feature summary\n",
    "df_featSummary['feat_sources'] = df_featSummary['feat_sources'].apply(literal_eval)\n",
    "df_featSummary['feat_genes'] = df_featSummary['feat_genes'].apply(literal_eval)\n",
    "\n",
    "# pie chart of feature sources\n",
    "df_counts_2a = pd.Series([y for x in df_featSummary.feat_sources for y in x]).value_counts()"
   ]
  },
  {
   "cell_type": "code",
   "execution_count": 63,
   "metadata": {},
   "outputs": [],
   "source": [
    "### Chi-square test for independence: X as feature counts, Y as data source/TOP10 feature source\n",
    "# H0: The feature counts is not dependent on sources.\n",
    "# H1: The feature counts is dependent on sources.\n",
    "\n",
    "# Merge fig2a series into fig1a dataframe\n",
    "df_counts_combined = df_counts_1a.append(df_counts_2a, \\\n",
    "                                         ignore_index=True).fillna(0).astype('int64') #Fill lineage as 0\n",
    "\n",
    "# Set significance level\n",
    "alpha=0.05\n",
    "\n",
    "# Chi-square test\n",
    "x2, pval, df, expected_val = chi2_contingency(df_counts_combined)"
   ]
  },
  {
   "cell_type": "code",
   "execution_count": 61,
   "metadata": {},
   "outputs": [
    {
     "data": {
      "text/plain": [
       "0.0"
      ]
     },
     "execution_count": 61,
     "metadata": {},
     "output_type": "execute_result"
    }
   ],
   "source": [
    "# Show p value\n",
    "pval\n",
    "# # Show Chi-square value at alpha and df\n",
    "# x2_at_alpha = stats.chi2.ppf(1-alpha,df)\n",
    "# # Show Chi-square statistics\n",
    "# x2"
   ]
  },
  {
   "cell_type": "markdown",
   "metadata": {},
   "source": [
    "P value < 0.05(<0.001) and Chi-square statistics >> Chi-square value at alpha=0.05 and df=4. Reject the null hypothesis."
   ]
  },
  {
   "cell_type": "code",
   "execution_count": 126,
   "metadata": {},
   "outputs": [],
   "source": [
    "### Look at standardized residual of CERES score(no built-in function?)\n",
    "def stdres(observed, expected):\n",
    "    n = observed.sum()\n",
    "    rsum, csum = margins(observed)\n",
    "    rsum = rsum.astype(np.float64)\n",
    "    csum = csum.astype(np.float64)\n",
    "    v = csum * rsum * (n - rsum) * (n - csum) / n**3\n",
    "    \n",
    "    return (observed - expected) / np.sqrt(v)\n",
    "\n",
    "stdres_res = stdres(df_counts_combined.to_numpy(), expected_val)\n",
    "df_stdres = pd.DataFrame(data=stdres_res[0:,0:],index = ['data source','Top10 feature source'],\\\n",
    "                         columns=df_counts_combined.columns) "
   ]
  },
  {
   "cell_type": "code",
   "execution_count": 127,
   "metadata": {},
   "outputs": [
    {
     "data": {
      "text/html": [
       "<div>\n",
       "<style scoped>\n",
       "    .dataframe tbody tr th:only-of-type {\n",
       "        vertical-align: middle;\n",
       "    }\n",
       "\n",
       "    .dataframe tbody tr th {\n",
       "        vertical-align: top;\n",
       "    }\n",
       "\n",
       "    .dataframe thead th {\n",
       "        text-align: right;\n",
       "    }\n",
       "</style>\n",
       "<table border=\"1\" class=\"dataframe\">\n",
       "  <thead>\n",
       "    <tr style=\"text-align: right;\">\n",
       "      <th></th>\n",
       "      <th>CERES</th>\n",
       "      <th>RNA-seq</th>\n",
       "      <th>CN</th>\n",
       "      <th>Mut</th>\n",
       "      <th>Lineage</th>\n",
       "    </tr>\n",
       "  </thead>\n",
       "  <tbody>\n",
       "    <tr>\n",
       "      <th>data source</th>\n",
       "      <td>-73.069819</td>\n",
       "      <td>20.991233</td>\n",
       "      <td>31.752163</td>\n",
       "      <td>18.636951</td>\n",
       "      <td>0.805024</td>\n",
       "    </tr>\n",
       "    <tr>\n",
       "      <th>Top10 feature source</th>\n",
       "      <td>73.069819</td>\n",
       "      <td>-20.991233</td>\n",
       "      <td>-31.752163</td>\n",
       "      <td>-18.636951</td>\n",
       "      <td>-0.805024</td>\n",
       "    </tr>\n",
       "  </tbody>\n",
       "</table>\n",
       "</div>"
      ],
      "text/plain": [
       "                          CERES    RNA-seq         CN        Mut   Lineage\n",
       "data source          -73.069819  20.991233  31.752163  18.636951  0.805024\n",
       "Top10 feature source  73.069819 -20.991233 -31.752163 -18.636951 -0.805024"
      ]
     },
     "execution_count": 127,
     "metadata": {},
     "output_type": "execute_result"
    }
   ],
   "source": [
    "# Show starndardized residual dataframe\n",
    "df_stdres"
   ]
  },
  {
   "cell_type": "markdown",
   "metadata": {},
   "source": [
    "CERES score has the largest standard residue(stdres = 73.069819) at TOP10 feature source, indicating it's highly enriched after feature selection."
   ]
  }
 ],
 "metadata": {
  "jupytext": {
   "formats": "ipynb,py:light"
  },
  "kernelspec": {
   "display_name": "Python 3",
   "language": "python",
   "name": "python3"
  },
  "language_info": {
   "codemirror_mode": {
    "name": "ipython",
    "version": 3
   },
   "file_extension": ".py",
   "mimetype": "text/x-python",
   "name": "python",
   "nbconvert_exporter": "python",
   "pygments_lexer": "ipython3",
   "version": "3.7.8"
  }
 },
 "nbformat": 4,
 "nbformat_minor": 4
}
