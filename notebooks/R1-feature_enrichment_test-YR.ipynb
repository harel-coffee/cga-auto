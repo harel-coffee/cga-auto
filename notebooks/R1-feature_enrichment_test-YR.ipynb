{
 "cells": [
  {
   "cell_type": "code",
   "execution_count": 2,
   "metadata": {},
   "outputs": [],
   "source": [
    "# This script performs a statistical test of feature enrichment between fig2a and fig1a\n",
    "# Author: Yiyun\n",
    "\n",
    "import pickle\n",
    "import pandas as pd\n",
    "import sys\n",
    "import os\n",
    "from ast import literal_eval\n",
    "\n",
    "from scipy.stats import chi2_contingency\n",
    "from scipy import stats\n",
    "from scipy.stats.contingency import margins\n",
    "import numpy as np\n",
    "\n",
    "sys.path.append('../')"
   ]
  },
  {
   "cell_type": "code",
   "execution_count": 3,
   "metadata": {},
   "outputs": [],
   "source": [
    "#---------------------1. Get data counts--------------------#\n",
    "### 1. fig1a data source count\n",
    "# read in data\n",
    "dm_data = pickle.load(open('../out/20.0216 feat/reg_rf_boruta/dm_data.pkl','rb'))\n",
    "\n",
    "# get count fig1a\n",
    "df_count_source = pd.DataFrame([{'CERES':dm_data.df_crispr.shape[1],\n",
    "                           'RNA-seq':dm_data.df_rnaseq.shape[1],\n",
    "                           'CN':dm_data.df_cn.shape[1],\n",
    "                           'Mut':dm_data.df_mut.shape[1],\n",
    "                           'Lineage':dm_data.df_lineage.shape[1]}])\n",
    "\n",
    "### 2. fig2a TOP10 feature count table\n",
    "# read in data\n",
    "dir_in_res = '../out/20.0216 feat/reg_rf_boruta'\n",
    "dir_in_anlyz = os.path.join(dir_in_res, 'anlyz_filtered')\n",
    "df_featSummary = pd.read_csv(os.path.join(dir_in_anlyz, 'feat_summary.csv')) #feature summary\n",
    "df_featSummary['feat_sources'] = df_featSummary['feat_sources'].apply(literal_eval)\n",
    "df_featSummary['feat_genes'] = df_featSummary['feat_genes'].apply(literal_eval)\n",
    "\n",
    "# pie chart of feature sources\n",
    "df_count_top10 = pd.Series([y for x in df_featSummary.feat_sources for y in x]).value_counts()\n",
    "df_count_top10 = df_count_top10.to_frame().T\n",
    "\n",
    "\n",
    "### 3. SupA all siginificant feature count\n",
    "df_count_allsigfeats = pd.read_csv('%s/anlyz/featSrcCounts/source_counts_allfeatures.csv' % dir_in_res, \\\n",
    "                              header=None, index_col=0, squeeze=True)\n",
    "df_count_allsigfeats = df_count_allsigfeats.to_frame().T\n",
    "\n",
    "#--------------------1.End--------------------#"
   ]
  },
  {
   "cell_type": "code",
   "execution_count": 4,
   "metadata": {},
   "outputs": [],
   "source": [
    "#------------------2. Functions definition--------------------#\n",
    "### Calcualte standardized residual\n",
    "# ************************************\n",
    "# stdres function is a function calculates standardized residual\n",
    "# This was adapted from a post on Stackoverflow by Warren Weckesser on 12/08/2013, could be found at:\n",
    "# https://stackoverflow.com/questions/20453729/what-is-the-equivalent-of-r-data-chisqresiduals-in-python\n",
    "# ************************************\n",
    "def stdres(observed, expected): \n",
    "    n = observed.sum()\n",
    "    rsum, csum = margins(observed)\n",
    "    rsum = rsum.astype(np.float64)\n",
    "    csum = csum.astype(np.float64)\n",
    "    v = csum * rsum * (n - rsum) * (n - csum) / n**3\n",
    "    \n",
    "    return (observed - expected) / np.sqrt(v)\n",
    "\n",
    "### Chi-squre test for independence: X as feature counts, Y as data source/TOP10 feature source/all significant features\n",
    "def chi_square_test(df_count1, df_count2, alpha):\n",
    "    # Merge count1 and count2 into dataframe\n",
    "    df_counts_combined = pd.concat([df_count1, df_count2], axis=0, ignore_index=True).fillna(0).astype('int64') #Fill lineage as 0\n",
    "    \n",
    "    x2, pval, dfree, expected_val = chi2_contingency(df_counts_combined)\n",
    "    \n",
    "    # Calculate standard deviation\n",
    "    stdres_res = stdres(df_counts_combined.to_numpy(), expected_val)\n",
    "    df_stdres = pd.DataFrame(data=stdres_res[0:,0:],\\\n",
    "                         columns=df_counts_combined.columns) \n",
    "    \n",
    "    \n",
    "    \n",
    "    return x2, pval, dfree, df_stdres\n",
    "\n",
    "#--------------------2. End--------------------#"
   ]
  },
  {
   "cell_type": "code",
   "execution_count": 7,
   "metadata": {},
   "outputs": [
    {
     "name": "stdout",
     "output_type": "stream",
     "text": [
      "Data source v.s. all significant features\n",
      "p-value: 0.0\n"
     ]
    },
    {
     "data": {
      "text/html": [
       "<div>\n",
       "<style scoped>\n",
       "    .dataframe tbody tr th:only-of-type {\n",
       "        vertical-align: middle;\n",
       "    }\n",
       "\n",
       "    .dataframe tbody tr th {\n",
       "        vertical-align: top;\n",
       "    }\n",
       "\n",
       "    .dataframe thead th {\n",
       "        text-align: right;\n",
       "    }\n",
       "</style>\n",
       "<table border=\"1\" class=\"dataframe\">\n",
       "  <thead>\n",
       "    <tr style=\"text-align: right;\">\n",
       "      <th></th>\n",
       "      <th>CERES</th>\n",
       "      <th>RNA-seq</th>\n",
       "      <th>CN</th>\n",
       "      <th>Mut</th>\n",
       "      <th>Lineage</th>\n",
       "    </tr>\n",
       "  </thead>\n",
       "  <tbody>\n",
       "    <tr>\n",
       "      <th>0</th>\n",
       "      <td>-130.555513</td>\n",
       "      <td>-14.693455</td>\n",
       "      <td>124.592902</td>\n",
       "      <td>81.162529</td>\n",
       "      <td>0.314261</td>\n",
       "    </tr>\n",
       "    <tr>\n",
       "      <th>1</th>\n",
       "      <td>130.555513</td>\n",
       "      <td>14.693455</td>\n",
       "      <td>-124.592902</td>\n",
       "      <td>-81.162529</td>\n",
       "      <td>-0.314261</td>\n",
       "    </tr>\n",
       "  </tbody>\n",
       "</table>\n",
       "</div>"
      ],
      "text/plain": [
       "0       CERES    RNA-seq          CN        Mut   Lineage\n",
       "0 -130.555513 -14.693455  124.592902  81.162529  0.314261\n",
       "1  130.555513  14.693455 -124.592902 -81.162529 -0.314261"
      ]
     },
     "execution_count": 7,
     "metadata": {},
     "output_type": "execute_result"
    }
   ],
   "source": [
    "#--------------------3. Feature Enrichement test--------------------#\n",
    "### Data source v.s. all significant features\n",
    "x2_sig_source, pval_sig_source, dfree_sig_source, df_stdres_sig_source = \\\n",
    "chi_square_test(df_count_source, df_count_allsigfeats, 0.05)\n",
    "\n",
    "# Show p value\n",
    "print('Data source v.s. all significant features')\n",
    "print(f'p-value: {pval_sig_source}')\n",
    "# Show starndardized residual dataframe\n",
    "df_stdres_sig_source"
   ]
  },
  {
   "cell_type": "code",
   "execution_count": 8,
   "metadata": {},
   "outputs": [
    {
     "name": "stdout",
     "output_type": "stream",
     "text": [
      "Data source v.s. Top10 features\n",
      "p-value: 0.0\n"
     ]
    },
    {
     "data": {
      "text/html": [
       "<div>\n",
       "<style scoped>\n",
       "    .dataframe tbody tr th:only-of-type {\n",
       "        vertical-align: middle;\n",
       "    }\n",
       "\n",
       "    .dataframe tbody tr th {\n",
       "        vertical-align: top;\n",
       "    }\n",
       "\n",
       "    .dataframe thead th {\n",
       "        text-align: right;\n",
       "    }\n",
       "</style>\n",
       "<table border=\"1\" class=\"dataframe\">\n",
       "  <thead>\n",
       "    <tr style=\"text-align: right;\">\n",
       "      <th></th>\n",
       "      <th>CERES</th>\n",
       "      <th>RNA-seq</th>\n",
       "      <th>CN</th>\n",
       "      <th>Mut</th>\n",
       "      <th>Lineage</th>\n",
       "    </tr>\n",
       "  </thead>\n",
       "  <tbody>\n",
       "    <tr>\n",
       "      <th>0</th>\n",
       "      <td>-73.069819</td>\n",
       "      <td>20.991233</td>\n",
       "      <td>31.752163</td>\n",
       "      <td>18.636951</td>\n",
       "      <td>0.805024</td>\n",
       "    </tr>\n",
       "    <tr>\n",
       "      <th>1</th>\n",
       "      <td>73.069819</td>\n",
       "      <td>-20.991233</td>\n",
       "      <td>-31.752163</td>\n",
       "      <td>-18.636951</td>\n",
       "      <td>-0.805024</td>\n",
       "    </tr>\n",
       "  </tbody>\n",
       "</table>\n",
       "</div>"
      ],
      "text/plain": [
       "       CERES    RNA-seq         CN        Mut   Lineage\n",
       "0 -73.069819  20.991233  31.752163  18.636951  0.805024\n",
       "1  73.069819 -20.991233 -31.752163 -18.636951 -0.805024"
      ]
     },
     "execution_count": 8,
     "metadata": {},
     "output_type": "execute_result"
    }
   ],
   "source": [
    "###Data source v.s. Top10 features\n",
    "x2_top10_source, pval_top10_source, dfree_top10_source, df_stdres_top10_source = \\\n",
    "chi_square_test(df_count_source, df_count_top10, 0.05)\n",
    "\n",
    "# Show p value\n",
    "print('Data source v.s. Top10 features')\n",
    "print(f'p-value: {pval_top10_source}')\n",
    "# Show starndardized residual dataframe\n",
    "df_stdres_top10_source"
   ]
  },
  {
   "cell_type": "code",
   "execution_count": 11,
   "metadata": {},
   "outputs": [
    {
     "name": "stdout",
     "output_type": "stream",
     "text": [
      "Top10 features v.s. significant features\n",
      "p-value:7.821605647254722e-141\n"
     ]
    },
    {
     "data": {
      "text/html": [
       "<div>\n",
       "<style scoped>\n",
       "    .dataframe tbody tr th:only-of-type {\n",
       "        vertical-align: middle;\n",
       "    }\n",
       "\n",
       "    .dataframe tbody tr th {\n",
       "        vertical-align: top;\n",
       "    }\n",
       "\n",
       "    .dataframe thead th {\n",
       "        text-align: right;\n",
       "    }\n",
       "</style>\n",
       "<table border=\"1\" class=\"dataframe\">\n",
       "  <thead>\n",
       "    <tr style=\"text-align: right;\">\n",
       "      <th></th>\n",
       "      <th>CERES</th>\n",
       "      <th>RNA-seq</th>\n",
       "      <th>CN</th>\n",
       "      <th>Mut</th>\n",
       "      <th>Lineage</th>\n",
       "    </tr>\n",
       "  </thead>\n",
       "  <tbody>\n",
       "    <tr>\n",
       "      <th>0</th>\n",
       "      <td>-24.407907</td>\n",
       "      <td>24.816048</td>\n",
       "      <td>-0.058594</td>\n",
       "      <td>-4.664789</td>\n",
       "      <td>0.758063</td>\n",
       "    </tr>\n",
       "    <tr>\n",
       "      <th>1</th>\n",
       "      <td>24.407907</td>\n",
       "      <td>-24.816048</td>\n",
       "      <td>0.058594</td>\n",
       "      <td>4.664789</td>\n",
       "      <td>-0.758063</td>\n",
       "    </tr>\n",
       "  </tbody>\n",
       "</table>\n",
       "</div>"
      ],
      "text/plain": [
       "       CERES    RNA-seq        CN       Mut   Lineage\n",
       "0 -24.407907  24.816048 -0.058594 -4.664789  0.758063\n",
       "1  24.407907 -24.816048  0.058594  4.664789 -0.758063"
      ]
     },
     "execution_count": 11,
     "metadata": {},
     "output_type": "execute_result"
    }
   ],
   "source": [
    "###Top10 features v.s. significant features\n",
    "x2_top10_sig, pval_top10_sig, dfree_top10_sig, df_stdres_top10_sig = \\\n",
    "chi_square_test(df_count_allsigfeats, df_count_top10, 0.05)\n",
    "\n",
    "# # Show p value\n",
    "print('Top10 features v.s. significant features')\n",
    "print(f'p-value:{pval_top10_sig}')\n",
    "# Show starndardized residual dataframe\n",
    "df_stdres_top10_sig\n",
    "\n",
    "#--------------------3. End--------------------#"
   ]
  },
  {
   "cell_type": "markdown",
   "metadata": {},
   "source": [
    "CERES score always has the largest standardized residuals, indicating it's highly enriched after model building and feature selection.\n",
    "\n",
    "All P value < 0.05(<0.001) and Chi-square statistics >> Chi-square value at alpha=0.05 and df=4. Reject the null hypothesis."
   ]
  }
 ],
 "metadata": {
  "jupytext": {
   "formats": "ipynb,py:light"
  },
  "kernelspec": {
   "display_name": "Python 3",
   "language": "python",
   "name": "python3"
  },
  "language_info": {
   "codemirror_mode": {
    "name": "ipython",
    "version": 3
   },
   "file_extension": ".py",
   "mimetype": "text/x-python",
   "name": "python",
   "nbconvert_exporter": "python",
   "pygments_lexer": "ipython3",
   "version": "3.7.3"
  }
 },
 "nbformat": 4,
 "nbformat_minor": 4
}
