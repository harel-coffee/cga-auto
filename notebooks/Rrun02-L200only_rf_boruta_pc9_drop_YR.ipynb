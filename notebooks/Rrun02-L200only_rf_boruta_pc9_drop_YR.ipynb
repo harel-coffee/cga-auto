{
 "cells": [
  {
   "cell_type": "code",
   "execution_count": 1,
   "metadata": {},
   "outputs": [],
   "source": [
    "# This notebook use Q3 data (doesn't contain PC9) to predict PC9 data\n",
    "# Author: Yiyun\n",
    "\n",
    "import pandas as pd\n",
    "from os.path import join\n",
    "from multiprocessing import Pool\n",
    "q3_dir = '../data/DepMap/19Q3'\n",
    "q4_dir = '../data/DepMap/19Q4'"
   ]
  },
  {
   "cell_type": "code",
   "execution_count": null,
   "metadata": {},
   "outputs": [],
   "source": [
    "# Read 19Q3 and 19Q4 file, use column names as reference for genes \n",
    "df_ref19q3 = pd.read_csv(join(q3_dir,'Achilles_gene_effect.csv'), index_col = 0)\n",
    "df_ref19q4 = pd.read_csv(join(q4_dir,'Achilles_gene_effect.csv'), index_col = 0)"
   ]
  },
  {
   "cell_type": "code",
   "execution_count": 4,
   "metadata": {},
   "outputs": [],
   "source": [
    "# Delete PC9 data from gene effect file\n",
    "df_ref19q3_m = df_ref19q3.drop(['ACH-000030'])\n",
    "df_ref19q4_m = df_ref19q4.drop(['ACH-000030'])"
   ]
  },
  {
   "cell_type": "code",
   "execution_count": null,
   "metadata": {},
   "outputs": [],
   "source": [
    "# Save file\n",
    "df_ref19q3_m.to_csv(join(q3_dir,'Achilles_gene_effect_drop_pc9.csv'), sep = ',')\n",
    "df_ref19q4_m.to_csv(join(q4_dir,'Achilles_gene_effect_drop_pc9.csv'), sep = ',')"
   ]
  },
  {
   "cell_type": "code",
   "execution_count": 11,
   "metadata": {},
   "outputs": [],
   "source": [
    "# Change PC9 cell name into an arbitrary cell name as well\n",
    "df_pc9 = pd.read_csv(join(q3_dir,'PC9_corrected','gene_effect.csv'), index_col = 0)"
   ]
  },
  {
   "cell_type": "code",
   "execution_count": 12,
   "metadata": {},
   "outputs": [
    {
     "data": {
      "text/html": [
       "<div>\n",
       "<style scoped>\n",
       "    .dataframe tbody tr th:only-of-type {\n",
       "        vertical-align: middle;\n",
       "    }\n",
       "\n",
       "    .dataframe tbody tr th {\n",
       "        vertical-align: top;\n",
       "    }\n",
       "\n",
       "    .dataframe thead th {\n",
       "        text-align: right;\n",
       "    }\n",
       "</style>\n",
       "<table border=\"1\" class=\"dataframe\">\n",
       "  <thead>\n",
       "    <tr style=\"text-align: right;\">\n",
       "      <th></th>\n",
       "      <th>A1BG (1)</th>\n",
       "      <th>A1CF (29974)</th>\n",
       "      <th>A2M (2)</th>\n",
       "      <th>A2ML1 (144568)</th>\n",
       "      <th>A3GALT2 (127550)</th>\n",
       "      <th>A4GALT (53947)</th>\n",
       "      <th>A4GNT (51146)</th>\n",
       "      <th>AAAS (8086)</th>\n",
       "      <th>AACS (65985)</th>\n",
       "      <th>AADAC (13)</th>\n",
       "      <th>...</th>\n",
       "      <th>ZSWIM8 (23053)</th>\n",
       "      <th>ZW10 (9183)</th>\n",
       "      <th>ZWILCH (55055)</th>\n",
       "      <th>ZWINT (11130)</th>\n",
       "      <th>ZXDC (79364)</th>\n",
       "      <th>ZYG11A (440590)</th>\n",
       "      <th>ZYG11B (79699)</th>\n",
       "      <th>ZYX (7791)</th>\n",
       "      <th>ZZEF1 (23140)</th>\n",
       "      <th>ZZZ3 (26009)</th>\n",
       "    </tr>\n",
       "  </thead>\n",
       "  <tbody>\n",
       "    <tr>\n",
       "      <th>ACH-000113</th>\n",
       "      <td>0.018446</td>\n",
       "      <td>-0.086368</td>\n",
       "      <td>0.084678</td>\n",
       "      <td>-0.050397</td>\n",
       "      <td>-0.02321</td>\n",
       "      <td>-0.013123</td>\n",
       "      <td>0.156001</td>\n",
       "      <td>-0.300314</td>\n",
       "      <td>0.198187</td>\n",
       "      <td>0.046426</td>\n",
       "      <td>...</td>\n",
       "      <td>-0.231339</td>\n",
       "      <td>-0.477335</td>\n",
       "      <td>-0.187761</td>\n",
       "      <td>-0.611573</td>\n",
       "      <td>0.20124</td>\n",
       "      <td>-0.044607</td>\n",
       "      <td>-0.034765</td>\n",
       "      <td>0.035483</td>\n",
       "      <td>0.055947</td>\n",
       "      <td>-0.422271</td>\n",
       "    </tr>\n",
       "  </tbody>\n",
       "</table>\n",
       "<p>1 rows × 16003 columns</p>\n",
       "</div>"
      ],
      "text/plain": [
       "            A1BG (1)  A1CF (29974)   A2M (2)  A2ML1 (144568)  \\\n",
       "ACH-000113  0.018446     -0.086368  0.084678       -0.050397   \n",
       "\n",
       "            A3GALT2 (127550)  A4GALT (53947)  A4GNT (51146)  AAAS (8086)  \\\n",
       "ACH-000113          -0.02321       -0.013123       0.156001    -0.300314   \n",
       "\n",
       "            AACS (65985)  AADAC (13)  ...  ZSWIM8 (23053)  ZW10 (9183)  \\\n",
       "ACH-000113      0.198187    0.046426  ...       -0.231339    -0.477335   \n",
       "\n",
       "            ZWILCH (55055)  ZWINT (11130)  ZXDC (79364)  ZYG11A (440590)  \\\n",
       "ACH-000113       -0.187761      -0.611573       0.20124        -0.044607   \n",
       "\n",
       "            ZYG11B (79699)  ZYX (7791)  ZZEF1 (23140)  ZZZ3 (26009)  \n",
       "ACH-000113       -0.034765    0.035483       0.055947     -0.422271  \n",
       "\n",
       "[1 rows x 16003 columns]"
      ]
     },
     "execution_count": 12,
     "metadata": {},
     "output_type": "execute_result"
    }
   ],
   "source": [
    "df_pc9"
   ]
  },
  {
   "cell_type": "code",
   "execution_count": 9,
   "metadata": {},
   "outputs": [],
   "source": [
    "df_pc9 = df_pc9.rename(index={'ACH-000004': \"ACH-000113\"})"
   ]
  },
  {
   "cell_type": "code",
   "execution_count": 10,
   "metadata": {},
   "outputs": [],
   "source": [
    "# Save renamed pc9 data, The PC9 changed data are stored in 21.0323 file\n",
    "df_pc9.to_csv(join(q3_dir,'PC9_corrected','gene_effect.csv'), sep = ',')"
   ]
  },
  {
   "cell_type": "markdown",
   "metadata": {},
   "source": [
    "### Preprocess data"
   ]
  },
  {
   "cell_type": "code",
   "execution_count": 4,
   "metadata": {},
   "outputs": [
    {
     "name": "stdout",
     "output_type": "stream",
     "text": [
      "The autoreload extension is already loaded. To reload it, use:\n",
      "  %reload_ext autoreload\n"
     ]
    }
   ],
   "source": [
    "%load_ext autoreload\n",
    "%autoreload 2\n",
    "\n",
    "import sys\n",
    "sys.path.append(\"../src\")\n",
    "\n",
    "from ceres_infer.data import preprocessData"
   ]
  },
  {
   "cell_type": "code",
   "execution_count": 14,
   "metadata": {
    "scrolled": true
   },
   "outputs": [
    {
     "name": "stdout",
     "output_type": "stream",
     "text": [
      "start data_19Q3 preprocessing...\n",
      "loading rna-seq...\n",
      "loading copy number...\n",
      "loading mutations...\n"
     ]
    },
    {
     "name": "stderr",
     "output_type": "stream",
     "text": [
      "/storage/home/yur97/anaconda3/envs/cnp/lib/python3.7/site-packages/IPython/core/interactiveshell.py:3417: DtypeWarning: Columns (3,19,25,26,27,28,29,30,31) have mixed types.Specify dtype option on import or set low_memory=False.\n",
      "  exec(code_obj, self.user_global_ns, self.user_ns)\n"
     ]
    },
    {
     "name": "stdout",
     "output_type": "stream",
     "text": [
      "loading sample_info...\n",
      "loading Achilles gene effect...\n",
      "processing CERES...\n",
      "There are 43 cell lines out of 624 that will be dropped, due to missing data\n",
      "processing rna-seq...\n",
      "processing copy number...\n",
      "processing mutations...\n",
      "processing sample_info...\n",
      "finalizing processing...\n",
      "filtering: keep only shared samples...\n",
      "filtering: baseline feature pruning...\n",
      "start data_19Q3 preprocessing...\n",
      "loading rna-seq...\n",
      "loading copy number...\n",
      "loading mutations...\n"
     ]
    },
    {
     "name": "stderr",
     "output_type": "stream",
     "text": [
      "/storage/home/yur97/anaconda3/envs/cnp/lib/python3.7/site-packages/IPython/core/interactiveshell.py:3417: DtypeWarning: Columns (3,19,25,26,27,28,29,30,31) have mixed types.Specify dtype option on import or set low_memory=False.\n",
      "  exec(code_obj, self.user_global_ns, self.user_ns)\n"
     ]
    },
    {
     "name": "stdout",
     "output_type": "stream",
     "text": [
      "loading sample_info...\n",
      "loading Achilles gene effect...\n",
      "processing CERES...\n",
      "There are 43 cell lines out of 624 that will be dropped, due to missing data\n",
      "processing rna-seq...\n",
      "processing copy number...\n",
      "processing mutations...\n",
      "processing sample_info...\n",
      "finalizing processing...\n",
      "start data_19Q4 preprocessing...\n",
      "loading rna-seq...\n",
      "loading copy number...\n",
      "loading mutations...\n"
     ]
    },
    {
     "name": "stderr",
     "output_type": "stream",
     "text": [
      "/storage/home/yur97/anaconda3/envs/cnp/lib/python3.7/site-packages/IPython/core/interactiveshell.py:3417: DtypeWarning: Columns (4,20,26,27,28,29,30,31,32) have mixed types.Specify dtype option on import or set low_memory=False.\n",
      "  exec(code_obj, self.user_global_ns, self.user_ns)\n"
     ]
    },
    {
     "name": "stdout",
     "output_type": "stream",
     "text": [
      "loading sample_info...\n",
      "loading Achilles gene effect...\n",
      "processing CERES...\n",
      "There are 55 cell lines out of 688 that will be dropped, due to missing data\n",
      "processing rna-seq...\n",
      "processing copy number...\n",
      "processing mutations...\n",
      "processing sample_info...\n",
      "finalizing processing...\n",
      "filtering: keep only shared samples...\n",
      "start data_sanger preprocessing...\n",
      "loading rna-seq...\n",
      "loading copy number...\n",
      "loading mutations...\n"
     ]
    },
    {
     "name": "stderr",
     "output_type": "stream",
     "text": [
      "/storage/home/yur97/anaconda3/envs/cnp/lib/python3.7/site-packages/IPython/core/interactiveshell.py:3417: DtypeWarning: Columns (3,19,25,26,27,28,29,30,31) have mixed types.Specify dtype option on import or set low_memory=False.\n",
      "  exec(code_obj, self.user_global_ns, self.user_ns)\n"
     ]
    },
    {
     "name": "stdout",
     "output_type": "stream",
     "text": [
      "loading sample_info...\n",
      "loading Achilles gene effect...\n",
      "processing CERES...\n",
      "There are 1 cell lines out of 4 that will be dropped, due to missing data\n",
      "processing rna-seq...\n",
      "processing copy number...\n",
      "processing mutations...\n",
      "processing sample_info...\n",
      "finalizing processing...\n",
      "filtering: keep only shared samples...\n",
      "start data_pc9 preprocessing...\n",
      "loading rna-seq...\n",
      "loading copy number...\n",
      "loading mutations...\n"
     ]
    },
    {
     "name": "stderr",
     "output_type": "stream",
     "text": [
      "/storage/home/yur97/anaconda3/envs/cnp/lib/python3.7/site-packages/IPython/core/interactiveshell.py:3417: DtypeWarning: Columns (3,19,25,26,27,28,29,30,31) have mixed types.Specify dtype option on import or set low_memory=False.\n",
      "  exec(code_obj, self.user_global_ns, self.user_ns)\n"
     ]
    },
    {
     "name": "stdout",
     "output_type": "stream",
     "text": [
      "loading sample_info...\n",
      "loading Achilles gene effect...\n",
      "processing CERES...\n",
      "processing rna-seq...\n",
      "processing copy number...\n",
      "processing mutations...\n",
      "processing sample_info...\n",
      "finalizing processing...\n",
      "filtering: keep only shared samples...\n"
     ]
    }
   ],
   "source": [
    "# Preprocess data for gene effect (continuous)\n",
    "ext_data = {'dir_datesets': '19Q3',\n",
    "\t\t\t'dir_ceres_datasets': '19Q3/PC9_corrected',\n",
    "\t\t\t'data_name': 'data_pc9',\n",
    "\t\t\t'fname_gene_effect': 'gene_effect.csv',\n",
    "\t\t\t'fname_gene_dependency': None,\n",
    "\t\t\t'out_name': 'dm_data_pc9',\n",
    "\t\t\t'out_match_name': 'dm_data_match_pc9'}\n",
    "preprocessData(useGene_dependency = False,\n",
    "               dir_out = '../out/21.0326 proc_data/gene_effect/',\n",
    "               dir_depmap = '../data/DepMap/',\n",
    "               ext_data = ext_data)"
   ]
  },
  {
   "cell_type": "markdown",
   "metadata": {},
   "source": [
    "### Run the model"
   ]
  },
  {
   "cell_type": "code",
   "execution_count": 5,
   "metadata": {},
   "outputs": [
    {
     "name": "stdout",
     "output_type": "stream",
     "text": [
      "The autoreload extension is already loaded. To reload it, use:\n",
      "  %reload_ext autoreload\n"
     ]
    },
    {
     "name": "stderr",
     "output_type": "stream",
     "text": [
      "/storage/home/yur97/anaconda3/envs/cnp/lib/python3.7/site-packages/tqdm/std.py:668: FutureWarning: The Panel class is removed from pandas. Accessing it from the top-level namespace will also be removed in the next version\n",
      "  from pandas import Panel\n",
      "Using TensorFlow backend.\n"
     ]
    }
   ],
   "source": [
    "%load_ext autoreload\n",
    "%autoreload 2\n",
    "\n",
    "from ceres_infer.session import workflow\n",
    "from ceres_infer.models import model_infer_ens_custom"
   ]
  },
  {
   "cell_type": "code",
   "execution_count": 6,
   "metadata": {},
   "outputs": [],
   "source": [
    "import logging\n",
    "logging.basicConfig(level=logging.INFO)"
   ]
  },
  {
   "cell_type": "code",
   "execution_count": 9,
   "metadata": {},
   "outputs": [],
   "source": [
    "params = {\n",
    "    # directories\n",
    "    'outdir_run': '../out/21.0325 Lx/L200only_reg_rf_boruta/', # output dir for the run\n",
    "    'outdir_modtmp': '../out/21.0325 Lx/L200only_reg_rf_boruta/model_perf/', # intermediate files for each model\n",
    "    'indir_dmdata_Q3': '../out/21.0326 proc_data/gene_effect/dm_data_match_pc9.pkl', # pickled preprocessed DepMap Q3 data\n",
    "    'indir_dmdata_external': '../out/21.0326 proc_data/gene_effect/dm_data_pc9.pkl', # pickled preprocessed DepMap Q3 data\n",
    "    'indir_genesets': '../data/gene_sets/',\n",
    "    'indir_landmarks': '../out/19.1013 tight cluster/landmarks_n200_k200.csv', # csv file of landmarks [default: None]\n",
    "\n",
    "    # notes\n",
    "    'session_notes': 'L200 landmarks only; regression with random forest-boruta lite iteration',\n",
    "\n",
    "    # data\n",
    "    'external_data_name': 'pc9', # name of external validation dataset\n",
    "    'opt_scale_data': False, # scale input data True/False\n",
    "    'opt_scale_data_types': '\\[(?:RNA-seq|CN)\\]', # data source types to scale; in regexp\n",
    "    'model_data_source': ['CERES_Lx'],\n",
    "    'anlyz_set_topN': 10, # for analysis set how many of the top features to look at\n",
    "    'perm_null': 1000, # number of samples to get build the null distribution, for corr\n",
    "    'useGene_dependency': False, # whether to use CERES gene dependency (true) or gene effect (false)\n",
    "    'scope': 'all', # scope for which target genes to run on; list of gene names, or 'all', 'differential'\n",
    "\n",
    "    # model\n",
    "    'model_name': 'rf',\n",
    "    'model_params': {'n_estimators':1000,'max_depth':15,'min_samples_leaf':5,'max_features':'log2'},\n",
    "    'model_paramsgrid': {},\n",
    "    'model_pipeline': model_infer_ens_custom,\n",
    "    'pipeline_params': {'sf_iterThresholds': [], 'sf_topK': None},\n",
    "    \n",
    "    # pipeline\n",
    "    'parallelize': True, # parallelize workflow\n",
    "    'processes': 23, # number of cpu processes to use\n",
    "    \n",
    "    # analysis\n",
    "    'metric_eval': 'score_test',  # metric in model_results to evaluate, e.g. score_test, score_oob\n",
    "    'thresholds': {'score_rd10': 0.1,  # score of reduced model - threshold for filtering\n",
    "                   'recall_rd10': 0.95},  # recall of reduced model - threshold for filtering\n",
    "    'min_gs_size': 4 # minimum gene set size, to be derived\n",
    "}"
   ]
  },
  {
   "cell_type": "code",
   "execution_count": null,
   "metadata": {
    "scrolled": true
   },
   "outputs": [
    {
     "name": "stderr",
     "output_type": "stream",
     "text": [
      "INFO:root:Loading preprocessed data...\n",
      "INFO:root:Adding landmarks...\n",
      "INFO:root:Running model building and inference...\n",
      "INFO:root:Total number of processors available: 40\n",
      "INFO:root:Total number of processors to use: 23\n",
      "  0%|          | 0/15816 [00:00<?, ?it/s]/storage/home/yur97/anaconda3/envs/cnp/lib/python3.7/site-packages/sklearn/metrics/_regression.py:582: UndefinedMetricWarning: R^2 score is not well-defined with less than two samples.\n",
      "  warnings.warn(msg, UndefinedMetricWarning)\n",
      "/storage/home/yur97/anaconda3/envs/cnp/lib/python3.7/site-packages/sklearn/metrics/_regression.py:582: UndefinedMetricWarning: R^2 score is not well-defined with less than two samples.\n",
      "  warnings.warn(msg, UndefinedMetricWarning)\n",
      "/storage/home/yur97/anaconda3/envs/cnp/lib/python3.7/site-packages/sklearn/metrics/_regression.py:582: UndefinedMetricWarning: R^2 score is not well-defined with less than two samples.\n",
      "  warnings.warn(msg, UndefinedMetricWarning)\n",
      "/storage/home/yur97/anaconda3/envs/cnp/lib/python3.7/site-packages/sklearn/metrics/_regression.py:582: UndefinedMetricWarning: R^2 score is not well-defined with less than two samples.\n",
      "  warnings.warn(msg, UndefinedMetricWarning)\n",
      "/storage/home/yur97/anaconda3/envs/cnp/lib/python3.7/site-packages/sklearn/metrics/_regression.py:582: UndefinedMetricWarning: R^2 score is not well-defined with less than two samples.\n",
      "  warnings.warn(msg, UndefinedMetricWarning)\n",
      "/storage/home/yur97/anaconda3/envs/cnp/lib/python3.7/site-packages/sklearn/metrics/_regression.py:582: UndefinedMetricWarning: R^2 score is not well-defined with less than two samples.\n",
      "  warnings.warn(msg, UndefinedMetricWarning)\n",
      "/storage/home/yur97/anaconda3/envs/cnp/lib/python3.7/site-packages/sklearn/metrics/_regression.py:582: UndefinedMetricWarning: R^2 score is not well-defined with less than two samples.\n",
      "  warnings.warn(msg, UndefinedMetricWarning)\n",
      "/storage/home/yur97/anaconda3/envs/cnp/lib/python3.7/site-packages/sklearn/metrics/_regression.py:582: UndefinedMetricWarning: R^2 score is not well-defined with less than two samples.\n",
      "  warnings.warn(msg, UndefinedMetricWarning)\n",
      "/storage/home/yur97/anaconda3/envs/cnp/lib/python3.7/site-packages/sklearn/metrics/_regression.py:582: UndefinedMetricWarning: R^2 score is not well-defined with less than two samples.\n",
      "  warnings.warn(msg, UndefinedMetricWarning)\n",
      "/storage/home/yur97/anaconda3/envs/cnp/lib/python3.7/site-packages/sklearn/metrics/_regression.py:582: UndefinedMetricWarning: R^2 score is not well-defined with less than two samples.\n",
      "  warnings.warn(msg, UndefinedMetricWarning)\n",
      "/storage/home/yur97/anaconda3/envs/cnp/lib/python3.7/site-packages/sklearn/metrics/_regression.py:582: UndefinedMetricWarning: R^2 score is not well-defined with less than two samples.\n",
      "  warnings.warn(msg, UndefinedMetricWarning)\n",
      "/storage/home/yur97/anaconda3/envs/cnp/lib/python3.7/site-packages/sklearn/metrics/_regression.py:582: UndefinedMetricWarning: R^2 score is not well-defined with less than two samples.\n",
      "  warnings.warn(msg, UndefinedMetricWarning)\n",
      "/storage/home/yur97/anaconda3/envs/cnp/lib/python3.7/site-packages/sklearn/metrics/_regression.py:582: UndefinedMetricWarning: R^2 score is not well-defined with less than two samples.\n",
      "  warnings.warn(msg, UndefinedMetricWarning)\n",
      "/storage/home/yur97/anaconda3/envs/cnp/lib/python3.7/site-packages/sklearn/metrics/_regression.py:582: UndefinedMetricWarning: R^2 score is not well-defined with less than two samples.\n",
      "  warnings.warn(msg, UndefinedMetricWarning)\n",
      "/storage/home/yur97/anaconda3/envs/cnp/lib/python3.7/site-packages/sklearn/metrics/_regression.py:582: UndefinedMetricWarning: R^2 score is not well-defined with less than two samples.\n",
      "  warnings.warn(msg, UndefinedMetricWarning)\n",
      "/storage/home/yur97/anaconda3/envs/cnp/lib/python3.7/site-packages/sklearn/metrics/_regression.py:582: UndefinedMetricWarning: R^2 score is not well-defined with less than two samples.\n",
      "  warnings.warn(msg, UndefinedMetricWarning)\n",
      "/storage/home/yur97/anaconda3/envs/cnp/lib/python3.7/site-packages/sklearn/metrics/_regression.py:582: UndefinedMetricWarning: R^2 score is not well-defined with less than two samples.\n",
      "  warnings.warn(msg, UndefinedMetricWarning)\n",
      "/storage/home/yur97/anaconda3/envs/cnp/lib/python3.7/site-packages/sklearn/metrics/_regression.py:582: UndefinedMetricWarning: R^2 score is not well-defined with less than two samples.\n",
      "  warnings.warn(msg, UndefinedMetricWarning)\n",
      "/storage/home/yur97/anaconda3/envs/cnp/lib/python3.7/site-packages/sklearn/metrics/_regression.py:582: UndefinedMetricWarning: R^2 score is not well-defined with less than two samples.\n",
      "  warnings.warn(msg, UndefinedMetricWarning)\n",
      "/storage/home/yur97/anaconda3/envs/cnp/lib/python3.7/site-packages/sklearn/metrics/_regression.py:582: UndefinedMetricWarning: R^2 score is not well-defined with less than two samples.\n",
      "  warnings.warn(msg, UndefinedMetricWarning)\n",
      "/storage/home/yur97/anaconda3/envs/cnp/lib/python3.7/site-packages/sklearn/metrics/_regression.py:582: UndefinedMetricWarning: R^2 score is not well-defined with less than two samples.\n",
      "  warnings.warn(msg, UndefinedMetricWarning)\n",
      "/storage/home/yur97/anaconda3/envs/cnp/lib/python3.7/site-packages/sklearn/metrics/_regression.py:582: UndefinedMetricWarning: R^2 score is not well-defined with less than two samples.\n",
      "  warnings.warn(msg, UndefinedMetricWarning)\n"
     ]
    }
   ],
   "source": [
    "wf = workflow(params)\n",
    "pipeline = ['load_processed_data', 'infer']\n",
    "wf.create_pipe(pipeline)\n",
    "wf.run_pipe()"
   ]
  },
  {
   "cell_type": "code",
   "execution_count": null,
   "metadata": {},
   "outputs": [
    {
     "name": "stderr",
     "output_type": "stream",
     "text": [
      "INFO:root:Loading preprocessed data...\n",
      "INFO:root:Adding landmarks...\n",
      "INFO:root:Loading model results...\n",
      "INFO:root:Analyzing model results...\n"
     ]
    }
   ],
   "source": [
    "wf = workflow(params)\n",
    "pipeline = ['load_processed_data', 'load_model_results', 'analyze', 'analyze_filtered', 'derive_genesets']\n",
    "wf.create_pipe(pipeline)\n",
    "wf.run_pipe()"
   ]
  },
  {
   "cell_type": "code",
   "execution_count": null,
   "metadata": {},
   "outputs": [],
   "source": []
  }
 ],
 "metadata": {
  "kernelspec": {
   "display_name": "Python 3",
   "language": "python",
   "name": "python3"
  },
  "language_info": {
   "codemirror_mode": {
    "name": "ipython",
    "version": 3
   },
   "file_extension": ".py",
   "mimetype": "text/x-python",
   "name": "python",
   "nbconvert_exporter": "python",
   "pygments_lexer": "ipython3",
   "version": "3.7.9"
  }
 },
 "nbformat": 4,
 "nbformat_minor": 4
}