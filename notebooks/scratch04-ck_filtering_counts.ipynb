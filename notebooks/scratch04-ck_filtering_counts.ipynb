{
 "metadata": {
  "language_info": {
   "codemirror_mode": {
    "name": "ipython",
    "version": 3
   },
   "file_extension": ".py",
   "mimetype": "text/x-python",
   "name": "python",
   "nbconvert_exporter": "python",
   "pygments_lexer": "ipython3",
   "version": "3.7.7"
  },
  "orig_nbformat": 2,
  "kernelspec": {
   "name": "python3",
   "display_name": "Python 3.7.7 64-bit ('cnp': conda)"
  },
  "interpreter": {
   "hash": "860a4de2e062491567bac01bbbef181437a3458bd5f98fc4b8301e08ccc4fc55"
  }
 },
 "nbformat": 4,
 "nbformat_minor": 2,
 "cells": [
  {
   "cell_type": "markdown",
   "source": [
    "## Double check on pie chart numbers.\n",
    "\n",
    "Total number of unique target genes: 583\n",
    "\n",
    "Below reports the unique target genes at different steps\n",
    "\n",
    "**At analyze step**\n",
    "\n",
    "model_results, aggRes, and varExp tables: 583\n",
    "\n",
    "In a lot of the analyses (anlyz_varExp, etc) for pie charts, heatmaps, etc, univariate R2 <=0 are excluded, resulting in: 568\n",
    "\n",
    "**At analyze filtered step**\n",
    "\n",
    "Filter criteria: (1) score_test (R2 of reduced top10 model > 0.1), (2) and corr_test_recall (recall of reduced top10 model > 0.95)\n",
    "\n",
    "model_results, aggRes, and varExp tables: 529\n",
    "\n",
    "In a lot of the analyses (anlyz_varExp, etc) for pie charts, heatmaps, etc, univariate R2 <=0 are excluded, resulting in: 526"
   ],
   "metadata": {}
  },
  {
   "cell_type": "code",
   "execution_count": 3,
   "source": [
    "%load_ext autoreload\n",
    "%autoreload 2"
   ],
   "outputs": [],
   "metadata": {}
  },
  {
   "cell_type": "code",
   "execution_count": 4,
   "source": [
    "import pandas as pd\n",
    "from ceres_infer.utils import getFeatGene, getFeatSource\n",
    "from ceres_infer.analyses import generate_featSummary\n",
    "import numpy as np"
   ],
   "outputs": [],
   "metadata": {}
  },
  {
   "cell_type": "code",
   "execution_count": 5,
   "source": [
    "df = pd.read_csv('../out/20.0216 feat/reg_rf_boruta/model_results.csv')"
   ],
   "outputs": [],
   "metadata": {}
  },
  {
   "cell_type": "code",
   "execution_count": 6,
   "source": [
    "df.head(3)"
   ],
   "outputs": [
    {
     "output_type": "execute_result",
     "data": {
      "text/plain": [
       "       model    feature target  score_train  score_test  score_oob  corr_test  \\\n",
       "0        all        all  FGFR1     0.629550    0.102785   0.096981   0.344408   \n",
       "1    topfeat    topfeat  FGFR1     0.728297    0.401316   0.462546   0.510498   \n",
       "2  top10feat  top10feat  FGFR1     0.707737    0.432236   0.487608   0.403751   \n",
       "\n",
       "   corr_test_recall  score_p19q4  corr_p19q4  corr_p19q4_recall  feat_id  \\\n",
       "0             0.998          NaN         NaN                NaN      NaN   \n",
       "1             0.999          NaN         NaN                NaN      NaN   \n",
       "2             1.000     0.505877    0.300472              0.986      NaN   \n",
       "\n",
       "   feat_idx  \n",
       "0       NaN  \n",
       "1       NaN  \n",
       "2       NaN  "
      ],
      "text/html": [
       "<div>\n",
       "<style scoped>\n",
       "    .dataframe tbody tr th:only-of-type {\n",
       "        vertical-align: middle;\n",
       "    }\n",
       "\n",
       "    .dataframe tbody tr th {\n",
       "        vertical-align: top;\n",
       "    }\n",
       "\n",
       "    .dataframe thead th {\n",
       "        text-align: right;\n",
       "    }\n",
       "</style>\n",
       "<table border=\"1\" class=\"dataframe\">\n",
       "  <thead>\n",
       "    <tr style=\"text-align: right;\">\n",
       "      <th></th>\n",
       "      <th>model</th>\n",
       "      <th>feature</th>\n",
       "      <th>target</th>\n",
       "      <th>score_train</th>\n",
       "      <th>score_test</th>\n",
       "      <th>score_oob</th>\n",
       "      <th>corr_test</th>\n",
       "      <th>corr_test_recall</th>\n",
       "      <th>score_p19q4</th>\n",
       "      <th>corr_p19q4</th>\n",
       "      <th>corr_p19q4_recall</th>\n",
       "      <th>feat_id</th>\n",
       "      <th>feat_idx</th>\n",
       "    </tr>\n",
       "  </thead>\n",
       "  <tbody>\n",
       "    <tr>\n",
       "      <th>0</th>\n",
       "      <td>all</td>\n",
       "      <td>all</td>\n",
       "      <td>FGFR1</td>\n",
       "      <td>0.629550</td>\n",
       "      <td>0.102785</td>\n",
       "      <td>0.096981</td>\n",
       "      <td>0.344408</td>\n",
       "      <td>0.998</td>\n",
       "      <td>NaN</td>\n",
       "      <td>NaN</td>\n",
       "      <td>NaN</td>\n",
       "      <td>NaN</td>\n",
       "      <td>NaN</td>\n",
       "    </tr>\n",
       "    <tr>\n",
       "      <th>1</th>\n",
       "      <td>topfeat</td>\n",
       "      <td>topfeat</td>\n",
       "      <td>FGFR1</td>\n",
       "      <td>0.728297</td>\n",
       "      <td>0.401316</td>\n",
       "      <td>0.462546</td>\n",
       "      <td>0.510498</td>\n",
       "      <td>0.999</td>\n",
       "      <td>NaN</td>\n",
       "      <td>NaN</td>\n",
       "      <td>NaN</td>\n",
       "      <td>NaN</td>\n",
       "      <td>NaN</td>\n",
       "    </tr>\n",
       "    <tr>\n",
       "      <th>2</th>\n",
       "      <td>top10feat</td>\n",
       "      <td>top10feat</td>\n",
       "      <td>FGFR1</td>\n",
       "      <td>0.707737</td>\n",
       "      <td>0.432236</td>\n",
       "      <td>0.487608</td>\n",
       "      <td>0.403751</td>\n",
       "      <td>1.000</td>\n",
       "      <td>0.505877</td>\n",
       "      <td>0.300472</td>\n",
       "      <td>0.986</td>\n",
       "      <td>NaN</td>\n",
       "      <td>NaN</td>\n",
       "    </tr>\n",
       "  </tbody>\n",
       "</table>\n",
       "</div>"
      ]
     },
     "metadata": {},
     "execution_count": 6
    }
   ],
   "metadata": {}
  },
  {
   "cell_type": "markdown",
   "source": [
    "## At analyze step"
   ],
   "metadata": {}
  },
  {
   "cell_type": "code",
   "execution_count": 23,
   "source": [
    "aggRes = pd.read_csv('../out/20.0216 feat/reg_rf_boruta/anlyz/agg_summary.csv')\n",
    "aggRes.target.nunique()"
   ],
   "outputs": [
    {
     "output_type": "execute_result",
     "data": {
      "text/plain": [
       "583"
      ]
     },
     "metadata": {},
     "execution_count": 23
    }
   ],
   "metadata": {}
  },
  {
   "cell_type": "code",
   "execution_count": 24,
   "source": [
    "varExp = pd.read_csv('../out/20.0216 feat/reg_rf_boruta/anlyz/feat_summary_varExp.csv')\n",
    "varExp.target.nunique()"
   ],
   "outputs": [
    {
     "output_type": "execute_result",
     "data": {
      "text/plain": [
       "583"
      ]
     },
     "metadata": {},
     "execution_count": 24
    }
   ],
   "metadata": {}
  },
  {
   "cell_type": "code",
   "execution_count": 26,
   "source": [
    "# after filtering out target genes were R2s of all top 10 feat univariate models are negative\n",
    "varExp.loc[varExp.score_ind>0,:].target.nunique()"
   ],
   "outputs": [
    {
     "output_type": "execute_result",
     "data": {
      "text/plain": [
       "568"
      ]
     },
     "metadata": {},
     "execution_count": 26
    }
   ],
   "metadata": {}
  },
  {
   "cell_type": "markdown",
   "source": [
    "## At analyze filtered step"
   ],
   "metadata": {}
  },
  {
   "cell_type": "code",
   "execution_count": 17,
   "source": [
    "aggRes = pd.read_csv('../out/20.0216 feat/reg_rf_boruta/anlyz_filtered/agg_summary_filtered.csv')\n",
    "aggRes.target.nunique()"
   ],
   "outputs": [
    {
     "data": {
      "text/plain": [
       "529"
      ]
     },
     "metadata": {},
     "output_type": "display_data"
    }
   ],
   "metadata": {}
  },
  {
   "cell_type": "code",
   "execution_count": 19,
   "source": [
    "varExp = pd.read_csv('../out/20.0216 feat/reg_rf_boruta/anlyz_filtered/feat_summary_varExp_filtered.csv')\n",
    "varExp.target.nunique()"
   ],
   "outputs": [
    {
     "data": {
      "text/plain": [
       "529"
      ]
     },
     "metadata": {},
     "output_type": "display_data"
    }
   ],
   "metadata": {}
  },
  {
   "cell_type": "code",
   "execution_count": 20,
   "source": [
    "# Manual checks on the filter criteria\n",
    "# top 10 feat model with R2 > params.thresholds.score_rd10 (0.1)\n",
    "# top 10 feat model with recall > params.thresholds.recall_rd10 (0.95)\n",
    "\n",
    "df2 = df[df.model == 'top10feat']\n",
    "df2_filtered = df2[(df2.score_test > 0.1) & (df2.corr_test_recall > 0.95)]\n",
    "df2_filtered.target.nunique()"
   ],
   "outputs": [
    {
     "output_type": "execute_result",
     "data": {
      "text/plain": [
       "529"
      ]
     },
     "metadata": {},
     "execution_count": 20
    }
   ],
   "metadata": {}
  },
  {
   "cell_type": "code",
   "execution_count": 21,
   "source": [
    "varExp_filtered = varExp[varExp.target.isin(df2_filtered.target)]\n",
    "varExp_filtered.target.nunique()"
   ],
   "outputs": [
    {
     "output_type": "execute_result",
     "data": {
      "text/plain": [
       "529"
      ]
     },
     "metadata": {},
     "execution_count": 21
    }
   ],
   "metadata": {}
  },
  {
   "cell_type": "code",
   "execution_count": 22,
   "source": [
    "# after filtering out target genes were R2s of all top 10 feat univariate models are negative\n",
    "varExp_filtered.loc[varExp_filtered.score_ind>0,:].target.nunique() "
   ],
   "outputs": [
    {
     "output_type": "execute_result",
     "data": {
      "text/plain": [
       "526"
      ]
     },
     "metadata": {},
     "execution_count": 22
    }
   ],
   "metadata": {}
  },
  {
   "cell_type": "code",
   "execution_count": null,
   "source": [],
   "outputs": [],
   "metadata": {}
  }
 ]
}