{
 "cells": [
  {
   "cell_type": "code",
   "execution_count": 58,
   "metadata": {},
   "outputs": [],
   "source": [
    "# This notebook read the network data and compare statistics between genomic feat network and\n",
    "# genomic+functional feat network\n",
    "# Author: Yiyun\n",
    "\n",
    "import pandas as pd\n",
    "from scipy import stats\n",
    "import seaborn as sns"
   ]
  },
  {
   "cell_type": "code",
   "execution_count": 59,
   "metadata": {},
   "outputs": [],
   "source": [
    "# read input for genomic/ genomic+functional network.\n",
    "df_wceres = pd.read_csv('../out/deg1_default_node_table.csv')\n",
    "df_wceres_edge = pd.read_csv('../out/deg1_default_edge.csv')\n",
    "df_woceres = pd.read_csv('../out/non-CERES_default_node.csv')"
   ]
  },
  {
   "cell_type": "code",
   "execution_count": 60,
   "metadata": {},
   "outputs": [
    {
     "name": "stdout",
     "output_type": "stream",
     "text": [
      "Genomic+functional average number of neighbors is: 5.095785440613027\n",
      "Genomic only average number of neighbors is: 1.7318435754189945\n"
     ]
    }
   ],
   "source": [
    "# Calculate the neighbor numbrr for each node = #edge - #loop*2 -#multiedged pairs\n",
    "wceres_col = df_wceres['EdgeCount'] - 2* (df_wceres['SelfLoops']) - df_wceres['PartnerOfMultiEdgedNodePairs']\n",
    "woceres_col = df_woceres['EdgeCount'] - 2* (df_woceres['SelfLoops']) - df_woceres['PartnerOfMultiEdgedNodePairs']\n",
    "\n",
    "# Validate #averege neighbors\n",
    "ave_nnei_w = sum(wceres_col)/len(df_wceres)\n",
    "print(f'Genomic+functional average number of neighbors is: {ave_nnei_w}')\n",
    "ave_nnei_wo = sum(woceres_col)/len(df_woceres)\n",
    "print(f'Genomic only average number of neighbors is: {ave_nnei_wo}')"
   ]
  },
  {
   "cell_type": "markdown",
   "metadata": {},
   "source": [
    "Note: The average neighbor number calucated for genomic+function network is 5.096, differnt from 5.088 reported by cytoscape"
   ]
  },
  {
   "cell_type": "code",
   "execution_count": 61,
   "metadata": {},
   "outputs": [
    {
     "name": "stdout",
     "output_type": "stream",
     "text": [
      "p value for average number of neighbors between genomic+functional and genomics only network is:2.049e-24\n"
     ]
    }
   ],
   "source": [
    "# 2 sided t test for comparing #neigbors between genomes+features and genomeics only\n",
    "statistics, pval = stats.ttest_ind(wceres_col,woceres_col)\n",
    "\n",
    "print('p value for average number of neighbors between genomic+functional and genomics only network is:{:.3e}'.format(pval))\n"
   ]
  },
  {
   "cell_type": "code",
   "execution_count": 44,
   "metadata": {},
   "outputs": [
    {
     "data": {
      "image/png": "[encoded data removed]",
      "text/plain": [
       "<Figure size 432x288 with 1 Axes>"
      ]
     },
     "metadata": {
      "needs_background": "light"
     },
     "output_type": "display_data"
    }
   ],
   "source": [
    "# Look at the plot\n",
    "df_plt_edge = pd.DataFrame({'genomic and funtional': wceres_col,'genomic only': woceres_col})\n",
    "df_plt_edge = pd.melt(df_plt_edge)\n",
    "ax = sns.boxplot(x=\"variable\", y=\"value\", data=df_plt_edge)"
   ]
  }
 ],
 "metadata": {
  "kernelspec": {
   "display_name": "Python 3",
   "language": "python",
   "name": "python3"
  },
  "language_info": {
   "codemirror_mode": {
    "name": "ipython",
    "version": 3
   },
   "file_extension": ".py",
   "mimetype": "text/x-python",
   "name": "python",
   "nbconvert_exporter": "python",
   "pygments_lexer": "ipython3",
   "version": "3.7.3"
  }
 },
 "nbformat": 4,
 "nbformat_minor": 4
}
