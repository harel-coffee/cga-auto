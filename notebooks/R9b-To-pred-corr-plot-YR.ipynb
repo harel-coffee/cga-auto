{
 "cells": [
  {
   "cell_type": "code",
   "execution_count": 104,
   "metadata": {},
   "outputs": [],
   "source": [
    "# This script generate a correlation plot between BROAD prediction on PC9 and PC9 measurement\n",
    "# Author: Yiyun\n",
    "\n",
    "import pandas as pd\n",
    "from os.path import join\n",
    "import pickle\n",
    "import matplotlib.pyplot as plt\n",
    "import seaborn as sns\n",
    "import itertools\n",
    "from itertools import permutations \n",
    "import numpy as np\n",
    "from scipy.stats import pearsonr"
   ]
  },
  {
   "cell_type": "code",
   "execution_count": 37,
   "metadata": {},
   "outputs": [],
   "source": [
    "# Load data\n",
    "anlyze_dir = '/storage/home/yur97/work/cnp_dev/out/21.0506 Lx To/L200only_reg_rf_boruta/anlyz'\n",
    "df_pred = pickle.load(open(join(anlyze_dir,'y_compr_ext.pkl'),'rb'))"
   ]
  },
  {
   "cell_type": "code",
   "execution_count": 38,
   "metadata": {},
   "outputs": [],
   "source": [
    "q3_dir = '../data/DepMap/19Q3'\n",
    "df_to = pd.read_csv(join(q3_dir,'To','ToCellCERES.csv'), index_col = 0)"
   ]
  },
  {
   "cell_type": "code",
   "execution_count": 39,
   "metadata": {},
   "outputs": [],
   "source": [
    "df_pred['actual'] = df_pred['actual'].T ; df_pred['predicted'] = df_pred['predicted'].T\n",
    "df_pred['actual'].columns = ['actual_'+ drug for drug in df_to.columns]\n",
    "df_pred['predicted'].columns = ['predicted_'+ drug for drug in df_to.columns]"
   ]
  },
  {
   "cell_type": "code",
   "execution_count": 41,
   "metadata": {},
   "outputs": [],
   "source": [
    "df_exp_pred = pd.concat([df_pred['actual'],df_pred['predicted']], axis = 1)"
   ]
  },
  {
   "cell_type": "code",
   "execution_count": 123,
   "metadata": {},
   "outputs": [
    {
     "name": "stdout",
     "output_type": "stream",
     "text": [
      "NAIF1      0.627434\n",
      "ATP5IF1    0.446932\n",
      "SPRR2A     0.397115\n",
      "CSN2       0.375416\n",
      "HHEX       0.366518\n",
      "             ...   \n",
      "POLR2L    -2.283186\n",
      "HSPA5     -2.347360\n",
      "ABCF2           NaN\n",
      "H2AC14          NaN\n",
      "H4C12           NaN\n",
      "Name: DMSO, Length: 7102, dtype: float64\n",
      "NAIF1      0.699238\n",
      "PABIR1     0.465300\n",
      "ATP5IF1    0.459874\n",
      "HHEX       0.456991\n",
      "FLVCR1     0.439670\n",
      "             ...   \n",
      "TRMT112   -2.395815\n",
      "HSPA5     -2.510510\n",
      "ABCF2           NaN\n",
      "H2AC14          NaN\n",
      "H4C12           NaN\n",
      "Name: Met, Length: 7102, dtype: float64\n",
      "NAIF1      0.886651\n",
      "HHEX       0.602885\n",
      "VHL        0.524929\n",
      "PABIR1     0.504122\n",
      "ATP5IF1    0.491059\n",
      "             ...   \n",
      "POLR2L    -2.495676\n",
      "HSPA5     -2.653123\n",
      "ABCF2           NaN\n",
      "H2AC14          NaN\n",
      "H4C12           NaN\n",
      "Name: Pier, Length: 7102, dtype: float64\n",
      "VHL         0.893086\n",
      "ATP5IF1     0.854790\n",
      "PABIR1      0.807081\n",
      "HNRNPD      0.611837\n",
      "SLC25A33    0.592869\n",
      "              ...   \n",
      "IARS2      -2.528402\n",
      "HSPA5      -2.734852\n",
      "ABCF2            NaN\n",
      "H2AC14           NaN\n",
      "H4C12            NaN\n",
      "Name: Anti, Length: 7102, dtype: float64\n",
      "NAIF1     1.100963\n",
      "VHL       0.869364\n",
      "HHEX      0.692872\n",
      "NDUFC1    0.634429\n",
      "NDUFB4    0.582040\n",
      "            ...   \n",
      "POLR2L   -2.490821\n",
      "HSPA5    -2.705655\n",
      "ABCF2          NaN\n",
      "H2AC14         NaN\n",
      "H4C12          NaN\n",
      "Name: Oligo, Length: 7102, dtype: float64\n",
      "ATP5IF1    1.285417\n",
      "VHL        1.131425\n",
      "PABIR1     0.824026\n",
      "HNRNPD     0.744065\n",
      "NAIF1      0.643631\n",
      "             ...   \n",
      "POLR2L    -2.656367\n",
      "HSPA5     -2.860183\n",
      "ABCF2           NaN\n",
      "H2AC14          NaN\n",
      "H4C12           NaN\n",
      "Name: AO, Length: 7102, dtype: float64\n",
      "ATP5IF1     2.173026\n",
      "SPRR2A      0.426136\n",
      "DEFA3       0.415653\n",
      "SLC25A33    0.368841\n",
      "COQ8A       0.338883\n",
      "              ...   \n",
      "POLR2L     -2.665659\n",
      "HSPA5      -2.881668\n",
      "ABCF2            NaN\n",
      "H2AC14           NaN\n",
      "H4C12            NaN\n",
      "Name: EtBr, Length: 7102, dtype: float64\n",
      "NAIF1       0.736215\n",
      "ATP5IF1     0.568927\n",
      "HNRNPD      0.555643\n",
      "VHL         0.528742\n",
      "SLC25A33    0.476435\n",
      "              ...   \n",
      "POLR2L     -2.446694\n",
      "HSPA5      -2.514834\n",
      "ABCF2            NaN\n",
      "H2AC14           NaN\n",
      "H4C12            NaN\n",
      "Name: Chlor, Length: 7102, dtype: float64\n"
     ]
    }
   ],
   "source": [
    "for i in range(8):\n",
    "    drg = df_to.columns[i]\n",
    "    print(df_to.iloc[:,i].sort_values(ascending = False))"
   ]
  },
  {
   "cell_type": "code",
   "execution_count": null,
   "metadata": {
    "scrolled": true
   },
   "outputs": [],
   "source": [
    "# Plot scatter plot\n",
    "fig, axes = plt.subplots(2,4)\n",
    "fig.set_size_inches(15, 12)\n",
    "for i, ax in zip(range(8), axes.flat):\n",
    "    ax.set_title('Predicted V.S. Measured '+drug, fontsize = 8)\n",
    "    ax.set_xlabel('Measured', fontsize=8);ax.set_ylabel('Predicted', fontsize=8)\n",
    "    drug = df_to.columns[i]\n",
    "    sns.regplot(x='actual_'+drug, y='predicted_'+drug, data = df_exp_pred, ax = ax)\n",
    "    corr = pearsonr(df_exp_pred['actual_'+drug], df_exp_pred['predicted_'+drug])\n",
    "    ax.text(0.05,0.95,'rho = '+str(corr[0]),transform=ax.transAxes,fontsize = 6) #add text\n",
    "\n",
    "plt.tight_layout()\n",
    "# plt.savefig('To_exp_pred.pdf')"
   ]
  },
  {
   "cell_type": "code",
   "execution_count": null,
   "metadata": {},
   "outputs": [],
   "source": []
  }
 ],
 "metadata": {
  "kernelspec": {
   "display_name": "Python 3",
   "language": "python",
   "name": "python3"
  },
  "language_info": {
   "codemirror_mode": {
    "name": "ipython",
    "version": 3
   },
   "file_extension": ".py",
   "mimetype": "text/x-python",
   "name": "python",
   "nbconvert_exporter": "python",
   "pygments_lexer": "ipython3",
   "version": "3.7.9"
  }
 },
 "nbformat": 4,
 "nbformat_minor": 4
}
