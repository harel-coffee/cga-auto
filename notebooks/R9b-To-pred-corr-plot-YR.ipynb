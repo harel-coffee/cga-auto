{
 "cells": [
  {
   "cell_type": "code",
   "execution_count": 104,
   "metadata": {},
   "outputs": [],
   "source": [
    "# This script generate a correlation plot between BROAD prediction on PC9 and PC9 measurement\n",
    "# Author: Yiyun\n",
    "\n",
    "import pandas as pd\n",
    "from os.path import join\n",
    "import pickle\n",
    "import matplotlib.pyplot as plt\n",
    "import seaborn as sns\n",
    "import itertools\n",
    "from itertools import permutations \n",
    "import numpy as np\n",
    "from scipy.stats import pearsonr"
   ]
  },
  {
   "cell_type": "code",
   "execution_count": 37,
   "metadata": {},
   "outputs": [],
   "source": [
    "# Load data\n",
    "anlyze_dir = '/storage/home/yur97/work/cnp_dev/out/21.0506 Lx To/L200only_reg_rf_boruta/anlyz'\n",
    "df_pred = pickle.load(open(join(anlyze_dir,'y_compr_ext.pkl'),'rb'))"
   ]
  },
  {
   "cell_type": "code",
   "execution_count": 38,
   "metadata": {},
   "outputs": [],
   "source": [
    "q3_dir = '../data/DepMap/19Q3'\n",
    "df_to = pd.read_csv(join(q3_dir,'To','ToCellCERES.csv'), index_col = 0)"
   ]
  },
  {
   "cell_type": "code",
   "execution_count": 39,
   "metadata": {},
   "outputs": [],
   "source": [
    "df_pred['actual'] = df_pred['actual'].T ; df_pred['predicted'] = df_pred['predicted'].T\n",
    "df_pred['actual'].columns = ['actual_'+ drug for drug in df_to.columns]\n",
    "df_pred['predicted'].columns = ['predicted_'+ drug for drug in df_to.columns]"
   ]
  },
  {
   "cell_type": "code",
   "execution_count": 41,
   "metadata": {},
   "outputs": [],
   "source": [
    "df_exp_pred = pd.concat([df_pred['actual'],df_pred['predicted']], axis = 1)"
   ]
  },
  {
   "cell_type": "code",
   "execution_count": null,
   "metadata": {
    "scrolled": true
   },
   "outputs": [],
   "source": [
    "# Plot scatter plot\n",
    "fig, axes = plt.subplots(2,4)\n",
    "fig.set_size_inches(15, 12)\n",
    "for i, ax in zip(range(8), axes.flat):\n",
    "    ax.set_title('Predicted V.S. Measured '+drug, fontsize = 8)\n",
    "    ax.set_xlabel('Measured', fontsize=8);ax.set_ylabel('Predicted', fontsize=8)\n",
    "    drug = df_to.columns[i]\n",
    "    sns.regplot(x='actual_'+drug, y='predicted_'+drug, data = df_exp_pred, ax = ax)\n",
    "    corr = pearsonr(df_exp_pred['actual_'+drug], df_exp_pred['predicted_'+drug])\n",
    "    ax.text(0.05,0.95,'rho = '+str(corr[0]),transform=ax.transAxes,fontsize = 6) #add text\n",
    "\n",
    "plt.tight_layout()\n",
    "# plt.savefig('To_exp_pred.pdf')"
   ]
  },
  {
   "cell_type": "code",
   "execution_count": null,
   "metadata": {},
   "outputs": [],
   "source": []
  }
 ],
 "metadata": {
  "kernelspec": {
   "display_name": "Python 3",
   "language": "python",
   "name": "python3"
  },
  "language_info": {
   "codemirror_mode": {
    "name": "ipython",
    "version": 3
   },
   "file_extension": ".py",
   "mimetype": "text/x-python",
   "name": "python",
   "nbconvert_exporter": "python",
   "pygments_lexer": "ipython3",
   "version": "3.7.9"
  }
 },
 "nbformat": 4,
 "nbformat_minor": 4
}
