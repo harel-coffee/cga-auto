{
 "cells": [
  {
   "cell_type": "code",
   "execution_count": 1,
   "metadata": {},
   "outputs": [],
   "source": [
    "%load_ext autoreload\n",
    "%autoreload 2"
   ]
  },
  {
   "cell_type": "code",
   "execution_count": 6,
   "metadata": {},
   "outputs": [],
   "source": [
    "from ceres_infer.session import workflow\n",
    "from ceres_infer.models import model_infer"
   ]
  },
  {
   "cell_type": "code",
   "execution_count": 7,
   "metadata": {},
   "outputs": [],
   "source": [
    "import logging\n",
    "logging.basicConfig(level=logging.INFO)"
   ]
  },
  {
   "cell_type": "code",
   "execution_count": 8,
   "metadata": {},
   "outputs": [],
   "source": [
    "params = {\n",
    "    # directories\n",
    "    'outdir_run': '../out/20.0518 Lx/L0only_reg_dummy/', # output dir for the run\n",
    "    'outdir_modtmp': '../out/20.0518 Lx/L0only_reg_dummy/model_perf/', # intermediate files for each model\n",
    "    'indir_dmdata_Q3': '../out/20.0817 proc_data/gene_effect/dm_data.pkl', # pickled preprocessed DepMap Q3 data\n",
    "    'indir_dmdata_Q4': '../out/20.0817 proc_data/gene_effect/dm_data_Q4.pkl', # pickled preprocessed DepMap Q3 data\n",
    "    'indir_genesets': '../data/gene_sets/',\n",
    "    'indir_landmarks': '../out/19.1013 tight cluster/landmarks_n200_k200.csv', # csv file of landmarks [default: None]\n",
    "\n",
    "    # notes\n",
    "    'session_notes': 'dummy regressor (median); predicting whole-genome',\n",
    "\n",
    "    # data\n",
    "    'opt_scale_data': False, # scale input data True/False\n",
    "    'opt_scale_data_types': '\\[(?:RNA-seq|CN)\\]', # data source types to scale; in regexp\n",
    "    'model_data_source': ['CERES_Lx'],\n",
    "    'anlyz_set_topN': 10, # for analysis set how many of the top features to look at\n",
    "    'perm_null': 1000, # number of samples to get build the null distribution, for corr\n",
    "    'useGene_dependency': False, # whether to use CERES gene dependency (true) or gene effect (false)\n",
    "    'scope': 'all', # scope for which target genes to run on; list of gene names, or 'all', 'differential'\n",
    "\n",
    "    # model\n",
    "    'model_name': 'dummy_reg',\n",
    "    'model_params': {},\n",
    "    'model_paramsgrid': {},\n",
    "    'model_pipeline': model_infer,\n",
    "    \n",
    "    # analysis\n",
    "    'metric_eval': 'score_test',  # metric in model_results to evaluate, e.g. score_test, score_oob\n",
    "    'thresholds': {'score_rd10': 0.1,  # score of reduced model - threshold for filtering\n",
    "                   'recall_rd10': 0.95},  # recall of reduced model - threshold for filtering\n",
    "    'min_gs_size': 4 # minimum gene set size, to be derived\n",
    "}"
   ]
  },
  {
   "cell_type": "code",
   "execution_count": null,
   "metadata": {
    "scrolled": false
   },
   "outputs": [],
   "source": [
    "wf = workflow(params)\n",
    "pipeline = ['load_processed_data', 'infer']\n",
    "wf.create_pipe(pipeline)\n",
    "wf.run_pipe()"
   ]
  },
  {
   "cell_type": "code",
   "execution_count": null,
   "metadata": {},
   "outputs": [],
   "source": [
    "# the model results contain just all, no features, so there's not much to analyze, can't run the pipeline below\n",
    "# wf = workflow(params)\n",
    "# pipeline = ['load_processed_data', 'load_model_results', 'analyze', 'analyze_filtered', 'derive_genesets']\n",
    "# wf.create_pipe(pipeline)\n",
    "# wf.run_pipe()"
   ]
  },
  {
   "cell_type": "code",
   "execution_count": 31,
   "metadata": {},
   "outputs": [],
   "source": [
    "import os\n",
    "import glob\n",
    "outdir_anlyz = os.path.join(params['outdir_run'], 'anlyz')\n",
    "outdir_concord = '%s/concordance/' % outdir_anlyz\n",
    "if not os.path.exists(outdir_concord):\n",
    "    os.makedirs(outdir_concord)\n",
    "\n",
    "y_compr_fnames = glob.glob(os.path.join(params['outdir_modtmp'], 'y_compr_*.pkl'))\n",
    "if len(y_compr_fnames) > 0:\n",
    "    df_conc_tr = pd.DataFrame()\n",
    "    df_conc_te = pd.DataFrame()\n",
    "    for fname in y_compr_fnames:\n",
    "        f = re.sub('.*_compr_', '', fname)\n",
    "        gene = re.sub('\\.pkl', '', f)\n",
    "        df = pickle.load(open(fname, 'rb'))\n",
    "\n",
    "        tmp = pd.DataFrame([{'gene': gene, 'concordance': getConcordance(df['tr'])}])\n",
    "        df_conc_tr = pd.concat([df_conc_tr, tmp])\n",
    "\n",
    "        tmp = pd.DataFrame([{'gene': gene, 'concordance': getConcordance(df['te'])}])\n",
    "        df_conc_te = pd.concat([df_conc_te, tmp])\n",
    "\n",
    "    df_conc_tr.to_csv('%s/concordance_tr.csv' % outdir_concord, index=False)\n",
    "    df_conc_te.to_csv('%s/concordance_te.csv' % outdir_concord, index=False)\n",
    "\n",
    "    plt.figure()\n",
    "    ax = sns.distplot(df_conc_tr.concordance)\n",
    "    ax.set(xlim=[0, 1.05], xlabel='Concordance', title='Concordance between actual and predicted')\n",
    "    plt.savefig(\"%s/concordance_tr.pdf\" % outdir_concord)\n",
    "    plt.close()\n",
    "\n",
    "    plt.figure()\n",
    "    ax = sns.distplot(df_conc_te.concordance)\n",
    "    ax.set(xlim=[0, 1.05], xlabel='Concordance', title='Concordance between actual and predicted')\n",
    "    plt.savefig(\"%s/concordance_te.pdf\" % outdir_concord)\n",
    "    plt.close()"
   ]
  },
  {
   "cell_type": "code",
   "execution_count": null,
   "metadata": {},
   "outputs": [],
   "source": []
  }
 ],
 "metadata": {
  "kernelspec": {
   "display_name": "Python 3",
   "language": "python",
   "name": "python3"
  },
  "language_info": {
   "codemirror_mode": {
    "name": "ipython",
    "version": 3
   },
   "file_extension": ".py",
   "mimetype": "text/x-python",
   "name": "python",
   "nbconvert_exporter": "python",
   "pygments_lexer": "ipython3",
   "version": "3.7.7"
  },
  "toc": {
   "base_numbering": 1,
   "nav_menu": {},
   "number_sections": true,
   "sideBar": true,
   "skip_h1_title": false,
   "title_cell": "Table of Contents",
   "title_sidebar": "Contents",
   "toc_cell": false,
   "toc_position": {},
   "toc_section_display": true,
   "toc_window_display": true
  }
 },
 "nbformat": 4,
 "nbformat_minor": 4
}
