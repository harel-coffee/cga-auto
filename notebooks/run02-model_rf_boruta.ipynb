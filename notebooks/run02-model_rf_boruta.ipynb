{
 "cells": [
  {
   "cell_type": "code",
   "execution_count": 18,
   "metadata": {},
   "outputs": [],
   "source": [
    "from ceres_infer.session import workflow\n",
    "from ceres_infer.models import model_infer_iter_ens"
   ]
  },
  {
   "cell_type": "code",
   "execution_count": 3,
   "metadata": {},
   "outputs": [],
   "source": [
    "%load_ext autoreload\n",
    "%autoreload 2"
   ]
  },
  {
   "cell_type": "code",
   "execution_count": 2,
   "metadata": {},
   "outputs": [],
   "source": [
    "import logging\n",
    "logging.basicConfig(level=logging.INFO)"
   ]
  },
  {
   "cell_type": "code",
   "execution_count": 4,
   "metadata": {},
   "outputs": [],
   "source": [
    "params = {\n",
    "    # directories\n",
    "    'outdir_run': '../out/20.0817 feat/reg_rf_boruta/', # output dir for the run\n",
    "    'outdir_modtmp': '../out/20.0817 feat/reg_rf_boruta/model_perf/', # intermediate files for each model\n",
    "    'indir_dmdata_Q3': '../out/20.0817 proc_data/gene_effect/dm_data.pkl', # pickled preprocessed DepMap Q3 data\n",
    "    'indir_dmdata_Q4': '../out/20.0817 proc_data/gene_effect/dm_data_Q4.pkl', # pickled preprocessed DepMap Q3 data\n",
    "    'indir_genesets': '../data/enrichr/',\n",
    "    'indir_landmarks': None, # csv file of landmarks [default: None]\n",
    "\n",
    "    # notes\n",
    "    'session_notes': 'regression model, with random forest (iterative) and boruta feature selection; \\\n",
    "    run on selective dependent genes (CERES std > 0.25 and CERES range > 0.6)',\n",
    "\n",
    "    # data\n",
    "    'opt_scale_data': True, # scale input data True/False\n",
    "    'opt_scale_data_types': '\\[(?:RNA-seq|CN)\\]', # data source types to scale; in regexp\n",
    "    'model_data_source': ['CERES','RNA-seq','CN','Mut','Lineage'],\n",
    "    'anlyz_set_topN': 10, # for analysis set how many of the top features to look at\n",
    "    'perm_null': 1000, # number of samples to get build the null distribution, for corr\n",
    "    'useGene_dependency': False, # whether to use CERES gene dependency (true) or gene effect (false)\n",
    "    'scope': ['KRAS','TP53'], # scope for which target genes to run on; list of gene names, or 'all', 'differential'\n",
    "\n",
    "    # model\n",
    "    'model_name': 'rf',\n",
    "    'model_params': {'n_estimators':1000,'max_depth':15,'min_samples_leaf':5,'max_features':'log2'},\n",
    "    'model_paramsgrid': {},\n",
    "    'model_pipeline': model_infer_iter_ens,\n",
    "    \n",
    "    # analysis\n",
    "    'metric_eval': 'score_test',  # metric in model_results to evaluate, e.g. score_test, score_oob\n",
    "    'thresholds': {'score_rd10': 0.1,  # score of reduced model - threshold for filtering\n",
    "                   'recall_rd10': 0.95},  # recall of reduced model - threshold for filtering\n",
    "    'min_gs_size': 4 # minimum gene set size, to be derived\n",
    "}"
   ]
  },
  {
   "cell_type": "code",
   "execution_count": 33,
   "metadata": {},
   "outputs": [
    {
     "name": "stderr",
     "output_type": "stream",
     "text": [
      "100%|██████████| 2/2 [09:19<00:00, 279.62s/it]\n"
     ]
    }
   ],
   "source": [
    "wf = workflow(params)\n",
    "pipeline = ['load_processed_data', 'infer']\n",
    "wf.create_pipe(pipeline)\n",
    "wf.run_pipe()"
   ]
  },
  {
   "cell_type": "code",
   "execution_count": 4,
   "metadata": {},
   "outputs": [
    {
     "name": "stderr",
     "output_type": "stream",
     "text": [
      "INFO:root:Loading preprocessed data...\n",
      "INFO:root:Loading model results...\n",
      "INFO:root:Analyzing model results...\n",
      "/Users/boyangzhao/Dropbox/Industry/Quantalarity/client Penn/proj_ceres/github/cnp_dev/src/ceres_infer/analyses.py:288: FutureWarning: Indexing with multiple keys (implicitly converted to a tuple of keys) will be deprecated, use a list instead.\n",
      "  feat_summary = varExp_noNeg.groupby('target')['target', 'score_rd', 'score_full'].first()\n",
      "INFO:root:Analyzing filtered results...\n",
      "/Users/boyangzhao/Dropbox/Industry/Quantalarity/client Penn/proj_ceres/github/cnp_dev/src/ceres_infer/analyses.py:288: FutureWarning: Indexing with multiple keys (implicitly converted to a tuple of keys) will be deprecated, use a list instead.\n",
      "  feat_summary = varExp_noNeg.groupby('target')['target', 'score_rd', 'score_full'].first()\n",
      "INFO:root:Deriving gene sets...\n",
      "/Users/boyangzhao/anaconda/envs/cnp/lib/python3.7/site-packages/seaborn/distributions.py:369: UserWarning: Default bandwidth for data is 0; skipping density estimation.\n",
      "  warnings.warn(msg, UserWarning)\n",
      "WARNING:matplotlib.axes._axes:*c* argument looks like a single numeric RGB or RGBA sequence, which should be avoided as value-mapping will have precedence in case its length matches with *x* & *y*.  Please use the *color* keyword-argument or provide a 2-D array with a single row if you intend to specify the same RGB or RGBA value for all points.\n",
      "WARNING:matplotlib.axes._axes:*c* argument looks like a single numeric RGB or RGBA sequence, which should be avoided as value-mapping will have precedence in case its length matches with *x* & *y*.  Please use the *color* keyword-argument or provide a 2-D array with a single row if you intend to specify the same RGB or RGBA value for all points.\n"
     ]
    }
   ],
   "source": [
    "wf = workflow(params)\n",
    "pipeline = ['load_processed_data', 'load_model_results', \n",
    "            'analyze', 'analyze_filtered', 'derive_genesets', 'run_Rscripts']\n",
    "wf.create_pipe(pipeline)\n",
    "wf.run_pipe()"
   ]
  },
  {
   "cell_type": "code",
   "execution_count": 35,
   "metadata": {},
   "outputs": [],
   "source": [
    "import os\n",
    "wf = workflow(params)\n",
    "wf._get_analysis_paths()"
   ]
  },
  {
   "cell_type": "code",
   "execution_count": null,
   "metadata": {},
   "outputs": [],
   "source": [
    "######################################################################\n",
    "# Gene specific\n",
    "###################################################################### \n",
    "# outdir_sub2 = '%s/gene_specific/' % outdir\n",
    "# if(not os.path.exists(outdir_sub)): os.mkdir(outdir_sub2)\n",
    "#\n",
    "# #generate plot of specific gene\n",
    "# genBarPlotGene(model_results, 'CDK4', 'score_oob', 0.5, outdir_sub=outdir_sub2)\n",
    "# genBarPlotGene(model_results, 'KRAS', 'score_oob', 0.5, outdir_sub=outdir_sub2)\n",
    "# genBarPlotGene(model_results, 'SOX10', 'score_oob', 0.5,  outdir_sub=outdir_sub2)"
   ]
  }
 ],
 "metadata": {
  "kernelspec": {
   "display_name": "Python 3",
   "language": "python",
   "name": "python3"
  },
  "language_info": {
   "codemirror_mode": {
    "name": "ipython",
    "version": 3
   },
   "file_extension": ".py",
   "mimetype": "text/x-python",
   "name": "python",
   "nbconvert_exporter": "python",
   "pygments_lexer": "ipython3",
   "version": "3.7.7"
  },
  "toc": {
   "base_numbering": 1,
   "nav_menu": {},
   "number_sections": true,
   "sideBar": true,
   "skip_h1_title": false,
   "title_cell": "Table of Contents",
   "title_sidebar": "Contents",
   "toc_cell": false,
   "toc_position": {},
   "toc_section_display": true,
   "toc_window_display": true
  }
 },
 "nbformat": 4,
 "nbformat_minor": 4
}
