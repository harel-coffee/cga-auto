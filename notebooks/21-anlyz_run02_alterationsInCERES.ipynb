{
 "cells": [
  {
   "cell_type": "markdown",
   "metadata": {},
   "source": [
    "### Check for genomic alterations in features with CERES"
   ]
  },
  {
   "cell_type": "code",
   "execution_count": 1,
   "metadata": {},
   "outputs": [],
   "source": [
    "import os\n",
    "import pickle\n",
    "import pandas as pd\n",
    "import matplotlib.pyplot as plt\n",
    "import seaborn as sns\n",
    "import numpy as np"
   ]
  },
  {
   "cell_type": "code",
   "execution_count": 2,
   "metadata": {},
   "outputs": [],
   "source": [
    "dir_in = '../out/20.0216 feat/reg_rf_boruta/anlyz_filtered'\n",
    "df_res = pd.read_csv('%s/feat_summary_varExp_filtered.csv' % dir_in)"
   ]
  },
  {
   "cell_type": "code",
   "execution_count": 6,
   "metadata": {},
   "outputs": [
    {
     "data": {
      "text/html": [
       "<div>\n",
       "<style scoped>\n",
       "    .dataframe tbody tr th:only-of-type {\n",
       "        vertical-align: middle;\n",
       "    }\n",
       "\n",
       "    .dataframe tbody tr th {\n",
       "        vertical-align: top;\n",
       "    }\n",
       "\n",
       "    .dataframe thead th {\n",
       "        text-align: right;\n",
       "    }\n",
       "</style>\n",
       "<table border=\"1\" class=\"dataframe\">\n",
       "  <thead>\n",
       "    <tr style=\"text-align: right;\">\n",
       "      <th></th>\n",
       "      <th>feature</th>\n",
       "      <th>target</th>\n",
       "      <th>score_ind</th>\n",
       "      <th>score_rd</th>\n",
       "      <th>score_full</th>\n",
       "      <th>varExp_ofFull</th>\n",
       "      <th>varExp_ofRd</th>\n",
       "      <th>feat_idx</th>\n",
       "      <th>feat_gene</th>\n",
       "      <th>feat_source</th>\n",
       "    </tr>\n",
       "  </thead>\n",
       "  <tbody>\n",
       "    <tr>\n",
       "      <th>0</th>\n",
       "      <td>FASN (2194) [CERES]</td>\n",
       "      <td>ACACA</td>\n",
       "      <td>0.36564</td>\n",
       "      <td>0.3499</td>\n",
       "      <td>0.0524</td>\n",
       "      <td>6.97786</td>\n",
       "      <td>1.04498</td>\n",
       "      <td>1</td>\n",
       "      <td>FASN</td>\n",
       "      <td>CERES</td>\n",
       "    </tr>\n",
       "    <tr>\n",
       "      <th>1</th>\n",
       "      <td>SCD (6319) [CERES]</td>\n",
       "      <td>ACACA</td>\n",
       "      <td>-0.08253</td>\n",
       "      <td>0.3499</td>\n",
       "      <td>0.0524</td>\n",
       "      <td>-1.57500</td>\n",
       "      <td>-0.23587</td>\n",
       "      <td>2</td>\n",
       "      <td>SCD</td>\n",
       "      <td>CERES</td>\n",
       "    </tr>\n",
       "    <tr>\n",
       "      <th>2</th>\n",
       "      <td>HSD17B12 (51144) [CERES]</td>\n",
       "      <td>ACACA</td>\n",
       "      <td>0.00121</td>\n",
       "      <td>0.3499</td>\n",
       "      <td>0.0524</td>\n",
       "      <td>0.02309</td>\n",
       "      <td>0.00346</td>\n",
       "      <td>3</td>\n",
       "      <td>HSD17B12</td>\n",
       "      <td>CERES</td>\n",
       "    </tr>\n",
       "    <tr>\n",
       "      <th>3</th>\n",
       "      <td>HLCS (3141) [CERES]</td>\n",
       "      <td>ACACA</td>\n",
       "      <td>-0.07189</td>\n",
       "      <td>0.3499</td>\n",
       "      <td>0.0524</td>\n",
       "      <td>-1.37195</td>\n",
       "      <td>-0.20546</td>\n",
       "      <td>4</td>\n",
       "      <td>HLCS</td>\n",
       "      <td>CERES</td>\n",
       "    </tr>\n",
       "    <tr>\n",
       "      <th>4</th>\n",
       "      <td>PRR3 (ENSG00000204576) [RNA-seq]</td>\n",
       "      <td>ACACA</td>\n",
       "      <td>-0.03971</td>\n",
       "      <td>0.3499</td>\n",
       "      <td>0.0524</td>\n",
       "      <td>-0.75782</td>\n",
       "      <td>-0.11349</td>\n",
       "      <td>5</td>\n",
       "      <td>PRR3</td>\n",
       "      <td>RNA-seq</td>\n",
       "    </tr>\n",
       "  </tbody>\n",
       "</table>\n",
       "</div>"
      ],
      "text/plain": [
       "                            feature target  score_ind  score_rd  score_full  \\\n",
       "0               FASN (2194) [CERES]  ACACA    0.36564    0.3499      0.0524   \n",
       "1                SCD (6319) [CERES]  ACACA   -0.08253    0.3499      0.0524   \n",
       "2          HSD17B12 (51144) [CERES]  ACACA    0.00121    0.3499      0.0524   \n",
       "3               HLCS (3141) [CERES]  ACACA   -0.07189    0.3499      0.0524   \n",
       "4  PRR3 (ENSG00000204576) [RNA-seq]  ACACA   -0.03971    0.3499      0.0524   \n",
       "\n",
       "   varExp_ofFull  varExp_ofRd  feat_idx feat_gene feat_source  \n",
       "0        6.97786      1.04498         1      FASN       CERES  \n",
       "1       -1.57500     -0.23587         2       SCD       CERES  \n",
       "2        0.02309      0.00346         3  HSD17B12       CERES  \n",
       "3       -1.37195     -0.20546         4      HLCS       CERES  \n",
       "4       -0.75782     -0.11349         5      PRR3     RNA-seq  "
      ]
     },
     "execution_count": 6,
     "metadata": {},
     "output_type": "execute_result"
    }
   ],
   "source": [
    "df_res.head(5)"
   ]
  },
  {
   "cell_type": "code",
   "execution_count": 14,
   "metadata": {},
   "outputs": [],
   "source": [
    "df = pd.crosstab(df_res['feat_gene'],df_res['feat_source'])"
   ]
  },
  {
   "cell_type": "code",
   "execution_count": 50,
   "metadata": {
    "scrolled": true
   },
   "outputs": [
    {
     "name": "stdout",
     "output_type": "stream",
     "text": [
      "Number of total features: 2884\n",
      "Number of features with CERES: 1506 (52.2% of total)\n",
      "Number of features with CERES with other alterations: 104 (6.9% of feat with CERES)\n"
     ]
    }
   ],
   "source": [
    "print(f\"Number of total features: {df_res.feat_gene.nunique()}\")\n",
    "\n",
    "df_ceres = df[df.CERES>0]\n",
    "print(f\"Number of features with CERES: {df_ceres.shape[0]} \\\n",
    "({df_ceres.shape[0]*100/df_res.feat_gene.nunique():.1f}% of total)\")\n",
    "\n",
    "df_ceres_alt = df[(df.CERES>0) & (df.iloc[:,1:].sum(axis=1)>0)]\n",
    "print(f\"Number of features with CERES with other alterations: {df_ceres_alt.shape[0]} \\\n",
    "({df_ceres_alt.shape[0]*100/df_ceres.shape[0]:.1f}% of feat with CERES)\")"
   ]
  },
  {
   "cell_type": "code",
   "execution_count": null,
   "metadata": {},
   "outputs": [],
   "source": []
  },
  {
   "cell_type": "code",
   "execution_count": null,
   "metadata": {},
   "outputs": [],
   "source": []
  }
 ],
 "metadata": {
  "kernelspec": {
   "display_name": "Python 3",
   "language": "python",
   "name": "python3"
  },
  "language_info": {
   "codemirror_mode": {
    "name": "ipython",
    "version": 3
   },
   "file_extension": ".py",
   "mimetype": "text/x-python",
   "name": "python",
   "nbconvert_exporter": "python",
   "pygments_lexer": "ipython3",
   "version": "3.7.7"
  },
  "toc": {
   "base_numbering": 1,
   "nav_menu": {},
   "number_sections": true,
   "sideBar": true,
   "skip_h1_title": false,
   "title_cell": "Table of Contents",
   "title_sidebar": "Contents",
   "toc_cell": false,
   "toc_position": {},
   "toc_section_display": true,
   "toc_window_display": true
  }
 },
 "nbformat": 4,
 "nbformat_minor": 4
}
