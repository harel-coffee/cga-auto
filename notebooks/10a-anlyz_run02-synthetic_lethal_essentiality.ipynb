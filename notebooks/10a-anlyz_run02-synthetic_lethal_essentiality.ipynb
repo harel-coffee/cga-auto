{
 "cells": [
  {
   "cell_type": "code",
   "execution_count": 1,
   "metadata": {
    "slideshow": {
     "slide_type": "slide"
    }
   },
   "outputs": [],
   "source": [
    "import pickle\n",
    "import pandas as pd\n",
    "import os\n",
    "import seaborn as sns\n",
    "import matplotlib.pyplot as plt\n",
    "import numpy as np"
   ]
  },
  {
   "cell_type": "code",
   "execution_count": 2,
   "metadata": {
    "slideshow": {
     "slide_type": "slide"
    }
   },
   "outputs": [],
   "source": [
    "import sys\n",
    "sys.path.append('../')"
   ]
  },
  {
   "cell_type": "markdown",
   "metadata": {},
   "source": [
    "### baseline"
   ]
  },
  {
   "cell_type": "code",
   "execution_count": 3,
   "metadata": {},
   "outputs": [],
   "source": [
    "dir_in = '../out/20.0216 feat/reg_rf_boruta/' # location of the dm_data"
   ]
  },
  {
   "cell_type": "code",
   "execution_count": 221,
   "metadata": {},
   "outputs": [],
   "source": [
    "#load data\n",
    "dm_data = pickle.load(open('%s/dm_data.pkl' % dir_in,'rb'))"
   ]
  },
  {
   "cell_type": "code",
   "execution_count": 222,
   "metadata": {},
   "outputs": [],
   "source": [
    "df_counts = pd.DataFrame([{'CERES':dm_data.df_crispr.shape[1],\n",
    "                           'RNA-seq':dm_data.df_rnaseq.shape[1],\n",
    "                           'CN':dm_data.df_cn.shape[1],\n",
    "                           'Mut':dm_data.df_mut.shape[1],\n",
    "                           'Lineage':dm_data.df_lineage.shape[1]}])"
   ]
  },
  {
   "cell_type": "code",
   "execution_count": 223,
   "metadata": {},
   "outputs": [
    {
     "data": {
      "text/plain": [
       "CERES      18333\n",
       "CN         27639\n",
       "Lineage       18\n",
       "Mut         9065\n",
       "RNA-seq    36759\n",
       "Name: 0, dtype: int64"
      ]
     },
     "execution_count": 223,
     "metadata": {},
     "output_type": "execute_result"
    }
   ],
   "source": [
    "df_counts.T[0]"
   ]
  },
  {
   "cell_type": "markdown",
   "metadata": {},
   "source": [
    "### synthetic lethal counts"
   ]
  },
  {
   "cell_type": "code",
   "execution_count": 224,
   "metadata": {},
   "outputs": [],
   "source": [
    "df_featSummary = pd.read_csv(os.path.join(dir_in, 'anlyz_filtered', 'feat_summary.csv'))"
   ]
  },
  {
   "cell_type": "code",
   "execution_count": 225,
   "metadata": {},
   "outputs": [
    {
     "data": {
      "text/plain": [
       "Index(['target', 'score_rd', 'score_full', 'feature', 'score_ind',\n",
       "       'feat_sources', 'feat_genes', 'feat_gene1', 'feat_source1',\n",
       "       'feat_gene2', 'feat_source2', 'feat_gene3', 'feat_source3',\n",
       "       'feat_gene4', 'feat_source4', 'feat_gene5', 'feat_source5',\n",
       "       'feat_gene6', 'feat_source6', 'feat_gene7', 'feat_source7',\n",
       "       'feat_gene8', 'feat_source8', 'feat_gene9', 'feat_source9',\n",
       "       'feat_gene10', 'feat_source10', 'feats_n'],\n",
       "      dtype='object')"
      ]
     },
     "execution_count": 225,
     "metadata": {},
     "output_type": "execute_result"
    }
   ],
   "source": [
    "df_featSummary.columns"
   ]
  },
  {
   "cell_type": "code",
   "execution_count": 226,
   "metadata": {},
   "outputs": [
    {
     "data": {
      "text/plain": [
       "{'CERES': 429, 'CN': 13, 'Mut': 3, 'RNA-seq': 81}"
      ]
     },
     "execution_count": 226,
     "metadata": {},
     "output_type": "execute_result"
    }
   ],
   "source": [
    "df_counts = df_featSummary.groupby('feat_source1')['feat_source1'].count()\n",
    "df_counts = df_counts.to_dict()\n",
    "df_counts"
   ]
  },
  {
   "cell_type": "code",
   "execution_count": 227,
   "metadata": {},
   "outputs": [
    {
     "data": {
      "text/html": [
       "<div>\n",
       "<style scoped>\n",
       "    .dataframe tbody tr th:only-of-type {\n",
       "        vertical-align: middle;\n",
       "    }\n",
       "\n",
       "    .dataframe tbody tr th {\n",
       "        vertical-align: top;\n",
       "    }\n",
       "\n",
       "    .dataframe thead th {\n",
       "        text-align: right;\n",
       "    }\n",
       "</style>\n",
       "<table border=\"1\" class=\"dataframe\">\n",
       "  <thead>\n",
       "    <tr style=\"text-align: right;\">\n",
       "      <th></th>\n",
       "      <th>classic_syn_lethal</th>\n",
       "      <th>new_syn_lethal</th>\n",
       "    </tr>\n",
       "  </thead>\n",
       "  <tbody>\n",
       "    <tr>\n",
       "      <th>0</th>\n",
       "      <td>97</td>\n",
       "      <td>429</td>\n",
       "    </tr>\n",
       "  </tbody>\n",
       "</table>\n",
       "</div>"
      ],
      "text/plain": [
       "   classic_syn_lethal  new_syn_lethal\n",
       "0                  97             429"
      ]
     },
     "execution_count": 227,
     "metadata": {},
     "output_type": "execute_result"
    }
   ],
   "source": [
    "df_sl = pd.DataFrame([{'new_syn_lethal':df_counts['CERES'],\n",
    "                       'classic_syn_lethal': sum([df_counts[k] for k in ['CN','Mut','RNA-seq']]) }])\n",
    "df_sl"
   ]
  },
  {
   "cell_type": "code",
   "execution_count": 228,
   "metadata": {},
   "outputs": [
    {
     "data": {
      "text/plain": [
       "[[], Text(0.5,0,'Number of target genes')]"
      ]
     },
     "execution_count": 228,
     "metadata": {},
     "output_type": "execute_result"
    },
    {
     "data": {
      "image/png": "[encoded data removed]",
      "text/plain": [
       "<Figure size 432x288 with 1 Axes>"
      ]
     },
     "metadata": {
      "needs_background": "light"
     },
     "output_type": "display_data"
    }
   ],
   "source": [
    "ax = df_sl.plot.barh(stacked=True)\n",
    "plt.legend()\n",
    "ax.set(xlabel='Number of target genes', yticks=[])"
   ]
  },
  {
   "cell_type": "code",
   "execution_count": 263,
   "metadata": {},
   "outputs": [],
   "source": [
    "df_sl = df_sl.T.squeeze()"
   ]
  },
  {
   "cell_type": "code",
   "execution_count": 268,
   "metadata": {},
   "outputs": [
    {
     "data": {
      "text/plain": [
       "[Text(0,0.5,'Count of target genes'),\n",
       " [Text(0,0,'Classical synthetic lethal'), Text(0,0,'Others')],\n",
       " Text(0.5,0,'')]"
      ]
     },
     "execution_count": 268,
     "metadata": {},
     "output_type": "execute_result"
    },
    {
     "data": {
      "image/png": "[encoded data removed]",
      "text/plain": [
       "<Figure size 432x288 with 1 Axes>"
      ]
     },
     "metadata": {
      "needs_background": "light"
     },
     "output_type": "display_data"
    }
   ],
   "source": [
    "ax = sns.barplot(df_sl.index, df_sl.values, color='steelblue')\n",
    "ax.set(xlabel='', \n",
    "       ylabel='Count of target genes',\n",
    "       xticklabels=['Classical synthetic lethal', 'Others'])"
   ]
  },
  {
   "cell_type": "markdown",
   "metadata": {},
   "source": [
    "### scores broken down by essentials"
   ]
  },
  {
   "cell_type": "markdown",
   "metadata": {},
   "source": [
    "#### get gene dependency and classify them"
   ]
  },
  {
   "cell_type": "code",
   "execution_count": 62,
   "metadata": {},
   "outputs": [],
   "source": [
    "df_genedep = pd.read_csv('../../%s/%s' % (dm_data.dir_datasets,dm_data.fname_gene_dependency), header=0, index_col=0)"
   ]
  },
  {
   "cell_type": "code",
   "execution_count": 67,
   "metadata": {},
   "outputs": [],
   "source": [
    "df_genedep.columns = df_genedep.columns.str.extract('^(.*)\\s').squeeze().values"
   ]
  },
  {
   "cell_type": "code",
   "execution_count": 68,
   "metadata": {},
   "outputs": [
    {
     "data": {
      "text/html": [
       "<div>\n",
       "<style scoped>\n",
       "    .dataframe tbody tr th:only-of-type {\n",
       "        vertical-align: middle;\n",
       "    }\n",
       "\n",
       "    .dataframe tbody tr th {\n",
       "        vertical-align: top;\n",
       "    }\n",
       "\n",
       "    .dataframe thead th {\n",
       "        text-align: right;\n",
       "    }\n",
       "</style>\n",
       "<table border=\"1\" class=\"dataframe\">\n",
       "  <thead>\n",
       "    <tr style=\"text-align: right;\">\n",
       "      <th></th>\n",
       "      <th>A1BG</th>\n",
       "      <th>A1CF</th>\n",
       "      <th>A2M</th>\n",
       "      <th>A2ML1</th>\n",
       "      <th>A3GALT2</th>\n",
       "      <th>A4GALT</th>\n",
       "      <th>A4GNT</th>\n",
       "      <th>AAAS</th>\n",
       "      <th>AACS</th>\n",
       "      <th>AADAC</th>\n",
       "      <th>...</th>\n",
       "      <th>ZWILCH</th>\n",
       "      <th>ZWINT</th>\n",
       "      <th>ZXDA</th>\n",
       "      <th>ZXDB</th>\n",
       "      <th>ZXDC</th>\n",
       "      <th>ZYG11A</th>\n",
       "      <th>ZYG11B</th>\n",
       "      <th>ZYX</th>\n",
       "      <th>ZZEF1</th>\n",
       "      <th>ZZZ3</th>\n",
       "    </tr>\n",
       "  </thead>\n",
       "  <tbody>\n",
       "    <tr>\n",
       "      <th>ACH-000004</th>\n",
       "      <td>0.001451</td>\n",
       "      <td>0.004520</td>\n",
       "      <td>0.102872</td>\n",
       "      <td>0.018067</td>\n",
       "      <td>0.008767</td>\n",
       "      <td>0.085647</td>\n",
       "      <td>0.000065</td>\n",
       "      <td>0.431382</td>\n",
       "      <td>0.000192</td>\n",
       "      <td>0.001974</td>\n",
       "      <td>...</td>\n",
       "      <td>0.060016</td>\n",
       "      <td>0.465022</td>\n",
       "      <td>NaN</td>\n",
       "      <td>NaN</td>\n",
       "      <td>0.000372</td>\n",
       "      <td>0.000517</td>\n",
       "      <td>0.374798</td>\n",
       "      <td>0.00022</td>\n",
       "      <td>0.000541</td>\n",
       "      <td>0.059707</td>\n",
       "    </tr>\n",
       "    <tr>\n",
       "      <th>ACH-000005</th>\n",
       "      <td>0.026104</td>\n",
       "      <td>0.001092</td>\n",
       "      <td>0.001859</td>\n",
       "      <td>0.002384</td>\n",
       "      <td>0.073250</td>\n",
       "      <td>0.175472</td>\n",
       "      <td>0.000745</td>\n",
       "      <td>0.528323</td>\n",
       "      <td>0.029178</td>\n",
       "      <td>0.011600</td>\n",
       "      <td>...</td>\n",
       "      <td>0.064166</td>\n",
       "      <td>0.252776</td>\n",
       "      <td>0.067042</td>\n",
       "      <td>0.037138</td>\n",
       "      <td>0.001671</td>\n",
       "      <td>0.027810</td>\n",
       "      <td>0.033134</td>\n",
       "      <td>0.01016</td>\n",
       "      <td>0.013513</td>\n",
       "      <td>0.103597</td>\n",
       "    </tr>\n",
       "  </tbody>\n",
       "</table>\n",
       "<p>2 rows × 18333 columns</p>\n",
       "</div>"
      ],
      "text/plain": [
       "                A1BG      A1CF       A2M     A2ML1   A3GALT2    A4GALT  \\\n",
       "ACH-000004  0.001451  0.004520  0.102872  0.018067  0.008767  0.085647   \n",
       "ACH-000005  0.026104  0.001092  0.001859  0.002384  0.073250  0.175472   \n",
       "\n",
       "               A4GNT      AAAS      AACS     AADAC  ...    ZWILCH     ZWINT  \\\n",
       "ACH-000004  0.000065  0.431382  0.000192  0.001974  ...  0.060016  0.465022   \n",
       "ACH-000005  0.000745  0.528323  0.029178  0.011600  ...  0.064166  0.252776   \n",
       "\n",
       "                ZXDA      ZXDB      ZXDC    ZYG11A    ZYG11B      ZYX  \\\n",
       "ACH-000004       NaN       NaN  0.000372  0.000517  0.374798  0.00022   \n",
       "ACH-000005  0.067042  0.037138  0.001671  0.027810  0.033134  0.01016   \n",
       "\n",
       "               ZZEF1      ZZZ3  \n",
       "ACH-000004  0.000541  0.059707  \n",
       "ACH-000005  0.013513  0.103597  \n",
       "\n",
       "[2 rows x 18333 columns]"
      ]
     },
     "execution_count": 68,
     "metadata": {},
     "output_type": "execute_result"
    }
   ],
   "source": [
    "df_genedep.head(2)"
   ]
  },
  {
   "cell_type": "code",
   "execution_count": 165,
   "metadata": {},
   "outputs": [],
   "source": [
    "# get which ones are selective essential, and which ones are common essential, common nonessential\n",
    "def classifyDep(x):\n",
    "    if all(x>0.5):\n",
    "        return 'common_essential'\n",
    "    elif all(x<0.5):\n",
    "        return 'common_nonessential'\n",
    "    else:\n",
    "        return 'selective_essential'\n",
    "    \n",
    "    \n",
    "dep_class = df_genedep.apply(lambda x: classifyDep(x), axis=0)"
   ]
  },
  {
   "cell_type": "code",
   "execution_count": 166,
   "metadata": {},
   "outputs": [
    {
     "data": {
      "text/plain": [
       "SLC46A3    selective_essential\n",
       "NCL        selective_essential\n",
       "CDC42      selective_essential\n",
       "DBNDD1     selective_essential\n",
       "EMILIN2    common_nonessential\n",
       "PRIMA1     common_nonessential\n",
       "dtype: object"
      ]
     },
     "execution_count": 166,
     "metadata": {},
     "output_type": "execute_result"
    }
   ],
   "source": [
    "dep_class.sample(6)"
   ]
  },
  {
   "cell_type": "code",
   "execution_count": 167,
   "metadata": {},
   "outputs": [
    {
     "data": {
      "text/plain": [
       "common_essential         424\n",
       "common_nonessential     7322\n",
       "selective_essential    10587\n",
       "dtype: int64"
      ]
     },
     "execution_count": 167,
     "metadata": {},
     "output_type": "execute_result"
    }
   ],
   "source": [
    "dep_class.groupby(dep_class).count()"
   ]
  },
  {
   "cell_type": "markdown",
   "metadata": {},
   "source": [
    "#### merge with varExp"
   ]
  },
  {
   "cell_type": "code",
   "execution_count": 168,
   "metadata": {},
   "outputs": [],
   "source": [
    "df_varExp = pd.read_csv(os.path.join(dir_in, 'anlyz_filtered', 'feat_summary_varExp_filtered.csv'))"
   ]
  },
  {
   "cell_type": "code",
   "execution_count": 169,
   "metadata": {},
   "outputs": [
    {
     "data": {
      "text/html": [
       "<div>\n",
       "<style scoped>\n",
       "    .dataframe tbody tr th:only-of-type {\n",
       "        vertical-align: middle;\n",
       "    }\n",
       "\n",
       "    .dataframe tbody tr th {\n",
       "        vertical-align: top;\n",
       "    }\n",
       "\n",
       "    .dataframe thead th {\n",
       "        text-align: right;\n",
       "    }\n",
       "</style>\n",
       "<table border=\"1\" class=\"dataframe\">\n",
       "  <thead>\n",
       "    <tr style=\"text-align: right;\">\n",
       "      <th></th>\n",
       "      <th>feature</th>\n",
       "      <th>target</th>\n",
       "      <th>score_ind</th>\n",
       "      <th>score_rd</th>\n",
       "      <th>score_full</th>\n",
       "      <th>varExp_ofFull</th>\n",
       "      <th>varExp_ofRd</th>\n",
       "      <th>feat_idx</th>\n",
       "      <th>feat_gene</th>\n",
       "      <th>feat_source</th>\n",
       "    </tr>\n",
       "  </thead>\n",
       "  <tbody>\n",
       "    <tr>\n",
       "      <th>0</th>\n",
       "      <td>FASN (2194) [CERES]</td>\n",
       "      <td>ACACA</td>\n",
       "      <td>0.36564</td>\n",
       "      <td>0.3499</td>\n",
       "      <td>0.0524</td>\n",
       "      <td>6.97786</td>\n",
       "      <td>1.04498</td>\n",
       "      <td>1</td>\n",
       "      <td>FASN</td>\n",
       "      <td>CERES</td>\n",
       "    </tr>\n",
       "    <tr>\n",
       "      <th>1</th>\n",
       "      <td>SCD (6319) [CERES]</td>\n",
       "      <td>ACACA</td>\n",
       "      <td>-0.08253</td>\n",
       "      <td>0.3499</td>\n",
       "      <td>0.0524</td>\n",
       "      <td>-1.57500</td>\n",
       "      <td>-0.23587</td>\n",
       "      <td>2</td>\n",
       "      <td>SCD</td>\n",
       "      <td>CERES</td>\n",
       "    </tr>\n",
       "    <tr>\n",
       "      <th>2</th>\n",
       "      <td>HSD17B12 (51144) [CERES]</td>\n",
       "      <td>ACACA</td>\n",
       "      <td>0.00121</td>\n",
       "      <td>0.3499</td>\n",
       "      <td>0.0524</td>\n",
       "      <td>0.02309</td>\n",
       "      <td>0.00346</td>\n",
       "      <td>3</td>\n",
       "      <td>HSD17B12</td>\n",
       "      <td>CERES</td>\n",
       "    </tr>\n",
       "  </tbody>\n",
       "</table>\n",
       "</div>"
      ],
      "text/plain": [
       "                    feature target  score_ind  score_rd  score_full  \\\n",
       "0       FASN (2194) [CERES]  ACACA    0.36564    0.3499      0.0524   \n",
       "1        SCD (6319) [CERES]  ACACA   -0.08253    0.3499      0.0524   \n",
       "2  HSD17B12 (51144) [CERES]  ACACA    0.00121    0.3499      0.0524   \n",
       "\n",
       "   varExp_ofFull  varExp_ofRd  feat_idx feat_gene feat_source  \n",
       "0        6.97786      1.04498         1      FASN       CERES  \n",
       "1       -1.57500     -0.23587         2       SCD       CERES  \n",
       "2        0.02309      0.00346         3  HSD17B12       CERES  "
      ]
     },
     "execution_count": 169,
     "metadata": {},
     "output_type": "execute_result"
    }
   ],
   "source": [
    "df_varExp.head(3)"
   ]
  },
  {
   "cell_type": "code",
   "execution_count": 170,
   "metadata": {},
   "outputs": [
    {
     "data": {
      "text/html": [
       "<div>\n",
       "<style scoped>\n",
       "    .dataframe tbody tr th:only-of-type {\n",
       "        vertical-align: middle;\n",
       "    }\n",
       "\n",
       "    .dataframe tbody tr th {\n",
       "        vertical-align: top;\n",
       "    }\n",
       "\n",
       "    .dataframe thead th {\n",
       "        text-align: right;\n",
       "    }\n",
       "</style>\n",
       "<table border=\"1\" class=\"dataframe\">\n",
       "  <thead>\n",
       "    <tr style=\"text-align: right;\">\n",
       "      <th></th>\n",
       "      <th>feature</th>\n",
       "      <th>target</th>\n",
       "      <th>score_ind</th>\n",
       "      <th>score_rd</th>\n",
       "      <th>score_full</th>\n",
       "      <th>varExp_ofFull</th>\n",
       "      <th>varExp_ofRd</th>\n",
       "      <th>feat_idx</th>\n",
       "      <th>feat_gene</th>\n",
       "      <th>feat_source</th>\n",
       "      <th>target_dep_class</th>\n",
       "    </tr>\n",
       "  </thead>\n",
       "  <tbody>\n",
       "    <tr>\n",
       "      <th>0</th>\n",
       "      <td>FASN (2194) [CERES]</td>\n",
       "      <td>ACACA</td>\n",
       "      <td>0.36564</td>\n",
       "      <td>0.3499</td>\n",
       "      <td>0.0524</td>\n",
       "      <td>6.97786</td>\n",
       "      <td>1.04498</td>\n",
       "      <td>1</td>\n",
       "      <td>FASN</td>\n",
       "      <td>CERES</td>\n",
       "      <td>selective_essential</td>\n",
       "    </tr>\n",
       "    <tr>\n",
       "      <th>1</th>\n",
       "      <td>SCD (6319) [CERES]</td>\n",
       "      <td>ACACA</td>\n",
       "      <td>-0.08253</td>\n",
       "      <td>0.3499</td>\n",
       "      <td>0.0524</td>\n",
       "      <td>-1.57500</td>\n",
       "      <td>-0.23587</td>\n",
       "      <td>2</td>\n",
       "      <td>SCD</td>\n",
       "      <td>CERES</td>\n",
       "      <td>selective_essential</td>\n",
       "    </tr>\n",
       "    <tr>\n",
       "      <th>2</th>\n",
       "      <td>HSD17B12 (51144) [CERES]</td>\n",
       "      <td>ACACA</td>\n",
       "      <td>0.00121</td>\n",
       "      <td>0.3499</td>\n",
       "      <td>0.0524</td>\n",
       "      <td>0.02309</td>\n",
       "      <td>0.00346</td>\n",
       "      <td>3</td>\n",
       "      <td>HSD17B12</td>\n",
       "      <td>CERES</td>\n",
       "      <td>selective_essential</td>\n",
       "    </tr>\n",
       "  </tbody>\n",
       "</table>\n",
       "</div>"
      ],
      "text/plain": [
       "                    feature target  score_ind  score_rd  score_full  \\\n",
       "0       FASN (2194) [CERES]  ACACA    0.36564    0.3499      0.0524   \n",
       "1        SCD (6319) [CERES]  ACACA   -0.08253    0.3499      0.0524   \n",
       "2  HSD17B12 (51144) [CERES]  ACACA    0.00121    0.3499      0.0524   \n",
       "\n",
       "   varExp_ofFull  varExp_ofRd  feat_idx feat_gene feat_source  \\\n",
       "0        6.97786      1.04498         1      FASN       CERES   \n",
       "1       -1.57500     -0.23587         2       SCD       CERES   \n",
       "2        0.02309      0.00346         3  HSD17B12       CERES   \n",
       "\n",
       "      target_dep_class  \n",
       "0  selective_essential  \n",
       "1  selective_essential  \n",
       "2  selective_essential  "
      ]
     },
     "execution_count": 170,
     "metadata": {},
     "output_type": "execute_result"
    }
   ],
   "source": [
    "df_tmp = df_varExp.merge(dep_class.to_frame(name='target_dep_class'), left_index=False, right_index=True, left_on='target')\n",
    "df_tmp.head(3)"
   ]
  },
  {
   "cell_type": "code",
   "execution_count": 171,
   "metadata": {},
   "outputs": [
    {
     "data": {
      "text/html": [
       "<div>\n",
       "<style scoped>\n",
       "    .dataframe tbody tr th:only-of-type {\n",
       "        vertical-align: middle;\n",
       "    }\n",
       "\n",
       "    .dataframe tbody tr th {\n",
       "        vertical-align: top;\n",
       "    }\n",
       "\n",
       "    .dataframe thead th {\n",
       "        text-align: right;\n",
       "    }\n",
       "</style>\n",
       "<table border=\"1\" class=\"dataframe\">\n",
       "  <thead>\n",
       "    <tr style=\"text-align: right;\">\n",
       "      <th></th>\n",
       "      <th>score</th>\n",
       "      <th>label</th>\n",
       "      <th>target_dep_class</th>\n",
       "    </tr>\n",
       "  </thead>\n",
       "  <tbody>\n",
       "    <tr>\n",
       "      <th>ACACA</th>\n",
       "      <td>0.34990</td>\n",
       "      <td>multivariate</td>\n",
       "      <td>selective_essential</td>\n",
       "    </tr>\n",
       "    <tr>\n",
       "      <th>ACLY</th>\n",
       "      <td>0.39931</td>\n",
       "      <td>multivariate</td>\n",
       "      <td>selective_essential</td>\n",
       "    </tr>\n",
       "    <tr>\n",
       "      <th>ACO2</th>\n",
       "      <td>0.39965</td>\n",
       "      <td>multivariate</td>\n",
       "      <td>selective_essential</td>\n",
       "    </tr>\n",
       "  </tbody>\n",
       "</table>\n",
       "</div>"
      ],
      "text/plain": [
       "         score         label     target_dep_class\n",
       "ACACA  0.34990  multivariate  selective_essential\n",
       "ACLY   0.39931  multivariate  selective_essential\n",
       "ACO2   0.39965  multivariate  selective_essential"
      ]
     },
     "execution_count": 171,
     "metadata": {},
     "output_type": "execute_result"
    }
   ],
   "source": [
    "df_rd = df_tmp.groupby('target')[['score_rd', 'target_dep_class']].first()\n",
    "df = pd.concat([pd.DataFrame({'score':df_rd.score_rd, \n",
    "                              'label':'multivariate', \n",
    "                              'target_dep_class':df_rd.target_dep_class}),\n",
    "                pd.DataFrame({'score':df_varExp.score_ind, \n",
    "                              'label':'univariate',\n",
    "                              'target_dep_class':df_tmp.target_dep_class})\n",
    "               ])\n",
    "df.head(3)"
   ]
  },
  {
   "cell_type": "code",
   "execution_count": 172,
   "metadata": {},
   "outputs": [
    {
     "data": {
      "image/png": "[encoded data removed]",
      "text/plain": [
       "<Figure size 432x288 with 1 Axes>"
      ]
     },
     "metadata": {
      "needs_background": "light"
     },
     "output_type": "display_data"
    }
   ],
   "source": [
    "plt.figure()\n",
    "ax = sns.boxplot(x='label',y='score',data=df.loc[df.score>0,:], color='royalblue', hue='target_dep_class')\n",
    "ax.set(xlabel='Model', ylabel='Score')\n",
    "plt.legend(loc='upper right')\n",
    "plt.tight_layout()"
   ]
  },
  {
   "cell_type": "markdown",
   "metadata": {},
   "source": [
    "### synthetic lethal counts (with merge)"
   ]
  },
  {
   "cell_type": "code",
   "execution_count": 173,
   "metadata": {},
   "outputs": [
    {
     "data": {
      "text/html": [
       "<div>\n",
       "<style scoped>\n",
       "    .dataframe tbody tr th:only-of-type {\n",
       "        vertical-align: middle;\n",
       "    }\n",
       "\n",
       "    .dataframe tbody tr th {\n",
       "        vertical-align: top;\n",
       "    }\n",
       "\n",
       "    .dataframe thead th {\n",
       "        text-align: right;\n",
       "    }\n",
       "</style>\n",
       "<table border=\"1\" class=\"dataframe\">\n",
       "  <thead>\n",
       "    <tr style=\"text-align: right;\">\n",
       "      <th></th>\n",
       "      <th>target</th>\n",
       "      <th>score_rd</th>\n",
       "      <th>score_full</th>\n",
       "      <th>feature</th>\n",
       "      <th>score_ind</th>\n",
       "      <th>feat_sources</th>\n",
       "      <th>feat_genes</th>\n",
       "      <th>feat_gene1</th>\n",
       "      <th>feat_source1</th>\n",
       "      <th>feat_gene2</th>\n",
       "      <th>...</th>\n",
       "      <th>feat_source6</th>\n",
       "      <th>feat_gene7</th>\n",
       "      <th>feat_source7</th>\n",
       "      <th>feat_gene8</th>\n",
       "      <th>feat_source8</th>\n",
       "      <th>feat_gene9</th>\n",
       "      <th>feat_source9</th>\n",
       "      <th>feat_gene10</th>\n",
       "      <th>feat_source10</th>\n",
       "      <th>feats_n</th>\n",
       "    </tr>\n",
       "  </thead>\n",
       "  <tbody>\n",
       "    <tr>\n",
       "      <th>0</th>\n",
       "      <td>ACACA</td>\n",
       "      <td>0.34990</td>\n",
       "      <td>0.05240</td>\n",
       "      <td>FASN (2194) [CERES],HSD17B12 (51144) [CERES],A...</td>\n",
       "      <td>0.366,0.001,0.039</td>\n",
       "      <td>['CERES', 'CERES', 'CERES']</td>\n",
       "      <td>['FASN', 'HSD17B12', 'ALG6']</td>\n",
       "      <td>FASN</td>\n",
       "      <td>CERES</td>\n",
       "      <td>HSD17B12</td>\n",
       "      <td>...</td>\n",
       "      <td>NaN</td>\n",
       "      <td>NaN</td>\n",
       "      <td>NaN</td>\n",
       "      <td>NaN</td>\n",
       "      <td>NaN</td>\n",
       "      <td>NaN</td>\n",
       "      <td>NaN</td>\n",
       "      <td>NaN</td>\n",
       "      <td>NaN</td>\n",
       "      <td>3</td>\n",
       "    </tr>\n",
       "    <tr>\n",
       "      <th>1</th>\n",
       "      <td>ACLY</td>\n",
       "      <td>0.39931</td>\n",
       "      <td>0.07137</td>\n",
       "      <td>FASN (2194) [CERES],ACSS1 (ENSG00000154930) [R...</td>\n",
       "      <td>0.242,0.14,0.118</td>\n",
       "      <td>['CERES', 'RNA-seq', 'CERES']</td>\n",
       "      <td>['FASN', 'ACSS1', 'ACACA']</td>\n",
       "      <td>FASN</td>\n",
       "      <td>CERES</td>\n",
       "      <td>ACSS1</td>\n",
       "      <td>...</td>\n",
       "      <td>NaN</td>\n",
       "      <td>NaN</td>\n",
       "      <td>NaN</td>\n",
       "      <td>NaN</td>\n",
       "      <td>NaN</td>\n",
       "      <td>NaN</td>\n",
       "      <td>NaN</td>\n",
       "      <td>NaN</td>\n",
       "      <td>NaN</td>\n",
       "      <td>3</td>\n",
       "    </tr>\n",
       "    <tr>\n",
       "      <th>2</th>\n",
       "      <td>ACO2</td>\n",
       "      <td>0.39965</td>\n",
       "      <td>0.11507</td>\n",
       "      <td>ADSL (158) [CERES],IDH3A (3419) [CERES],SOD2 (...</td>\n",
       "      <td>0.172,0.078,0.15,0.153,0.194,0.016,0.018,0.116...</td>\n",
       "      <td>['CERES', 'CERES', 'CERES', 'CERES', 'CERES', ...</td>\n",
       "      <td>['ADSL', 'IDH3A', 'SOD2', 'GMPS', 'TFRC', 'SDH...</td>\n",
       "      <td>ADSL</td>\n",
       "      <td>CERES</td>\n",
       "      <td>IDH3A</td>\n",
       "      <td>...</td>\n",
       "      <td>CERES</td>\n",
       "      <td>ADAM12</td>\n",
       "      <td>RNA-seq</td>\n",
       "      <td>ATIC</td>\n",
       "      <td>CERES</td>\n",
       "      <td>PLOD2</td>\n",
       "      <td>RNA-seq</td>\n",
       "      <td>NaN</td>\n",
       "      <td>NaN</td>\n",
       "      <td>9</td>\n",
       "    </tr>\n",
       "  </tbody>\n",
       "</table>\n",
       "<p>3 rows × 28 columns</p>\n",
       "</div>"
      ],
      "text/plain": [
       "  target  score_rd  score_full  \\\n",
       "0  ACACA   0.34990     0.05240   \n",
       "1   ACLY   0.39931     0.07137   \n",
       "2   ACO2   0.39965     0.11507   \n",
       "\n",
       "                                             feature  \\\n",
       "0  FASN (2194) [CERES],HSD17B12 (51144) [CERES],A...   \n",
       "1  FASN (2194) [CERES],ACSS1 (ENSG00000154930) [R...   \n",
       "2  ADSL (158) [CERES],IDH3A (3419) [CERES],SOD2 (...   \n",
       "\n",
       "                                           score_ind  \\\n",
       "0                                  0.366,0.001,0.039   \n",
       "1                                   0.242,0.14,0.118   \n",
       "2  0.172,0.078,0.15,0.153,0.194,0.016,0.018,0.116...   \n",
       "\n",
       "                                        feat_sources  \\\n",
       "0                        ['CERES', 'CERES', 'CERES']   \n",
       "1                      ['CERES', 'RNA-seq', 'CERES']   \n",
       "2  ['CERES', 'CERES', 'CERES', 'CERES', 'CERES', ...   \n",
       "\n",
       "                                          feat_genes feat_gene1 feat_source1  \\\n",
       "0                       ['FASN', 'HSD17B12', 'ALG6']       FASN        CERES   \n",
       "1                         ['FASN', 'ACSS1', 'ACACA']       FASN        CERES   \n",
       "2  ['ADSL', 'IDH3A', 'SOD2', 'GMPS', 'TFRC', 'SDH...       ADSL        CERES   \n",
       "\n",
       "  feat_gene2  ... feat_source6 feat_gene7 feat_source7 feat_gene8  \\\n",
       "0   HSD17B12  ...          NaN        NaN          NaN        NaN   \n",
       "1      ACSS1  ...          NaN        NaN          NaN        NaN   \n",
       "2      IDH3A  ...        CERES     ADAM12      RNA-seq       ATIC   \n",
       "\n",
       "  feat_source8 feat_gene9 feat_source9 feat_gene10 feat_source10 feats_n  \n",
       "0          NaN        NaN          NaN         NaN           NaN       3  \n",
       "1          NaN        NaN          NaN         NaN           NaN       3  \n",
       "2        CERES      PLOD2      RNA-seq         NaN           NaN       9  \n",
       "\n",
       "[3 rows x 28 columns]"
      ]
     },
     "execution_count": 173,
     "metadata": {},
     "output_type": "execute_result"
    }
   ],
   "source": [
    "df_featSummary = pd.read_csv(os.path.join(dir_in, 'anlyz_filtered', 'feat_summary.csv'))\n",
    "df_featSummary.head(3)"
   ]
  },
  {
   "cell_type": "code",
   "execution_count": 174,
   "metadata": {},
   "outputs": [
    {
     "data": {
      "text/html": [
       "<div>\n",
       "<style scoped>\n",
       "    .dataframe tbody tr th:only-of-type {\n",
       "        vertical-align: middle;\n",
       "    }\n",
       "\n",
       "    .dataframe tbody tr th {\n",
       "        vertical-align: top;\n",
       "    }\n",
       "\n",
       "    .dataframe thead th {\n",
       "        text-align: right;\n",
       "    }\n",
       "</style>\n",
       "<table border=\"1\" class=\"dataframe\">\n",
       "  <thead>\n",
       "    <tr style=\"text-align: right;\">\n",
       "      <th></th>\n",
       "      <th>target</th>\n",
       "      <th>score_rd</th>\n",
       "      <th>score_full</th>\n",
       "      <th>feature</th>\n",
       "      <th>score_ind</th>\n",
       "      <th>feat_sources</th>\n",
       "      <th>feat_genes</th>\n",
       "      <th>feat_gene1</th>\n",
       "      <th>feat_source1</th>\n",
       "      <th>feat_gene2</th>\n",
       "      <th>...</th>\n",
       "      <th>feat_gene7</th>\n",
       "      <th>feat_source7</th>\n",
       "      <th>feat_gene8</th>\n",
       "      <th>feat_source8</th>\n",
       "      <th>feat_gene9</th>\n",
       "      <th>feat_source9</th>\n",
       "      <th>feat_gene10</th>\n",
       "      <th>feat_source10</th>\n",
       "      <th>feats_n</th>\n",
       "      <th>target_dep_class</th>\n",
       "    </tr>\n",
       "  </thead>\n",
       "  <tbody>\n",
       "    <tr>\n",
       "      <th>0</th>\n",
       "      <td>ACACA</td>\n",
       "      <td>0.34990</td>\n",
       "      <td>0.05240</td>\n",
       "      <td>FASN (2194) [CERES],HSD17B12 (51144) [CERES],A...</td>\n",
       "      <td>0.366,0.001,0.039</td>\n",
       "      <td>['CERES', 'CERES', 'CERES']</td>\n",
       "      <td>['FASN', 'HSD17B12', 'ALG6']</td>\n",
       "      <td>FASN</td>\n",
       "      <td>CERES</td>\n",
       "      <td>HSD17B12</td>\n",
       "      <td>...</td>\n",
       "      <td>NaN</td>\n",
       "      <td>NaN</td>\n",
       "      <td>NaN</td>\n",
       "      <td>NaN</td>\n",
       "      <td>NaN</td>\n",
       "      <td>NaN</td>\n",
       "      <td>NaN</td>\n",
       "      <td>NaN</td>\n",
       "      <td>3</td>\n",
       "      <td>selective_essential</td>\n",
       "    </tr>\n",
       "    <tr>\n",
       "      <th>1</th>\n",
       "      <td>ACLY</td>\n",
       "      <td>0.39931</td>\n",
       "      <td>0.07137</td>\n",
       "      <td>FASN (2194) [CERES],ACSS1 (ENSG00000154930) [R...</td>\n",
       "      <td>0.242,0.14,0.118</td>\n",
       "      <td>['CERES', 'RNA-seq', 'CERES']</td>\n",
       "      <td>['FASN', 'ACSS1', 'ACACA']</td>\n",
       "      <td>FASN</td>\n",
       "      <td>CERES</td>\n",
       "      <td>ACSS1</td>\n",
       "      <td>...</td>\n",
       "      <td>NaN</td>\n",
       "      <td>NaN</td>\n",
       "      <td>NaN</td>\n",
       "      <td>NaN</td>\n",
       "      <td>NaN</td>\n",
       "      <td>NaN</td>\n",
       "      <td>NaN</td>\n",
       "      <td>NaN</td>\n",
       "      <td>3</td>\n",
       "      <td>selective_essential</td>\n",
       "    </tr>\n",
       "    <tr>\n",
       "      <th>2</th>\n",
       "      <td>ACO2</td>\n",
       "      <td>0.39965</td>\n",
       "      <td>0.11507</td>\n",
       "      <td>ADSL (158) [CERES],IDH3A (3419) [CERES],SOD2 (...</td>\n",
       "      <td>0.172,0.078,0.15,0.153,0.194,0.016,0.018,0.116...</td>\n",
       "      <td>['CERES', 'CERES', 'CERES', 'CERES', 'CERES', ...</td>\n",
       "      <td>['ADSL', 'IDH3A', 'SOD2', 'GMPS', 'TFRC', 'SDH...</td>\n",
       "      <td>ADSL</td>\n",
       "      <td>CERES</td>\n",
       "      <td>IDH3A</td>\n",
       "      <td>...</td>\n",
       "      <td>ADAM12</td>\n",
       "      <td>RNA-seq</td>\n",
       "      <td>ATIC</td>\n",
       "      <td>CERES</td>\n",
       "      <td>PLOD2</td>\n",
       "      <td>RNA-seq</td>\n",
       "      <td>NaN</td>\n",
       "      <td>NaN</td>\n",
       "      <td>9</td>\n",
       "      <td>selective_essential</td>\n",
       "    </tr>\n",
       "  </tbody>\n",
       "</table>\n",
       "<p>3 rows × 29 columns</p>\n",
       "</div>"
      ],
      "text/plain": [
       "  target  score_rd  score_full  \\\n",
       "0  ACACA   0.34990     0.05240   \n",
       "1   ACLY   0.39931     0.07137   \n",
       "2   ACO2   0.39965     0.11507   \n",
       "\n",
       "                                             feature  \\\n",
       "0  FASN (2194) [CERES],HSD17B12 (51144) [CERES],A...   \n",
       "1  FASN (2194) [CERES],ACSS1 (ENSG00000154930) [R...   \n",
       "2  ADSL (158) [CERES],IDH3A (3419) [CERES],SOD2 (...   \n",
       "\n",
       "                                           score_ind  \\\n",
       "0                                  0.366,0.001,0.039   \n",
       "1                                   0.242,0.14,0.118   \n",
       "2  0.172,0.078,0.15,0.153,0.194,0.016,0.018,0.116...   \n",
       "\n",
       "                                        feat_sources  \\\n",
       "0                        ['CERES', 'CERES', 'CERES']   \n",
       "1                      ['CERES', 'RNA-seq', 'CERES']   \n",
       "2  ['CERES', 'CERES', 'CERES', 'CERES', 'CERES', ...   \n",
       "\n",
       "                                          feat_genes feat_gene1 feat_source1  \\\n",
       "0                       ['FASN', 'HSD17B12', 'ALG6']       FASN        CERES   \n",
       "1                         ['FASN', 'ACSS1', 'ACACA']       FASN        CERES   \n",
       "2  ['ADSL', 'IDH3A', 'SOD2', 'GMPS', 'TFRC', 'SDH...       ADSL        CERES   \n",
       "\n",
       "  feat_gene2  ... feat_gene7 feat_source7 feat_gene8 feat_source8 feat_gene9  \\\n",
       "0   HSD17B12  ...        NaN          NaN        NaN          NaN        NaN   \n",
       "1      ACSS1  ...        NaN          NaN        NaN          NaN        NaN   \n",
       "2      IDH3A  ...     ADAM12      RNA-seq       ATIC        CERES      PLOD2   \n",
       "\n",
       "  feat_source9 feat_gene10 feat_source10 feats_n     target_dep_class  \n",
       "0          NaN         NaN           NaN       3  selective_essential  \n",
       "1          NaN         NaN           NaN       3  selective_essential  \n",
       "2      RNA-seq         NaN           NaN       9  selective_essential  \n",
       "\n",
       "[3 rows x 29 columns]"
      ]
     },
     "execution_count": 174,
     "metadata": {},
     "output_type": "execute_result"
    }
   ],
   "source": [
    "df_tmp = df_featSummary.merge(dep_class.to_frame(name='target_dep_class'), left_on='target', left_index=False, right_index=True)\n",
    "df_tmp.head(3)"
   ]
  },
  {
   "cell_type": "code",
   "execution_count": 188,
   "metadata": {},
   "outputs": [],
   "source": [
    "df_counts_all = df_tmp.groupby('feat_source1')['feat_source1'].count()\n",
    "df_counts_all.index = [('all', v) for v in df_counts_all.index.values]"
   ]
  },
  {
   "cell_type": "code",
   "execution_count": 189,
   "metadata": {},
   "outputs": [
    {
     "data": {
      "text/plain": [
       "target_dep_class     feat_source1\n",
       "common_essential     CERES            21\n",
       "                     CN                1\n",
       "                     RNA-seq           1\n",
       "common_nonessential  CERES             2\n",
       "selective_essential  CERES           406\n",
       "                     CN               12\n",
       "                     Mut               3\n",
       "                     RNA-seq          80\n",
       "Name: feat_source1, dtype: int64"
      ]
     },
     "execution_count": 189,
     "metadata": {},
     "output_type": "execute_result"
    }
   ],
   "source": [
    "df_counts = df_tmp.groupby(['target_dep_class', 'feat_source1'])['feat_source1'].count()\n",
    "df_counts"
   ]
  },
  {
   "cell_type": "code",
   "execution_count": 190,
   "metadata": {},
   "outputs": [
    {
     "data": {
      "text/plain": [
       "target_dep_class     feat_source1\n",
       "common_essential     CERES            21\n",
       "                     CN                1\n",
       "                     RNA-seq           1\n",
       "common_nonessential  CERES             2\n",
       "selective_essential  CERES           406\n",
       "                     CN               12\n",
       "                     Mut               3\n",
       "                     RNA-seq          80\n",
       "all                  CERES           429\n",
       "                     CN               13\n",
       "                     Mut               3\n",
       "                     RNA-seq          81\n",
       "Name: feat_source1, dtype: int64"
      ]
     },
     "execution_count": 190,
     "metadata": {},
     "output_type": "execute_result"
    }
   ],
   "source": [
    "df_counts_all = pd.concat([df_counts,df_counts_all])\n",
    "df_counts_all"
   ]
  },
  {
   "cell_type": "code",
   "execution_count": 209,
   "metadata": {},
   "outputs": [],
   "source": [
    "df_counts_sel = df_counts_all.loc[[n in ['all', 'selective_essential'] for n in df_counts_all.index.get_level_values('target_dep_class')],:]"
   ]
  },
  {
   "cell_type": "code",
   "execution_count": 210,
   "metadata": {},
   "outputs": [
    {
     "data": {
      "text/html": [
       "<div>\n",
       "<style scoped>\n",
       "    .dataframe tbody tr th:only-of-type {\n",
       "        vertical-align: middle;\n",
       "    }\n",
       "\n",
       "    .dataframe tbody tr th {\n",
       "        vertical-align: top;\n",
       "    }\n",
       "\n",
       "    .dataframe thead th {\n",
       "        text-align: right;\n",
       "    }\n",
       "</style>\n",
       "<table border=\"1\" class=\"dataframe\">\n",
       "  <thead>\n",
       "    <tr style=\"text-align: right;\">\n",
       "      <th>feat_source1</th>\n",
       "      <th>CERES</th>\n",
       "      <th>CN</th>\n",
       "      <th>Mut</th>\n",
       "      <th>RNA-seq</th>\n",
       "    </tr>\n",
       "    <tr>\n",
       "      <th>target_dep_class</th>\n",
       "      <th></th>\n",
       "      <th></th>\n",
       "      <th></th>\n",
       "      <th></th>\n",
       "    </tr>\n",
       "  </thead>\n",
       "  <tbody>\n",
       "    <tr>\n",
       "      <th>selective_essential</th>\n",
       "      <td>406</td>\n",
       "      <td>12</td>\n",
       "      <td>3</td>\n",
       "      <td>80</td>\n",
       "    </tr>\n",
       "    <tr>\n",
       "      <th>all</th>\n",
       "      <td>429</td>\n",
       "      <td>13</td>\n",
       "      <td>3</td>\n",
       "      <td>81</td>\n",
       "    </tr>\n",
       "  </tbody>\n",
       "</table>\n",
       "</div>"
      ],
      "text/plain": [
       "feat_source1         CERES  CN  Mut  RNA-seq\n",
       "target_dep_class                            \n",
       "selective_essential    406  12    3       80\n",
       "all                    429  13    3       81"
      ]
     },
     "execution_count": 210,
     "metadata": {},
     "output_type": "execute_result"
    }
   ],
   "source": [
    "df_counts_sel.unstack(level=-1)"
   ]
  },
  {
   "cell_type": "code",
   "execution_count": 216,
   "metadata": {},
   "outputs": [
    {
     "data": {
      "text/plain": [
       "[Text(0,0.5,''), Text(0.5,0,'Count')]"
      ]
     },
     "execution_count": 216,
     "metadata": {},
     "output_type": "execute_result"
    },
    {
     "data": {
      "image/png": "[encoded data removed]",
      "text/plain": [
       "<Figure size 432x288 with 1 Axes>"
      ]
     },
     "metadata": {
      "needs_background": "light"
     },
     "output_type": "display_data"
    }
   ],
   "source": [
    "ax = df_counts_sel.unstack(level=-1).plot.barh(stacked=True)\n",
    "ax.legend(title=None)\n",
    "ax.set(xlabel='Count', ylabel='')"
   ]
  },
  {
   "cell_type": "code",
   "execution_count": null,
   "metadata": {},
   "outputs": [],
   "source": []
  }
 ],
 "metadata": {
  "kernelspec": {
   "display_name": "Python 3",
   "language": "python",
   "name": "python3"
  },
  "language_info": {
   "codemirror_mode": {
    "name": "ipython",
    "version": 3
   },
   "file_extension": ".py",
   "mimetype": "text/x-python",
   "name": "python",
   "nbconvert_exporter": "python",
   "pygments_lexer": "ipython3",
   "version": "3.7.7"
  },
  "toc": {
   "base_numbering": 1,
   "nav_menu": {
    "height": "252px",
    "width": "406px"
   },
   "number_sections": true,
   "sideBar": true,
   "skip_h1_title": false,
   "title_cell": "Table of Contents",
   "title_sidebar": "Contents",
   "toc_cell": false,
   "toc_position": {
    "height": "calc(100% - 180px)",
    "left": "10px",
    "top": "150px",
    "width": "331.391px"
   },
   "toc_section_display": true,
   "toc_window_display": true
  }
 },
 "nbformat": 4,
 "nbformat_minor": 2
}
