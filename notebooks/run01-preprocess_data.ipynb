{
 "cells": [
  {
   "cell_type": "code",
   "execution_count": 4,
   "metadata": {},
   "outputs": [],
   "source": [
    "from ceres_infer.data import process_data"
   ]
  },
  {
   "cell_type": "code",
   "execution_count": 6,
   "metadata": {
    "pycharm": {
     "name": "#%%\n"
    }
   },
   "outputs": [
    {
     "name": "stdout",
     "output_type": "stream",
     "text": [
      "start data_19Q3 preprocessing...\n",
      "loading rna-seq...\n",
      "loading copy number...\n",
      "loading mutations...\n"
     ]
    },
    {
     "name": "stderr",
     "output_type": "stream",
     "text": [
      "/storage/home/yur97/anaconda3/envs/cnp/lib/python3.7/site-packages/IPython/core/interactiveshell.py:3417: DtypeWarning: Columns (3,19,25,26,27,28,29,30,31) have mixed types.Specify dtype option on import or set low_memory=False.\n",
      "  exec(code_obj, self.user_global_ns, self.user_ns)\n"
     ]
    },
    {
     "name": "stdout",
     "output_type": "stream",
     "text": [
      "loading sample_info...\n",
      "loading Achilles gene effect...\n",
      "processing CERES...\n",
      "There are 43 cell lines out of 625 that will be dropped, due to missing data\n",
      "processing rna-seq...\n",
      "processing copy number...\n",
      "processing mutations...\n",
      "processing sample_info...\n",
      "finalizing processing...\n",
      "filtering: keep only shared samples...\n",
      "filtering: baseline feature pruning...\n",
      "start data_19Q4 preprocessing...\n",
      "loading rna-seq...\n",
      "loading copy number...\n",
      "loading mutations...\n"
     ]
    },
    {
     "name": "stderr",
     "output_type": "stream",
     "text": [
      "/storage/home/yur97/anaconda3/envs/cnp/lib/python3.7/site-packages/IPython/core/interactiveshell.py:3417: DtypeWarning: Columns (4,20,26,27,28,29,30,31,32) have mixed types.Specify dtype option on import or set low_memory=False.\n",
      "  exec(code_obj, self.user_global_ns, self.user_ns)\n"
     ]
    },
    {
     "name": "stdout",
     "output_type": "stream",
     "text": [
      "loading sample_info...\n",
      "loading Achilles gene effect...\n",
      "processing CERES...\n",
      "There are 55 cell lines out of 689 that will be dropped, due to missing data\n",
      "processing rna-seq...\n",
      "processing copy number...\n",
      "processing mutations...\n",
      "processing sample_info...\n",
      "finalizing processing...\n",
      "filtering: keep only shared samples...\n"
     ]
    }
   ],
   "source": [
    "# Preprocess data for gene effect (continuous)\n",
    "preprocess_params = {'useGene_dependency': False,\n",
    "\t\t\t\t\t 'dir_out': '../out/20.0817 proc_data/gene_effect/',\n",
    "\t\t\t\t\t 'dir_depmap': '../data/DepMap/',\n",
    "\t\t\t\t\t 'ext_data':None}\n",
    "\n",
    "proc = process_data(preprocess_params)\n",
    "proc.process()\n",
    "proc.process_new()"
   ]
  },
  {
   "cell_type": "code",
   "execution_count": 2,
   "metadata": {
    "pycharm": {
     "name": "#%%\n"
    }
   },
   "outputs": [
    {
     "name": "stdout",
     "output_type": "stream",
     "text": [
      "loading rna-seq...\n",
      "loading copy number...\n",
      "loading mutations...\n"
     ]
    },
    {
     "name": "stderr",
     "output_type": "stream",
     "text": [
      "/Users/boyangzhao/anaconda/envs/cnp/lib/python3.7/site-packages/IPython/core/interactiveshell.py:3417: DtypeWarning: Columns (3,19,25,26,27,28,29,30,31) have mixed types.Specify dtype option on import or set low_memory=False.\n",
      "  exec(code_obj, self.user_global_ns, self.user_ns)\n"
     ]
    },
    {
     "name": "stdout",
     "output_type": "stream",
     "text": [
      "loading sample_info...\n",
      "loading Achilles gene dependency...\n",
      "processing CERES...\n",
      "There are 43 cell lines out of 625 that will be dropped, due to missing data\n",
      "processing rna-seq...\n",
      "processing copy number...\n",
      "processing mutations...\n",
      "processing sample_info...\n",
      "finalizing processing...\n",
      "filtering: keep only shared samples...\n",
      "filtering: baseline feature pruning...\n",
      "loading rna-seq...\n",
      "loading copy number...\n",
      "loading mutations...\n"
     ]
    },
    {
     "name": "stderr",
     "output_type": "stream",
     "text": [
      "/Users/boyangzhao/anaconda/envs/cnp/lib/python3.7/site-packages/IPython/core/interactiveshell.py:3417: DtypeWarning: Columns (3,19,25,26,27,28,29,30,31) have mixed types.Specify dtype option on import or set low_memory=False.\n",
      "  exec(code_obj, self.user_global_ns, self.user_ns)\n"
     ]
    },
    {
     "name": "stdout",
     "output_type": "stream",
     "text": [
      "loading sample_info...\n",
      "loading Achilles gene dependency...\n",
      "processing CERES...\n",
      "There are 43 cell lines out of 625 that will be dropped, due to missing data\n",
      "processing rna-seq...\n",
      "processing copy number...\n",
      "processing mutations...\n",
      "processing sample_info...\n",
      "finalizing processing...\n",
      "loading rna-seq...\n",
      "loading copy number...\n",
      "loading mutations...\n"
     ]
    },
    {
     "name": "stderr",
     "output_type": "stream",
     "text": [
      "/Users/boyangzhao/anaconda/envs/cnp/lib/python3.7/site-packages/IPython/core/interactiveshell.py:3417: DtypeWarning: Columns (4,20,26,27,28,29,30,31,32) have mixed types.Specify dtype option on import or set low_memory=False.\n",
      "  exec(code_obj, self.user_global_ns, self.user_ns)\n"
     ]
    },
    {
     "name": "stdout",
     "output_type": "stream",
     "text": [
      "loading sample_info...\n",
      "loading Achilles gene dependency...\n",
      "processing CERES...\n",
      "There are 55 cell lines out of 689 that will be dropped, due to missing data\n",
      "processing rna-seq...\n",
      "processing copy number...\n",
      "processing mutations...\n",
      "processing sample_info...\n",
      "finalizing processing...\n",
      "filtering: keep only shared samples...\n"
     ]
    },
    {
     "data": {
      "text/plain": [
       "(<ceres_infer.data.depmap_data at 0x1142040d0>,\n",
       " <ceres_infer.data.depmap_data at 0x12756ed90>)"
      ]
     },
     "execution_count": 2,
     "metadata": {},
     "output_type": "execute_result"
    }
   ],
   "source": [
    "# Preprocess data for gene dependency (categorical)\n",
    "preprocess_params = {'useGene_dependency': True,\n",
    "\t\t\t\t\t 'dir_out': '../out/20.0817 proc_data/gene_dependency/',\n",
    "\t\t\t\t\t 'dir_depmap': '../data/DepMap/',\n",
    "\t\t\t\t\t 'ext_data':None}\n",
    "\n",
    "proc = process_data(preprocess_params)\n",
    "proc.process()\n",
    "proc.process_new()"
   ]
  },
  {
   "cell_type": "code",
   "execution_count": null,
   "metadata": {},
   "outputs": [],
   "source": []
  }
 ],
 "metadata": {
  "kernelspec": {
   "display_name": "Python 3",
   "language": "python",
   "name": "python3"
  },
  "language_info": {
   "codemirror_mode": {
    "name": "ipython",
    "version": 3
   },
   "file_extension": ".py",
   "mimetype": "text/x-python",
   "name": "python",
   "nbconvert_exporter": "python",
   "pygments_lexer": "ipython3",
   "version": "3.7.9"
  },
  "toc": {
   "base_numbering": 1,
   "nav_menu": {},
   "number_sections": true,
   "sideBar": true,
   "skip_h1_title": false,
   "title_cell": "Table of Contents",
   "title_sidebar": "Contents",
   "toc_cell": false,
   "toc_position": {},
   "toc_section_display": true,
   "toc_window_display": true
  }
 },
 "nbformat": 4,
 "nbformat_minor": 1
}
