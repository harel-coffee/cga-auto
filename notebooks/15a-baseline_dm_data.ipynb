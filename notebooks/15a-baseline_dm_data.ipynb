{
 "cells": [
  {
   "cell_type": "code",
   "execution_count": 1,
   "metadata": {},
   "outputs": [],
   "source": [
    "import os\n",
    "import numpy as np\n",
    "import seaborn as sns\n",
    "import matplotlib.pyplot as plt\n",
    "import pickle\n",
    "import pandas as pd\n",
    "from tqdm import tqdm\n",
    "from ceres_infer.data import stats_Crispr"
   ]
  },
  {
   "cell_type": "code",
   "execution_count": 2,
   "metadata": {},
   "outputs": [],
   "source": [
    "dm_data_pkl_file = '../out/20.0817 proc_data/gene_effect/dm_data.pkl'\n",
    "outdir = '../out/20.0817 proc_data_baseline/gene_effect/' # output directory\n",
    "\n",
    "if not os.path.exists(outdir):\n",
    "    os.makedirs(outdir)"
   ]
  },
  {
   "cell_type": "code",
   "execution_count": 4,
   "metadata": {},
   "outputs": [],
   "source": [
    "#load data\n",
    "dm_data = pickle.load(open(dm_data_pkl_file,'rb'))"
   ]
  },
  {
   "cell_type": "markdown",
   "metadata": {},
   "source": [
    "# Plots"
   ]
  },
  {
   "cell_type": "code",
   "execution_count": 12,
   "metadata": {},
   "outputs": [
    {
     "name": "stderr",
     "output_type": "stream",
     "text": [
      "/Users/boyangzhao/anaconda/envs/cnp/lib/python3.7/site-packages/tqdm/std.py:668: FutureWarning: The Panel class is removed from pandas. Accessing it from the top-level namespace will also be removed in the next version\n",
      "  from pandas import Panel\n"
     ]
    }
   ],
   "source": [
    "df_crispr_stats = stats_Crispr(dm_data)\n",
    "\n",
    "#----------------------\n",
    "#plot stats\n",
    "plt.figure()\n",
    "ax = sns.distplot(df_crispr_stats['avg'])\n",
    "ax.set(xlabel='CERES [mean]', ylabel='Freq')\n",
    "plt.savefig(\"%s/dist_ceres_mean.pdf\" % outdir)\n",
    "plt.close()\n",
    "\n",
    "plt.figure()\n",
    "ax = sns.distplot(df_crispr_stats['std'])\n",
    "ax.set(xlabel='CERES [SD]', ylabel='Freq')\n",
    "plt.savefig(\"%s/dist_ceres_sd.pdf\" % outdir)\n",
    "plt.close()\n",
    "\n",
    "plt.figure()\n",
    "ax = sns.scatterplot(x='diff',y='std', data=df_crispr_stats,s=90)\n",
    "ax.set(xlabel='CERES range', ylabel='CERES sd')\n",
    "plt.savefig(\"%s/scatter_range.sd.png\" % outdir)\n",
    "plt.close()\n",
    "\n",
    "plt.figure()\n",
    "ax = sns.scatterplot(x='avg',y='std', data=df_crispr_stats,s=90)\n",
    "ax.set(xlabel='CERES mean', ylabel='CERES sd')\n",
    "plt.savefig(\"%s/scatter_mean_sd.png\" % outdir)\n",
    "plt.close()\n",
    "\n",
    "plt.figure()\n",
    "ax = sns.scatterplot(x='avg',y='diff', data=df_crispr_stats,s=90)\n",
    "ax.set(xlabel='CERES mean', ylabel='CERES range')\n",
    "plt.savefig(\"%s/scatter_mean_range.png\" % outdir)\n",
    "plt.close()"
   ]
  },
  {
   "cell_type": "markdown",
   "metadata": {},
   "source": [
    "# Gene classification (essentiality)"
   ]
  },
  {
   "cell_type": "markdown",
   "metadata": {},
   "source": [
    "**Derive the gene classifications based on the gene dependency (probability values)**"
   ]
  },
  {
   "cell_type": "code",
   "execution_count": 41,
   "metadata": {},
   "outputs": [],
   "source": [
    "# get gene dependency classifications (selective essential, common essentials, common non-essential)\n",
    "# gene dependency is the 'probability that knocking out the gene has a real depletion effect using gene_effect'\n",
    "df_genedep = pd.read_csv('%s/%s' % (dm_data.dir_datasets, dm_data.fname_gene_dependency), header=0, index_col=0)\n",
    "df_genedep.columns = df_genedep.columns.str.extract('^(.*)\\s').squeeze().values\n",
    "\n",
    "def classifyDep(x):\n",
    "    if all(x > 0.5):\n",
    "        return 'common_essential'\n",
    "    elif all(x < 0.5):\n",
    "        return 'common_nonessential'\n",
    "    else:\n",
    "        return 'selective_essential'\n",
    "\n",
    "dep_class = df_genedep.apply(lambda x: classifyDep(x), axis=0)\n",
    "dep_class.to_csv(\"%s/gene_essential_classification.csv\" % outdir, header=False, index=True)"
   ]
  },
  {
   "cell_type": "code",
   "execution_count": 42,
   "metadata": {},
   "outputs": [
    {
     "data": {
      "text/plain": [
       "selective_essential    10587\n",
       "common_nonessential     7322\n",
       "common_essential         424\n",
       "dtype: int64"
      ]
     },
     "execution_count": 42,
     "metadata": {},
     "output_type": "execute_result"
    }
   ],
   "source": [
    "dep_class.value_counts()"
   ]
  },
  {
   "cell_type": "code",
   "execution_count": 43,
   "metadata": {},
   "outputs": [
    {
     "data": {
      "text/plain": [
       "selective_essential    0.577483\n",
       "common_nonessential    0.399389\n",
       "common_essential       0.023128\n",
       "dtype: float64"
      ]
     },
     "execution_count": 43,
     "metadata": {},
     "output_type": "execute_result"
    }
   ],
   "source": [
    "dep_class.value_counts() / dep_class.shape[0] # percentage"
   ]
  },
  {
   "cell_type": "markdown",
   "metadata": {},
   "source": [
    "**Derive the gene classifications based on the gene effects**"
   ]
  },
  {
   "cell_type": "code",
   "execution_count": 13,
   "metadata": {},
   "outputs": [],
   "source": [
    "def classifyDep2(x):\n",
    "    if all(x < -0.5):\n",
    "        return 'common_essential (<-0.5)'\n",
    "    elif all((x < 0.5) & (x > -0.5)):\n",
    "        return 'common_nonessential (near 0s)'\n",
    "    else:\n",
    "        return 'selective_essential (others)'\n",
    "\n",
    "dep_class2 = dm_data.df_crispr.apply(lambda x: classifyDep2(x), axis=0)"
   ]
  },
  {
   "cell_type": "code",
   "execution_count": 14,
   "metadata": {},
   "outputs": [
    {
     "data": {
      "text/plain": [
       "selective_essential (others)     15706\n",
       "common_nonessential (near 0s)     2090\n",
       "common_essential (<-0.5)           537\n",
       "dtype: int64"
      ]
     },
     "execution_count": 14,
     "metadata": {},
     "output_type": "execute_result"
    }
   ],
   "source": [
    "dep_class2.value_counts()"
   ]
  },
  {
   "cell_type": "code",
   "execution_count": 15,
   "metadata": {},
   "outputs": [
    {
     "data": {
      "text/plain": [
       "selective_essential (others)     0.856706\n",
       "common_nonessential (near 0s)    0.114002\n",
       "common_essential (<-0.5)         0.029291\n",
       "dtype: float64"
      ]
     },
     "execution_count": 15,
     "metadata": {},
     "output_type": "execute_result"
    }
   ],
   "source": [
    "dep_class2.value_counts() / dep_class2.shape[0] # percentage"
   ]
  },
  {
   "cell_type": "markdown",
   "metadata": {},
   "source": [
    "**Looking at range**"
   ]
  },
  {
   "cell_type": "code",
   "execution_count": 5,
   "metadata": {},
   "outputs": [],
   "source": [
    "range_vals = dm_data.df_crispr.apply(lambda x: max(x)-min(x), axis=0)"
   ]
  },
  {
   "cell_type": "code",
   "execution_count": 12,
   "metadata": {},
   "outputs": [
    {
     "data": {
      "text/plain": [
       "False    11966\n",
       "True      6367\n",
       "dtype: int64"
      ]
     },
     "execution_count": 12,
     "metadata": {},
     "output_type": "execute_result"
    }
   ],
   "source": [
    "df = range_vals < 1\n",
    "df.value_counts()"
   ]
  },
  {
   "cell_type": "code",
   "execution_count": null,
   "metadata": {},
   "outputs": [],
   "source": []
  }
 ],
 "metadata": {
  "kernelspec": {
   "display_name": "Python 3",
   "language": "python",
   "name": "python3"
  },
  "language_info": {
   "codemirror_mode": {
    "name": "ipython",
    "version": 3
   },
   "file_extension": ".py",
   "mimetype": "text/x-python",
   "name": "python",
   "nbconvert_exporter": "python",
   "pygments_lexer": "ipython3",
   "version": "3.7.7"
  },
  "toc": {
   "base_numbering": 1,
   "nav_menu": {},
   "number_sections": true,
   "sideBar": true,
   "skip_h1_title": false,
   "title_cell": "Table of Contents",
   "title_sidebar": "Contents",
   "toc_cell": false,
   "toc_position": {},
   "toc_section_display": true,
   "toc_window_display": true
  }
 },
 "nbformat": 4,
 "nbformat_minor": 4
}
