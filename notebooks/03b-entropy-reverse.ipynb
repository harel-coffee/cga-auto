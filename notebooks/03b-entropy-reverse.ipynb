{
 "cells": [
  {
   "cell_type": "markdown",
   "metadata": {},
   "source": [
    "#### Entropy\n",
    "Like entropy.ipynb, but source is now the gene set, and target is the L100 gene set"
   ]
  },
  {
   "cell_type": "code",
   "execution_count": 38,
   "metadata": {},
   "outputs": [],
   "source": [
    "import pandas as pd\n",
    "import re\n",
    "import seaborn as sns\n",
    "import matplotlib.pyplot as plt\n",
    "import numpy as np"
   ]
  },
  {
   "cell_type": "code",
   "execution_count": 39,
   "metadata": {},
   "outputs": [],
   "source": [
    "def getGS(fname):\n",
    "    df = pd.read_csv(fname, delimiter='_', header=None)\n",
    "    df['gs'] = df.loc[:,2].str.replace('^\\d+\\t\\t','').str.split('\\t')\n",
    "    df.drop([0,1,2], inplace=True, axis=1)\n",
    "    return df.copy()\n",
    "\n",
    "df_assoc = getGS('../out/20.0216 feat/reg_univariate_rf/network/gs.txt') #get the reg univariate-rf results\n",
    "df_infer = getGS('../out/20.0216 feat/reg_rf_boruta/network/gs.txt') #get the rf-boruta results\n",
    "\n",
    "# L100 results\n",
    "df_L100 = pd.read_csv('../out/19.1013 tight cluster/landmarks_n100_k100.csv')"
   ]
  },
  {
   "cell_type": "code",
   "execution_count": 12,
   "metadata": {},
   "outputs": [],
   "source": [
    "df_assoc['gs_size'] = df_assoc.apply(lambda x: len(x[0]), axis=1)\n",
    "df_infer['gs_size'] = df_infer.apply(lambda x: len(x[0]), axis=1)"
   ]
  },
  {
   "cell_type": "code",
   "execution_count": 13,
   "metadata": {},
   "outputs": [
    {
     "data": {
      "text/html": [
       "<div>\n",
       "<style scoped>\n",
       "    .dataframe tbody tr th:only-of-type {\n",
       "        vertical-align: middle;\n",
       "    }\n",
       "\n",
       "    .dataframe tbody tr th {\n",
       "        vertical-align: top;\n",
       "    }\n",
       "\n",
       "    .dataframe thead th {\n",
       "        text-align: right;\n",
       "    }\n",
       "</style>\n",
       "<table border=\"1\" class=\"dataframe\">\n",
       "  <thead>\n",
       "    <tr style=\"text-align: right;\">\n",
       "      <th></th>\n",
       "      <th>gs</th>\n",
       "      <th>gs_size</th>\n",
       "    </tr>\n",
       "  </thead>\n",
       "  <tbody>\n",
       "    <tr>\n",
       "      <th>0</th>\n",
       "      <td>[FASN, ACACA, CHP1, GOLGA8EP, GPAT4, GOLGA8CP,...</td>\n",
       "      <td>103</td>\n",
       "    </tr>\n",
       "    <tr>\n",
       "      <th>1</th>\n",
       "      <td>[ACLY, ACSS1, TFRC, MTHFD1, LCA5, AP2M1, PAICS...</td>\n",
       "      <td>117</td>\n",
       "    </tr>\n",
       "    <tr>\n",
       "      <th>2</th>\n",
       "      <td>[SCD, ACSL1, ACSL3, C12orf49, MIR137HG, AC0087...</td>\n",
       "      <td>80</td>\n",
       "    </tr>\n",
       "    <tr>\n",
       "      <th>3</th>\n",
       "      <td>[IL16, SLC37A3, USP22, ATXN7L3, ENY2, SUPT20H,...</td>\n",
       "      <td>82</td>\n",
       "    </tr>\n",
       "    <tr>\n",
       "      <th>4</th>\n",
       "      <td>[SOD2, POP5, AK6, PARN, EXOSC10, NOL6, TAMM41,...</td>\n",
       "      <td>167</td>\n",
       "    </tr>\n",
       "  </tbody>\n",
       "</table>\n",
       "</div>"
      ],
      "text/plain": [
       "                                                  gs  gs_size\n",
       "0  [FASN, ACACA, CHP1, GOLGA8EP, GPAT4, GOLGA8CP,...      103\n",
       "1  [ACLY, ACSS1, TFRC, MTHFD1, LCA5, AP2M1, PAICS...      117\n",
       "2  [SCD, ACSL1, ACSL3, C12orf49, MIR137HG, AC0087...       80\n",
       "3  [IL16, SLC37A3, USP22, ATXN7L3, ENY2, SUPT20H,...       82\n",
       "4  [SOD2, POP5, AK6, PARN, EXOSC10, NOL6, TAMM41,...      167"
      ]
     },
     "execution_count": 13,
     "metadata": {},
     "output_type": "execute_result"
    }
   ],
   "source": [
    "df_assoc.head()"
   ]
  },
  {
   "cell_type": "code",
   "execution_count": 14,
   "metadata": {},
   "outputs": [
    {
     "data": {
      "text/html": [
       "<div>\n",
       "<style scoped>\n",
       "    .dataframe tbody tr th:only-of-type {\n",
       "        vertical-align: middle;\n",
       "    }\n",
       "\n",
       "    .dataframe tbody tr th {\n",
       "        vertical-align: top;\n",
       "    }\n",
       "\n",
       "    .dataframe thead th {\n",
       "        text-align: right;\n",
       "    }\n",
       "</style>\n",
       "<table border=\"1\" class=\"dataframe\">\n",
       "  <thead>\n",
       "    <tr style=\"text-align: right;\">\n",
       "      <th></th>\n",
       "      <th>cluster</th>\n",
       "      <th>genes</th>\n",
       "      <th>size</th>\n",
       "      <th>landmark</th>\n",
       "      <th>gs</th>\n",
       "      <th>gs_size</th>\n",
       "    </tr>\n",
       "  </thead>\n",
       "  <tbody>\n",
       "    <tr>\n",
       "      <th>0</th>\n",
       "      <td>1</td>\n",
       "      <td>ABHD8..79575.,ACP5..54.,ACTL9..284382.,ADAMTS1...</td>\n",
       "      <td>224</td>\n",
       "      <td>TMEM167A (153339)</td>\n",
       "      <td>[TMEM167A, ABHD8, ACP5, ACTL9, ADAMTS10, AKAP8...</td>\n",
       "      <td>225</td>\n",
       "    </tr>\n",
       "    <tr>\n",
       "      <th>1</th>\n",
       "      <td>2</td>\n",
       "      <td>AADAT..51166.,ABAT..18.,ACTL6B..51412.,ADHFE1....</td>\n",
       "      <td>226</td>\n",
       "      <td>CDC40 (51362)</td>\n",
       "      <td>[CDC40, AADAT, ABAT, ACTL6B, ADHFE1, AEBP2, AF...</td>\n",
       "      <td>227</td>\n",
       "    </tr>\n",
       "    <tr>\n",
       "      <th>2</th>\n",
       "      <td>3</td>\n",
       "      <td>AASS..10157.,ADI1..55256.,ADO..84890.,AES..166...</td>\n",
       "      <td>261</td>\n",
       "      <td>PBRM1 (55193)</td>\n",
       "      <td>[PBRM1, AASS, ADI1, ADO, AES, AGXT, AGXT2, AIM...</td>\n",
       "      <td>262</td>\n",
       "    </tr>\n",
       "    <tr>\n",
       "      <th>3</th>\n",
       "      <td>4</td>\n",
       "      <td>ACTR5..79913.,ADRM1..11047.,AICDA..57379.,ARID...</td>\n",
       "      <td>182</td>\n",
       "      <td>PDS5A (23244)</td>\n",
       "      <td>[PDS5A, ACTR5, ADRM1, AICDA, ARID1B, ARID3C, A...</td>\n",
       "      <td>183</td>\n",
       "    </tr>\n",
       "    <tr>\n",
       "      <th>4</th>\n",
       "      <td>5</td>\n",
       "      <td>ABT1..29777.,ACD..65057.,ACTR8..93973.,AFF1..4...</td>\n",
       "      <td>173</td>\n",
       "      <td>SMARCE1 (6605)</td>\n",
       "      <td>[SMARCE1, ABT1, ACD, ACTR8, AFF1, AFF4, AIP, A...</td>\n",
       "      <td>174</td>\n",
       "    </tr>\n",
       "  </tbody>\n",
       "</table>\n",
       "</div>"
      ],
      "text/plain": [
       "   cluster                                              genes  size  \\\n",
       "0        1  ABHD8..79575.,ACP5..54.,ACTL9..284382.,ADAMTS1...   224   \n",
       "1        2  AADAT..51166.,ABAT..18.,ACTL6B..51412.,ADHFE1....   226   \n",
       "2        3  AASS..10157.,ADI1..55256.,ADO..84890.,AES..166...   261   \n",
       "3        4  ACTR5..79913.,ADRM1..11047.,AICDA..57379.,ARID...   182   \n",
       "4        5  ABT1..29777.,ACD..65057.,ACTR8..93973.,AFF1..4...   173   \n",
       "\n",
       "            landmark                                                 gs  \\\n",
       "0  TMEM167A (153339)  [TMEM167A, ABHD8, ACP5, ACTL9, ADAMTS10, AKAP8...   \n",
       "1      CDC40 (51362)  [CDC40, AADAT, ABAT, ACTL6B, ADHFE1, AEBP2, AF...   \n",
       "2      PBRM1 (55193)  [PBRM1, AASS, ADI1, ADO, AES, AGXT, AGXT2, AIM...   \n",
       "3      PDS5A (23244)  [PDS5A, ACTR5, ADRM1, AICDA, ARID1B, ARID3C, A...   \n",
       "4     SMARCE1 (6605)  [SMARCE1, ABT1, ACD, ACTR8, AFF1, AFF4, AIP, A...   \n",
       "\n",
       "   gs_size  \n",
       "0      225  \n",
       "1      227  \n",
       "2      262  \n",
       "3      183  \n",
       "4      174  "
      ]
     },
     "execution_count": 14,
     "metadata": {},
     "output_type": "execute_result"
    }
   ],
   "source": [
    "# retrieve the genes L100\n",
    "df_L100['gs'] = df_L100.genes.apply(lambda x: re.findall('(\\w*)\\.\\.', x))\n",
    "df_L100['gs'] = df_L100.apply(lambda x: re.findall('(\\w*)\\s', x['landmark'])+x['gs'], axis=1)\n",
    "df_L100['gs_size'] = df_L100.apply(lambda x: len(x['gs']), axis=1)\n",
    "df_L100.head()"
   ]
  },
  {
   "cell_type": "markdown",
   "metadata": {},
   "source": [
    "#### calculate multinomial probability, and entropy"
   ]
  },
  {
   "cell_type": "code",
   "execution_count": 15,
   "metadata": {},
   "outputs": [],
   "source": [
    "from scipy.stats import multinomial\n",
    "\n",
    "def calcOverlap(df_source, df_target):\n",
    "    score = 1\n",
    "    gs_target = df_target['gs']\n",
    "    gs_target_sizes = df_target['gs_size']\n",
    "    gs_source = df_source['gs']\n",
    "    \n",
    "    overlap_n = []\n",
    "    for gs in gs_target:\n",
    "        overlap_n.append( len(set(gs).intersection(set(gs_source))) )\n",
    "\n",
    "    p = multinomial.pmf(overlap_n, n=sum(overlap_n), p = gs_target_sizes.values/gs_target_sizes.sum() )\n",
    "    return p\n",
    "\n",
    "pmfs_assoc = df_assoc.apply(calcOverlap, df_target=df_L100, axis=1)\n",
    "pmfs_infer = df_infer.apply(calcOverlap, df_target=df_L100, axis=1)"
   ]
  },
  {
   "cell_type": "code",
   "execution_count": 32,
   "metadata": {},
   "outputs": [],
   "source": [
    "df = pd.DataFrame({'assoc': pmfs_assoc,\n",
    "                   'infer': pmfs_infer,})"
   ]
  },
  {
   "cell_type": "code",
   "execution_count": 33,
   "metadata": {},
   "outputs": [
    {
     "data": {
      "text/html": [
       "<div>\n",
       "<style scoped>\n",
       "    .dataframe tbody tr th:only-of-type {\n",
       "        vertical-align: middle;\n",
       "    }\n",
       "\n",
       "    .dataframe tbody tr th {\n",
       "        vertical-align: top;\n",
       "    }\n",
       "\n",
       "    .dataframe thead th {\n",
       "        text-align: right;\n",
       "    }\n",
       "</style>\n",
       "<table border=\"1\" class=\"dataframe\">\n",
       "  <thead>\n",
       "    <tr style=\"text-align: right;\">\n",
       "      <th></th>\n",
       "      <th>assoc</th>\n",
       "      <th>infer</th>\n",
       "    </tr>\n",
       "  </thead>\n",
       "  <tbody>\n",
       "    <tr>\n",
       "      <th>count</th>\n",
       "      <td>4.700000e+01</td>\n",
       "      <td>4.000000e+01</td>\n",
       "    </tr>\n",
       "    <tr>\n",
       "      <th>mean</th>\n",
       "      <td>1.341450e-04</td>\n",
       "      <td>3.334990e-08</td>\n",
       "    </tr>\n",
       "    <tr>\n",
       "      <th>std</th>\n",
       "      <td>9.195982e-04</td>\n",
       "      <td>1.480534e-07</td>\n",
       "    </tr>\n",
       "    <tr>\n",
       "      <th>min</th>\n",
       "      <td>3.740258e-157</td>\n",
       "      <td>1.412001e-162</td>\n",
       "    </tr>\n",
       "    <tr>\n",
       "      <th>25%</th>\n",
       "      <td>3.002231e-54</td>\n",
       "      <td>8.701890e-64</td>\n",
       "    </tr>\n",
       "    <tr>\n",
       "      <th>50%</th>\n",
       "      <td>5.214500e-41</td>\n",
       "      <td>4.048964e-45</td>\n",
       "    </tr>\n",
       "    <tr>\n",
       "      <th>75%</th>\n",
       "      <td>8.796155e-18</td>\n",
       "      <td>7.518320e-34</td>\n",
       "    </tr>\n",
       "    <tr>\n",
       "      <th>max</th>\n",
       "      <td>6.304456e-03</td>\n",
       "      <td>7.678188e-07</td>\n",
       "    </tr>\n",
       "  </tbody>\n",
       "</table>\n",
       "</div>"
      ],
      "text/plain": [
       "               assoc          infer\n",
       "count   4.700000e+01   4.000000e+01\n",
       "mean    1.341450e-04   3.334990e-08\n",
       "std     9.195982e-04   1.480534e-07\n",
       "min    3.740258e-157  1.412001e-162\n",
       "25%     3.002231e-54   8.701890e-64\n",
       "50%     5.214500e-41   4.048964e-45\n",
       "75%     8.796155e-18   7.518320e-34\n",
       "max     6.304456e-03   7.678188e-07"
      ]
     },
     "execution_count": 33,
     "metadata": {},
     "output_type": "execute_result"
    }
   ],
   "source": [
    "df.describe()"
   ]
  },
  {
   "cell_type": "code",
   "execution_count": 37,
   "metadata": {},
   "outputs": [
    {
     "data": {
      "text/html": [
       "<div>\n",
       "<style scoped>\n",
       "    .dataframe tbody tr th:only-of-type {\n",
       "        vertical-align: middle;\n",
       "    }\n",
       "\n",
       "    .dataframe tbody tr th {\n",
       "        vertical-align: top;\n",
       "    }\n",
       "\n",
       "    .dataframe thead th {\n",
       "        text-align: right;\n",
       "    }\n",
       "</style>\n",
       "<table border=\"1\" class=\"dataframe\">\n",
       "  <thead>\n",
       "    <tr style=\"text-align: right;\">\n",
       "      <th></th>\n",
       "      <th>assoc</th>\n",
       "      <th>infer</th>\n",
       "    </tr>\n",
       "  </thead>\n",
       "  <tbody>\n",
       "    <tr>\n",
       "      <th>entropy</th>\n",
       "      <td>0.031947</td>\n",
       "      <td>0.000019</td>\n",
       "    </tr>\n",
       "  </tbody>\n",
       "</table>\n",
       "</div>"
      ],
      "text/plain": [
       "            assoc     infer\n",
       "entropy  0.031947  0.000019"
      ]
     },
     "execution_count": 37,
     "metadata": {},
     "output_type": "execute_result"
    }
   ],
   "source": [
    "pd.DataFrame([{'assoc':-np.sum(df.assoc* np.log(df.assoc)),\n",
    "              'infer':-np.sum(df.infer* np.log(df.infer))}], index=['entropy'])"
   ]
  },
  {
   "cell_type": "markdown",
   "metadata": {},
   "source": [
    "#### Calculate simply overlap counts"
   ]
  },
  {
   "cell_type": "code",
   "execution_count": 20,
   "metadata": {},
   "outputs": [],
   "source": [
    "def calcOverlap(df_source, df_target):\n",
    "    score = 1\n",
    "    gs_target = df_target['gs']\n",
    "    gs_target_sizes = df_target['gs_size']\n",
    "    gs_source = df_source['gs']\n",
    "    \n",
    "    overlap_n = []\n",
    "    for gs in gs_target:\n",
    "        overlap_n.append( len(set(gs).intersection(set(gs_source))) )\n",
    "        \n",
    "    return overlap_n\n",
    "\n",
    "overlapN_assoc = df_assoc.apply(calcOverlap, df_target=df_L100, axis=1)\n",
    "overlapN_infer = df_infer.apply(calcOverlap, df_target=df_L100, axis=1)"
   ]
  },
  {
   "cell_type": "code",
   "execution_count": 21,
   "metadata": {},
   "outputs": [
    {
     "data": {
      "image/png": "[encoded data removed]",
      "text/plain": [
       "<Figure size 432x288 with 1 Axes>"
      ]
     },
     "metadata": {
      "needs_background": "light"
     },
     "output_type": "display_data"
    }
   ],
   "source": [
    "sns.distplot(overlapN_infer.apply(lambda x: np.mean(x)))\n",
    "sns.distplot(overlapN_assoc.apply(lambda x: np.mean(x)))\n",
    "\n",
    "plt.legend(title='list',loc='upper right', labels=['infer_only', 'assoc_only'])\n",
    "plt.xlabel('genes overlap between each L100 group and list')\n",
    "plt.show()"
   ]
  },
  {
   "cell_type": "code",
   "execution_count": 22,
   "metadata": {},
   "outputs": [
    {
     "data": {
      "image/png": "[encoded data removed]",
      "text/plain": [
       "<Figure size 432x288 with 1 Axes>"
      ]
     },
     "metadata": {
      "needs_background": "light"
     },
     "output_type": "display_data"
    }
   ],
   "source": [
    "df1 = pd.DataFrame({'val':overlapN_infer.apply(lambda x: np.mean(x)), 'method':'infer only'})\n",
    "df2 = pd.DataFrame({'val':overlapN_assoc.apply(lambda x: np.mean(x)), 'method':'assoc only'})\n",
    "df = pd.concat([df1,df2])\n",
    "sns.boxplot('method', 'val', data = df)\n",
    "plt.ylabel('genes overlap between\\neach L100 group and list')\n",
    "plt.show()"
   ]
  },
  {
   "cell_type": "code",
   "execution_count": null,
   "metadata": {},
   "outputs": [],
   "source": []
  }
 ],
 "metadata": {
  "kernelspec": {
   "display_name": "Python 3",
   "language": "python",
   "name": "python3"
  },
  "language_info": {
   "codemirror_mode": {
    "name": "ipython",
    "version": 3
   },
   "file_extension": ".py",
   "mimetype": "text/x-python",
   "name": "python",
   "nbconvert_exporter": "python",
   "pygments_lexer": "ipython3",
   "version": "3.7.7"
  }
 },
 "nbformat": 4,
 "nbformat_minor": 2
}
