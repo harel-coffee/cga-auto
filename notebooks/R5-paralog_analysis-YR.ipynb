{
 "cells": [
  {
   "cell_type": "code",
   "execution_count": 24,
   "metadata": {},
   "outputs": [],
   "source": [
    "# This script is for analysing if feature and target are paralogs. The code can be integrated into figures.py\n",
    "# Author: Yiyun\n",
    "\n",
    "import sys\n",
    "sys.path.append('../')\n",
    "\n",
    "from src.ceres_infer.analyses import *\n",
    "from ast import literal_eval"
   ]
  },
  {
   "cell_type": "code",
   "execution_count": 25,
   "metadata": {},
   "outputs": [],
   "source": [
    "### Load data and setting\n",
    "# set color\n",
    "src_colors = {'CERES':(214/255, 39/255, 40/255, 1.0), #red\n",
    "              'RNA-seq':(31/255, 119/255, 180/255, 1.0), #blue\n",
    "              'CN':(255/255, 127/255, 14/255, 1.0), #orange\n",
    "              'Mut':(44/255, 160/255, 44/255, 1.0), #green\n",
    "              'Lineage':(188/255, 189/255, 34/255, 1.0), #yellow\n",
    "              'nan':(220/255, 220/255, 220/255, 1.0)} #grey\n",
    "# output directory\n",
    "dir_out = '../out'\n",
    "\n",
    "# load summary data\n",
    "dir_in_res = '../out/20.0216 feat/reg_rf_boruta'\n",
    "dir_in_anlyz = os.path.join(dir_in_res, 'anlyz_filtered')\n",
    "df_featSummary = pd.read_csv(os.path.join(dir_in_anlyz, 'feat_summary.csv')) #feature summary\n",
    "df_featSummary['feat_sources'] = df_featSummary['feat_sources'].apply(literal_eval)\n",
    "df_featSummary['feat_genes'] = df_featSummary['feat_genes'].apply(literal_eval)"
   ]
  },
  {
   "cell_type": "code",
   "execution_count": 26,
   "metadata": {},
   "outputs": [],
   "source": [
    "### Modified code\n",
    "# parse geneset data and read line by line\n",
    "def parseGeneset_m(fname):\n",
    "    genesets = dict()\n",
    "    f = open(fname)\n",
    "    for x in f:\n",
    "        gs_name = re.sub('\\\\t\\\\t.*\\\\n','',x)\n",
    "        genes = re.sub('.*\\\\t\\\\t','',x).replace('\\t\\n','').split(sep='\\t')\n",
    "        genes = np.hstack(genes)\n",
    "        genesets[gs_name] = genes\n",
    "    f.close()\n",
    "    \n",
    "    return genesets\n",
    "\n",
    "# not generating feat suammry; add paralog file; delete combined geneset\n",
    "def anlyz_varExp_feats_m(feat_summary, gs_dir = '../out/', outdir_sub='../out'):\n",
    "    # analyze features\n",
    "    if(np.logical_not(os.path.exists(outdir_sub))): os.mkdir(outdir_sub)\n",
    "    \n",
    "    # paralog analysis\n",
    "    genesets = parseGeneset_m('%s/paralog.txt' % gs_dir)\n",
    "    sameGs_counts,sameGs_src_counts,feat_summary_annot = getGrpCounts(isInSameGS, isInSameGS_sources, feat_summary, genesets)\n",
    "    plotGrpCounts(sameGs_counts, sameGs_src_counts, feat_summary_annot, 'in paralog list', outdir_sub)"
   ]
  },
  {
   "cell_type": "code",
   "execution_count": 27,
   "metadata": {},
   "outputs": [],
   "source": [
    "### Just copied the code because importing wasn't successful\n",
    "def gen_feat_pies(sameGrp_counts, sameGrp_src_counts, feat_summary_annot, dir_out, fnames, labels):\n",
    "    # pie chart of counts in/not in group\n",
    "    c = sameGrp_counts.loc[sameGrp_counts.importanceRank == 'top10', 'count'][0]\n",
    "    df_counts = pd.Series({labels[0]: c,\n",
    "                           labels[1]: feat_summary_annot.shape[0] - c})\n",
    "    plotCountsPie(df_counts,\n",
    "                  None,\n",
    "                  fnames[0],\n",
    "                  dir_out)\n",
    "\n",
    "    # pie chart of feature source\n",
    "    c = sameGrp_src_counts.loc[sameGrp_src_counts.importanceRank == 'top10',]\n",
    "    df_counts = pd.Series(c['count'].values, index=c['source'])\n",
    "    plotCountsPie(df_counts,\n",
    "                  None,\n",
    "                  fnames[1],\n",
    "                  dir_out,\n",
    "                  colors=[src_colors[s] for s in df_counts.index])\n",
    "\n",
    "    #heatmap\n",
    "    s1 = feat_summary_annot.columns.str.startswith('inSame')\n",
    "    s2 = ~feat_summary_annot.columns.str.contains('top')\n",
    "    df = feat_summary_annot.loc[:, s1 & s2]\n",
    "\n",
    "    plt.figure()\n",
    "    fig, ax = plt.subplots(figsize=(6, 5))\n",
    "    ax = sns.heatmap(df, yticklabels=False, xticklabels=list(range(1, 11)), vmin=-1, vmax=1, cmap='RdBu', cbar=False)\n",
    "    ax.set(xlabel='$\\it{n}$th Feature', ylabel='Target genes')\n",
    "    plt.tight_layout()\n",
    "    plt.savefig(\"%s/%s_heatmap.png\" % (dir_out, fnames[1]))\n",
    "    plt.close()"
   ]
  },
  {
   "cell_type": "code",
   "execution_count": 28,
   "metadata": {},
   "outputs": [
    {
     "data": {
      "text/plain": [
       "<Figure size 432x288 with 0 Axes>"
      ]
     },
     "metadata": {},
     "output_type": "display_data"
    },
    {
     "data": {
      "text/plain": [
       "<Figure size 432x288 with 0 Axes>"
      ]
     },
     "metadata": {},
     "output_type": "display_data"
    }
   ],
   "source": [
    "# Paralog feature analyze\n",
    "anlyz_varExp_feats_m(df_featSummary,gs_dir = '../out', outdir_sub='../out')"
   ]
  },
  {
   "cell_type": "code",
   "execution_count": 29,
   "metadata": {},
   "outputs": [
    {
     "data": {
      "text/plain": [
       "<Figure size 432x288 with 0 Axes>"
      ]
     },
     "metadata": {},
     "output_type": "display_data"
    }
   ],
   "source": [
    "# on same gene\n",
    "feat_summary_annot_para = pd.read_csv('../out/areparalog/feat_summary_annot.csv', header=0, index_col=0)\n",
    "sameGrp_counts, sameGrp_src_counts = getGrpCounts_fromFeatSummaryAnnot(feat_summary_annot_para)\n",
    "gen_feat_pies(sameGrp_counts,sameGrp_src_counts,feat_summary_annot_para,\n",
    "              dir_out, ['fig2-para',  'fig2-para'], ['Are paralog','Not paralog'])"
   ]
  },
  {
   "cell_type": "code",
   "execution_count": null,
   "metadata": {},
   "outputs": [],
   "source": []
  }
 ],
 "metadata": {
  "kernelspec": {
   "display_name": "Python 3",
   "language": "python",
   "name": "python3"
  },
  "language_info": {
   "codemirror_mode": {
    "name": "ipython",
    "version": 3
   },
   "file_extension": ".py",
   "mimetype": "text/x-python",
   "name": "python",
   "nbconvert_exporter": "python",
   "pygments_lexer": "ipython3",
   "version": "3.7.3"
  }
 },
 "nbformat": 4,
 "nbformat_minor": 4
}
