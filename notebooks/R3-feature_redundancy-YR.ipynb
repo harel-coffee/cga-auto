{
 "cells": [
  {
   "cell_type": "markdown",
   "metadata": {},
   "source": [
    "## Calculates redundancy of features"
   ]
  },
  {
   "cell_type": "code",
   "execution_count": 1,
   "metadata": {},
   "outputs": [],
   "source": [
    "import pandas as pd\n",
    "import os\n",
    "from ast import literal_eval\n",
    "import numpy as np\n",
    "import matplotlib.pyplot as plt"
   ]
  },
  {
   "cell_type": "code",
   "execution_count": 2,
   "metadata": {},
   "outputs": [],
   "source": [
    "### Get feature summary dataframe\n",
    "dir_in_res = '../out/20.0216 feat/reg_rf_boruta'\n",
    "dir_in_anlyz = os.path.join(dir_in_res, 'anlyz_filtered')\n",
    "df_featSummary = pd.read_csv(os.path.join(dir_in_anlyz, 'feat_summary.csv')) #feature summary\n",
    "df_featSummary['feat_sources'] = df_featSummary['feat_sources'].apply(literal_eval)\n",
    "df_featSummary['feat_genes'] = df_featSummary['feat_genes'].apply(literal_eval)\n",
    "\n",
    "src_colors = {'CERES':(214/255, 39/255, 40/255, 1.0), #red\n",
    "              'RNA-seq':(31/255, 119/255, 180/255, 1.0), #blue\n",
    "              'CN':(255/255, 127/255, 14/255, 1.0), #orange\n",
    "              'Mut':(44/255, 160/255, 44/255, 1.0), #green\n",
    "              'Lineage':(188/255, 189/255, 34/255, 1.0), #yellow\n",
    "              'nan':(220/255, 220/255, 220/255, 1.0)} #grey"
   ]
  },
  {
   "cell_type": "code",
   "execution_count": 86,
   "metadata": {},
   "outputs": [],
   "source": [
    "### Get feature source and feature gene dataframe\n",
    "# Feature source\n",
    "df_source = df_featSummary.loc[:,df_featSummary.columns.str.contains(r'feat_source\\d')].copy()\n",
    "source_vals = [v for v in pd.melt(df_source).value.unique() if v is not np.nan]\n",
    "df_source.columns = range(1,11)\n",
    "\n",
    "# Feature gene\n",
    "df_gene = df_featSummary.loc[:,df_featSummary.columns.str.contains(r'feat_gene\\d')].copy()\n",
    "df_gene.columns = range(1,11)"
   ]
  },
  {
   "cell_type": "code",
   "execution_count": 87,
   "metadata": {},
   "outputs": [],
   "source": [
    "# Add all feature and gene counts\n",
    "n_feat = [sum(df_source.count(axis='columns'))]\n",
    "n_uniq_gene = [pd.melt(df_gene)['value'].nunique()]\n",
    "\n",
    "for v in source_vals:\n",
    "    fc = sum(df_source[df_source==v].count())\n",
    "    gc = pd.melt(df_gene[df_source==v])['value'].nunique()\n",
    "    n_feat.append(fc)\n",
    "    n_uniq_gene.append(gc)\n",
    "    \n",
    "# Calculate redundancy\n",
    "score_redun = [round(t/i,3) if i else np.nan for i, t in zip(n_uniq_gene, n_feat) ]\n",
    "score_unq = [round(i/t,3) if t else np.nan for i, t in zip(n_uniq_gene, n_feat) ]"
   ]
  },
  {
   "cell_type": "code",
   "execution_count": 91,
   "metadata": {},
   "outputs": [
    {
     "data": {
      "text/html": [
       "<div>\n",
       "<style scoped>\n",
       "    .dataframe tbody tr th:only-of-type {\n",
       "        vertical-align: middle;\n",
       "    }\n",
       "\n",
       "    .dataframe tbody tr th {\n",
       "        vertical-align: top;\n",
       "    }\n",
       "\n",
       "    .dataframe thead th {\n",
       "        text-align: right;\n",
       "    }\n",
       "</style>\n",
       "<table border=\"1\" class=\"dataframe\">\n",
       "  <thead>\n",
       "    <tr style=\"text-align: right;\">\n",
       "      <th></th>\n",
       "      <th>feature</th>\n",
       "      <th>uniq_gene_count</th>\n",
       "      <th>feature_count</th>\n",
       "      <th>uniqueness_score</th>\n",
       "      <th>redundancy_score</th>\n",
       "    </tr>\n",
       "  </thead>\n",
       "  <tbody>\n",
       "    <tr>\n",
       "      <th>0</th>\n",
       "      <td>all</td>\n",
       "      <td>1790</td>\n",
       "      <td>3305</td>\n",
       "      <td>0.542</td>\n",
       "      <td>1.846</td>\n",
       "    </tr>\n",
       "    <tr>\n",
       "      <th>1</th>\n",
       "      <td>CERES</td>\n",
       "      <td>1044</td>\n",
       "      <td>2426</td>\n",
       "      <td>0.430</td>\n",
       "      <td>2.324</td>\n",
       "    </tr>\n",
       "    <tr>\n",
       "      <th>2</th>\n",
       "      <td>RNA-seq</td>\n",
       "      <td>628</td>\n",
       "      <td>723</td>\n",
       "      <td>0.869</td>\n",
       "      <td>1.151</td>\n",
       "    </tr>\n",
       "    <tr>\n",
       "      <th>3</th>\n",
       "      <td>CN</td>\n",
       "      <td>150</td>\n",
       "      <td>150</td>\n",
       "      <td>1.000</td>\n",
       "      <td>1.000</td>\n",
       "    </tr>\n",
       "    <tr>\n",
       "      <th>4</th>\n",
       "      <td>Mut</td>\n",
       "      <td>4</td>\n",
       "      <td>6</td>\n",
       "      <td>0.667</td>\n",
       "      <td>1.500</td>\n",
       "    </tr>\n",
       "  </tbody>\n",
       "</table>\n",
       "</div>"
      ],
      "text/plain": [
       "   feature  uniq_gene_count  feature_count  uniqueness_score  redundancy_score\n",
       "0      all             1790           3305             0.542             1.846\n",
       "1    CERES             1044           2426             0.430             2.324\n",
       "2  RNA-seq              628            723             0.869             1.151\n",
       "3       CN              150            150             1.000             1.000\n",
       "4      Mut                4              6             0.667             1.500"
      ]
     },
     "execution_count": 91,
     "metadata": {},
     "output_type": "execute_result"
    }
   ],
   "source": [
    "# Redundancy dataframe\n",
    "df_redun = pd.DataFrame({'feature': ['all'] + source_vals,\n",
    "                         'uniq_gene_count': n_uniq_gene,\n",
    "                         'feature_count': n_feat,\n",
    "                         'uniqueness_score': score_unq,\n",
    "                         'redundancy_score': score_redun})\n",
    "df_redun"
   ]
  },
  {
   "cell_type": "code",
   "execution_count": 98,
   "metadata": {},
   "outputs": [
    {
     "data": {
      "image/png": "[encoded data removed]",
      "text/plain": [
       "<Figure size 432x288 with 1 Axes>"
      ]
     },
     "metadata": {
      "needs_background": "light"
     },
     "output_type": "display_data"
    }
   ],
   "source": [
    "# Plot redundancy score - features\n",
    "df_rd = df_redun.loc[df_redun.feature.isin(source_vals),:]\n",
    "ax = df_rd.plot.barh(x='feature', y='redundancy_score', width = 0.8,\n",
    "                     color = [src_colors[c] for c in df_rd.feature], legend = None)\n",
    "ax.set_xlabel('Redundancy score\\n(No. total features/No. unique features)')\n",
    "ax.set_ylabel('Feature')\n",
    "plt.show()"
   ]
  },
  {
   "cell_type": "code",
   "execution_count": null,
   "metadata": {},
   "outputs": [],
   "source": []
  }
 ],
 "metadata": {
  "kernelspec": {
   "display_name": "Python 3",
   "language": "python",
   "name": "python3"
  },
  "language_info": {
   "codemirror_mode": {
    "name": "ipython",
    "version": 3
   },
   "file_extension": ".py",
   "mimetype": "text/x-python",
   "name": "python",
   "nbconvert_exporter": "python",
   "pygments_lexer": "ipython3",
   "version": "3.7.7"
  },
  "toc": {
   "base_numbering": 1,
   "nav_menu": {},
   "number_sections": true,
   "sideBar": true,
   "skip_h1_title": false,
   "title_cell": "Table of Contents",
   "title_sidebar": "Contents",
   "toc_cell": false,
   "toc_position": {},
   "toc_section_display": true,
   "toc_window_display": true
  }
 },
 "nbformat": 4,
 "nbformat_minor": 4
}
