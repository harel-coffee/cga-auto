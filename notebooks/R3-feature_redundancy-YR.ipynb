{
 "cells": [
  {
   "cell_type": "code",
   "execution_count": 21,
   "metadata": {},
   "outputs": [],
   "source": [
    "import pandas as pd\n",
    "import os\n",
    "from ast import literal_eval\n",
    "import numpy as np\n",
    "import matplotlib.pyplot as plt"
   ]
  },
  {
   "cell_type": "code",
   "execution_count": 22,
   "metadata": {},
   "outputs": [],
   "source": [
    "### Get feature summary dataframe\n",
    "dir_in_res = '../out/20.0216 feat/reg_rf_boruta'\n",
    "dir_in_anlyz = os.path.join(dir_in_res, 'anlyz_filtered')\n",
    "df_featSummary = pd.read_csv(os.path.join(dir_in_anlyz, 'feat_summary.csv')) #feature summary\n",
    "df_featSummary['feat_sources'] = df_featSummary['feat_sources'].apply(literal_eval)\n",
    "df_featSummary['feat_genes'] = df_featSummary['feat_genes'].apply(literal_eval)"
   ]
  },
  {
   "cell_type": "code",
   "execution_count": 23,
   "metadata": {},
   "outputs": [
    {
     "name": "stderr",
     "output_type": "stream",
     "text": [
      "/Users/stella/miniconda3/lib/python3.7/site-packages/pandas/core/frame.py:4172: SettingWithCopyWarning: \n",
      "A value is trying to be set on a copy of a slice from a DataFrame\n",
      "\n",
      "See the caveats in the documentation: https://pandas.pydata.org/pandas-docs/stable/user_guide/indexing.html#returning-a-view-versus-a-copy\n",
      "  method=method,\n"
     ]
    }
   ],
   "source": [
    "### Get feature source and feature gene dataframe\n",
    "# Feature source\n",
    "df_source = df_featSummary.loc[:,df_featSummary.columns.str.contains(r'feat_source\\d')]\n",
    "df_source.replace({'CERES':0, 'RNA-seq':1, 'CN':2, 'Mut':3, np.nan:-1}, inplace=True)\n",
    "df_source.columns = range(1,11)\n",
    "\n",
    "# Feature gene\n",
    "df_gene = df_featSummary.loc[:,df_featSummary.columns.str.contains(r'feat_gene\\d')]\n",
    "df_gene.columns = range(1,11)"
   ]
  },
  {
   "cell_type": "code",
   "execution_count": 24,
   "metadata": {},
   "outputs": [],
   "source": [
    "### Count features and unique genes\n",
    "list_fc = []\n",
    "list_gc = []\n",
    "\n",
    "# Append all feature and gene counts\n",
    "list_fc.append(sum(df_source[df_source!=-1].count()))\n",
    "list_gc.append(pd.melt(df_gene)['value'].nunique())\n",
    "\n",
    "# Append specific feature and gene counts\n",
    "for i in range(0,4):\n",
    "    fc = sum(df_source[df_source==i].count())\n",
    "    gc = pd.melt(df_gene[df_source==i])['value'].nunique()\n",
    "    list_fc.append(fc)\n",
    "    list_gc.append(gc)\n",
    "    \n",
    "# Calculate redundancy\n",
    "list_red = [round(j/i,3) for i, j in zip(list_gc, list_fc)]\n",
    "list_unq = [round(i/j,3) for i, j in zip(list_gc, list_fc)]"
   ]
  },
  {
   "cell_type": "code",
   "execution_count": 25,
   "metadata": {},
   "outputs": [
    {
     "data": {
      "text/plain": [
       "3305"
      ]
     },
     "execution_count": 25,
     "metadata": {},
     "output_type": "execute_result"
    }
   ],
   "source": [
    "sum(df_source[df_source!=-1].count())"
   ]
  },
  {
   "cell_type": "code",
   "execution_count": 26,
   "metadata": {},
   "outputs": [
    {
     "data": {
      "text/html": [
       "<div>\n",
       "<style scoped>\n",
       "    .dataframe tbody tr th:only-of-type {\n",
       "        vertical-align: middle;\n",
       "    }\n",
       "\n",
       "    .dataframe tbody tr th {\n",
       "        vertical-align: top;\n",
       "    }\n",
       "\n",
       "    .dataframe thead th {\n",
       "        text-align: right;\n",
       "    }\n",
       "</style>\n",
       "<table border=\"1\" class=\"dataframe\">\n",
       "  <thead>\n",
       "    <tr style=\"text-align: right;\">\n",
       "      <th></th>\n",
       "      <th>Feature</th>\n",
       "      <th>Uniq_gene_count</th>\n",
       "      <th>Feature_count</th>\n",
       "      <th>Uniqueness_score</th>\n",
       "      <th>Redundancy_score</th>\n",
       "    </tr>\n",
       "  </thead>\n",
       "  <tbody>\n",
       "    <tr>\n",
       "      <th>0</th>\n",
       "      <td>All</td>\n",
       "      <td>1790</td>\n",
       "      <td>3305</td>\n",
       "      <td>0.542</td>\n",
       "      <td>1.846</td>\n",
       "    </tr>\n",
       "    <tr>\n",
       "      <th>1</th>\n",
       "      <td>CERES</td>\n",
       "      <td>1044</td>\n",
       "      <td>2426</td>\n",
       "      <td>0.430</td>\n",
       "      <td>2.324</td>\n",
       "    </tr>\n",
       "    <tr>\n",
       "      <th>2</th>\n",
       "      <td>RNA-seq</td>\n",
       "      <td>628</td>\n",
       "      <td>723</td>\n",
       "      <td>0.869</td>\n",
       "      <td>1.151</td>\n",
       "    </tr>\n",
       "    <tr>\n",
       "      <th>3</th>\n",
       "      <td>CN</td>\n",
       "      <td>150</td>\n",
       "      <td>150</td>\n",
       "      <td>1.000</td>\n",
       "      <td>1.000</td>\n",
       "    </tr>\n",
       "    <tr>\n",
       "      <th>4</th>\n",
       "      <td>MUT</td>\n",
       "      <td>4</td>\n",
       "      <td>6</td>\n",
       "      <td>0.667</td>\n",
       "      <td>1.500</td>\n",
       "    </tr>\n",
       "  </tbody>\n",
       "</table>\n",
       "</div>"
      ],
      "text/plain": [
       "   Feature  Uniq_gene_count  Feature_count  Uniqueness_score  Redundancy_score\n",
       "0      All             1790           3305             0.542             1.846\n",
       "1    CERES             1044           2426             0.430             2.324\n",
       "2  RNA-seq              628            723             0.869             1.151\n",
       "3       CN              150            150             1.000             1.000\n",
       "4      MUT                4              6             0.667             1.500"
      ]
     },
     "execution_count": 26,
     "metadata": {},
     "output_type": "execute_result"
    }
   ],
   "source": [
    "# Redundancy dataframe\n",
    "data = {'Feature': ['All', 'CERES', 'RNA-seq', 'CN', 'MUT'],\n",
    "        'Uniq_gene_count': list_gc,\n",
    "       'Feature_count': list_fc,\n",
    "        'Uniqueness_score': list_unq,\n",
    "       'Redundancy_score': list_red}\n",
    "df_red = pd.DataFrame(data)\n",
    "\n",
    "# Show datafrem\n",
    "df_red"
   ]
  },
  {
   "cell_type": "code",
   "execution_count": 27,
   "metadata": {},
   "outputs": [
    {
     "data": {
      "image/png": "[encoded data removed]",
      "text/plain": [
       "<Figure size 432x288 with 1 Axes>"
      ]
     },
     "metadata": {
      "needs_background": "light"
     },
     "output_type": "display_data"
    }
   ],
   "source": [
    "# Plot redundancy score - features\n",
    "color_list = ['saddlebrown', 'tan', 'goldenrod', 'darkgoldenrod']\n",
    "ax = df_red.iloc[1:5,:].plot.barh(x=\"Feature\", y=\"Redundancy_score\", width = 0.8, color = color_list, legend = None)\n",
    "ax.set_xlabel('Redundancy Score')\n",
    "plt.show()"
   ]
  }
 ],
 "metadata": {
  "kernelspec": {
   "display_name": "Python 3",
   "language": "python",
   "name": "python3"
  },
  "language_info": {
   "codemirror_mode": {
    "name": "ipython",
    "version": 3
   },
   "file_extension": ".py",
   "mimetype": "text/x-python",
   "name": "python",
   "nbconvert_exporter": "python",
   "pygments_lexer": "ipython3",
   "version": "3.7.3"
  }
 },
 "nbformat": 4,
 "nbformat_minor": 4
}
