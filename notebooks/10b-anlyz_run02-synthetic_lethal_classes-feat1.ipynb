{
 "cells": [
  {
   "cell_type": "markdown",
   "metadata": {},
   "source": [
    "### Breakdown of lethality"
   ]
  },
  {
   "cell_type": "code",
   "execution_count": 13,
   "metadata": {
    "slideshow": {
     "slide_type": "slide"
    }
   },
   "outputs": [],
   "source": [
    "import pickle\n",
    "import pandas as pd\n",
    "import os\n",
    "import seaborn as sns\n",
    "import matplotlib.pyplot as plt\n",
    "import numpy as np\n",
    "from ast import literal_eval"
   ]
  },
  {
   "cell_type": "markdown",
   "metadata": {},
   "source": [
    "#### Read in files"
   ]
  },
  {
   "cell_type": "code",
   "execution_count": 14,
   "metadata": {},
   "outputs": [],
   "source": [
    "dir_in_res = '../out/20.0216 feat/reg_rf_boruta'\n",
    "dir_in_anlyz = os.path.join(dir_in_res, 'anlyz_filtered')\n",
    "df_featSummary = pd.read_csv(os.path.join(dir_in_anlyz, 'feat_summary.csv')) #feature summary\n",
    "df_featSummary['feat_sources'] = df_featSummary['feat_sources'].apply(literal_eval)\n",
    "df_featSummary['feat_genes'] = df_featSummary['feat_genes'].apply(literal_eval)"
   ]
  },
  {
   "cell_type": "code",
   "execution_count": 15,
   "metadata": {},
   "outputs": [],
   "source": [
    "feat_summary_annot_gene = pd.read_csv(os.path.join(dir_in_anlyz, 'onsamegene', 'feat_summary_annot.csv'), header=0, index_col=0)\n",
    "\n",
    "gs_name = 'paralog'\n",
    "feat_summary_annot_paralog = pd.read_csv(os.path.join(dir_in_anlyz, f'insame{gs_name}', 'feat_summary_annot.csv'), header=0, index_col=0)\n",
    "\n",
    "gs_name = 'Panther'\n",
    "feat_summary_annot_panther = pd.read_csv(os.path.join(dir_in_anlyz, f'insamegeneset{gs_name}', 'feat_summary_annot.csv'), header=0, index_col=0)\n"
   ]
  },
  {
   "cell_type": "markdown",
   "metadata": {},
   "source": [
    "#### Breakdown - basic - top most important feature"
   ]
  },
  {
   "cell_type": "code",
   "execution_count": 16,
   "metadata": {},
   "outputs": [],
   "source": [
    "df_counts = df_featSummary.groupby('feat_source1')['feat_source1'].count()\n",
    "df_counts = df_counts.to_dict()\n",
    "df_sl = pd.DataFrame([{'new_syn_lethal':df_counts['CERES'],\n",
    "                       'classic_syn_lethal': sum([df_counts[k] for k in ['CN','Mut','RNA-seq']]) }])\n",
    "df_sl = df_sl.T.squeeze()"
   ]
  },
  {
   "cell_type": "code",
   "execution_count": 17,
   "metadata": {},
   "outputs": [
    {
     "data": {
      "text/plain": [
       "new_syn_lethal        429\n",
       "classic_syn_lethal     97\n",
       "Name: 0, dtype: int64"
      ]
     },
     "execution_count": 17,
     "metadata": {},
     "output_type": "execute_result"
    }
   ],
   "source": [
    "df_sl"
   ]
  },
  {
   "cell_type": "markdown",
   "metadata": {},
   "source": [
    "#### Breakdown of lethality, top most important feature"
   ]
  },
  {
   "cell_type": "code",
   "execution_count": 18,
   "metadata": {},
   "outputs": [],
   "source": [
    "df_src1 = df_featSummary[['target','feat_source1']].set_index('target')\n",
    "df = pd.DataFrame({'isNotCERES': df_src1.feat_source1.isin(['RNA-seq', 'CN', 'Mut']),\n",
    "                   'sameGene': feat_summary_annot_gene.inSame_1,\n",
    "                   'sameParalog': feat_summary_annot_paralog.inSame_1,\n",
    "                   'sameGS': feat_summary_annot_panther.inSame_1,\n",
    "                   'isCERES': df_src1.feat_source1 == 'CERES'\n",
    "                   })\n",
    "\n",
    "lethal_dict = {'sameGene': 'Same gene',\n",
    "               'sameParalog': 'Paralog',\n",
    "               'sameGS': 'Gene set',\n",
    "               'isCERES': 'Functional',\n",
    "               'isNotCERES': 'Classic synthetic'}"
   ]
  },
  {
   "cell_type": "code",
   "execution_count": 19,
   "metadata": {},
   "outputs": [],
   "source": [
    "df_counts = pd.DataFrame({'sum':df.sum(axis=0)})\n",
    "df_counts['lethality'] = [lethal_dict[n] for n in df_counts.index]"
   ]
  },
  {
   "cell_type": "code",
   "execution_count": 20,
   "metadata": {},
   "outputs": [
    {
     "data": {
      "text/html": [
       "<div>\n",
       "<style scoped>\n",
       "    .dataframe tbody tr th:only-of-type {\n",
       "        vertical-align: middle;\n",
       "    }\n",
       "\n",
       "    .dataframe tbody tr th {\n",
       "        vertical-align: top;\n",
       "    }\n",
       "\n",
       "    .dataframe thead th {\n",
       "        text-align: right;\n",
       "    }\n",
       "</style>\n",
       "<table border=\"1\" class=\"dataframe\">\n",
       "  <thead>\n",
       "    <tr style=\"text-align: right;\">\n",
       "      <th></th>\n",
       "      <th>sum</th>\n",
       "      <th>lethality</th>\n",
       "    </tr>\n",
       "  </thead>\n",
       "  <tbody>\n",
       "    <tr>\n",
       "      <th>isNotCERES</th>\n",
       "      <td>97</td>\n",
       "      <td>Classic synthetic</td>\n",
       "    </tr>\n",
       "    <tr>\n",
       "      <th>sameGene</th>\n",
       "      <td>12</td>\n",
       "      <td>Same gene</td>\n",
       "    </tr>\n",
       "    <tr>\n",
       "      <th>sameParalog</th>\n",
       "      <td>38</td>\n",
       "      <td>Paralog</td>\n",
       "    </tr>\n",
       "    <tr>\n",
       "      <th>sameGS</th>\n",
       "      <td>58</td>\n",
       "      <td>Gene set</td>\n",
       "    </tr>\n",
       "    <tr>\n",
       "      <th>isCERES</th>\n",
       "      <td>429</td>\n",
       "      <td>Functional</td>\n",
       "    </tr>\n",
       "  </tbody>\n",
       "</table>\n",
       "</div>"
      ],
      "text/plain": [
       "             sum          lethality\n",
       "isNotCERES    97  Classic synthetic\n",
       "sameGene      12          Same gene\n",
       "sameParalog   38            Paralog\n",
       "sameGS        58           Gene set\n",
       "isCERES      429         Functional"
      ]
     },
     "execution_count": 20,
     "metadata": {},
     "output_type": "execute_result"
    }
   ],
   "source": [
    "df_counts"
   ]
  },
  {
   "cell_type": "code",
   "execution_count": 21,
   "metadata": {},
   "outputs": [
    {
     "data": {
      "image/png": "[encoded data removed]",
      "text/plain": [
       "<Figure size 432x288 with 1 Axes>"
      ]
     },
     "metadata": {
      "needs_background": "light"
     },
     "output_type": "display_data"
    }
   ],
   "source": [
    "plt.figure()\n",
    "ax = sns.barplot(df_counts['lethality'], df_counts['sum'], color='steelblue')\n",
    "ax.set(xlabel='Lethality types', ylabel='Number of genes')\n",
    "plt.tight_layout()"
   ]
  },
  {
   "cell_type": "markdown",
   "metadata": {},
   "source": [
    "#### Breakdown of lethality, top 10 most important feature"
   ]
  },
  {
   "cell_type": "code",
   "execution_count": 22,
   "metadata": {},
   "outputs": [],
   "source": [
    "df_src = df_featSummary.set_index('target').feat_sources\n",
    "df = pd.DataFrame({'hasNoCERES': df_src.apply(lambda x: any([n in x for n in ['CN','Mut','RNA-seq','Lineage']])),\n",
    "                   'sameGene': feat_summary_annot_gene.inSame_top10,\n",
    "                   'sameParalog': feat_summary_annot_paralog.inSame_top10,\n",
    "                   'sameGS': feat_summary_annot_panther.inSame_top10,\n",
    "                   'hasCERES': df_src.apply(lambda x: 'CERES' in x)\n",
    "                   })\n",
    "\n",
    "lethal_dict = {'sameGene': 'Same gene',\n",
    "               'sameParalog': 'Paralog',\n",
    "               'sameGS': 'Gene set',\n",
    "               'hasCERES': 'Functional',\n",
    "               'hasNoCERES': 'Classic synthetic'}"
   ]
  },
  {
   "cell_type": "code",
   "execution_count": 23,
   "metadata": {},
   "outputs": [],
   "source": [
    "df_counts = pd.DataFrame({'sum':df.sum(axis=0)})\n",
    "df_counts['lethality'] = [lethal_dict[n] for n in df_counts.index]"
   ]
  },
  {
   "cell_type": "code",
   "execution_count": 24,
   "metadata": {},
   "outputs": [
    {
     "data": {
      "text/html": [
       "<div>\n",
       "<style scoped>\n",
       "    .dataframe tbody tr th:only-of-type {\n",
       "        vertical-align: middle;\n",
       "    }\n",
       "\n",
       "    .dataframe tbody tr th {\n",
       "        vertical-align: top;\n",
       "    }\n",
       "\n",
       "    .dataframe thead th {\n",
       "        text-align: right;\n",
       "    }\n",
       "</style>\n",
       "<table border=\"1\" class=\"dataframe\">\n",
       "  <thead>\n",
       "    <tr style=\"text-align: right;\">\n",
       "      <th></th>\n",
       "      <th>sum</th>\n",
       "      <th>lethality</th>\n",
       "    </tr>\n",
       "  </thead>\n",
       "  <tbody>\n",
       "    <tr>\n",
       "      <th>hasNoCERES</th>\n",
       "      <td>257</td>\n",
       "      <td>Classic synthetic</td>\n",
       "    </tr>\n",
       "    <tr>\n",
       "      <th>sameGene</th>\n",
       "      <td>27</td>\n",
       "      <td>Same gene</td>\n",
       "    </tr>\n",
       "    <tr>\n",
       "      <th>sameParalog</th>\n",
       "      <td>60</td>\n",
       "      <td>Paralog</td>\n",
       "    </tr>\n",
       "    <tr>\n",
       "      <th>sameGS</th>\n",
       "      <td>82</td>\n",
       "      <td>Gene set</td>\n",
       "    </tr>\n",
       "    <tr>\n",
       "      <th>hasCERES</th>\n",
       "      <td>475</td>\n",
       "      <td>Functional</td>\n",
       "    </tr>\n",
       "  </tbody>\n",
       "</table>\n",
       "</div>"
      ],
      "text/plain": [
       "             sum          lethality\n",
       "hasNoCERES   257  Classic synthetic\n",
       "sameGene      27          Same gene\n",
       "sameParalog   60            Paralog\n",
       "sameGS        82           Gene set\n",
       "hasCERES     475         Functional"
      ]
     },
     "execution_count": 24,
     "metadata": {},
     "output_type": "execute_result"
    }
   ],
   "source": [
    "df_counts"
   ]
  },
  {
   "cell_type": "code",
   "execution_count": 25,
   "metadata": {
    "scrolled": false
   },
   "outputs": [
    {
     "data": {
      "image/png": "[encoded data removed]",
      "text/plain": [
       "<Figure size 432x288 with 1 Axes>"
      ]
     },
     "metadata": {
      "needs_background": "light"
     },
     "output_type": "display_data"
    }
   ],
   "source": [
    "plt.figure()\n",
    "ax = sns.barplot(df_counts['lethality'], df_counts['sum'], color='steelblue')\n",
    "ax.set(xlabel='Lethality types', ylabel='Number of genes', ylim=[0,500])\n",
    "plt.tight_layout()"
   ]
  }
 ],
 "metadata": {
  "kernelspec": {
   "display_name": "Python 3",
   "language": "python",
   "name": "python3"
  },
  "language_info": {
   "codemirror_mode": {
    "name": "ipython",
    "version": 3
   },
   "file_extension": ".py",
   "mimetype": "text/x-python",
   "name": "python",
   "nbconvert_exporter": "python",
   "pygments_lexer": "ipython3",
   "version": "3.7.7"
  },
  "toc": {
   "base_numbering": 1,
   "nav_menu": {
    "height": "252px",
    "width": "406px"
   },
   "number_sections": true,
   "sideBar": true,
   "skip_h1_title": false,
   "title_cell": "Table of Contents",
   "title_sidebar": "Contents",
   "toc_cell": false,
   "toc_position": {
    "height": "calc(100% - 180px)",
    "left": "10px",
    "top": "150px",
    "width": "331.391px"
   },
   "toc_section_display": true,
   "toc_window_display": true
  }
 },
 "nbformat": 4,
 "nbformat_minor": 2
}
