{
 "cells": [
  {
   "cell_type": "markdown",
   "metadata": {},
   "source": [
    "#### Entropy - binomial distribution\n",
    "Like entropy-binom.ipynb, but source is now the gene set, and target is the L100 gene set"
   ]
  },
  {
   "cell_type": "code",
   "execution_count": 1,
   "metadata": {},
   "outputs": [],
   "source": [
    "import pandas as pd\n",
    "import re\n",
    "import seaborn as sns\n",
    "import matplotlib.pyplot as plt\n",
    "import numpy as np"
   ]
  },
  {
   "cell_type": "code",
   "execution_count": 2,
   "metadata": {},
   "outputs": [],
   "source": [
    "def getGS(fname):\n",
    "    df = pd.read_csv(fname, delimiter='_', header=None)\n",
    "    df['gs'] = df.loc[:,2].str.replace('^\\d+\\t\\t','').str.split('\\t')\n",
    "    df.drop([0,1,2], inplace=True, axis=1)\n",
    "    return df.copy()\n",
    "\n",
    "df_assoc = getGS('../out/20.0216 feat/reg_univariate_rf/network/gs.txt') #get the reg univariate-rf results\n",
    "df_infer = getGS('../out/20.0216 feat/reg_rf_boruta/network/gs.txt') #get the rf-boruta results\n",
    "\n",
    "# L100 results\n",
    "df_L100 = pd.read_csv('../out/19.1013 tight cluster/landmarks_n100_k100.csv')"
   ]
  },
  {
   "cell_type": "code",
   "execution_count": 3,
   "metadata": {},
   "outputs": [],
   "source": [
    "df_assoc['gs_size'] = df_assoc.apply(lambda x: len(x[0]), axis=1)\n",
    "df_infer['gs_size'] = df_infer.apply(lambda x: len(x[0]), axis=1)"
   ]
  },
  {
   "cell_type": "code",
   "execution_count": 4,
   "metadata": {},
   "outputs": [
    {
     "data": {
      "text/html": [
       "<div>\n",
       "<style scoped>\n",
       "    .dataframe tbody tr th:only-of-type {\n",
       "        vertical-align: middle;\n",
       "    }\n",
       "\n",
       "    .dataframe tbody tr th {\n",
       "        vertical-align: top;\n",
       "    }\n",
       "\n",
       "    .dataframe thead th {\n",
       "        text-align: right;\n",
       "    }\n",
       "</style>\n",
       "<table border=\"1\" class=\"dataframe\">\n",
       "  <thead>\n",
       "    <tr style=\"text-align: right;\">\n",
       "      <th></th>\n",
       "      <th>gs</th>\n",
       "      <th>gs_size</th>\n",
       "    </tr>\n",
       "  </thead>\n",
       "  <tbody>\n",
       "    <tr>\n",
       "      <th>0</th>\n",
       "      <td>[FASN, ACACA, SCD, HLCS, PRR3, CYB5B, ALG6, KC...</td>\n",
       "      <td>96</td>\n",
       "    </tr>\n",
       "    <tr>\n",
       "      <th>1</th>\n",
       "      <td>[HSD17B12, RNASEH2C, ACTR1B, ACTR1A, VEZT, RTC...</td>\n",
       "      <td>159</td>\n",
       "    </tr>\n",
       "    <tr>\n",
       "      <th>2</th>\n",
       "      <td>[EIF2AK4, UBE2J1, DERL2, UBE2G2, SYVN1, DNAJC3...</td>\n",
       "      <td>76</td>\n",
       "    </tr>\n",
       "    <tr>\n",
       "      <th>3</th>\n",
       "      <td>[CAST, PSTK, EEFSEC, SEPSECS, SEPHS2, GPX4, SE...</td>\n",
       "      <td>64</td>\n",
       "    </tr>\n",
       "    <tr>\n",
       "      <th>4</th>\n",
       "      <td>[AP2M1, ADSL, ACO2, IDH3A, GMPS, TFRC, SDHA, A...</td>\n",
       "      <td>119</td>\n",
       "    </tr>\n",
       "  </tbody>\n",
       "</table>\n",
       "</div>"
      ],
      "text/plain": [
       "                                                  gs  gs_size\n",
       "0  [FASN, ACACA, SCD, HLCS, PRR3, CYB5B, ALG6, KC...       96\n",
       "1  [HSD17B12, RNASEH2C, ACTR1B, ACTR1A, VEZT, RTC...      159\n",
       "2  [EIF2AK4, UBE2J1, DERL2, UBE2G2, SYVN1, DNAJC3...       76\n",
       "3  [CAST, PSTK, EEFSEC, SEPSECS, SEPHS2, GPX4, SE...       64\n",
       "4  [AP2M1, ADSL, ACO2, IDH3A, GMPS, TFRC, SDHA, A...      119"
      ]
     },
     "execution_count": 4,
     "metadata": {},
     "output_type": "execute_result"
    }
   ],
   "source": [
    "df_infer.head()"
   ]
  },
  {
   "cell_type": "code",
   "execution_count": 5,
   "metadata": {},
   "outputs": [
    {
     "data": {
      "text/html": [
       "<div>\n",
       "<style scoped>\n",
       "    .dataframe tbody tr th:only-of-type {\n",
       "        vertical-align: middle;\n",
       "    }\n",
       "\n",
       "    .dataframe tbody tr th {\n",
       "        vertical-align: top;\n",
       "    }\n",
       "\n",
       "    .dataframe thead th {\n",
       "        text-align: right;\n",
       "    }\n",
       "</style>\n",
       "<table border=\"1\" class=\"dataframe\">\n",
       "  <thead>\n",
       "    <tr style=\"text-align: right;\">\n",
       "      <th></th>\n",
       "      <th>gs</th>\n",
       "      <th>gs_size</th>\n",
       "    </tr>\n",
       "  </thead>\n",
       "  <tbody>\n",
       "    <tr>\n",
       "      <th>0</th>\n",
       "      <td>[FASN, ACACA, CHP1, GOLGA8EP, GPAT4, GOLGA8CP,...</td>\n",
       "      <td>103</td>\n",
       "    </tr>\n",
       "    <tr>\n",
       "      <th>1</th>\n",
       "      <td>[ACLY, ACSS1, TFRC, MTHFD1, LCA5, AP2M1, PAICS...</td>\n",
       "      <td>117</td>\n",
       "    </tr>\n",
       "    <tr>\n",
       "      <th>2</th>\n",
       "      <td>[SCD, ACSL1, ACSL3, C12orf49, MIR137HG, AC0087...</td>\n",
       "      <td>80</td>\n",
       "    </tr>\n",
       "    <tr>\n",
       "      <th>3</th>\n",
       "      <td>[IL16, SLC37A3, USP22, ATXN7L3, ENY2, SUPT20H,...</td>\n",
       "      <td>82</td>\n",
       "    </tr>\n",
       "    <tr>\n",
       "      <th>4</th>\n",
       "      <td>[SOD2, POP5, AK6, PARN, EXOSC10, NOL6, TAMM41,...</td>\n",
       "      <td>167</td>\n",
       "    </tr>\n",
       "  </tbody>\n",
       "</table>\n",
       "</div>"
      ],
      "text/plain": [
       "                                                  gs  gs_size\n",
       "0  [FASN, ACACA, CHP1, GOLGA8EP, GPAT4, GOLGA8CP,...      103\n",
       "1  [ACLY, ACSS1, TFRC, MTHFD1, LCA5, AP2M1, PAICS...      117\n",
       "2  [SCD, ACSL1, ACSL3, C12orf49, MIR137HG, AC0087...       80\n",
       "3  [IL16, SLC37A3, USP22, ATXN7L3, ENY2, SUPT20H,...       82\n",
       "4  [SOD2, POP5, AK6, PARN, EXOSC10, NOL6, TAMM41,...      167"
      ]
     },
     "execution_count": 5,
     "metadata": {},
     "output_type": "execute_result"
    }
   ],
   "source": [
    "df_assoc.head()"
   ]
  },
  {
   "cell_type": "code",
   "execution_count": 6,
   "metadata": {},
   "outputs": [
    {
     "data": {
      "text/plain": [
       "<matplotlib.axes._subplots.AxesSubplot at 0x1a1e5acc88>"
      ]
     },
     "execution_count": 6,
     "metadata": {},
     "output_type": "execute_result"
    },
    {
     "data": {
      "image/png": "[encoded data removed]",
      "text/plain": [
       "<Figure size 432x288 with 1 Axes>"
      ]
     },
     "metadata": {
      "needs_background": "light"
     },
     "output_type": "display_data"
    }
   ],
   "source": [
    "sns.distplot(df_assoc.gs_size)"
   ]
  },
  {
   "cell_type": "code",
   "execution_count": 7,
   "metadata": {},
   "outputs": [
    {
     "data": {
      "text/plain": [
       "<matplotlib.axes._subplots.AxesSubplot at 0x1a1f86f748>"
      ]
     },
     "execution_count": 7,
     "metadata": {},
     "output_type": "execute_result"
    },
    {
     "data": {
      "image/png": "[encoded data removed]",
      "text/plain": [
       "<Figure size 432x288 with 1 Axes>"
      ]
     },
     "metadata": {
      "needs_background": "light"
     },
     "output_type": "display_data"
    }
   ],
   "source": [
    "sns.distplot(df_infer.gs_size)"
   ]
  },
  {
   "cell_type": "code",
   "execution_count": 8,
   "metadata": {},
   "outputs": [
    {
     "data": {
      "text/html": [
       "<div>\n",
       "<style scoped>\n",
       "    .dataframe tbody tr th:only-of-type {\n",
       "        vertical-align: middle;\n",
       "    }\n",
       "\n",
       "    .dataframe tbody tr th {\n",
       "        vertical-align: top;\n",
       "    }\n",
       "\n",
       "    .dataframe thead th {\n",
       "        text-align: right;\n",
       "    }\n",
       "</style>\n",
       "<table border=\"1\" class=\"dataframe\">\n",
       "  <thead>\n",
       "    <tr style=\"text-align: right;\">\n",
       "      <th></th>\n",
       "      <th>cluster</th>\n",
       "      <th>genes</th>\n",
       "      <th>size</th>\n",
       "      <th>landmark</th>\n",
       "      <th>gs</th>\n",
       "      <th>gs_size</th>\n",
       "    </tr>\n",
       "  </thead>\n",
       "  <tbody>\n",
       "    <tr>\n",
       "      <th>0</th>\n",
       "      <td>1</td>\n",
       "      <td>ABHD8..79575.,ACP5..54.,ACTL9..284382.,ADAMTS1...</td>\n",
       "      <td>224</td>\n",
       "      <td>TMEM167A (153339)</td>\n",
       "      <td>[TMEM167A, ABHD8, ACP5, ACTL9, ADAMTS10, AKAP8...</td>\n",
       "      <td>225</td>\n",
       "    </tr>\n",
       "    <tr>\n",
       "      <th>1</th>\n",
       "      <td>2</td>\n",
       "      <td>AADAT..51166.,ABAT..18.,ACTL6B..51412.,ADHFE1....</td>\n",
       "      <td>226</td>\n",
       "      <td>CDC40 (51362)</td>\n",
       "      <td>[CDC40, AADAT, ABAT, ACTL6B, ADHFE1, AEBP2, AF...</td>\n",
       "      <td>227</td>\n",
       "    </tr>\n",
       "    <tr>\n",
       "      <th>2</th>\n",
       "      <td>3</td>\n",
       "      <td>AASS..10157.,ADI1..55256.,ADO..84890.,AES..166...</td>\n",
       "      <td>261</td>\n",
       "      <td>PBRM1 (55193)</td>\n",
       "      <td>[PBRM1, AASS, ADI1, ADO, AES, AGXT, AGXT2, AIM...</td>\n",
       "      <td>262</td>\n",
       "    </tr>\n",
       "    <tr>\n",
       "      <th>3</th>\n",
       "      <td>4</td>\n",
       "      <td>ACTR5..79913.,ADRM1..11047.,AICDA..57379.,ARID...</td>\n",
       "      <td>182</td>\n",
       "      <td>PDS5A (23244)</td>\n",
       "      <td>[PDS5A, ACTR5, ADRM1, AICDA, ARID1B, ARID3C, A...</td>\n",
       "      <td>183</td>\n",
       "    </tr>\n",
       "    <tr>\n",
       "      <th>4</th>\n",
       "      <td>5</td>\n",
       "      <td>ABT1..29777.,ACD..65057.,ACTR8..93973.,AFF1..4...</td>\n",
       "      <td>173</td>\n",
       "      <td>SMARCE1 (6605)</td>\n",
       "      <td>[SMARCE1, ABT1, ACD, ACTR8, AFF1, AFF4, AIP, A...</td>\n",
       "      <td>174</td>\n",
       "    </tr>\n",
       "  </tbody>\n",
       "</table>\n",
       "</div>"
      ],
      "text/plain": [
       "   cluster                                              genes  size  \\\n",
       "0        1  ABHD8..79575.,ACP5..54.,ACTL9..284382.,ADAMTS1...   224   \n",
       "1        2  AADAT..51166.,ABAT..18.,ACTL6B..51412.,ADHFE1....   226   \n",
       "2        3  AASS..10157.,ADI1..55256.,ADO..84890.,AES..166...   261   \n",
       "3        4  ACTR5..79913.,ADRM1..11047.,AICDA..57379.,ARID...   182   \n",
       "4        5  ABT1..29777.,ACD..65057.,ACTR8..93973.,AFF1..4...   173   \n",
       "\n",
       "            landmark                                                 gs  \\\n",
       "0  TMEM167A (153339)  [TMEM167A, ABHD8, ACP5, ACTL9, ADAMTS10, AKAP8...   \n",
       "1      CDC40 (51362)  [CDC40, AADAT, ABAT, ACTL6B, ADHFE1, AEBP2, AF...   \n",
       "2      PBRM1 (55193)  [PBRM1, AASS, ADI1, ADO, AES, AGXT, AGXT2, AIM...   \n",
       "3      PDS5A (23244)  [PDS5A, ACTR5, ADRM1, AICDA, ARID1B, ARID3C, A...   \n",
       "4     SMARCE1 (6605)  [SMARCE1, ABT1, ACD, ACTR8, AFF1, AFF4, AIP, A...   \n",
       "\n",
       "   gs_size  \n",
       "0      225  \n",
       "1      227  \n",
       "2      262  \n",
       "3      183  \n",
       "4      174  "
      ]
     },
     "execution_count": 8,
     "metadata": {},
     "output_type": "execute_result"
    }
   ],
   "source": [
    "# retrieve the genes L100\n",
    "df_L100['gs'] = df_L100.genes.apply(lambda x: re.findall('(\\w*)\\.\\.', x))\n",
    "df_L100['gs'] = df_L100.apply(lambda x: re.findall('(\\w*)\\s', x['landmark'])+x['gs'], axis=1)\n",
    "df_L100['gs_size'] = df_L100.apply(lambda x: len(x['gs']), axis=1)\n",
    "df_L100.head()"
   ]
  },
  {
   "cell_type": "code",
   "execution_count": 9,
   "metadata": {},
   "outputs": [
    {
     "data": {
      "text/plain": [
       "<matplotlib.axes._subplots.AxesSubplot at 0x1a1f975550>"
      ]
     },
     "execution_count": 9,
     "metadata": {},
     "output_type": "execute_result"
    },
    {
     "data": {
      "image/png": "[encoded data removed]",
      "text/plain": [
       "<Figure size 432x288 with 1 Axes>"
      ]
     },
     "metadata": {
      "needs_background": "light"
     },
     "output_type": "display_data"
    }
   ],
   "source": [
    "sns.distplot(df_L100.gs_size)"
   ]
  },
  {
   "cell_type": "markdown",
   "metadata": {},
   "source": [
    "#### calculate binomial probability, and entropy"
   ]
  },
  {
   "cell_type": "code",
   "execution_count": 10,
   "metadata": {},
   "outputs": [],
   "source": [
    "from scipy.stats import binom\n",
    "\n",
    "def calcOverlap(df_source, df_target):\n",
    "    score = 1\n",
    "    gs_target = df_target['gs']\n",
    "    gs_target_sizes = df_target['gs_size']\n",
    "    gs_source = df_source['gs']\n",
    "\n",
    "    overlap_n = []\n",
    "    overlap_prob = []\n",
    "    for gs in gs_target:\n",
    "        gs_op_n = len(set(gs).intersection(set(gs_source))) # number of genes overlap for given target gs\n",
    "        overlap_n.append(gs_op_n)\n",
    "        gs_op_prob = binom.pmf(gs_op_n, n=len(gs_source),p=len(gs)/sum(gs_target_sizes))\n",
    "        overlap_prob.append(gs_op_prob)\n",
    "\n",
    "    entropy = -np.sum(overlap_prob* np.log(overlap_prob))\n",
    "    return entropy\n",
    "\n",
    "entropy_assoc = df_assoc.apply(calcOverlap, df_target=df_L100, axis=1)\n",
    "entropy_infer = df_infer.apply(calcOverlap, df_target=df_L100, axis=1)"
   ]
  },
  {
   "cell_type": "code",
   "execution_count": 23,
   "metadata": {},
   "outputs": [],
   "source": [
    "df_entropy = pd.DataFrame({'assoc': entropy_assoc,\n",
    "                        'infer': entropy_infer,})"
   ]
  },
  {
   "cell_type": "code",
   "execution_count": 24,
   "metadata": {},
   "outputs": [
    {
     "data": {
      "text/html": [
       "<div>\n",
       "<style scoped>\n",
       "    .dataframe tbody tr th:only-of-type {\n",
       "        vertical-align: middle;\n",
       "    }\n",
       "\n",
       "    .dataframe tbody tr th {\n",
       "        vertical-align: top;\n",
       "    }\n",
       "\n",
       "    .dataframe thead th {\n",
       "        text-align: right;\n",
       "    }\n",
       "</style>\n",
       "<table border=\"1\" class=\"dataframe\">\n",
       "  <thead>\n",
       "    <tr style=\"text-align: right;\">\n",
       "      <th></th>\n",
       "      <th>assoc</th>\n",
       "      <th>infer</th>\n",
       "    </tr>\n",
       "  </thead>\n",
       "  <tbody>\n",
       "    <tr>\n",
       "      <th>count</th>\n",
       "      <td>47.000000</td>\n",
       "      <td>40.000000</td>\n",
       "    </tr>\n",
       "    <tr>\n",
       "      <th>mean</th>\n",
       "      <td>24.398274</td>\n",
       "      <td>28.206691</td>\n",
       "    </tr>\n",
       "    <tr>\n",
       "      <th>std</th>\n",
       "      <td>9.203981</td>\n",
       "      <td>8.181497</td>\n",
       "    </tr>\n",
       "    <tr>\n",
       "      <th>min</th>\n",
       "      <td>9.043801</td>\n",
       "      <td>8.586510</td>\n",
       "    </tr>\n",
       "    <tr>\n",
       "      <th>25%</th>\n",
       "      <td>15.512649</td>\n",
       "      <td>30.217532</td>\n",
       "    </tr>\n",
       "    <tr>\n",
       "      <th>50%</th>\n",
       "      <td>28.133115</td>\n",
       "      <td>31.820142</td>\n",
       "    </tr>\n",
       "    <tr>\n",
       "      <th>75%</th>\n",
       "      <td>31.732068</td>\n",
       "      <td>32.831491</td>\n",
       "    </tr>\n",
       "    <tr>\n",
       "      <th>max</th>\n",
       "      <td>34.428648</td>\n",
       "      <td>33.755059</td>\n",
       "    </tr>\n",
       "  </tbody>\n",
       "</table>\n",
       "</div>"
      ],
      "text/plain": [
       "           assoc      infer\n",
       "count  47.000000  40.000000\n",
       "mean   24.398274  28.206691\n",
       "std     9.203981   8.181497\n",
       "min     9.043801   8.586510\n",
       "25%    15.512649  30.217532\n",
       "50%    28.133115  31.820142\n",
       "75%    31.732068  32.831491\n",
       "max    34.428648  33.755059"
      ]
     },
     "execution_count": 24,
     "metadata": {},
     "output_type": "execute_result"
    }
   ],
   "source": [
    "df_entropy.describe()"
   ]
  },
  {
   "cell_type": "code",
   "execution_count": 25,
   "metadata": {},
   "outputs": [
    {
     "data": {
      "image/png": "[encoded data removed]",
      "text/plain": [
       "<Figure size 432x288 with 1 Axes>"
      ]
     },
     "metadata": {
      "needs_background": "light"
     },
     "output_type": "display_data"
    }
   ],
   "source": [
    "sns.distplot(entropy_infer)\n",
    "sns.distplot(entropy_assoc)\n",
    "\n",
    "plt.legend(title='list',loc='upper right', labels=['infer entropy', 'assoc entropy'])\n",
    "plt.xlabel('Entropy')\n",
    "plt.show()"
   ]
  },
  {
   "cell_type": "code",
   "execution_count": null,
   "metadata": {},
   "outputs": [],
   "source": []
  }
 ],
 "metadata": {
  "kernelspec": {
   "display_name": "Python 3",
   "language": "python",
   "name": "python3"
  },
  "language_info": {
   "codemirror_mode": {
    "name": "ipython",
    "version": 3
   },
   "file_extension": ".py",
   "mimetype": "text/x-python",
   "name": "python",
   "nbconvert_exporter": "python",
   "pygments_lexer": "ipython3",
   "version": "3.7.7"
  }
 },
 "nbformat": 4,
 "nbformat_minor": 2
}
