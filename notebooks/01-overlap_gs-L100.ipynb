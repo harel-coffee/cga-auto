{
 "cells": [
  {
   "cell_type": "code",
   "execution_count": 1,
   "metadata": {},
   "outputs": [],
   "source": [
    "import pandas as pd\n",
    "import re\n",
    "import seaborn as sns\n",
    "import matplotlib.pyplot as plt"
   ]
  },
  {
   "cell_type": "code",
   "execution_count": 2,
   "metadata": {},
   "outputs": [],
   "source": [
    "#get the rf-boruta results\n",
    "df_infer = pd.read_csv('../out/20.0216 feat/reg_rf_boruta/anlyz_filtered/feat_summary_varExp_filtered.csv')\n",
    "\n",
    "#get the reg univariate-rf results\n",
    "df_assoc = pd.read_csv('../out/20.0216 feat/reg_univariate_rf/anlyz_filtered/univariate_varExp_filtered.csv')\n",
    "\n",
    "#L100 results\n",
    "df_L100 = pd.read_csv('../out/19.1013 tight cluster/landmarks_n100_k100.csv')"
   ]
  },
  {
   "cell_type": "code",
   "execution_count": 3,
   "metadata": {},
   "outputs": [],
   "source": [
    "genes_assoc = set(df_assoc.target.unique()).union(set(df_assoc.feat_gene.unique()))\n",
    "genes_infer = set(df_infer.target.unique()).union(set(df_infer.feat_gene.unique()))\n",
    "\n",
    "genes_intersect = genes_assoc.intersection(genes_infer)"
   ]
  },
  {
   "cell_type": "code",
   "execution_count": 4,
   "metadata": {},
   "outputs": [
    {
     "data": {
      "text/html": [
       "<div>\n",
       "<style scoped>\n",
       "    .dataframe tbody tr th:only-of-type {\n",
       "        vertical-align: middle;\n",
       "    }\n",
       "\n",
       "    .dataframe tbody tr th {\n",
       "        vertical-align: top;\n",
       "    }\n",
       "\n",
       "    .dataframe thead th {\n",
       "        text-align: right;\n",
       "    }\n",
       "</style>\n",
       "<table border=\"1\" class=\"dataframe\">\n",
       "  <thead>\n",
       "    <tr style=\"text-align: right;\">\n",
       "      <th></th>\n",
       "      <th>genes_assoc</th>\n",
       "      <th>genes_infer</th>\n",
       "      <th>intersect</th>\n",
       "    </tr>\n",
       "  </thead>\n",
       "  <tbody>\n",
       "    <tr>\n",
       "      <th>0</th>\n",
       "      <td>2782</td>\n",
       "      <td>2987</td>\n",
       "      <td>1731</td>\n",
       "    </tr>\n",
       "  </tbody>\n",
       "</table>\n",
       "</div>"
      ],
      "text/plain": [
       "   genes_assoc  genes_infer  intersect\n",
       "0         2782         2987       1731"
      ]
     },
     "execution_count": 4,
     "metadata": {},
     "output_type": "execute_result"
    }
   ],
   "source": [
    "pd.DataFrame([{'intersect':len(genes_intersect),\n",
    "               'genes_assoc':len(genes_assoc),\n",
    "               'genes_infer':len(genes_infer)}])"
   ]
  },
  {
   "cell_type": "code",
   "execution_count": 5,
   "metadata": {},
   "outputs": [],
   "source": [
    "#get the group-only genes\n",
    "assoc_only = genes_assoc - genes_infer\n",
    "infer_only = genes_infer - genes_assoc"
   ]
  },
  {
   "cell_type": "code",
   "execution_count": 6,
   "metadata": {},
   "outputs": [
    {
     "data": {
      "text/html": [
       "<div>\n",
       "<style scoped>\n",
       "    .dataframe tbody tr th:only-of-type {\n",
       "        vertical-align: middle;\n",
       "    }\n",
       "\n",
       "    .dataframe tbody tr th {\n",
       "        vertical-align: top;\n",
       "    }\n",
       "\n",
       "    .dataframe thead th {\n",
       "        text-align: right;\n",
       "    }\n",
       "</style>\n",
       "<table border=\"1\" class=\"dataframe\">\n",
       "  <thead>\n",
       "    <tr style=\"text-align: right;\">\n",
       "      <th></th>\n",
       "      <th>cluster</th>\n",
       "      <th>genes</th>\n",
       "      <th>size</th>\n",
       "      <th>landmark</th>\n",
       "      <th>genes_token</th>\n",
       "    </tr>\n",
       "  </thead>\n",
       "  <tbody>\n",
       "    <tr>\n",
       "      <th>0</th>\n",
       "      <td>1</td>\n",
       "      <td>ABHD8..79575.,ACP5..54.,ACTL9..284382.,ADAMTS1...</td>\n",
       "      <td>224</td>\n",
       "      <td>TMEM167A (153339)</td>\n",
       "      <td>[TMEM167A, ABHD8, ACP5, ACTL9, ADAMTS10, AKAP8...</td>\n",
       "    </tr>\n",
       "    <tr>\n",
       "      <th>1</th>\n",
       "      <td>2</td>\n",
       "      <td>AADAT..51166.,ABAT..18.,ACTL6B..51412.,ADHFE1....</td>\n",
       "      <td>226</td>\n",
       "      <td>CDC40 (51362)</td>\n",
       "      <td>[CDC40, AADAT, ABAT, ACTL6B, ADHFE1, AEBP2, AF...</td>\n",
       "    </tr>\n",
       "    <tr>\n",
       "      <th>2</th>\n",
       "      <td>3</td>\n",
       "      <td>AASS..10157.,ADI1..55256.,ADO..84890.,AES..166...</td>\n",
       "      <td>261</td>\n",
       "      <td>PBRM1 (55193)</td>\n",
       "      <td>[PBRM1, AASS, ADI1, ADO, AES, AGXT, AGXT2, AIM...</td>\n",
       "    </tr>\n",
       "    <tr>\n",
       "      <th>3</th>\n",
       "      <td>4</td>\n",
       "      <td>ACTR5..79913.,ADRM1..11047.,AICDA..57379.,ARID...</td>\n",
       "      <td>182</td>\n",
       "      <td>PDS5A (23244)</td>\n",
       "      <td>[PDS5A, ACTR5, ADRM1, AICDA, ARID1B, ARID3C, A...</td>\n",
       "    </tr>\n",
       "    <tr>\n",
       "      <th>4</th>\n",
       "      <td>5</td>\n",
       "      <td>ABT1..29777.,ACD..65057.,ACTR8..93973.,AFF1..4...</td>\n",
       "      <td>173</td>\n",
       "      <td>SMARCE1 (6605)</td>\n",
       "      <td>[SMARCE1, ABT1, ACD, ACTR8, AFF1, AFF4, AIP, A...</td>\n",
       "    </tr>\n",
       "  </tbody>\n",
       "</table>\n",
       "</div>"
      ],
      "text/plain": [
       "   cluster                                              genes  size  \\\n",
       "0        1  ABHD8..79575.,ACP5..54.,ACTL9..284382.,ADAMTS1...   224   \n",
       "1        2  AADAT..51166.,ABAT..18.,ACTL6B..51412.,ADHFE1....   226   \n",
       "2        3  AASS..10157.,ADI1..55256.,ADO..84890.,AES..166...   261   \n",
       "3        4  ACTR5..79913.,ADRM1..11047.,AICDA..57379.,ARID...   182   \n",
       "4        5  ABT1..29777.,ACD..65057.,ACTR8..93973.,AFF1..4...   173   \n",
       "\n",
       "            landmark                                        genes_token  \n",
       "0  TMEM167A (153339)  [TMEM167A, ABHD8, ACP5, ACTL9, ADAMTS10, AKAP8...  \n",
       "1      CDC40 (51362)  [CDC40, AADAT, ABAT, ACTL6B, ADHFE1, AEBP2, AF...  \n",
       "2      PBRM1 (55193)  [PBRM1, AASS, ADI1, ADO, AES, AGXT, AGXT2, AIM...  \n",
       "3      PDS5A (23244)  [PDS5A, ACTR5, ADRM1, AICDA, ARID1B, ARID3C, A...  \n",
       "4     SMARCE1 (6605)  [SMARCE1, ABT1, ACD, ACTR8, AFF1, AFF4, AIP, A...  "
      ]
     },
     "execution_count": 6,
     "metadata": {},
     "output_type": "execute_result"
    }
   ],
   "source": [
    "#retrieve the genes L100\n",
    "df_L100['genes_token'] = df_L100.genes.apply(lambda x: re.findall('(\\w*)\\.\\.', x))\n",
    "df_L100['genes_token'] = df_L100.apply(lambda x: re.findall('(\\w*)\\s', x['landmark'])+x['genes_token'], axis=1)\n",
    "df_L100.head()"
   ]
  },
  {
   "cell_type": "code",
   "execution_count": 7,
   "metadata": {},
   "outputs": [],
   "source": [
    "#get interactions with L100\n",
    "#expect that assoc_only genes to be more associated within L100 clusters\n",
    "#expect infer_only to be more across L100 clusters\n",
    "\n",
    "df_L100['intersect_assoc_only'] = df_L100.genes_token.apply(lambda x: len(set.intersection(set(x), set(assoc_only))))\n",
    "df_L100['intersect_infer_only'] = df_L100.genes_token.apply(lambda x: len(set.intersection(set(x), set(infer_only))))\n",
    "df_L100['intersect_assoc'] = df_L100.genes_token.apply(lambda x: len(set.intersection(set(x), set(genes_assoc))))\n",
    "df_L100['intersect_infer'] = df_L100.genes_token.apply(lambda x: len(set.intersection(set(x), set(genes_infer))))\n"
   ]
  },
  {
   "cell_type": "code",
   "execution_count": 8,
   "metadata": {},
   "outputs": [
    {
     "data": {
      "image/png": "[encoded data removed]",
      "text/plain": [
       "<Figure size 432x288 with 1 Axes>"
      ]
     },
     "metadata": {
      "needs_background": "light"
     },
     "output_type": "display_data"
    }
   ],
   "source": [
    "sns.distplot(df_L100.intersect_infer_only)\n",
    "sns.distplot(df_L100.intersect_assoc_only)\n",
    "plt.legend(title='list',loc='upper right', labels=['infer_only', 'assoc_only'])\n",
    "plt.xlabel('genes overlap between each L100 group and list')\n",
    "plt.show()"
   ]
  },
  {
   "cell_type": "markdown",
   "metadata": {},
   "source": [
    "There is a slight skew for the association-based method to have higher intra-group L100 overlap"
   ]
  },
  {
   "cell_type": "code",
   "execution_count": 9,
   "metadata": {},
   "outputs": [
    {
     "data": {
      "image/png": "[encoded data removed]",
      "text/plain": [
       "<Figure size 432x288 with 1 Axes>"
      ]
     },
     "metadata": {
      "needs_background": "light"
     },
     "output_type": "display_data"
    }
   ],
   "source": [
    "df1 = pd.DataFrame({'val':df_L100.intersect_infer_only, 'method':'infer only'})\n",
    "df2 = pd.DataFrame({'val':df_L100.intersect_assoc_only, 'method':'assoc only'})\n",
    "df = pd.concat([df1,df2])\n",
    "sns.boxplot('method', 'val', data = df)\n",
    "plt.ylabel('genes overlap between\\neach L100 group and list')\n",
    "plt.show()"
   ]
  },
  {
   "cell_type": "code",
   "execution_count": 10,
   "metadata": {},
   "outputs": [
    {
     "data": {
      "text/plain": [
       "MannwhitneyuResult(statistic=4117.0, pvalue=0.015184803703018685)"
      ]
     },
     "execution_count": 10,
     "metadata": {},
     "output_type": "execute_result"
    }
   ],
   "source": [
    "from scipy.stats import mannwhitneyu \n",
    "mannwhitneyu(df_L100.intersect_infer_only, df_L100.intersect_assoc_only)"
   ]
  },
  {
   "cell_type": "markdown",
   "metadata": {},
   "source": [
    "Check not just the infer/assoc only genes, but all infer genes, and all assoc genes"
   ]
  },
  {
   "cell_type": "code",
   "execution_count": 11,
   "metadata": {},
   "outputs": [
    {
     "data": {
      "image/png": "[encoded data removed]",
      "text/plain": [
       "<Figure size 432x288 with 1 Axes>"
      ]
     },
     "metadata": {
      "needs_background": "light"
     },
     "output_type": "display_data"
    }
   ],
   "source": [
    "df1 = pd.DataFrame({'val':df_L100.intersect_infer, 'method':'infer'})\n",
    "df2 = pd.DataFrame({'val':df_L100.intersect_assoc, 'method':'assoc'})\n",
    "df = pd.concat([df1,df2])\n",
    "sns.boxplot('method', 'val', data = df)\n",
    "plt.ylabel('genes overlap between\\neach L100 group and list')\n",
    "plt.show()"
   ]
  },
  {
   "cell_type": "code",
   "execution_count": 12,
   "metadata": {},
   "outputs": [
    {
     "data": {
      "text/plain": [
       "MannwhitneyuResult(statistic=4719.0, pvalue=0.2462946536162302)"
      ]
     },
     "execution_count": 12,
     "metadata": {},
     "output_type": "execute_result"
    }
   ],
   "source": [
    "from scipy.stats import mannwhitneyu \n",
    "mannwhitneyu(df_L100.intersect_infer, df_L100.intersect_assoc)"
   ]
  },
  {
   "cell_type": "markdown",
   "metadata": {},
   "source": [
    "Not significant here. But significant when you compare/contrast infer only and assoc only (excluding their intersections), to the L100; p-value = 0.15"
   ]
  }
 ],
 "metadata": {
  "kernelspec": {
   "display_name": "Python 3",
   "language": "python",
   "name": "python3"
  },
  "language_info": {
   "codemirror_mode": {
    "name": "ipython",
    "version": 3
   },
   "file_extension": ".py",
   "mimetype": "text/x-python",
   "name": "python",
   "nbconvert_exporter": "python",
   "pygments_lexer": "ipython3",
   "version": "3.7.7"
  }
 },
 "nbformat": 4,
 "nbformat_minor": 2
}
