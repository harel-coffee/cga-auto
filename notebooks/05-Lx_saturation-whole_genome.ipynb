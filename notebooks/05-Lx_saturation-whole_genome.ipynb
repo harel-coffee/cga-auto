{
 "cells": [
  {
   "cell_type": "markdown",
   "metadata": {},
   "source": [
    "#### Saturation analyses on the Lx, for whole genome"
   ]
  },
  {
   "cell_type": "code",
   "execution_count": 43,
   "metadata": {},
   "outputs": [],
   "source": [
    "import pandas as pd\n",
    "import numpy as np\n",
    "import matplotlib.pyplot as plt\n",
    "import seaborn as sns"
   ]
  },
  {
   "cell_type": "code",
   "execution_count": 44,
   "metadata": {},
   "outputs": [],
   "source": [
    "dir_Lx = '../out/20.0518 Lx/'\n",
    "recall_cutoff = 0.95\n",
    "Lx_range = [25,75,100,200]\n",
    "#Lx_range = [100,200]"
   ]
  },
  {
   "cell_type": "code",
   "execution_count": 45,
   "metadata": {},
   "outputs": [],
   "source": [
    "def getPct(x, model_name, cutoff=0.95):\n",
    "    # get the fraction of targets with recall > cutoff\n",
    "    # given as is refering to Lx\n",
    "    df_results = pd.read_csv('%s/L%sonly_reg_elasticnet_all/model_results.csv' % (dir_Lx, x))\n",
    "    \n",
    "    #genes_pass = df_results.loc[df_results.score_test>0,'target']\n",
    "    #genes_pass = df_results.loc[(df_results.score_train - df_results.score_test) < 0.1,'target']\n",
    "    #df_results = df_results.loc[df_results.target.isin(set(genes_pass)),:].copy()\n",
    "    \n",
    "    df_results = df_results.loc[df_results.model == model_name,:].copy()\n",
    "    n_total = df_results.shape[0]\n",
    "    n_pass = sum(df_results.corr_test_recall > cutoff)\n",
    "                \n",
    "    return n_total, n_pass/n_total, np.nanmean(df_results.corr_test), np.nanmean(df_results.score_test), np.nanmean(df_results.score_train)\n",
    "\n",
    "\n",
    "def getStats(model_name):\n",
    "    df_stats = {'Lx':[], 'recall_pct':[], 'mean_corr':[], 'mean_R2_test':[], 'mean_R2_train':[], 'n':[]}\n",
    "    for x in Lx_range:\n",
    "        df_stats['Lx'].append(x)\n",
    "        n, recall_pct, mean_corr, mean_R2_test, mean_R2_train = getPct(x, model_name, recall_cutoff)\n",
    "        df_stats['recall_pct'].append(recall_pct)\n",
    "        df_stats['mean_corr'].append(mean_corr)\n",
    "        df_stats['mean_R2_test'].append(mean_R2_test)\n",
    "        df_stats['mean_R2_train'].append(mean_R2_train)\n",
    "        df_stats['n'].append(n)\n",
    "    df_stats = pd.DataFrame(df_stats)\n",
    "    return df_stats"
   ]
  },
  {
   "cell_type": "markdown",
   "metadata": {},
   "source": [
    "#### based on reduced model top 10 feat"
   ]
  },
  {
   "cell_type": "code",
   "execution_count": 46,
   "metadata": {},
   "outputs": [
    {
     "data": {
      "text/html": [
       "<div>\n",
       "<style scoped>\n",
       "    .dataframe tbody tr th:only-of-type {\n",
       "        vertical-align: middle;\n",
       "    }\n",
       "\n",
       "    .dataframe tbody tr th {\n",
       "        vertical-align: top;\n",
       "    }\n",
       "\n",
       "    .dataframe thead th {\n",
       "        text-align: right;\n",
       "    }\n",
       "</style>\n",
       "<table border=\"1\" class=\"dataframe\">\n",
       "  <thead>\n",
       "    <tr style=\"text-align: right;\">\n",
       "      <th></th>\n",
       "      <th>Lx</th>\n",
       "      <th>recall_pct</th>\n",
       "      <th>mean_corr</th>\n",
       "      <th>mean_R2_test</th>\n",
       "      <th>mean_R2_train</th>\n",
       "      <th>n</th>\n",
       "    </tr>\n",
       "  </thead>\n",
       "  <tbody>\n",
       "    <tr>\n",
       "      <th>0</th>\n",
       "      <td>25</td>\n",
       "      <td>0.409549</td>\n",
       "      <td>0.165433</td>\n",
       "      <td>0.014849</td>\n",
       "      <td>0.033539</td>\n",
       "      <td>1487</td>\n",
       "    </tr>\n",
       "    <tr>\n",
       "      <th>1</th>\n",
       "      <td>75</td>\n",
       "      <td>0.527481</td>\n",
       "      <td>0.235376</td>\n",
       "      <td>0.044880</td>\n",
       "      <td>0.062694</td>\n",
       "      <td>2620</td>\n",
       "    </tr>\n",
       "    <tr>\n",
       "      <th>2</th>\n",
       "      <td>100</td>\n",
       "      <td>0.534695</td>\n",
       "      <td>0.238850</td>\n",
       "      <td>0.047728</td>\n",
       "      <td>0.066254</td>\n",
       "      <td>2594</td>\n",
       "    </tr>\n",
       "    <tr>\n",
       "      <th>3</th>\n",
       "      <td>200</td>\n",
       "      <td>0.572737</td>\n",
       "      <td>0.258936</td>\n",
       "      <td>0.056332</td>\n",
       "      <td>0.075991</td>\n",
       "      <td>2729</td>\n",
       "    </tr>\n",
       "  </tbody>\n",
       "</table>\n",
       "</div>"
      ],
      "text/plain": [
       "    Lx  recall_pct  mean_corr  mean_R2_test  mean_R2_train     n\n",
       "0   25    0.409549   0.165433      0.014849       0.033539  1487\n",
       "1   75    0.527481   0.235376      0.044880       0.062694  2620\n",
       "2  100    0.534695   0.238850      0.047728       0.066254  2594\n",
       "3  200    0.572737   0.258936      0.056332       0.075991  2729"
      ]
     },
     "execution_count": 46,
     "metadata": {},
     "output_type": "execute_result"
    }
   ],
   "source": [
    "df_stats = getStats('top10feat')\n",
    "df_stats"
   ]
  },
  {
   "cell_type": "code",
   "execution_count": 47,
   "metadata": {},
   "outputs": [
    {
     "data": {
      "text/plain": [
       "[Text(0,0.5,'% targets with recall > 0.95'), Text(0.5,0,'Lx')]"
      ]
     },
     "execution_count": 47,
     "metadata": {},
     "output_type": "execute_result"
    },
    {
     "data": {
      "image/png": "[encoded data removed]",
      "text/plain": [
       "<Figure size 432x288 with 1 Axes>"
      ]
     },
     "metadata": {
      "needs_background": "light"
     },
     "output_type": "display_data"
    }
   ],
   "source": [
    "ax = sns.scatterplot(df_stats.Lx, df_stats.recall_pct, s=100)\n",
    "ax.set(xlabel='Lx', ylabel='%% targets with recall > %s' % recall_cutoff)"
   ]
  },
  {
   "cell_type": "code",
   "execution_count": 48,
   "metadata": {},
   "outputs": [
    {
     "data": {
      "text/plain": [
       "[Text(0,0.5,'Mean correlation (rho)'), Text(0.5,0,'Lx')]"
      ]
     },
     "execution_count": 48,
     "metadata": {},
     "output_type": "execute_result"
    },
    {
     "data": {
      "image/png": "[encoded data removed]",
      "text/plain": [
       "<Figure size 432x288 with 1 Axes>"
      ]
     },
     "metadata": {
      "needs_background": "light"
     },
     "output_type": "display_data"
    }
   ],
   "source": [
    "ax = sns.scatterplot(df_stats.Lx, df_stats.mean_corr, s=100)\n",
    "ax.set(xlabel='Lx', ylabel='Mean correlation (rho)')"
   ]
  },
  {
   "cell_type": "code",
   "execution_count": 49,
   "metadata": {},
   "outputs": [
    {
     "data": {
      "text/plain": [
       "<matplotlib.legend.Legend at 0x1a22ceb6d8>"
      ]
     },
     "execution_count": 49,
     "metadata": {},
     "output_type": "execute_result"
    },
    {
     "data": {
      "image/png": "[encoded data removed]",
      "text/plain": [
       "<Figure size 432x288 with 1 Axes>"
      ]
     },
     "metadata": {
      "needs_background": "light"
     },
     "output_type": "display_data"
    }
   ],
   "source": [
    "ax = sns.scatterplot(df_stats.Lx, df_stats.mean_R2_test, s=100)\n",
    "ax = sns.scatterplot(df_stats.Lx, df_stats.mean_R2_train, s=100)\n",
    "ax.set(xlabel='Lx', ylabel='Mean R2')\n",
    "ax.legend(labels=['test', 'train'])"
   ]
  },
  {
   "cell_type": "markdown",
   "metadata": {},
   "source": [
    "#### based on reduced model"
   ]
  },
  {
   "cell_type": "code",
   "execution_count": 50,
   "metadata": {},
   "outputs": [
    {
     "data": {
      "text/html": [
       "<div>\n",
       "<style scoped>\n",
       "    .dataframe tbody tr th:only-of-type {\n",
       "        vertical-align: middle;\n",
       "    }\n",
       "\n",
       "    .dataframe tbody tr th {\n",
       "        vertical-align: top;\n",
       "    }\n",
       "\n",
       "    .dataframe thead th {\n",
       "        text-align: right;\n",
       "    }\n",
       "</style>\n",
       "<table border=\"1\" class=\"dataframe\">\n",
       "  <thead>\n",
       "    <tr style=\"text-align: right;\">\n",
       "      <th></th>\n",
       "      <th>Lx</th>\n",
       "      <th>recall_pct</th>\n",
       "      <th>mean_corr</th>\n",
       "      <th>mean_R2_test</th>\n",
       "      <th>mean_R2_train</th>\n",
       "      <th>n</th>\n",
       "    </tr>\n",
       "  </thead>\n",
       "  <tbody>\n",
       "    <tr>\n",
       "      <th>0</th>\n",
       "      <td>25</td>\n",
       "      <td>0.408877</td>\n",
       "      <td>0.165433</td>\n",
       "      <td>0.014849</td>\n",
       "      <td>0.033539</td>\n",
       "      <td>1487</td>\n",
       "    </tr>\n",
       "    <tr>\n",
       "      <th>1</th>\n",
       "      <td>75</td>\n",
       "      <td>0.529008</td>\n",
       "      <td>0.235381</td>\n",
       "      <td>0.044881</td>\n",
       "      <td>0.062696</td>\n",
       "      <td>2620</td>\n",
       "    </tr>\n",
       "    <tr>\n",
       "      <th>2</th>\n",
       "      <td>100</td>\n",
       "      <td>0.533924</td>\n",
       "      <td>0.238858</td>\n",
       "      <td>0.047739</td>\n",
       "      <td>0.066263</td>\n",
       "      <td>2594</td>\n",
       "    </tr>\n",
       "    <tr>\n",
       "      <th>3</th>\n",
       "      <td>200</td>\n",
       "      <td>0.571638</td>\n",
       "      <td>0.258949</td>\n",
       "      <td>0.056354</td>\n",
       "      <td>0.076027</td>\n",
       "      <td>2729</td>\n",
       "    </tr>\n",
       "  </tbody>\n",
       "</table>\n",
       "</div>"
      ],
      "text/plain": [
       "    Lx  recall_pct  mean_corr  mean_R2_test  mean_R2_train     n\n",
       "0   25    0.408877   0.165433      0.014849       0.033539  1487\n",
       "1   75    0.529008   0.235381      0.044881       0.062696  2620\n",
       "2  100    0.533924   0.238858      0.047739       0.066263  2594\n",
       "3  200    0.571638   0.258949      0.056354       0.076027  2729"
      ]
     },
     "execution_count": 50,
     "metadata": {},
     "output_type": "execute_result"
    }
   ],
   "source": [
    "df_stats = getStats('topfeat')\n",
    "df_stats"
   ]
  },
  {
   "cell_type": "code",
   "execution_count": 51,
   "metadata": {},
   "outputs": [
    {
     "data": {
      "text/plain": [
       "[Text(0,0.5,'% targets with recall > 0.95'), Text(0.5,0,'Lx')]"
      ]
     },
     "execution_count": 51,
     "metadata": {},
     "output_type": "execute_result"
    },
    {
     "data": {
      "image/png": "[encoded data removed]",
      "text/plain": [
       "<Figure size 432x288 with 1 Axes>"
      ]
     },
     "metadata": {
      "needs_background": "light"
     },
     "output_type": "display_data"
    }
   ],
   "source": [
    "ax = sns.scatterplot(df_stats.Lx, df_stats.recall_pct, s=100)\n",
    "ax.set(xlabel='Lx', ylabel='%% targets with recall > %s' % recall_cutoff)"
   ]
  },
  {
   "cell_type": "code",
   "execution_count": 52,
   "metadata": {},
   "outputs": [
    {
     "data": {
      "text/plain": [
       "[Text(0,0.5,'Mean correlation (rho)'), Text(0.5,0,'Lx')]"
      ]
     },
     "execution_count": 52,
     "metadata": {},
     "output_type": "execute_result"
    },
    {
     "data": {
      "image/png": "[encoded data removed]",
      "text/plain": [
       "<Figure size 432x288 with 1 Axes>"
      ]
     },
     "metadata": {
      "needs_background": "light"
     },
     "output_type": "display_data"
    }
   ],
   "source": [
    "ax = sns.scatterplot(df_stats.Lx, df_stats.mean_corr, s=100)\n",
    "ax.set(xlabel='Lx', ylabel='Mean correlation (rho)')"
   ]
  },
  {
   "cell_type": "code",
   "execution_count": 53,
   "metadata": {},
   "outputs": [
    {
     "data": {
      "text/plain": [
       "<matplotlib.legend.Legend at 0x1a23c74e48>"
      ]
     },
     "execution_count": 53,
     "metadata": {},
     "output_type": "execute_result"
    },
    {
     "data": {
      "image/png": "[encoded data removed]",
      "text/plain": [
       "<Figure size 432x288 with 1 Axes>"
      ]
     },
     "metadata": {
      "needs_background": "light"
     },
     "output_type": "display_data"
    }
   ],
   "source": [
    "ax = sns.scatterplot(df_stats.Lx, df_stats.mean_R2_test, s=100)\n",
    "ax = sns.scatterplot(df_stats.Lx, df_stats.mean_R2_train, s=100)\n",
    "ax.set(xlabel='Lx', ylabel='Mean R2')\n",
    "ax.legend(labels=['test', 'train'])"
   ]
  },
  {
   "cell_type": "markdown",
   "metadata": {},
   "source": [
    "#### based on full model"
   ]
  },
  {
   "cell_type": "code",
   "execution_count": 54,
   "metadata": {},
   "outputs": [
    {
     "data": {
      "text/html": [
       "<div>\n",
       "<style scoped>\n",
       "    .dataframe tbody tr th:only-of-type {\n",
       "        vertical-align: middle;\n",
       "    }\n",
       "\n",
       "    .dataframe tbody tr th {\n",
       "        vertical-align: top;\n",
       "    }\n",
       "\n",
       "    .dataframe thead th {\n",
       "        text-align: right;\n",
       "    }\n",
       "</style>\n",
       "<table border=\"1\" class=\"dataframe\">\n",
       "  <thead>\n",
       "    <tr style=\"text-align: right;\">\n",
       "      <th></th>\n",
       "      <th>Lx</th>\n",
       "      <th>recall_pct</th>\n",
       "      <th>mean_corr</th>\n",
       "      <th>mean_R2_test</th>\n",
       "      <th>mean_R2_train</th>\n",
       "      <th>n</th>\n",
       "    </tr>\n",
       "  </thead>\n",
       "  <tbody>\n",
       "    <tr>\n",
       "      <th>0</th>\n",
       "      <td>25</td>\n",
       "      <td>0.032882</td>\n",
       "      <td>0.165492</td>\n",
       "      <td>-0.011842</td>\n",
       "      <td>0.002726</td>\n",
       "      <td>18308</td>\n",
       "    </tr>\n",
       "    <tr>\n",
       "      <th>1</th>\n",
       "      <td>75</td>\n",
       "      <td>0.075246</td>\n",
       "      <td>0.235381</td>\n",
       "      <td>-0.005694</td>\n",
       "      <td>0.008996</td>\n",
       "      <td>18260</td>\n",
       "    </tr>\n",
       "    <tr>\n",
       "      <th>2</th>\n",
       "      <td>100</td>\n",
       "      <td>0.076168</td>\n",
       "      <td>0.238858</td>\n",
       "      <td>-0.005380</td>\n",
       "      <td>0.009426</td>\n",
       "      <td>18236</td>\n",
       "    </tr>\n",
       "    <tr>\n",
       "      <th>3</th>\n",
       "      <td>200</td>\n",
       "      <td>0.085773</td>\n",
       "      <td>0.258949</td>\n",
       "      <td>-0.003594</td>\n",
       "      <td>0.011437</td>\n",
       "      <td>18141</td>\n",
       "    </tr>\n",
       "  </tbody>\n",
       "</table>\n",
       "</div>"
      ],
      "text/plain": [
       "    Lx  recall_pct  mean_corr  mean_R2_test  mean_R2_train      n\n",
       "0   25    0.032882   0.165492     -0.011842       0.002726  18308\n",
       "1   75    0.075246   0.235381     -0.005694       0.008996  18260\n",
       "2  100    0.076168   0.238858     -0.005380       0.009426  18236\n",
       "3  200    0.085773   0.258949     -0.003594       0.011437  18141"
      ]
     },
     "execution_count": 54,
     "metadata": {},
     "output_type": "execute_result"
    }
   ],
   "source": [
    "df_stats = getStats('all')\n",
    "df_stats"
   ]
  },
  {
   "cell_type": "code",
   "execution_count": 55,
   "metadata": {},
   "outputs": [
    {
     "data": {
      "text/plain": [
       "[Text(0,0.5,'% targets with recall > 0.95'), Text(0.5,0,'Lx')]"
      ]
     },
     "execution_count": 55,
     "metadata": {},
     "output_type": "execute_result"
    },
    {
     "data": {
      "image/png": "[encoded data removed]",
      "text/plain": [
       "<Figure size 432x288 with 1 Axes>"
      ]
     },
     "metadata": {
      "needs_background": "light"
     },
     "output_type": "display_data"
    }
   ],
   "source": [
    "ax = sns.scatterplot(df_stats.Lx, df_stats.recall_pct, s=100)\n",
    "ax.set(xlabel='Lx', ylabel='%% targets with recall > %s' % recall_cutoff)"
   ]
  },
  {
   "cell_type": "code",
   "execution_count": 56,
   "metadata": {},
   "outputs": [
    {
     "data": {
      "text/plain": [
       "[Text(0,0.5,'Mean correlation (rho)'), Text(0.5,0,'Lx')]"
      ]
     },
     "execution_count": 56,
     "metadata": {},
     "output_type": "execute_result"
    },
    {
     "data": {
      "image/png": "[encoded data removed]",
      "text/plain": [
       "<Figure size 432x288 with 1 Axes>"
      ]
     },
     "metadata": {
      "needs_background": "light"
     },
     "output_type": "display_data"
    }
   ],
   "source": [
    "ax = sns.scatterplot(df_stats.Lx, df_stats.mean_corr, s=100)\n",
    "ax.set(xlabel='Lx', ylabel='Mean correlation (rho)')"
   ]
  },
  {
   "cell_type": "code",
   "execution_count": 57,
   "metadata": {},
   "outputs": [
    {
     "data": {
      "text/plain": [
       "<matplotlib.legend.Legend at 0x1a23856940>"
      ]
     },
     "execution_count": 57,
     "metadata": {},
     "output_type": "execute_result"
    },
    {
     "data": {
      "image/png": "[encoded data removed]",
      "text/plain": [
       "<Figure size 432x288 with 1 Axes>"
      ]
     },
     "metadata": {
      "needs_background": "light"
     },
     "output_type": "display_data"
    }
   ],
   "source": [
    "ax = sns.scatterplot(df_stats.Lx, df_stats.mean_R2_test, s=100)\n",
    "ax = sns.scatterplot(df_stats.Lx, df_stats.mean_R2_train, s=100)\n",
    "ax.set(xlabel='Lx', ylabel='Mean R2')\n",
    "ax.legend(labels=['test', 'train'])"
   ]
  },
  {
   "cell_type": "code",
   "execution_count": null,
   "metadata": {},
   "outputs": [],
   "source": []
  }
 ],
 "metadata": {
  "kernelspec": {
   "display_name": "Python 3",
   "language": "python",
   "name": "python3"
  },
  "language_info": {
   "codemirror_mode": {
    "name": "ipython",
    "version": 3
   },
   "file_extension": ".py",
   "mimetype": "text/x-python",
   "name": "python",
   "nbconvert_exporter": "python",
   "pygments_lexer": "ipython3",
   "version": "3.7.7"
  }
 },
 "nbformat": 4,
 "nbformat_minor": 2
}
