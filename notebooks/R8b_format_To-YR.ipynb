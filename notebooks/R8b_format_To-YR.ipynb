{
 "cells": [
  {
   "cell_type": "code",
   "execution_count": 1,
   "metadata": {},
   "outputs": [],
   "source": [
    "# This notebook use Q3 data (doesn't contain PC9) to predict PC9 data\n",
    "# Author: Yiyun\n",
    "\n",
    "import pandas as pd\n",
    "from os.path import join\n",
    "from multiprocessing import Pool"
   ]
  },
  {
   "cell_type": "code",
   "execution_count": 2,
   "metadata": {},
   "outputs": [],
   "source": [
    "# Read 19Q3 file, use column names as reference for genes \n",
    "q3_dir = '../data/DepMap/19Q3'\n",
    "df_ref19q3 = pd.read_csv(join(q3_dir,'Achilles_gene_effect.csv'), index_col = 0)"
   ]
  },
  {
   "cell_type": "code",
   "execution_count": 3,
   "metadata": {
    "scrolled": true
   },
   "outputs": [],
   "source": [
    "# Read To file\n",
    "df_to = pd.read_csv(join(q3_dir,'To','ToCellCERES.csv'), index_col = 0)\n",
    "# Assign random cell names to df_to\n",
    "df_to.columns = ['ACH-000113','ACH-000067','ACH-000070','ACH-000075',\\\n",
    "                 'ACH-000108','ACH-000228','ACH-000233','ACH-000414']\n",
    "\n",
    "# df_pc9.columns = ['ACH-000113'] # id for PC9 cell line\n",
    "df_to= df_to.T\n",
    "\n",
    "# Create dictionary for gene names and id in 19Q3 file\n",
    "dict_code = {}\n",
    "for i in range(0, len(df_ref19q3.T)):\n",
    "    name,idx = df_ref19q3.columns[i].split(' ')[0:2]\n",
    "    if name not in dict_code:\n",
    "        dict_code[name] = idx\n",
    "\n",
    "for names in df_to.columns:\n",
    "    if names in dict_code:\n",
    "        new_name = names + ' ' + dict_code[names]\n",
    "        df_to.rename(columns = {names:new_name}, inplace = True)\n",
    "        \n",
    "    else:\n",
    "        df_to = df_to.drop(columns=[names])\n",
    "\n",
    "# drop the NA values\n",
    "df_to = df_to.dropna(axis = 1)"
   ]
  },
  {
   "cell_type": "code",
   "execution_count": 76,
   "metadata": {},
   "outputs": [],
   "source": [
    "# df_to.to_csv(join(q3_dir,'To','gene_effect.csv'), sep = ',')"
   ]
  }
 ],
 "metadata": {
  "kernelspec": {
   "display_name": "Python 3",
   "language": "python",
   "name": "python3"
  },
  "language_info": {
   "codemirror_mode": {
    "name": "ipython",
    "version": 3
   },
   "file_extension": ".py",
   "mimetype": "text/x-python",
   "name": "python",
   "nbconvert_exporter": "python",
   "pygments_lexer": "ipython3",
   "version": "3.7.9"
  }
 },
 "nbformat": 4,
 "nbformat_minor": 4
}
