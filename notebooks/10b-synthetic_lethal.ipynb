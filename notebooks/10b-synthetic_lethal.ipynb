{
 "cells": [
  {
   "cell_type": "code",
   "execution_count": 43,
   "metadata": {
    "slideshow": {
     "slide_type": "slide"
    }
   },
   "outputs": [],
   "source": [
    "import pickle\n",
    "import pandas as pd\n",
    "import os\n",
    "import seaborn as sns\n",
    "import matplotlib.pyplot as plt\n",
    "import numpy as np\n",
    "from ast import literal_eval"
   ]
  },
  {
   "cell_type": "code",
   "execution_count": 44,
   "metadata": {
    "slideshow": {
     "slide_type": "slide"
    }
   },
   "outputs": [],
   "source": [
    "import sys\n",
    "sys.path.append('../')"
   ]
  },
  {
   "cell_type": "markdown",
   "metadata": {},
   "source": [
    "### breakdown of lethality"
   ]
  },
  {
   "cell_type": "code",
   "execution_count": 5,
   "metadata": {},
   "outputs": [],
   "source": [
    "dir_in_res = '../out/20.0216 feat/reg_rf_boruta'\n",
    "dir_in_anlyz = os.path.join(dir_in_res, 'anlyz_filtered')\n",
    "df_featSummary = pd.read_csv(os.path.join(dir_in_anlyz, 'feat_summary.csv')) #feature summary\n",
    "df_featSummary['feat_sources'] = df_featSummary['feat_sources'].apply(literal_eval)\n",
    "df_featSummary['feat_genes'] = df_featSummary['feat_genes'].apply(literal_eval)"
   ]
  },
  {
   "cell_type": "code",
   "execution_count": 6,
   "metadata": {},
   "outputs": [],
   "source": [
    "df_counts = df_featSummary.groupby('feat_source1')['feat_source1'].count()\n",
    "df_counts = df_counts.to_dict()\n",
    "df_sl = pd.DataFrame([{'new_syn_lethal':df_counts['CERES'],\n",
    "                       'classic_syn_lethal': sum([df_counts[k] for k in ['CN','Mut','RNA-seq']]) }])\n",
    "df_sl = df_sl.T.squeeze()"
   ]
  },
  {
   "cell_type": "code",
   "execution_count": 7,
   "metadata": {},
   "outputs": [
    {
     "data": {
      "text/plain": [
       "classic_syn_lethal     97\n",
       "new_syn_lethal        429\n",
       "Name: 0, dtype: int64"
      ]
     },
     "execution_count": 7,
     "metadata": {},
     "output_type": "execute_result"
    }
   ],
   "source": [
    "df_sl"
   ]
  },
  {
   "cell_type": "markdown",
   "metadata": {},
   "source": [
    "### breakdown of lethality, more refined"
   ]
  },
  {
   "cell_type": "code",
   "execution_count": 46,
   "metadata": {},
   "outputs": [],
   "source": [
    "feat_summary_annot = pd.read_csv(os.path.join(dir_in_anlyz, 'onsamegene', 'feat_summary_annot.csv'), header=0, index_col=0)"
   ]
  },
  {
   "cell_type": "code",
   "execution_count": 47,
   "metadata": {},
   "outputs": [
    {
     "data": {
      "text/html": [
       "<div>\n",
       "<style scoped>\n",
       "    .dataframe tbody tr th:only-of-type {\n",
       "        vertical-align: middle;\n",
       "    }\n",
       "\n",
       "    .dataframe tbody tr th {\n",
       "        vertical-align: top;\n",
       "    }\n",
       "\n",
       "    .dataframe thead th {\n",
       "        text-align: right;\n",
       "    }\n",
       "</style>\n",
       "<table border=\"1\" class=\"dataframe\">\n",
       "  <thead>\n",
       "    <tr style=\"text-align: right;\">\n",
       "      <th></th>\n",
       "      <th>target.1</th>\n",
       "      <th>score_rd</th>\n",
       "      <th>score_full</th>\n",
       "      <th>feature</th>\n",
       "      <th>score_ind</th>\n",
       "      <th>feat_sources</th>\n",
       "      <th>feat_genes</th>\n",
       "      <th>feat_gene1</th>\n",
       "      <th>feat_source1</th>\n",
       "      <th>feat_gene2</th>\n",
       "      <th>...</th>\n",
       "      <th>inSame_2</th>\n",
       "      <th>inSame_3</th>\n",
       "      <th>inSame_4</th>\n",
       "      <th>inSame_5</th>\n",
       "      <th>inSame_6</th>\n",
       "      <th>inSame_7</th>\n",
       "      <th>inSame_8</th>\n",
       "      <th>inSame_9</th>\n",
       "      <th>inSame_10</th>\n",
       "      <th>inSame_top10</th>\n",
       "    </tr>\n",
       "    <tr>\n",
       "      <th>target</th>\n",
       "      <th></th>\n",
       "      <th></th>\n",
       "      <th></th>\n",
       "      <th></th>\n",
       "      <th></th>\n",
       "      <th></th>\n",
       "      <th></th>\n",
       "      <th></th>\n",
       "      <th></th>\n",
       "      <th></th>\n",
       "      <th></th>\n",
       "      <th></th>\n",
       "      <th></th>\n",
       "      <th></th>\n",
       "      <th></th>\n",
       "      <th></th>\n",
       "      <th></th>\n",
       "      <th></th>\n",
       "      <th></th>\n",
       "      <th></th>\n",
       "      <th></th>\n",
       "    </tr>\n",
       "  </thead>\n",
       "  <tbody>\n",
       "    <tr>\n",
       "      <th>ACACA</th>\n",
       "      <td>ACACA</td>\n",
       "      <td>0.34990</td>\n",
       "      <td>0.05240</td>\n",
       "      <td>FASN (2194) [CERES],HSD17B12 (51144) [CERES],A...</td>\n",
       "      <td>0.366,0.001,0.039</td>\n",
       "      <td>['CERES', 'CERES', 'CERES']</td>\n",
       "      <td>['FASN', 'HSD17B12', 'ALG6']</td>\n",
       "      <td>FASN</td>\n",
       "      <td>CERES</td>\n",
       "      <td>HSD17B12</td>\n",
       "      <td>...</td>\n",
       "      <td>False</td>\n",
       "      <td>False</td>\n",
       "      <td>False</td>\n",
       "      <td>False</td>\n",
       "      <td>False</td>\n",
       "      <td>False</td>\n",
       "      <td>False</td>\n",
       "      <td>False</td>\n",
       "      <td>False</td>\n",
       "      <td>False</td>\n",
       "    </tr>\n",
       "    <tr>\n",
       "      <th>ACLY</th>\n",
       "      <td>ACLY</td>\n",
       "      <td>0.39931</td>\n",
       "      <td>0.07137</td>\n",
       "      <td>FASN (2194) [CERES],ACSS1 (ENSG00000154930) [R...</td>\n",
       "      <td>0.242,0.14,0.118</td>\n",
       "      <td>['CERES', 'RNA-seq', 'CERES']</td>\n",
       "      <td>['FASN', 'ACSS1', 'ACACA']</td>\n",
       "      <td>FASN</td>\n",
       "      <td>CERES</td>\n",
       "      <td>ACSS1</td>\n",
       "      <td>...</td>\n",
       "      <td>False</td>\n",
       "      <td>False</td>\n",
       "      <td>False</td>\n",
       "      <td>False</td>\n",
       "      <td>False</td>\n",
       "      <td>False</td>\n",
       "      <td>False</td>\n",
       "      <td>False</td>\n",
       "      <td>False</td>\n",
       "      <td>False</td>\n",
       "    </tr>\n",
       "  </tbody>\n",
       "</table>\n",
       "<p>2 rows × 39 columns</p>\n",
       "</div>"
      ],
      "text/plain": [
       "       target.1  score_rd  score_full  \\\n",
       "target                                  \n",
       "ACACA     ACACA   0.34990     0.05240   \n",
       "ACLY       ACLY   0.39931     0.07137   \n",
       "\n",
       "                                                  feature          score_ind  \\\n",
       "target                                                                         \n",
       "ACACA   FASN (2194) [CERES],HSD17B12 (51144) [CERES],A...  0.366,0.001,0.039   \n",
       "ACLY    FASN (2194) [CERES],ACSS1 (ENSG00000154930) [R...   0.242,0.14,0.118   \n",
       "\n",
       "                         feat_sources                    feat_genes  \\\n",
       "target                                                                \n",
       "ACACA     ['CERES', 'CERES', 'CERES']  ['FASN', 'HSD17B12', 'ALG6']   \n",
       "ACLY    ['CERES', 'RNA-seq', 'CERES']    ['FASN', 'ACSS1', 'ACACA']   \n",
       "\n",
       "       feat_gene1 feat_source1 feat_gene2  ... inSame_2 inSame_3 inSame_4  \\\n",
       "target                                     ...                              \n",
       "ACACA        FASN        CERES   HSD17B12  ...    False    False    False   \n",
       "ACLY         FASN        CERES      ACSS1  ...    False    False    False   \n",
       "\n",
       "       inSame_5 inSame_6 inSame_7 inSame_8 inSame_9 inSame_10 inSame_top10  \n",
       "target                                                                      \n",
       "ACACA     False    False    False    False    False     False        False  \n",
       "ACLY      False    False    False    False    False     False        False  \n",
       "\n",
       "[2 rows x 39 columns]"
      ]
     },
     "execution_count": 47,
     "metadata": {},
     "output_type": "execute_result"
    }
   ],
   "source": [
    "feat_summary_annot.head(2)"
   ]
  },
  {
   "cell_type": "code",
   "execution_count": 48,
   "metadata": {},
   "outputs": [],
   "source": [
    "gs_name = 'KEGG'\n",
    "feat_summary_annot_kegg = pd.read_csv(os.path.join(dir_in_anlyz, 'insamegeneset%s'%gs_name, 'feat_summary_annot.csv'), header=0, index_col=0)\n",
    "\n",
    "gs_name = 'Panther'\n",
    "feat_summary_annot_panther = pd.read_csv(os.path.join(dir_in_anlyz, 'insamegeneset%s'%gs_name, 'feat_summary_annot.csv'), header=0, index_col=0)"
   ]
  },
  {
   "cell_type": "code",
   "execution_count": 115,
   "metadata": {},
   "outputs": [],
   "source": [
    "df_src1 = df_featSummary[['target','feat_source1']].set_index('target')\n",
    "\n",
    "df = pd.DataFrame({'isNotCERES': df_src1.feat_source1.isin(['RNA-seq', 'CN', 'Mut']),\n",
    "                   'sameGene': feat_summary_annot.inSame_1,\n",
    "                   'sameGS': feat_summary_annot_kegg.inSame_1 | feat_summary_annot_panther.inSame_1,\n",
    "                   'isCERES': df_src1.feat_source1 == 'CERES'\n",
    "                   })\n",
    "\n",
    "lethal_dict = {'sameGene': 'ortholog lethality',\n",
    "               'sameGS': 'gene set lethality',\n",
    "               'isCERES': 'functional lethality',\n",
    "               'isNotCERES': 'classic synthetic lethality'}"
   ]
  },
  {
   "cell_type": "code",
   "execution_count": 116,
   "metadata": {},
   "outputs": [],
   "source": [
    "df_counts = pd.DataFrame({'sum':df.sum(axis=0)})\n",
    "df_counts['lethality'] = [lethal_dict[n] for n in df_counts.index]"
   ]
  },
  {
   "cell_type": "code",
   "execution_count": 117,
   "metadata": {},
   "outputs": [
    {
     "data": {
      "text/html": [
       "<div>\n",
       "<style scoped>\n",
       "    .dataframe tbody tr th:only-of-type {\n",
       "        vertical-align: middle;\n",
       "    }\n",
       "\n",
       "    .dataframe tbody tr th {\n",
       "        vertical-align: top;\n",
       "    }\n",
       "\n",
       "    .dataframe thead th {\n",
       "        text-align: right;\n",
       "    }\n",
       "</style>\n",
       "<table border=\"1\" class=\"dataframe\">\n",
       "  <thead>\n",
       "    <tr style=\"text-align: right;\">\n",
       "      <th></th>\n",
       "      <th>sum</th>\n",
       "      <th>lethality</th>\n",
       "    </tr>\n",
       "  </thead>\n",
       "  <tbody>\n",
       "    <tr>\n",
       "      <th>isNotCERES</th>\n",
       "      <td>97</td>\n",
       "      <td>classic synthetic lethality</td>\n",
       "    </tr>\n",
       "    <tr>\n",
       "      <th>sameGene</th>\n",
       "      <td>12</td>\n",
       "      <td>ortholog lethality</td>\n",
       "    </tr>\n",
       "    <tr>\n",
       "      <th>sameGS</th>\n",
       "      <td>142</td>\n",
       "      <td>gene set lethality</td>\n",
       "    </tr>\n",
       "    <tr>\n",
       "      <th>isCERES</th>\n",
       "      <td>429</td>\n",
       "      <td>functional lethality</td>\n",
       "    </tr>\n",
       "  </tbody>\n",
       "</table>\n",
       "</div>"
      ],
      "text/plain": [
       "            sum                    lethality\n",
       "isNotCERES   97  classic synthetic lethality\n",
       "sameGene     12           ortholog lethality\n",
       "sameGS      142           gene set lethality\n",
       "isCERES     429         functional lethality"
      ]
     },
     "execution_count": 117,
     "metadata": {},
     "output_type": "execute_result"
    }
   ],
   "source": [
    "df_counts"
   ]
  },
  {
   "cell_type": "code",
   "execution_count": 128,
   "metadata": {},
   "outputs": [
    {
     "data": {
      "image/png": "[encoded data removed]",
      "text/plain": [
       "<Figure size 432x288 with 1 Axes>"
      ]
     },
     "metadata": {
      "needs_background": "light"
     },
     "output_type": "display_data"
    }
   ],
   "source": [
    "ax = sns.barplot(df_counts['lethality'], df_counts['sum'], color='steelblue')\n",
    "ax.set(xlabel='', ylabel='Number of genes')\n",
    "plt.xticks(rotation=45)\n",
    "plt.tight_layout()"
   ]
  },
  {
   "cell_type": "code",
   "execution_count": null,
   "metadata": {},
   "outputs": [],
   "source": []
  }
 ],
 "metadata": {
  "kernelspec": {
   "display_name": "Python 3",
   "language": "python",
   "name": "python3"
  },
  "language_info": {
   "codemirror_mode": {
    "name": "ipython",
    "version": 3
   },
   "file_extension": ".py",
   "mimetype": "text/x-python",
   "name": "python",
   "nbconvert_exporter": "python",
   "pygments_lexer": "ipython3",
   "version": "3.7.7"
  },
  "toc": {
   "base_numbering": 1,
   "nav_menu": {
    "height": "252px",
    "width": "406px"
   },
   "number_sections": true,
   "sideBar": true,
   "skip_h1_title": false,
   "title_cell": "Table of Contents",
   "title_sidebar": "Contents",
   "toc_cell": false,
   "toc_position": {
    "height": "calc(100% - 180px)",
    "left": "10px",
    "top": "150px",
    "width": "331.391px"
   },
   "toc_section_display": true,
   "toc_window_display": true
  }
 },
 "nbformat": 4,
 "nbformat_minor": 2
}
