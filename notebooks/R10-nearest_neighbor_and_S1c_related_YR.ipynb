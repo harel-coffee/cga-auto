{
 "cells": [
  {
   "cell_type": "code",
   "execution_count": 5,
   "metadata": {},
   "outputs": [],
   "source": [
    "### This note book use nearest neighbor method(The most closest cell line) to predict CERES score of each gene. \n",
    "# Author: Yiyun\n",
    "\n",
    "import pandas as pd\n",
    "import os\n",
    "from scipy.spatial import distance\n",
    "import pickle\n",
    "from scipy.stats import pearsonr"
   ]
  },
  {
   "cell_type": "markdown",
   "metadata": {},
   "source": [
    "***\n",
    "### Nearest Neighbor Model"
   ]
  },
  {
   "cell_type": "code",
   "execution_count": 82,
   "metadata": {},
   "outputs": [],
   "source": [
    "### Read data\n",
    "celligner_dir = '../data/DepMap/celligner'\n",
    "q3_dir = '../data/DepMap/19Q3'\n",
    "dir_div = '../out/20.0216 feat/reg_rf_boruta'\n",
    "\n",
    "# Read celligner and 19q3 file(q3 is the actual data)\n",
    "df_celligner = pd.read_csv(os.path.join(celligner_dir,'celligner_alignment.csv'),index_col = 0)\n",
    "df_ref19q3 = pd.read_csv(os.path.join(q3_dir,'Achilles_gene_effect.csv'), index_col = 0)\n",
    "# Get most diversed gene list\n",
    "f_featsumm = os.path.join(dir_div,'anlyz_filtered','agg_summary_filtered.csv')\n",
    "df_aggRes = pd.read_csv(f_featsumm) #aggregated feat summary\n",
    "div_genes = df_aggRes['target'].to_list()"
   ]
  },
  {
   "cell_type": "code",
   "execution_count": 83,
   "metadata": {},
   "outputs": [],
   "source": [
    "### Initialize output folder\n",
    "out_dir = '../out/21.0406 nearest_neighbor'\n",
    "if not os.path.exists(out_dir):\n",
    "    os.mkdir(out_dir)"
   ]
  },
  {
   "cell_type": "code",
   "execution_count": 84,
   "metadata": {},
   "outputs": [],
   "source": [
    "### Not all 19q3 cell lines are in celligner, we therefore filter the data in Celligner\n",
    "#Therefore the closest cell line is not necessarily the one in the Celligner\n",
    "\n",
    "# Extract the cell line data from celligner\n",
    "df_celligner = df_celligner[df_celligner['sampleID'].str.startswith('ACH-')][['sampleID','UMAP_1','UMAP_2']].transpose()\n",
    "header = df_celligner.iloc[0] \n",
    "df_celligner = df_celligner[1:] \n",
    "df_celligner.columns = header \n",
    "cell_q3cl = list(set(df_celligner.columns).intersection(set(df_ref19q3.index)))\n",
    "\n",
    "# Select q3 cell line in celligner\n",
    "df_celligner = df_celligner[cell_q3cl]"
   ]
  },
  {
   "cell_type": "code",
   "execution_count": 85,
   "metadata": {},
   "outputs": [],
   "source": [
    "### Calculate euclidean distance between cell lines and find the closest pairs\n",
    "df_close_cells = pd.DataFrame(index = ['closest_cell_line','distance'])\n",
    "for cells in cell_q3cl:\n",
    "    rest_cells = df_celligner.columns.drop(cells)\n",
    "    dist_0 = float(10000) # initiate a biggest value to find the smallest value\n",
    "    close_cell = 'Random'\n",
    "    for rest_cell in rest_cells:\n",
    "        dist = distance.euclidean(df_celligner[cells],df_celligner[rest_cell])\n",
    "        # Update the smallest distance\n",
    "        if dist <= dist_0:\n",
    "            dist_0=dist\n",
    "            close_cell = rest_cell\n",
    "            \n",
    "    df_close_cells[cells] = [close_cell,dist_0]"
   ]
  },
  {
   "cell_type": "code",
   "execution_count": 86,
   "metadata": {},
   "outputs": [],
   "source": [
    "### Create actual dataframe\n",
    "# Rename columns, exclude gene code after gene name\n",
    "cols = [genes.split(' ')[0] for genes in df_ref19q3.columns]\n",
    "df_ref19q3.columns = cols\n",
    "# Create actual dataframe with column(most diversed genes) and index(cell lines)\n",
    "df_actual = df_ref19q3.loc[cell_q3cl,div_genes]"
   ]
  },
  {
   "cell_type": "code",
   "execution_count": 88,
   "metadata": {},
   "outputs": [],
   "source": [
    "### Fill the predicted dataframe by the value of the closest cell line\n",
    "df_predicted = pd.DataFrame(index = cell_q3cl, columns = div_genes)\n",
    "# Update the CERES score with the score of closest cell line\n",
    "for cells in cell_q3cl:\n",
    "    cls_cell = df_close_cells.loc['closest_cell_line',cells]\n",
    "    df_predicted.loc[cells,:] = df_actual.loc[cls_cell,:]"
   ]
  },
  {
   "cell_type": "code",
   "execution_count": 103,
   "metadata": {},
   "outputs": [
    {
     "data": {
      "text/plain": [
       "closest_cell_line    ACH-000901\n",
       "distance              0.0795619\n",
       "Name: ACH-000921, dtype: object"
      ]
     },
     "execution_count": 103,
     "metadata": {},
     "output_type": "execute_result"
    }
   ],
   "source": [
    "# Save actual and predicted file\n",
    "y_compr = {'actual':df_actual, 'predicted':df_predicted}"
   ]
  },
  {
   "cell_type": "code",
   "execution_count": 131,
   "metadata": {},
   "outputs": [],
   "source": [
    "###Save actual and predicted model\n",
    "# pickle.dump(df_close_cells, open(join(out_dir,'closest_cell_lines.pkl'),'wb'))\n",
    "# pickle.dump(df_actual, open(join(out_dir,'actual.pkl'),'wb'))\n",
    "# pickle.dump(df_predicted, open(join(out_dir,'predicted.pkl'),'wb'))\n",
    "# pickle.dump(y_compr, open(join(out_dir,'y_compr.pkl'),'wb'))"
   ]
  },
  {
   "cell_type": "markdown",
   "metadata": {},
   "source": [
    "***\n",
    "### Calculate pearson correlation for figure"
   ]
  },
  {
   "cell_type": "code",
   "execution_count": 7,
   "metadata": {},
   "outputs": [],
   "source": [
    "### Next, We calculate the Boruta model correlation coefficient\n",
    "#-----------------------------Functions--------------------------------------------\n",
    "### For reg_boruta, create y_compr_tr and te from individual model_perf file\n",
    "def create_compr(boruta_dir):\n",
    "    df_te_actual = pd.DataFrame();df_te_pred = pd.DataFrame()\n",
    "\n",
    "    for f in os.listdir(boruta_dir):\n",
    "        if f.startswith('y_compr_'): \n",
    "            gene = f.split('.')[0].split('_')[-1]\n",
    "            y_compr_gene = pickle.load(open(os.path.join(boruta_dir,f),'rb'))\n",
    "            df_te_actual[gene] = y_compr_gene['te']['y_actual']\n",
    "            df_te_pred[gene] = y_compr_gene['te']['y_pred']\n",
    "\n",
    "    y_compr_te_boruta = {'actual':df_te_actual,'predicted':df_te_pred}\n",
    "    \n",
    "    return y_compr_te_boruta\n",
    "\n",
    "### Define a function calculate pearson correlation for all genes\n",
    "def get_pearsonr(col):\n",
    "    global y_compr\n",
    "    \n",
    "    name = col.name\n",
    "    try:\n",
    "        corr = pearsonr(col,y_compr['predicted'][name])[0]\n",
    "    except ValueError:\n",
    "        corr = float('NaN')\n",
    "        \n",
    "    return corr\n",
    "#-----------------------------Functions--------------------------------------------"
   ]
  },
  {
   "cell_type": "code",
   "execution_count": 9,
   "metadata": {},
   "outputs": [
    {
     "name": "stdout",
     "output_type": "stream",
     "text": [
      "   rf_boruta\n",
      "0   0.641432\n",
      "   rf_boruta       nn\n",
      "0   0.641432  0.14816\n"
     ]
    }
   ],
   "source": [
    "### Pearson Correlation calculation \n",
    "# Open the compr folder\n",
    "model_dirs = {'rf_boruta': '../out/20.0819 modcompr/reg_rf_boruta',\n",
    "              'nn':'../out/21.0406 nearest_neighbor'}\n",
    "xlab_dict = {'rf_boruta': 'random forest\\niter select+boruta',\n",
    "              'nn': 'nearest neighbors'} # xlabel dict mapping\n",
    "\n",
    "scores_corr = pd.DataFrame()\n",
    "# Iterate through moddir to obtain y_compr prediction data\n",
    "for model, model_dir in model_dirs.items():\n",
    "    if model == 'rf_boruta': # If boruta, we collect the individual files\n",
    "        y_compr = create_compr(os.path.join(model_dir,'model_perf'))\n",
    "    elif model == 'nn':\n",
    "        y_compr = pickle.load(open(os.path.join(model_dir,'y_compr.pkl'),'rb'))\n",
    "    # Calculate pearson correlation between actual and predicted\n",
    "    ser_corr = y_compr['actual'].apply(lambda x: get_pearsonr(x))\n",
    "    scores_corr[model] = [ser_corr.median()]"
   ]
  },
  {
   "cell_type": "code",
   "execution_count": 18,
   "metadata": {},
   "outputs": [
    {
     "name": "stdout",
     "output_type": "stream",
     "text": [
      "The median pearson correlation coefficient for rf_boruta model is 0.6414317721504253\n",
      "The median pearson correlation coefficient for nearest neighbor model is 0.14815971505616796\n"
     ]
    }
   ],
   "source": [
    "print(f'The median pearson correlation coefficient for rf_boruta model is {scores_corr[\"rf_boruta\"].values[0]}')\n",
    "print(f'The median pearson correlation coefficient for nearest neighbor model is {scores_corr[\"nn\"].values[0]}')"
   ]
  },
  {
   "cell_type": "code",
   "execution_count": 150,
   "metadata": {},
   "outputs": [],
   "source": [
    "# pickle.dump(scores_corr, open(join(out_dir,'scores_corr.pkl'),'wb'))"
   ]
  },
  {
   "cell_type": "markdown",
   "metadata": {},
   "source": [
    "***\n",
    "### For figure.py"
   ]
  },
  {
   "cell_type": "code",
   "execution_count": 5,
   "metadata": {},
   "outputs": [],
   "source": [
    "import matplotlib.pyplot as plt\n",
    "import matplotlib\n",
    "import seaborn as sns\n",
    "import pickle\n",
    "import os"
   ]
  },
  {
   "cell_type": "code",
   "execution_count": 6,
   "metadata": {},
   "outputs": [],
   "source": [
    "# settings\n",
    "plt.interactive(False)\n",
    "matplotlib.rcParams['pdf.fonttype'] = 42\n",
    "matplotlib.rcParams['ps.fonttype'] = 42\n",
    "def set_snsfont(s):\n",
    "    sns.set(font_scale=s)\n",
    "    sns.set_style(\"white\")\n",
    "set_snsfont(1.5)"
   ]
  },
  {
   "cell_type": "code",
   "execution_count": 20,
   "metadata": {},
   "outputs": [
    {
     "output_type": "display_data",
     "data": {
      "text/plain": "<Figure size 432x288 with 1 Axes>",
      "image/svg+xml": "<?xml version=\"1.0\" encoding=\"utf-8\" standalone=\"no\"?>\n<!DOCTYPE svg PUBLIC \"-//W3C//DTD SVG 1.1//EN\"\n  \"http://www.w3.org/Graphics/SVG/1.1/DTD/svg11.dtd\">\n<!-- Created with matplotlib (https://matplotlib.org/) -->\n<svg height=\"263.298437pt\" version=\"1.1\" viewBox=\"0 0 404.499313 263.298437\" width=\"404.499313pt\" xmlns=\"http://www.w3.org/2000/svg\" xmlns:xlink=\"http://www.w3.org/1999/xlink\">\n <metadata>\n  <rdf:RDF xmlns:cc=\"http://creativecommons.org/ns#\" xmlns:dc=\"http://purl.org/dc/elements/1.1/\" xmlns:rdf=\"http://www.w3.org/1999/02/22-rdf-syntax-ns#\">\n   <cc:Work>\n    <dc:type rdf:resource=\"http://purl.org/dc/dcmitype/StillImage\"/>\n    <dc:date>2021-05-25T22:00:34.027752</dc:date>\n    <dc:format>image/svg+xml</dc:format>\n    <dc:creator>\n     <cc:Agent>\n      <dc:title>Matplotlib v3.3.3, https://matplotlib.org/</dc:title>\n     </cc:Agent>\n    </dc:creator>\n   </cc:Work>\n  </rdf:RDF>\n </metadata>\n <defs>\n  <style type=\"text/css\">*{stroke-linecap:butt;stroke-linejoin:round;}</style>\n </defs>\n <g id=\"figure_1\">\n  <g id=\"patch_1\">\n   <path d=\"M 0 263.298437 \nL 404.499313 263.298437 \nL 404.499313 0 \nL 0 0 \nz\n\" style=\"fill:#ffffff;\"/>\n  </g>\n  <g id=\"axes_1\">\n   <g id=\"patch_2\">\n    <path d=\"M 79.354313 216.62 \nL 397.299313 216.62 \nL 397.299313 7.2 \nL 79.354313 7.2 \nz\n\" style=\"fill:#ffffff;\"/>\n   </g>\n   <g id=\"matplotlib.axis_1\">\n    <g id=\"xtick_1\">\n     <g id=\"text_1\">\n      <!-- Final model -->\n      <g style=\"fill:#262626;\" transform=\"translate(120.076109 236.856719)scale(0.15 -0.15)\">\n       <defs>\n        <path d=\"M 8.203125 0 \nL 8.203125 71.578125 \nL 56.5 71.578125 \nL 56.5 63.140625 \nL 17.671875 63.140625 \nL 17.671875 40.96875 \nL 51.265625 40.96875 \nL 51.265625 32.515625 \nL 17.671875 32.515625 \nL 17.671875 0 \nz\n\" id=\"ArialMT-70\"/>\n        <path d=\"M 6.640625 61.46875 \nL 6.640625 71.578125 \nL 15.4375 71.578125 \nL 15.4375 61.46875 \nz\nM 6.640625 0 \nL 6.640625 51.859375 \nL 15.4375 51.859375 \nL 15.4375 0 \nz\n\" id=\"ArialMT-105\"/>\n        <path d=\"M 6.59375 0 \nL 6.59375 51.859375 \nL 14.5 51.859375 \nL 14.5 44.484375 \nQ 20.21875 53.03125 31 53.03125 \nQ 35.6875 53.03125 39.625 51.34375 \nQ 43.5625 49.65625 45.515625 46.921875 \nQ 47.46875 44.1875 48.25 40.4375 \nQ 48.734375 37.984375 48.734375 31.890625 \nL 48.734375 0 \nL 39.9375 0 \nL 39.9375 31.546875 \nQ 39.9375 36.921875 38.90625 39.578125 \nQ 37.890625 42.234375 35.28125 43.8125 \nQ 32.671875 45.40625 29.15625 45.40625 \nQ 23.53125 45.40625 19.453125 41.84375 \nQ 15.375 38.28125 15.375 28.328125 \nL 15.375 0 \nz\n\" id=\"ArialMT-110\"/>\n        <path d=\"M 40.4375 6.390625 \nQ 35.546875 2.25 31.03125 0.53125 \nQ 26.515625 -1.171875 21.34375 -1.171875 \nQ 12.796875 -1.171875 8.203125 3 \nQ 3.609375 7.171875 3.609375 13.671875 \nQ 3.609375 17.484375 5.34375 20.625 \nQ 7.078125 23.78125 9.890625 25.6875 \nQ 12.703125 27.59375 16.21875 28.5625 \nQ 18.796875 29.25 24.03125 29.890625 \nQ 34.671875 31.15625 39.703125 32.90625 \nQ 39.75 34.71875 39.75 35.203125 \nQ 39.75 40.578125 37.25 42.78125 \nQ 33.890625 45.75 27.25 45.75 \nQ 21.046875 45.75 18.09375 43.578125 \nQ 15.140625 41.40625 13.71875 35.890625 \nL 5.125 37.0625 \nQ 6.296875 42.578125 8.984375 45.96875 \nQ 11.671875 49.359375 16.75 51.1875 \nQ 21.828125 53.03125 28.515625 53.03125 \nQ 35.15625 53.03125 39.296875 51.46875 \nQ 43.453125 49.90625 45.40625 47.53125 \nQ 47.359375 45.171875 48.140625 41.546875 \nQ 48.578125 39.3125 48.578125 33.453125 \nL 48.578125 21.734375 \nQ 48.578125 9.46875 49.140625 6.21875 \nQ 49.703125 2.984375 51.375 0 \nL 42.1875 0 \nQ 40.828125 2.734375 40.4375 6.390625 \nz\nM 39.703125 26.03125 \nQ 34.90625 24.078125 25.34375 22.703125 \nQ 19.921875 21.921875 17.671875 20.9375 \nQ 15.4375 19.96875 14.203125 18.09375 \nQ 12.984375 16.21875 12.984375 13.921875 \nQ 12.984375 10.40625 15.640625 8.0625 \nQ 18.3125 5.71875 23.4375 5.71875 \nQ 28.515625 5.71875 32.46875 7.9375 \nQ 36.421875 10.15625 38.28125 14.015625 \nQ 39.703125 17 39.703125 22.796875 \nz\n\" id=\"ArialMT-97\"/>\n        <path d=\"M 6.390625 0 \nL 6.390625 71.578125 \nL 15.1875 71.578125 \nL 15.1875 0 \nz\n\" id=\"ArialMT-108\"/>\n        <path id=\"ArialMT-32\"/>\n        <path d=\"M 6.59375 0 \nL 6.59375 51.859375 \nL 14.453125 51.859375 \nL 14.453125 44.578125 \nQ 16.890625 48.390625 20.9375 50.703125 \nQ 25 53.03125 30.171875 53.03125 \nQ 35.9375 53.03125 39.625 50.640625 \nQ 43.3125 48.25 44.828125 43.953125 \nQ 50.984375 53.03125 60.84375 53.03125 \nQ 68.5625 53.03125 72.703125 48.75 \nQ 76.859375 44.484375 76.859375 35.59375 \nL 76.859375 0 \nL 68.109375 0 \nL 68.109375 32.671875 \nQ 68.109375 37.9375 67.25 40.25 \nQ 66.40625 42.578125 64.15625 43.984375 \nQ 61.921875 45.40625 58.890625 45.40625 \nQ 53.421875 45.40625 49.796875 41.765625 \nQ 46.1875 38.140625 46.1875 30.125 \nL 46.1875 0 \nL 37.40625 0 \nL 37.40625 33.6875 \nQ 37.40625 39.546875 35.25 42.46875 \nQ 33.109375 45.40625 28.21875 45.40625 \nQ 24.515625 45.40625 21.359375 43.453125 \nQ 18.21875 41.5 16.796875 37.734375 \nQ 15.375 33.984375 15.375 26.90625 \nL 15.375 0 \nz\n\" id=\"ArialMT-109\"/>\n        <path d=\"M 3.328125 25.921875 \nQ 3.328125 40.328125 11.328125 47.265625 \nQ 18.015625 53.03125 27.640625 53.03125 \nQ 38.328125 53.03125 45.109375 46.015625 \nQ 51.90625 39.015625 51.90625 26.65625 \nQ 51.90625 16.65625 48.90625 10.90625 \nQ 45.90625 5.171875 40.15625 2 \nQ 34.421875 -1.171875 27.640625 -1.171875 \nQ 16.75 -1.171875 10.03125 5.8125 \nQ 3.328125 12.796875 3.328125 25.921875 \nz\nM 12.359375 25.921875 \nQ 12.359375 15.96875 16.703125 11.015625 \nQ 21.046875 6.0625 27.640625 6.0625 \nQ 34.1875 6.0625 38.53125 11.03125 \nQ 42.875 16.015625 42.875 26.21875 \nQ 42.875 35.84375 38.5 40.796875 \nQ 34.125 45.75 27.640625 45.75 \nQ 21.046875 45.75 16.703125 40.8125 \nQ 12.359375 35.890625 12.359375 25.921875 \nz\n\" id=\"ArialMT-111\"/>\n        <path d=\"M 40.234375 0 \nL 40.234375 6.546875 \nQ 35.296875 -1.171875 25.734375 -1.171875 \nQ 19.53125 -1.171875 14.328125 2.25 \nQ 9.125 5.671875 6.265625 11.796875 \nQ 3.421875 17.921875 3.421875 25.875 \nQ 3.421875 33.640625 6 39.96875 \nQ 8.59375 46.296875 13.765625 49.65625 \nQ 18.953125 53.03125 25.34375 53.03125 \nQ 30.03125 53.03125 33.6875 51.046875 \nQ 37.359375 49.078125 39.65625 45.90625 \nL 39.65625 71.578125 \nL 48.390625 71.578125 \nL 48.390625 0 \nz\nM 12.453125 25.875 \nQ 12.453125 15.921875 16.640625 10.984375 \nQ 20.84375 6.0625 26.5625 6.0625 \nQ 32.328125 6.0625 36.34375 10.765625 \nQ 40.375 15.484375 40.375 25.140625 \nQ 40.375 35.796875 36.265625 40.765625 \nQ 32.171875 45.75 26.171875 45.75 \nQ 20.3125 45.75 16.375 40.96875 \nQ 12.453125 36.1875 12.453125 25.875 \nz\n\" id=\"ArialMT-100\"/>\n        <path d=\"M 42.09375 16.703125 \nL 51.171875 15.578125 \nQ 49.03125 7.625 43.21875 3.21875 \nQ 37.40625 -1.171875 28.375 -1.171875 \nQ 17 -1.171875 10.328125 5.828125 \nQ 3.65625 12.84375 3.65625 25.484375 \nQ 3.65625 38.578125 10.390625 45.796875 \nQ 17.140625 53.03125 27.875 53.03125 \nQ 38.28125 53.03125 44.875 45.953125 \nQ 51.46875 38.875 51.46875 26.03125 \nQ 51.46875 25.25 51.421875 23.6875 \nL 12.75 23.6875 \nQ 13.234375 15.140625 17.578125 10.59375 \nQ 21.921875 6.0625 28.421875 6.0625 \nQ 33.25 6.0625 36.671875 8.59375 \nQ 40.09375 11.140625 42.09375 16.703125 \nz\nM 13.234375 30.90625 \nL 42.1875 30.90625 \nQ 41.609375 37.453125 38.875 40.71875 \nQ 34.671875 45.796875 27.984375 45.796875 \nQ 21.921875 45.796875 17.796875 41.75 \nQ 13.671875 37.703125 13.234375 30.90625 \nz\n\" id=\"ArialMT-101\"/>\n       </defs>\n       <use xlink:href=\"#ArialMT-70\"/>\n       <use x=\"61.083984\" xlink:href=\"#ArialMT-105\"/>\n       <use x=\"83.300781\" xlink:href=\"#ArialMT-110\"/>\n       <use x=\"138.916016\" xlink:href=\"#ArialMT-97\"/>\n       <use x=\"194.53125\" xlink:href=\"#ArialMT-108\"/>\n       <use x=\"216.748047\" xlink:href=\"#ArialMT-32\"/>\n       <use x=\"244.53125\" xlink:href=\"#ArialMT-109\"/>\n       <use x=\"327.832031\" xlink:href=\"#ArialMT-111\"/>\n       <use x=\"383.447266\" xlink:href=\"#ArialMT-100\"/>\n       <use x=\"439.0625\" xlink:href=\"#ArialMT-101\"/>\n       <use x=\"494.677734\" xlink:href=\"#ArialMT-108\"/>\n      </g>\n      <!-- (ML genomic+functional) -->\n      <g style=\"fill:#262626;\" transform=\"translate(76.79525 252.941406)scale(0.15 -0.15)\">\n       <defs>\n        <path d=\"M 23.390625 -21.046875 \nQ 16.109375 -11.859375 11.078125 0.4375 \nQ 6.0625 12.75 6.0625 25.921875 \nQ 6.0625 37.546875 9.8125 48.1875 \nQ 14.203125 60.546875 23.390625 72.796875 \nL 29.6875 72.796875 \nQ 23.78125 62.640625 21.875 58.296875 \nQ 18.890625 51.5625 17.1875 44.234375 \nQ 15.09375 35.109375 15.09375 25.875 \nQ 15.09375 2.390625 29.6875 -21.046875 \nz\n\" id=\"ArialMT-40\"/>\n        <path d=\"M 7.421875 0 \nL 7.421875 71.578125 \nL 21.6875 71.578125 \nL 38.625 20.90625 \nQ 40.96875 13.8125 42.046875 10.296875 \nQ 43.265625 14.203125 45.84375 21.78125 \nL 62.984375 71.578125 \nL 75.734375 71.578125 \nL 75.734375 0 \nL 66.609375 0 \nL 66.609375 59.90625 \nL 45.796875 0 \nL 37.25 0 \nL 16.546875 60.9375 \nL 16.546875 0 \nz\n\" id=\"ArialMT-77\"/>\n        <path d=\"M 7.328125 0 \nL 7.328125 71.578125 \nL 16.796875 71.578125 \nL 16.796875 8.453125 \nL 52.046875 8.453125 \nL 52.046875 0 \nz\n\" id=\"ArialMT-76\"/>\n        <path d=\"M 4.984375 -4.296875 \nL 13.53125 -5.5625 \nQ 14.0625 -9.515625 16.5 -11.328125 \nQ 19.78125 -13.765625 25.4375 -13.765625 \nQ 31.546875 -13.765625 34.859375 -11.328125 \nQ 38.1875 -8.890625 39.359375 -4.5 \nQ 40.046875 -1.8125 39.984375 6.78125 \nQ 34.234375 0 25.640625 0 \nQ 14.9375 0 9.078125 7.71875 \nQ 3.21875 15.4375 3.21875 26.21875 \nQ 3.21875 33.640625 5.90625 39.90625 \nQ 8.59375 46.1875 13.6875 49.609375 \nQ 18.796875 53.03125 25.6875 53.03125 \nQ 34.859375 53.03125 40.828125 45.609375 \nL 40.828125 51.859375 \nL 48.921875 51.859375 \nL 48.921875 7.03125 \nQ 48.921875 -5.078125 46.453125 -10.125 \nQ 44 -15.1875 38.640625 -18.109375 \nQ 33.296875 -21.046875 25.484375 -21.046875 \nQ 16.21875 -21.046875 10.5 -16.875 \nQ 4.78125 -12.703125 4.984375 -4.296875 \nz\nM 12.25 26.859375 \nQ 12.25 16.65625 16.296875 11.96875 \nQ 20.359375 7.28125 26.46875 7.28125 \nQ 32.515625 7.28125 36.609375 11.9375 \nQ 40.71875 16.609375 40.71875 26.5625 \nQ 40.71875 36.078125 36.5 40.90625 \nQ 32.28125 45.75 26.3125 45.75 \nQ 20.453125 45.75 16.34375 40.984375 \nQ 12.25 36.234375 12.25 26.859375 \nz\n\" id=\"ArialMT-103\"/>\n        <path d=\"M 40.4375 19 \nL 49.078125 17.875 \nQ 47.65625 8.9375 41.8125 3.875 \nQ 35.984375 -1.171875 27.484375 -1.171875 \nQ 16.84375 -1.171875 10.375 5.78125 \nQ 3.90625 12.75 3.90625 25.734375 \nQ 3.90625 34.125 6.6875 40.421875 \nQ 9.46875 46.734375 15.15625 49.875 \nQ 20.84375 53.03125 27.546875 53.03125 \nQ 35.984375 53.03125 41.359375 48.75 \nQ 46.734375 44.484375 48.25 36.625 \nL 39.703125 35.296875 \nQ 38.484375 40.53125 35.375 43.15625 \nQ 32.28125 45.796875 27.875 45.796875 \nQ 21.234375 45.796875 17.078125 41.03125 \nQ 12.9375 36.28125 12.9375 25.984375 \nQ 12.9375 15.53125 16.9375 10.796875 \nQ 20.953125 6.0625 27.390625 6.0625 \nQ 32.5625 6.0625 36.03125 9.234375 \nQ 39.5 12.40625 40.4375 19 \nz\n\" id=\"ArialMT-99\"/>\n        <path d=\"M 25.046875 11.578125 \nL 25.046875 31.203125 \nL 5.5625 31.203125 \nL 5.5625 39.40625 \nL 25.046875 39.40625 \nL 25.046875 58.890625 \nL 33.34375 58.890625 \nL 33.34375 39.40625 \nL 52.828125 39.40625 \nL 52.828125 31.203125 \nL 33.34375 31.203125 \nL 33.34375 11.578125 \nz\n\" id=\"ArialMT-43\"/>\n        <path d=\"M 8.6875 0 \nL 8.6875 45.015625 \nL 0.921875 45.015625 \nL 0.921875 51.859375 \nL 8.6875 51.859375 \nL 8.6875 57.375 \nQ 8.6875 62.59375 9.625 65.140625 \nQ 10.890625 68.5625 14.078125 70.671875 \nQ 17.28125 72.796875 23.046875 72.796875 \nQ 26.765625 72.796875 31.25 71.921875 \nL 29.9375 64.265625 \nQ 27.203125 64.75 24.75 64.75 \nQ 20.75 64.75 19.09375 63.03125 \nQ 17.4375 61.328125 17.4375 56.640625 \nL 17.4375 51.859375 \nL 27.546875 51.859375 \nL 27.546875 45.015625 \nL 17.4375 45.015625 \nL 17.4375 0 \nz\n\" id=\"ArialMT-102\"/>\n        <path d=\"M 40.578125 0 \nL 40.578125 7.625 \nQ 34.515625 -1.171875 24.125 -1.171875 \nQ 19.53125 -1.171875 15.546875 0.578125 \nQ 11.578125 2.34375 9.640625 5 \nQ 7.71875 7.671875 6.9375 11.53125 \nQ 6.390625 14.109375 6.390625 19.734375 \nL 6.390625 51.859375 \nL 15.1875 51.859375 \nL 15.1875 23.09375 \nQ 15.1875 16.21875 15.71875 13.8125 \nQ 16.546875 10.359375 19.234375 8.375 \nQ 21.921875 6.390625 25.875 6.390625 \nQ 29.828125 6.390625 33.296875 8.421875 \nQ 36.765625 10.453125 38.203125 13.9375 \nQ 39.65625 17.4375 39.65625 24.078125 \nL 39.65625 51.859375 \nL 48.4375 51.859375 \nL 48.4375 0 \nz\n\" id=\"ArialMT-117\"/>\n        <path d=\"M 25.78125 7.859375 \nL 27.046875 0.09375 \nQ 23.34375 -0.6875 20.40625 -0.6875 \nQ 15.625 -0.6875 12.984375 0.828125 \nQ 10.359375 2.34375 9.28125 4.8125 \nQ 8.203125 7.28125 8.203125 15.1875 \nL 8.203125 45.015625 \nL 1.765625 45.015625 \nL 1.765625 51.859375 \nL 8.203125 51.859375 \nL 8.203125 64.703125 \nL 16.9375 69.96875 \nL 16.9375 51.859375 \nL 25.78125 51.859375 \nL 25.78125 45.015625 \nL 16.9375 45.015625 \nL 16.9375 14.703125 \nQ 16.9375 10.9375 17.40625 9.859375 \nQ 17.875 8.796875 18.921875 8.15625 \nQ 19.96875 7.515625 21.921875 7.515625 \nQ 23.390625 7.515625 25.78125 7.859375 \nz\n\" id=\"ArialMT-116\"/>\n        <path d=\"M 12.359375 -21.046875 \nL 6.0625 -21.046875 \nQ 20.65625 2.390625 20.65625 25.875 \nQ 20.65625 35.0625 18.5625 44.09375 \nQ 16.890625 51.421875 13.921875 58.15625 \nQ 12.015625 62.546875 6.0625 72.796875 \nL 12.359375 72.796875 \nQ 21.53125 60.546875 25.921875 48.1875 \nQ 29.6875 37.546875 29.6875 25.921875 \nQ 29.6875 12.75 24.625 0.4375 \nQ 19.578125 -11.859375 12.359375 -21.046875 \nz\n\" id=\"ArialMT-41\"/>\n       </defs>\n       <use xlink:href=\"#ArialMT-40\"/>\n       <use x=\"33.300781\" xlink:href=\"#ArialMT-77\"/>\n       <use x=\"116.601562\" xlink:href=\"#ArialMT-76\"/>\n       <use x=\"168.466797\" xlink:href=\"#ArialMT-32\"/>\n       <use x=\"196.25\" xlink:href=\"#ArialMT-103\"/>\n       <use x=\"251.865234\" xlink:href=\"#ArialMT-101\"/>\n       <use x=\"307.480469\" xlink:href=\"#ArialMT-110\"/>\n       <use x=\"363.095703\" xlink:href=\"#ArialMT-111\"/>\n       <use x=\"418.710938\" xlink:href=\"#ArialMT-109\"/>\n       <use x=\"502.011719\" xlink:href=\"#ArialMT-105\"/>\n       <use x=\"524.228516\" xlink:href=\"#ArialMT-99\"/>\n       <use x=\"574.228516\" xlink:href=\"#ArialMT-43\"/>\n       <use x=\"632.626953\" xlink:href=\"#ArialMT-102\"/>\n       <use x=\"660.410156\" xlink:href=\"#ArialMT-117\"/>\n       <use x=\"716.025391\" xlink:href=\"#ArialMT-110\"/>\n       <use x=\"771.640625\" xlink:href=\"#ArialMT-99\"/>\n       <use x=\"821.640625\" xlink:href=\"#ArialMT-116\"/>\n       <use x=\"849.423828\" xlink:href=\"#ArialMT-105\"/>\n       <use x=\"871.640625\" xlink:href=\"#ArialMT-111\"/>\n       <use x=\"927.255859\" xlink:href=\"#ArialMT-110\"/>\n       <use x=\"982.871094\" xlink:href=\"#ArialMT-97\"/>\n       <use x=\"1038.486328\" xlink:href=\"#ArialMT-108\"/>\n       <use x=\"1060.703125\" xlink:href=\"#ArialMT-41\"/>\n      </g>\n     </g>\n    </g>\n    <g id=\"xtick_2\">\n     <g id=\"text_2\">\n      <!-- Baseline model -->\n      <g style=\"fill:#262626;\" transform=\"translate(266.535328 236.856719)scale(0.15 -0.15)\">\n       <defs>\n        <path d=\"M 7.328125 0 \nL 7.328125 71.578125 \nL 34.1875 71.578125 \nQ 42.390625 71.578125 47.34375 69.40625 \nQ 52.296875 67.234375 55.09375 62.71875 \nQ 57.90625 58.203125 57.90625 53.265625 \nQ 57.90625 48.6875 55.421875 44.625 \nQ 52.9375 40.578125 47.90625 38.09375 \nQ 54.390625 36.1875 57.875 31.59375 \nQ 61.375 27 61.375 20.75 \nQ 61.375 15.71875 59.25 11.390625 \nQ 57.125 7.078125 54 4.734375 \nQ 50.875 2.390625 46.15625 1.1875 \nQ 41.453125 0 34.625 0 \nz\nM 16.796875 41.5 \nL 32.28125 41.5 \nQ 38.578125 41.5 41.3125 42.328125 \nQ 44.921875 43.40625 46.75 45.890625 \nQ 48.578125 48.390625 48.578125 52.15625 \nQ 48.578125 55.71875 46.875 58.421875 \nQ 45.171875 61.140625 41.984375 62.140625 \nQ 38.8125 63.140625 31.109375 63.140625 \nL 16.796875 63.140625 \nz\nM 16.796875 8.453125 \nL 34.625 8.453125 \nQ 39.203125 8.453125 41.0625 8.796875 \nQ 44.34375 9.375 46.53125 10.734375 \nQ 48.734375 12.109375 50.140625 14.71875 \nQ 51.5625 17.328125 51.5625 20.75 \nQ 51.5625 24.75 49.515625 27.703125 \nQ 47.46875 30.671875 43.828125 31.859375 \nQ 40.1875 33.0625 33.34375 33.0625 \nL 16.796875 33.0625 \nz\n\" id=\"ArialMT-66\"/>\n        <path d=\"M 3.078125 15.484375 \nL 11.765625 16.84375 \nQ 12.5 11.625 15.84375 8.84375 \nQ 19.1875 6.0625 25.203125 6.0625 \nQ 31.25 6.0625 34.171875 8.515625 \nQ 37.109375 10.984375 37.109375 14.3125 \nQ 37.109375 17.28125 34.515625 19 \nQ 32.71875 20.171875 25.53125 21.96875 \nQ 15.875 24.421875 12.140625 26.203125 \nQ 8.40625 27.984375 6.46875 31.125 \nQ 4.546875 34.28125 4.546875 38.09375 \nQ 4.546875 41.546875 6.125 44.5 \nQ 7.71875 47.46875 10.453125 49.421875 \nQ 12.5 50.921875 16.03125 51.96875 \nQ 19.578125 53.03125 23.640625 53.03125 \nQ 29.734375 53.03125 34.34375 51.265625 \nQ 38.96875 49.515625 41.15625 46.5 \nQ 43.359375 43.5 44.1875 38.484375 \nL 35.59375 37.3125 \nQ 35.015625 41.3125 32.203125 43.546875 \nQ 29.390625 45.796875 24.265625 45.796875 \nQ 18.21875 45.796875 15.625 43.796875 \nQ 13.03125 41.796875 13.03125 39.109375 \nQ 13.03125 37.40625 14.109375 36.03125 \nQ 15.1875 34.625 17.484375 33.6875 \nQ 18.796875 33.203125 25.25 31.453125 \nQ 34.578125 28.953125 38.25 27.359375 \nQ 41.9375 25.78125 44.03125 22.75 \nQ 46.140625 19.734375 46.140625 15.234375 \nQ 46.140625 10.84375 43.578125 6.953125 \nQ 41.015625 3.078125 36.171875 0.953125 \nQ 31.34375 -1.171875 25.25 -1.171875 \nQ 15.140625 -1.171875 9.84375 3.03125 \nQ 4.546875 7.234375 3.078125 15.484375 \nz\n\" id=\"ArialMT-115\"/>\n       </defs>\n       <use xlink:href=\"#ArialMT-66\"/>\n       <use x=\"66.699219\" xlink:href=\"#ArialMT-97\"/>\n       <use x=\"122.314453\" xlink:href=\"#ArialMT-115\"/>\n       <use x=\"172.314453\" xlink:href=\"#ArialMT-101\"/>\n       <use x=\"227.929688\" xlink:href=\"#ArialMT-108\"/>\n       <use x=\"250.146484\" xlink:href=\"#ArialMT-105\"/>\n       <use x=\"272.363281\" xlink:href=\"#ArialMT-110\"/>\n       <use x=\"327.978516\" xlink:href=\"#ArialMT-101\"/>\n       <use x=\"383.59375\" xlink:href=\"#ArialMT-32\"/>\n       <use x=\"411.376953\" xlink:href=\"#ArialMT-109\"/>\n       <use x=\"494.677734\" xlink:href=\"#ArialMT-111\"/>\n       <use x=\"550.292969\" xlink:href=\"#ArialMT-100\"/>\n       <use x=\"605.908203\" xlink:href=\"#ArialMT-101\"/>\n       <use x=\"661.523438\" xlink:href=\"#ArialMT-108\"/>\n      </g>\n      <!-- (Nearest neighbors) -->\n      <g style=\"fill:#262626;\" transform=\"translate(251.537672 252.941406)scale(0.15 -0.15)\">\n       <defs>\n        <path d=\"M 7.625 0 \nL 7.625 71.578125 \nL 17.328125 71.578125 \nL 54.9375 15.375 \nL 54.9375 71.578125 \nL 64.015625 71.578125 \nL 64.015625 0 \nL 54.296875 0 \nL 16.703125 56.25 \nL 16.703125 0 \nz\n\" id=\"ArialMT-78\"/>\n        <path d=\"M 6.5 0 \nL 6.5 51.859375 \nL 14.40625 51.859375 \nL 14.40625 44 \nQ 17.4375 49.515625 20 51.265625 \nQ 22.5625 53.03125 25.640625 53.03125 \nQ 30.078125 53.03125 34.671875 50.203125 \nL 31.640625 42.046875 \nQ 28.421875 43.953125 25.203125 43.953125 \nQ 22.3125 43.953125 20.015625 42.21875 \nQ 17.71875 40.484375 16.75 37.40625 \nQ 15.28125 32.71875 15.28125 27.15625 \nL 15.28125 0 \nz\n\" id=\"ArialMT-114\"/>\n        <path d=\"M 6.59375 0 \nL 6.59375 71.578125 \nL 15.375 71.578125 \nL 15.375 45.90625 \nQ 21.53125 53.03125 30.90625 53.03125 \nQ 36.671875 53.03125 40.921875 50.75 \nQ 45.171875 48.484375 47 44.484375 \nQ 48.828125 40.484375 48.828125 32.859375 \nL 48.828125 0 \nL 40.046875 0 \nL 40.046875 32.859375 \nQ 40.046875 39.453125 37.1875 42.453125 \nQ 34.328125 45.453125 29.109375 45.453125 \nQ 25.203125 45.453125 21.75 43.421875 \nQ 18.3125 41.40625 16.84375 37.9375 \nQ 15.375 34.46875 15.375 28.375 \nL 15.375 0 \nz\n\" id=\"ArialMT-104\"/>\n        <path d=\"M 14.703125 0 \nL 6.546875 0 \nL 6.546875 71.578125 \nL 15.328125 71.578125 \nL 15.328125 46.046875 \nQ 20.90625 53.03125 29.546875 53.03125 \nQ 34.328125 53.03125 38.59375 51.09375 \nQ 42.875 49.171875 45.625 45.671875 \nQ 48.390625 42.1875 49.953125 37.25 \nQ 51.515625 32.328125 51.515625 26.703125 \nQ 51.515625 13.375 44.921875 6.09375 \nQ 38.328125 -1.171875 29.109375 -1.171875 \nQ 19.921875 -1.171875 14.703125 6.5 \nz\nM 14.59375 26.3125 \nQ 14.59375 17 17.140625 12.84375 \nQ 21.296875 6.0625 28.375 6.0625 \nQ 34.125 6.0625 38.328125 11.0625 \nQ 42.53125 16.0625 42.53125 25.984375 \nQ 42.53125 36.140625 38.5 40.96875 \nQ 34.46875 45.796875 28.765625 45.796875 \nQ 23 45.796875 18.796875 40.796875 \nQ 14.59375 35.796875 14.59375 26.3125 \nz\n\" id=\"ArialMT-98\"/>\n       </defs>\n       <use xlink:href=\"#ArialMT-40\"/>\n       <use x=\"33.300781\" xlink:href=\"#ArialMT-78\"/>\n       <use x=\"105.517578\" xlink:href=\"#ArialMT-101\"/>\n       <use x=\"161.132812\" xlink:href=\"#ArialMT-97\"/>\n       <use x=\"216.748047\" xlink:href=\"#ArialMT-114\"/>\n       <use x=\"250.048828\" xlink:href=\"#ArialMT-101\"/>\n       <use x=\"305.664062\" xlink:href=\"#ArialMT-115\"/>\n       <use x=\"355.664062\" xlink:href=\"#ArialMT-116\"/>\n       <use x=\"383.447266\" xlink:href=\"#ArialMT-32\"/>\n       <use x=\"411.230469\" xlink:href=\"#ArialMT-110\"/>\n       <use x=\"466.845703\" xlink:href=\"#ArialMT-101\"/>\n       <use x=\"522.460938\" xlink:href=\"#ArialMT-105\"/>\n       <use x=\"544.677734\" xlink:href=\"#ArialMT-103\"/>\n       <use x=\"600.292969\" xlink:href=\"#ArialMT-104\"/>\n       <use x=\"655.908203\" xlink:href=\"#ArialMT-98\"/>\n       <use x=\"711.523438\" xlink:href=\"#ArialMT-111\"/>\n       <use x=\"767.138672\" xlink:href=\"#ArialMT-114\"/>\n       <use x=\"800.439453\" xlink:href=\"#ArialMT-115\"/>\n       <use x=\"850.439453\" xlink:href=\"#ArialMT-41\"/>\n      </g>\n     </g>\n    </g>\n   </g>\n   <g id=\"matplotlib.axis_2\">\n    <g id=\"ytick_1\">\n     <g id=\"text_3\">\n      <!-- 0.0 -->\n      <g style=\"fill:#262626;\" transform=\"translate(46.919313 222.525195)scale(0.165 -0.165)\">\n       <defs>\n        <path d=\"M 4.15625 35.296875 \nQ 4.15625 48 6.765625 55.734375 \nQ 9.375 63.484375 14.515625 67.671875 \nQ 19.671875 71.875 27.484375 71.875 \nQ 33.25 71.875 37.59375 69.546875 \nQ 41.9375 67.234375 44.765625 62.859375 \nQ 47.609375 58.5 49.21875 52.21875 \nQ 50.828125 45.953125 50.828125 35.296875 \nQ 50.828125 22.703125 48.234375 14.96875 \nQ 45.65625 7.234375 40.5 3 \nQ 35.359375 -1.21875 27.484375 -1.21875 \nQ 17.140625 -1.21875 11.234375 6.203125 \nQ 4.15625 15.140625 4.15625 35.296875 \nz\nM 13.1875 35.296875 \nQ 13.1875 17.671875 17.3125 11.828125 \nQ 21.4375 6 27.484375 6 \nQ 33.546875 6 37.671875 11.859375 \nQ 41.796875 17.71875 41.796875 35.296875 \nQ 41.796875 52.984375 37.671875 58.78125 \nQ 33.546875 64.59375 27.390625 64.59375 \nQ 21.34375 64.59375 17.71875 59.46875 \nQ 13.1875 52.9375 13.1875 35.296875 \nz\n\" id=\"ArialMT-48\"/>\n        <path d=\"M 9.078125 0 \nL 9.078125 10.015625 \nL 19.09375 10.015625 \nL 19.09375 0 \nz\n\" id=\"ArialMT-46\"/>\n       </defs>\n       <use xlink:href=\"#ArialMT-48\"/>\n       <use x=\"55.615234\" xlink:href=\"#ArialMT-46\"/>\n       <use x=\"83.398438\" xlink:href=\"#ArialMT-48\"/>\n      </g>\n     </g>\n    </g>\n    <g id=\"ytick_2\">\n     <g id=\"text_4\">\n      <!-- 0.2 -->\n      <g style=\"fill:#262626;\" transform=\"translate(46.919313 160.336938)scale(0.165 -0.165)\">\n       <defs>\n        <path d=\"M 50.34375 8.453125 \nL 50.34375 0 \nL 3.03125 0 \nQ 2.9375 3.171875 4.046875 6.109375 \nQ 5.859375 10.9375 9.828125 15.625 \nQ 13.8125 20.3125 21.34375 26.46875 \nQ 33.015625 36.03125 37.109375 41.625 \nQ 41.21875 47.21875 41.21875 52.203125 \nQ 41.21875 57.421875 37.46875 61 \nQ 33.734375 64.59375 27.734375 64.59375 \nQ 21.390625 64.59375 17.578125 60.78125 \nQ 13.765625 56.984375 13.71875 50.25 \nL 4.6875 51.171875 \nQ 5.609375 61.28125 11.65625 66.578125 \nQ 17.71875 71.875 27.9375 71.875 \nQ 38.234375 71.875 44.234375 66.15625 \nQ 50.25 60.453125 50.25 52 \nQ 50.25 47.703125 48.484375 43.546875 \nQ 46.734375 39.40625 42.65625 34.8125 \nQ 38.578125 30.21875 29.109375 22.21875 \nQ 21.1875 15.578125 18.9375 13.203125 \nQ 16.703125 10.84375 15.234375 8.453125 \nz\n\" id=\"ArialMT-50\"/>\n       </defs>\n       <use xlink:href=\"#ArialMT-48\"/>\n       <use x=\"55.615234\" xlink:href=\"#ArialMT-46\"/>\n       <use x=\"83.398438\" xlink:href=\"#ArialMT-50\"/>\n      </g>\n     </g>\n    </g>\n    <g id=\"ytick_3\">\n     <g id=\"text_5\">\n      <!-- 0.4 -->\n      <g style=\"fill:#262626;\" transform=\"translate(46.919313 98.148682)scale(0.165 -0.165)\">\n       <defs>\n        <path d=\"M 32.328125 0 \nL 32.328125 17.140625 \nL 1.265625 17.140625 \nL 1.265625 25.203125 \nL 33.9375 71.578125 \nL 41.109375 71.578125 \nL 41.109375 25.203125 \nL 50.78125 25.203125 \nL 50.78125 17.140625 \nL 41.109375 17.140625 \nL 41.109375 0 \nz\nM 32.328125 25.203125 \nL 32.328125 57.46875 \nL 9.90625 25.203125 \nz\n\" id=\"ArialMT-52\"/>\n       </defs>\n       <use xlink:href=\"#ArialMT-48\"/>\n       <use x=\"55.615234\" xlink:href=\"#ArialMT-46\"/>\n       <use x=\"83.398438\" xlink:href=\"#ArialMT-52\"/>\n      </g>\n     </g>\n    </g>\n    <g id=\"ytick_4\">\n     <g id=\"text_6\">\n      <!-- 0.6 -->\n      <g style=\"fill:#262626;\" transform=\"translate(46.919313 35.960425)scale(0.165 -0.165)\">\n       <defs>\n        <path d=\"M 49.75 54.046875 \nL 41.015625 53.375 \nQ 39.84375 58.546875 37.703125 60.890625 \nQ 34.125 64.65625 28.90625 64.65625 \nQ 24.703125 64.65625 21.53125 62.3125 \nQ 17.390625 59.28125 14.984375 53.46875 \nQ 12.59375 47.65625 12.5 36.921875 \nQ 15.671875 41.75 20.265625 44.09375 \nQ 24.859375 46.4375 29.890625 46.4375 \nQ 38.671875 46.4375 44.84375 39.96875 \nQ 51.03125 33.5 51.03125 23.25 \nQ 51.03125 16.5 48.125 10.71875 \nQ 45.21875 4.9375 40.140625 1.859375 \nQ 35.0625 -1.21875 28.609375 -1.21875 \nQ 17.625 -1.21875 10.6875 6.859375 \nQ 3.765625 14.9375 3.765625 33.5 \nQ 3.765625 54.25 11.421875 63.671875 \nQ 18.109375 71.875 29.4375 71.875 \nQ 37.890625 71.875 43.28125 67.140625 \nQ 48.6875 62.40625 49.75 54.046875 \nz\nM 13.875 23.1875 \nQ 13.875 18.65625 15.796875 14.5 \nQ 17.71875 10.359375 21.1875 8.171875 \nQ 24.65625 6 28.46875 6 \nQ 34.03125 6 38.03125 10.484375 \nQ 42.046875 14.984375 42.046875 22.703125 \nQ 42.046875 30.125 38.078125 34.390625 \nQ 34.125 38.671875 28.125 38.671875 \nQ 22.171875 38.671875 18.015625 34.390625 \nQ 13.875 30.125 13.875 23.1875 \nz\n\" id=\"ArialMT-54\"/>\n       </defs>\n       <use xlink:href=\"#ArialMT-48\"/>\n       <use x=\"55.615234\" xlink:href=\"#ArialMT-46\"/>\n       <use x=\"83.398438\" xlink:href=\"#ArialMT-54\"/>\n      </g>\n     </g>\n    </g>\n    <g id=\"text_7\">\n     <!-- Model performance -->\n     <g style=\"fill:#262626;\" transform=\"translate(20.303437 189.440781)rotate(-90)scale(0.18 -0.18)\">\n      <defs>\n       <path d=\"M 6.59375 -19.875 \nL 6.59375 51.859375 \nL 14.59375 51.859375 \nL 14.59375 45.125 \nQ 17.4375 49.078125 21 51.046875 \nQ 24.5625 53.03125 29.640625 53.03125 \nQ 36.28125 53.03125 41.359375 49.609375 \nQ 46.4375 46.1875 49.015625 39.953125 \nQ 51.609375 33.734375 51.609375 26.3125 \nQ 51.609375 18.359375 48.75 11.984375 \nQ 45.90625 5.609375 40.453125 2.21875 \nQ 35.015625 -1.171875 29 -1.171875 \nQ 24.609375 -1.171875 21.109375 0.6875 \nQ 17.625 2.546875 15.375 5.375 \nL 15.375 -19.875 \nz\nM 14.546875 25.640625 \nQ 14.546875 15.625 18.59375 10.84375 \nQ 22.65625 6.0625 28.421875 6.0625 \nQ 34.28125 6.0625 38.453125 11.015625 \nQ 42.625 15.96875 42.625 26.375 \nQ 42.625 36.28125 38.546875 41.203125 \nQ 34.46875 46.140625 28.8125 46.140625 \nQ 23.1875 46.140625 18.859375 40.890625 \nQ 14.546875 35.640625 14.546875 25.640625 \nz\n\" id=\"ArialMT-112\"/>\n      </defs>\n      <use xlink:href=\"#ArialMT-77\"/>\n      <use x=\"83.300781\" xlink:href=\"#ArialMT-111\"/>\n      <use x=\"138.916016\" xlink:href=\"#ArialMT-100\"/>\n      <use x=\"194.53125\" xlink:href=\"#ArialMT-101\"/>\n      <use x=\"250.146484\" xlink:href=\"#ArialMT-108\"/>\n      <use x=\"272.363281\" xlink:href=\"#ArialMT-32\"/>\n      <use x=\"300.146484\" xlink:href=\"#ArialMT-112\"/>\n      <use x=\"355.761719\" xlink:href=\"#ArialMT-101\"/>\n      <use x=\"411.376953\" xlink:href=\"#ArialMT-114\"/>\n      <use x=\"444.677734\" xlink:href=\"#ArialMT-102\"/>\n      <use x=\"472.460938\" xlink:href=\"#ArialMT-111\"/>\n      <use x=\"528.076172\" xlink:href=\"#ArialMT-114\"/>\n      <use x=\"561.376953\" xlink:href=\"#ArialMT-109\"/>\n      <use x=\"644.677734\" xlink:href=\"#ArialMT-97\"/>\n      <use x=\"700.292969\" xlink:href=\"#ArialMT-110\"/>\n      <use x=\"755.908203\" xlink:href=\"#ArialMT-99\"/>\n      <use x=\"805.908203\" xlink:href=\"#ArialMT-101\"/>\n     </g>\n     <!-- Pearson's $\\it{r}$ -->\n     <g style=\"fill:#262626;\" transform=\"translate(39.341812 157.9)rotate(-90)scale(0.18 -0.18)\">\n      <defs>\n       <path d=\"M 7.71875 0 \nL 7.71875 71.578125 \nL 34.71875 71.578125 \nQ 41.84375 71.578125 45.609375 70.90625 \nQ 50.875 70.015625 54.4375 67.546875 \nQ 58.015625 65.09375 60.1875 60.640625 \nQ 62.359375 56.203125 62.359375 50.875 \nQ 62.359375 41.75 56.546875 35.421875 \nQ 50.734375 29.109375 35.546875 29.109375 \nL 17.1875 29.109375 \nL 17.1875 0 \nz\nM 17.1875 37.546875 \nL 35.6875 37.546875 \nQ 44.875 37.546875 48.734375 40.96875 \nQ 52.59375 44.390625 52.59375 50.59375 \nQ 52.59375 55.078125 50.3125 58.265625 \nQ 48.046875 61.46875 44.34375 62.5 \nQ 41.9375 63.140625 35.5 63.140625 \nL 17.1875 63.140625 \nz\n\" id=\"ArialMT-80\"/>\n       <path d=\"M 6.640625 46.234375 \nL 4.390625 59.625 \nL 4.390625 71.578125 \nL 14.40625 71.578125 \nL 14.40625 59.625 \nL 12.0625 46.234375 \nz\n\" id=\"ArialMT-39\"/>\n       <path d=\"M 44.578125 46.390625 \nQ 43.21875 47.125 41.453125 47.515625 \nQ 39.703125 47.90625 37.703125 47.90625 \nQ 30.515625 47.90625 25.140625 42.453125 \nQ 19.78125 37.015625 18.015625 27.875 \nL 12.5 0 \nL 3.515625 0 \nL 14.203125 54.6875 \nL 23.1875 54.6875 \nL 21.484375 46.1875 \nQ 25.046875 50.921875 30 53.453125 \nQ 34.96875 56 40.578125 56 \nQ 42.046875 56 43.453125 55.828125 \nQ 44.875 55.671875 46.296875 55.28125 \nz\n\" id=\"DejaVuSans-Oblique-114\"/>\n      </defs>\n      <use transform=\"translate(0 0.421875)\" xlink:href=\"#ArialMT-80\"/>\n      <use transform=\"translate(66.699219 0.421875)\" xlink:href=\"#ArialMT-101\"/>\n      <use transform=\"translate(122.314453 0.421875)\" xlink:href=\"#ArialMT-97\"/>\n      <use transform=\"translate(177.929688 0.421875)\" xlink:href=\"#ArialMT-114\"/>\n      <use transform=\"translate(211.230469 0.421875)\" xlink:href=\"#ArialMT-115\"/>\n      <use transform=\"translate(261.230469 0.421875)\" xlink:href=\"#ArialMT-111\"/>\n      <use transform=\"translate(316.845703 0.421875)\" xlink:href=\"#ArialMT-110\"/>\n      <use transform=\"translate(372.460938 0.421875)\" xlink:href=\"#ArialMT-39\"/>\n      <use transform=\"translate(391.552734 0.421875)\" xlink:href=\"#ArialMT-115\"/>\n      <use transform=\"translate(441.552734 0.421875)\" xlink:href=\"#ArialMT-32\"/>\n      <use transform=\"translate(469.335938 0.421875)\" xlink:href=\"#DejaVuSans-Oblique-114\"/>\n     </g>\n    </g>\n   </g>\n   <g id=\"patch_3\">\n    <path clip-path=\"url(#p6e656e8933)\" d=\"M 95.251563 216.62 \nL 222.429563 216.62 \nL 222.429563 17.172381 \nL 95.251563 17.172381 \nz\n\" style=\"fill:#5481a6;stroke:#ffffff;stroke-linejoin:miter;\"/>\n   </g>\n   <g id=\"patch_4\">\n    <path clip-path=\"url(#p6e656e8933)\" d=\"M 254.224063 216.62 \nL 381.402063 216.62 \nL 381.402063 170.551028 \nL 254.224063 170.551028 \nz\n\" style=\"fill:#5481a6;stroke:#ffffff;stroke-linejoin:miter;\"/>\n   </g>\n   <g id=\"line2d_1\">\n    <path clip-path=\"url(#p6e656e8933)\" d=\"M 0 0 \n\" style=\"fill:none;stroke:#424242;stroke-linecap:round;stroke-width:2.7;\"/>\n   </g>\n   <g id=\"line2d_2\">\n    <path clip-path=\"url(#p6e656e8933)\" d=\"M 0 0 \n\" style=\"fill:none;stroke:#424242;stroke-linecap:round;stroke-width:2.7;\"/>\n   </g>\n   <g id=\"patch_5\">\n    <path d=\"M 79.354313 216.62 \nL 79.354313 7.2 \n\" style=\"fill:none;stroke:#262626;stroke-linecap:square;stroke-linejoin:miter;stroke-width:1.25;\"/>\n   </g>\n   <g id=\"patch_6\">\n    <path d=\"M 397.299313 216.62 \nL 397.299313 7.2 \n\" style=\"fill:none;stroke:#262626;stroke-linecap:square;stroke-linejoin:miter;stroke-width:1.25;\"/>\n   </g>\n   <g id=\"patch_7\">\n    <path d=\"M 79.354313 216.62 \nL 397.299313 216.62 \n\" style=\"fill:none;stroke:#262626;stroke-linecap:square;stroke-linejoin:miter;stroke-width:1.25;\"/>\n   </g>\n   <g id=\"patch_8\">\n    <path d=\"M 79.354313 7.2 \nL 397.299313 7.2 \n\" style=\"fill:none;stroke:#262626;stroke-linecap:square;stroke-linejoin:miter;stroke-width:1.25;\"/>\n   </g>\n  </g>\n </g>\n <defs>\n  <clipPath id=\"p6e656e8933\">\n   <rect height=\"209.42\" width=\"317.945\" x=\"79.354313\" y=\"7.2\"/>\n  </clipPath>\n </defs>\n</svg>\n",
      "image/png": "[encoded data removed]"
     },
     "metadata": {}
    }
   ],
   "source": [
    "model_dirs = {'rf_boruta': '../out/20.0819 modcompr/reg_rf_boruta',\n",
    "              'nn':'../out/21.0406 nearest_neighbor'}\n",
    "xlab_dict = {'rf_boruta': 'Final model\\n(ML genomic+functional)',\n",
    "              'nn': 'Baseline model\\n(Nearest neighbors)'} # xlabel dict mapping\n",
    "\n",
    "scores_corr = pickle.load(open(os.path.join(model_dirs['nn'],'scores_corr.pkl'), 'rb'))\n",
    "\n",
    "plt.figure()\n",
    "ax = sns.barplot(scores_corr.columns, scores_corr.values[0], color='steelblue')\n",
    "ax.set(ylabel=\"Model performance\\nPearson's $\\it{r}$\", xlabel='', title='')\n",
    "ax.set_xticklabels([xlab_dict[n] for n in model_dirs.keys()], rotation=0, size=15)\n",
    "plt.tight_layout()\n",
    "# plt.savefig(\"%s/fig1_boruta_nn.pdf\" % dir_out)\n",
    "# plt.close()"
   ]
  },
  {
   "cell_type": "code",
   "execution_count": null,
   "metadata": {},
   "outputs": [],
   "source": []
  }
 ],
 "metadata": {
  "kernelspec": {
   "name": "python377jvsc74a57bd0860a4de2e062491567bac01bbbef181437a3458bd5f98fc4b8301e08ccc4fc55",
   "display_name": "Python 3.7.7 64-bit ('cnp': conda)"
  },
  "language_info": {
   "codemirror_mode": {
    "name": "ipython",
    "version": 3
   },
   "file_extension": ".py",
   "mimetype": "text/x-python",
   "name": "python",
   "nbconvert_exporter": "python",
   "pygments_lexer": "ipython3",
   "version": "3.7.7"
  }
 },
 "nbformat": 4,
 "nbformat_minor": 4
}