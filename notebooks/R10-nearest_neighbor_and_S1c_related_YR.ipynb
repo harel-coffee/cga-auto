{
 "cells": [
  {
   "cell_type": "code",
   "execution_count": 5,
   "metadata": {},
   "outputs": [],
   "source": [
    "### This note book use nearest neighbor method(The most closest cell line) to predict CERES score of each gene. \n",
    "# Author: Yiyun\n",
    "\n",
    "import pandas as pd\n",
    "import os\n",
    "from scipy.spatial import distance\n",
    "import pickle\n",
    "from scipy.stats import pearsonr"
   ]
  },
  {
   "cell_type": "markdown",
   "metadata": {},
   "source": [
    "***\n",
    "### Nearest Neighbor Model"
   ]
  },
  {
   "cell_type": "code",
   "execution_count": 82,
   "metadata": {},
   "outputs": [],
   "source": [
    "### Read data\n",
    "celligner_dir = '../data/DepMap/celligner'\n",
    "q3_dir = '../data/DepMap/19Q3'\n",
    "dir_div = '../out/20.0216 feat/reg_rf_boruta'\n",
    "\n",
    "# Read celligner and 19q3 file(q3 is the actual data)\n",
    "df_celligner = pd.read_csv(os.path.join(celligner_dir,'celligner_alignment.csv'),index_col = 0)\n",
    "df_ref19q3 = pd.read_csv(os.path.join(q3_dir,'Achilles_gene_effect.csv'), index_col = 0)\n",
    "# Get most diversed gene list\n",
    "f_featsumm = os.path.join(dir_div,'anlyz_filtered','agg_summary_filtered.csv')\n",
    "df_aggRes = pd.read_csv(f_featsumm) #aggregated feat summary\n",
    "div_genes = df_aggRes['target'].to_list()"
   ]
  },
  {
   "cell_type": "code",
   "execution_count": 83,
   "metadata": {},
   "outputs": [],
   "source": [
    "### Initialize output folder\n",
    "out_dir = '../out/21.0406 nearest_neighbor'\n",
    "if not os.path.exists(out_dir):\n",
    "    os.mkdir(out_dir)"
   ]
  },
  {
   "cell_type": "code",
   "execution_count": 84,
   "metadata": {},
   "outputs": [],
   "source": [
    "### Not all 19q3 cell lines are in celligner, we therefore filter the data in Celligner\n",
    "#Therefore the closest cell line is not necessarily the one in the Celligner\n",
    "\n",
    "# Extract the cell line data from celligner\n",
    "df_celligner = df_celligner[df_celligner['sampleID'].str.startswith('ACH-')][['sampleID','UMAP_1','UMAP_2']].transpose()\n",
    "header = df_celligner.iloc[0] \n",
    "df_celligner = df_celligner[1:] \n",
    "df_celligner.columns = header \n",
    "cell_q3cl = list(set(df_celligner.columns).intersection(set(df_ref19q3.index)))\n",
    "\n",
    "# Select q3 cell line in celligner\n",
    "df_celligner = df_celligner[cell_q3cl]"
   ]
  },
  {
   "cell_type": "code",
   "execution_count": 85,
   "metadata": {},
   "outputs": [],
   "source": [
    "### Calculate euclidean distance between cell lines and find the closest pairs\n",
    "df_close_cells = pd.DataFrame(index = ['closest_cell_line','distance'])\n",
    "for cells in cell_q3cl:\n",
    "    rest_cells = df_celligner.columns.drop(cells)\n",
    "    dist_0 = float(10000) # initiate a biggest value to find the smallest value\n",
    "    close_cell = 'Random'\n",
    "    for rest_cell in rest_cells:\n",
    "        dist = distance.euclidean(df_celligner[cells],df_celligner[rest_cell])\n",
    "        # Update the smallest distance\n",
    "        if dist <= dist_0:\n",
    "            dist_0=dist\n",
    "            close_cell = rest_cell\n",
    "            \n",
    "    df_close_cells[cells] = [close_cell,dist_0]"
   ]
  },
  {
   "cell_type": "code",
   "execution_count": 86,
   "metadata": {},
   "outputs": [],
   "source": [
    "### Create actual dataframe\n",
    "# Rename columns, exclude gene code after gene name\n",
    "cols = [genes.split(' ')[0] for genes in df_ref19q3.columns]\n",
    "df_ref19q3.columns = cols\n",
    "# Create actual dataframe with column(most diversed genes) and index(cell lines)\n",
    "df_actual = df_ref19q3.loc[cell_q3cl,div_genes]"
   ]
  },
  {
   "cell_type": "code",
   "execution_count": 88,
   "metadata": {},
   "outputs": [],
   "source": [
    "### Fill the predicted dataframe by the value of the closest cell line\n",
    "df_predicted = pd.DataFrame(index = cell_q3cl, columns = div_genes)\n",
    "# Update the CERES score with the score of closest cell line\n",
    "for cells in cell_q3cl:\n",
    "    cls_cell = df_close_cells.loc['closest_cell_line',cells]\n",
    "    df_predicted.loc[cells,:] = df_actual.loc[cls_cell,:]"
   ]
  },
  {
   "cell_type": "code",
   "execution_count": 103,
   "metadata": {},
   "outputs": [
    {
     "data": {
      "text/plain": [
       "closest_cell_line    ACH-000901\n",
       "distance              0.0795619\n",
       "Name: ACH-000921, dtype: object"
      ]
     },
     "execution_count": 103,
     "metadata": {},
     "output_type": "execute_result"
    }
   ],
   "source": [
    "# Save actual and predicted file\n",
    "y_compr = {'actual':df_actual, 'predicted':df_predicted}"
   ]
  },
  {
   "cell_type": "code",
   "execution_count": 131,
   "metadata": {},
   "outputs": [],
   "source": [
    "###Save actual and predicted model\n",
    "# pickle.dump(df_close_cells, open(join(out_dir,'closest_cell_lines.pkl'),'wb'))\n",
    "# pickle.dump(df_actual, open(join(out_dir,'actual.pkl'),'wb'))\n",
    "# pickle.dump(df_predicted, open(join(out_dir,'predicted.pkl'),'wb'))\n",
    "# pickle.dump(y_compr, open(join(out_dir,'y_compr.pkl'),'wb'))"
   ]
  },
  {
   "cell_type": "markdown",
   "metadata": {},
   "source": [
    "***\n",
    "### Calculate pearson correlation for figure"
   ]
  },
  {
   "cell_type": "code",
   "execution_count": 7,
   "metadata": {},
   "outputs": [],
   "source": [
    "### Next, We calculate the Boruta model correlation coefficient\n",
    "#-----------------------------Functions--------------------------------------------\n",
    "### For reg_boruta, create y_compr_tr and te from individual model_perf file\n",
    "def create_compr(boruta_dir):\n",
    "    df_te_actual = pd.DataFrame();df_te_pred = pd.DataFrame()\n",
    "\n",
    "    for f in os.listdir(boruta_dir):\n",
    "        if f.startswith('y_compr_'): \n",
    "            gene = f.split('.')[0].split('_')[-1]\n",
    "            y_compr_gene = pickle.load(open(os.path.join(boruta_dir,f),'rb'))\n",
    "            df_te_actual[gene] = y_compr_gene['te']['y_actual']\n",
    "            df_te_pred[gene] = y_compr_gene['te']['y_pred']\n",
    "\n",
    "    y_compr_te_boruta = {'actual':df_te_actual,'predicted':df_te_pred}\n",
    "    \n",
    "    return y_compr_te_boruta\n",
    "\n",
    "### Define a function calculate pearson correlation for all genes\n",
    "def get_pearsonr(col):\n",
    "    global y_compr\n",
    "    \n",
    "    name = col.name\n",
    "    try:\n",
    "        corr = pearsonr(col,y_compr['predicted'][name])[0]\n",
    "    except ValueError:\n",
    "        corr = float('NaN')\n",
    "        \n",
    "    return corr\n",
    "#-----------------------------Functions--------------------------------------------"
   ]
  },
  {
   "cell_type": "code",
   "execution_count": 9,
   "metadata": {},
   "outputs": [
    {
     "name": "stdout",
     "output_type": "stream",
     "text": [
      "   rf_boruta\n",
      "0   0.641432\n",
      "   rf_boruta       nn\n",
      "0   0.641432  0.14816\n"
     ]
    }
   ],
   "source": [
    "### Pearson Correlation calculation \n",
    "# Open the compr folder\n",
    "model_dirs = {'rf_boruta': '../out/20.0216 feat/reg_rf_boruta',\n",
    "              'nn':'../out/21.0406 nearest_neighbor'}\n",
    "xlab_dict = {'rf_boruta': 'random forest\\niter select+boruta',\n",
    "              'nn': 'nearest neighbors'} # xlabel dict mapping\n",
    "\n",
    "scores_corr = pd.DataFrame()\n",
    "# Iterate through moddir to obtain y_compr prediction data\n",
    "for model, model_dir in model_dirs.items():\n",
    "    if model == 'rf_boruta': # If boruta, we collect the individual files\n",
    "        y_compr = create_compr(os.path.join(model_dir,'model_perf'))\n",
    "    elif model == 'nn':\n",
    "        y_compr = pickle.load(open(os.path.join(model_dir,'y_compr.pkl'),'rb'))\n",
    "    # Calculate pearson correlation between actual and predicted\n",
    "    ser_corr = y_compr['actual'].apply(lambda x: get_pearsonr(x))\n",
    "    scores_corr[model] = [ser_corr.median()]"
   ]
  },
  {
   "cell_type": "code",
   "execution_count": 18,
   "metadata": {},
   "outputs": [
    {
     "name": "stdout",
     "output_type": "stream",
     "text": [
      "The median pearson correlation coefficient for rf_boruta model is 0.6414317721504253\n",
      "The median pearson correlation coefficient for nearest neighbor model is 0.14815971505616796\n"
     ]
    }
   ],
   "source": [
    "print(f'The median pearson correlation coefficient for rf_boruta model is {scores_corr[\"rf_boruta\"].values[0]}')\n",
    "print(f'The median pearson correlation coefficient for nearest neighbor model is {scores_corr[\"nn\"].values[0]}')"
   ]
  },
  {
   "cell_type": "code",
   "execution_count": 150,
   "metadata": {},
   "outputs": [],
   "source": [
    "# pickle.dump(scores_corr, open(join(out_dir,'scores_corr.pkl'),'wb'))"
   ]
  },
  {
   "cell_type": "markdown",
   "metadata": {},
   "source": [
    "***\n",
    "### For figure.py"
   ]
  },
  {
   "cell_type": "code",
   "execution_count": 19,
   "metadata": {},
   "outputs": [],
   "source": [
    "import matplotlib.pyplot as plt\n",
    "import seaborn as sns\n",
    "import pickle\n",
    "import os"
   ]
  },
  {
   "cell_type": "code",
   "execution_count": 20,
   "metadata": {},
   "outputs": [
    {
     "data": {
      "image/png": "[encoded data removed]",
      "text/plain": [
       "<Figure size 432x288 with 1 Axes>"
      ]
     },
     "metadata": {
      "needs_background": "light"
     },
     "output_type": "display_data"
    }
   ],
   "source": [
    "model_dirs = {'rf_boruta': '../out/20.0216 feat/reg_rf_boruta',\n",
    "              'nn':'../out/21.0406 nearest_neighbor'}\n",
    "xlab_dict = {'rf_boruta': 'random forest\\niter select+boruta',\n",
    "              'nn': 'nearest neighbors'} # xlabel dict mapping\n",
    "\n",
    "score_corr = pickle.load(open(os.path.join(model_dirs['nn'],'scores_corr.pkl'), 'rb'))\n",
    "\n",
    "plt.figure()\n",
    "ax = sns.barplot(scores_corr.columns, scores_corr.values[0], color='steelblue')\n",
    "ax.set(ylabel='Pearson Correlation Coefficient', xlabel='', title='rf_boruta model v.s. baseline')\n",
    "ax.set_xticklabels([xlab_dict[n] for n in model_dirs.keys()], rotation=-45, size=11)\n",
    "plt.tight_layout()\n",
    "# plt.savefig(\"%s/fig1_boruta_nn.pdf\" % dir_out)\n",
    "# plt.close()"
   ]
  }
 ],
 "metadata": {
  "kernelspec": {
   "display_name": "Python 3",
   "language": "python",
   "name": "python3"
  },
  "language_info": {
   "codemirror_mode": {
    "name": "ipython",
    "version": 3
   },
   "file_extension": ".py",
   "mimetype": "text/x-python",
   "name": "python",
   "nbconvert_exporter": "python",
   "pygments_lexer": "ipython3",
   "version": "3.7.9"
  }
 },
 "nbformat": 4,
 "nbformat_minor": 4
}
