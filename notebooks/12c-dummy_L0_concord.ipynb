{
 "cells": [
  {
   "cell_type": "markdown",
   "metadata": {},
   "source": [
    "Build dummy regressors\n",
    "\n",
    "Based on earlier analyses from 12a-dummy_pred_actual. Here also derive the concordance. This is used for Lx=L0."
   ]
  },
  {
   "cell_type": "code",
   "execution_count": 72,
   "metadata": {},
   "outputs": [],
   "source": [
    "import pickle\n",
    "import pandas as pd\n",
    "import os\n",
    "import seaborn as sns\n",
    "import matplotlib.pyplot as plt\n",
    "import numpy as np\n",
    "import glob\n",
    "from ceres_infer.analyses import getConcordance\n",
    "from tqdm import tqdm"
   ]
  },
  {
   "cell_type": "code",
   "execution_count": 89,
   "metadata": {},
   "outputs": [],
   "source": [
    "from sklearn.dummy import DummyRegressor\n",
    "def getDummyInfer(y):\n",
    "    dummy_clf = DummyRegressor(quantile=0.5)\n",
    "    dummy_clf.fit([0]*y.shape[0], y)\n",
    "    return dummy_clf.predict([0]*y.shape[0])\n",
    "\n",
    "def getDummyInferFromTrain(y, y_tr):\n",
    "    return [y_pred_tr[y.name][0]]*len(y)"
   ]
  },
  {
   "cell_type": "markdown",
   "metadata": {},
   "source": [
    "# for genome wide"
   ]
  },
  {
   "cell_type": "code",
   "execution_count": null,
   "metadata": {},
   "outputs": [],
   "source": [
    "dir_in_Lx = '../out/20.0518 Lx/L100only_reg_rf_boruta_all/' # just using this to get the actual y values\n",
    "\n",
    "y_compr_tr = pickle.load(open(os.path.join(dir_in_Lx, 'anlyz', 'y_compr_tr.pkl'), 'rb'))\n",
    "y_compr_te = pickle.load(open(os.path.join(dir_in_Lx, 'anlyz', 'y_compr_te.pkl'), 'rb'))"
   ]
  },
  {
   "cell_type": "code",
   "execution_count": 90,
   "metadata": {
    "scrolled": false
   },
   "outputs": [
    {
     "name": "stderr",
     "output_type": "stream",
     "text": [
      "/Users/boyangzhao/anaconda/envs/cnp/lib/python3.7/site-packages/tqdm/std.py:668: FutureWarning: The Panel class is removed from pandas. Accessing it from the top-level namespace will also be removed in the next version\n",
      "  from pandas import Panel\n",
      "100%|██████████| 18228/18228 [00:04<00:00, 4541.12it/s]\n",
      "100%|██████████| 18228/18228 [00:02<00:00, 7976.82it/s] \n"
     ]
    }
   ],
   "source": [
    "tqdm.pandas()\n",
    "y_pred_tr = y_compr_tr['actual'].progress_apply(getDummyInfer, axis=0)\n",
    "y_pred_te = y_compr_te['actual'].progress_apply(getDummyInferFromTrain, y_tr=y_pred_tr, axis=0)"
   ]
  },
  {
   "cell_type": "code",
   "execution_count": 91,
   "metadata": {},
   "outputs": [
    {
     "name": "stderr",
     "output_type": "stream",
     "text": [
      "100%|██████████| 18228/18228 [05:01<00:00, 60.46it/s]\n"
     ]
    }
   ],
   "source": [
    "outdir_concord = '../out/20.0909 Lx/L0only_reg_dummy/anlyz/concordance'\n",
    "if not os.path.exists(outdir_concord):\n",
    "    os.makedirs(outdir_concord)\n",
    "df_conc_tr = pd.DataFrame()\n",
    "df_conc_te = pd.DataFrame()\n",
    "for gene in tqdm(y_pred_tr.columns.values):\n",
    "    df = pd.DataFrame({'y_actual': y_compr_tr['actual'].loc[:,y_compr_tr['actual'].columns == gene].values.squeeze(),\n",
    "                       'y_pred': y_pred_tr.loc[:,y_pred_tr.columns == gene].values.squeeze(),\n",
    "                      })\n",
    "    tmp = pd.DataFrame([{'gene': gene, 'concordance': getConcordance(df)}])\n",
    "    df_conc_tr = pd.concat([df_conc_tr, tmp])\n",
    "\n",
    "    df = pd.DataFrame({'y_actual': y_compr_te['actual'].loc[:,y_compr_te['actual'].columns == gene].values.squeeze(),\n",
    "                       'y_pred': y_pred_te.loc[:,y_pred_te.columns == gene].values.squeeze(),\n",
    "                      })\n",
    "    tmp = pd.DataFrame([{'gene': gene, 'concordance': getConcordance(df)}])\n",
    "    df_conc_te = pd.concat([df_conc_te, tmp])\n",
    "    \n",
    "df_conc_tr.to_csv('%s/concordance_tr.csv' % outdir_concord, index=False)\n",
    "df_conc_te.to_csv('%s/concordance_te.csv' % outdir_concord, index=False)\n",
    "\n",
    "plt.figure()\n",
    "ax = sns.distplot(df_conc_tr.concordance)\n",
    "ax.set(xlim=[0, 1.05], xlabel='Concordance', title='Concordance between actual and predicted')\n",
    "plt.savefig(\"%s/concordance_tr.pdf\" % outdir_concord)\n",
    "plt.close()\n",
    "\n",
    "plt.figure()\n",
    "ax = sns.distplot(df_conc_te.concordance)\n",
    "ax.set(xlim=[0, 1.05], xlabel='Concordance', title='Concordance between actual and predicted')\n",
    "plt.savefig(\"%s/concordance_te.pdf\" % outdir_concord)\n",
    "plt.close()\n",
    "    "
   ]
  },
  {
   "cell_type": "markdown",
   "metadata": {},
   "source": [
    "# for selective essential"
   ]
  },
  {
   "cell_type": "code",
   "execution_count": 119,
   "metadata": {},
   "outputs": [],
   "source": [
    "dir_in_Lx = '../out/20.0518 Lx/L100only_reg_rf_boruta/' # just using this to get the actual y values\n",
    "\n",
    "y_compr_tr = pickle.load(open(os.path.join(dir_in_Lx, 'anlyz', 'y_compr_tr.pkl'), 'rb'))\n",
    "y_compr_te = pickle.load(open(os.path.join(dir_in_Lx, 'anlyz', 'y_compr_te.pkl'), 'rb'))"
   ]
  },
  {
   "cell_type": "code",
   "execution_count": 120,
   "metadata": {
    "scrolled": false
   },
   "outputs": [
    {
     "name": "stderr",
     "output_type": "stream",
     "text": [
      "/Users/boyangzhao/anaconda/envs/cnp/lib/python3.7/site-packages/tqdm/std.py:668: FutureWarning: The Panel class is removed from pandas. Accessing it from the top-level namespace will also be removed in the next version\n",
      "  from pandas import Panel\n",
      "100%|██████████| 535/535 [00:00<00:00, 3694.98it/s]\n",
      "100%|██████████| 535/535 [00:00<00:00, 6988.09it/s]\n"
     ]
    }
   ],
   "source": [
    "tqdm.pandas()\n",
    "y_pred_tr = y_compr_tr['actual'].progress_apply(getDummyInfer, axis=0)\n",
    "y_pred_te = y_compr_te['actual'].progress_apply(getDummyInferFromTrain, y_tr=y_pred_tr, axis=0)"
   ]
  },
  {
   "cell_type": "code",
   "execution_count": 122,
   "metadata": {},
   "outputs": [
    {
     "name": "stderr",
     "output_type": "stream",
     "text": [
      "100%|██████████| 535/535 [00:05<00:00, 99.87it/s] \n"
     ]
    }
   ],
   "source": [
    "outdir_concord = '../out/20.0909 Lx/L0only_reg_dummy/anlyz/concordance'\n",
    "if not os.path.exists(outdir_concord):\n",
    "    os.makedirs(outdir_concord)\n",
    "df_conc_tr = pd.DataFrame()\n",
    "df_conc_te = pd.DataFrame()\n",
    "for gene in tqdm(y_pred_tr.columns.values):\n",
    "    df = pd.DataFrame({'y_actual': y_compr_tr['actual'].loc[:,y_compr_tr['actual'].columns == gene].values.squeeze(),\n",
    "                       'y_pred': y_pred_tr.loc[:,y_pred_tr.columns == gene].values.squeeze(),\n",
    "                      })\n",
    "    tmp = pd.DataFrame([{'gene': gene, 'concordance': getConcordance(df)}])\n",
    "    df_conc_tr = pd.concat([df_conc_tr, tmp])\n",
    "\n",
    "    df = pd.DataFrame({'y_actual': y_compr_te['actual'].loc[:,y_compr_te['actual'].columns == gene].values.squeeze(),\n",
    "                       'y_pred': y_pred_te.loc[:,y_pred_te.columns == gene].values.squeeze(),\n",
    "                      })\n",
    "    tmp = pd.DataFrame([{'gene': gene, 'concordance': getConcordance(df)}])\n",
    "    df_conc_te = pd.concat([df_conc_te, tmp])\n",
    "    \n",
    "df_conc_tr.to_csv('%s/concordance_tr.csv' % outdir_concord, index=False)\n",
    "df_conc_te.to_csv('%s/concordance_te.csv' % outdir_concord, index=False)\n",
    "\n",
    "plt.figure()\n",
    "ax = sns.distplot(df_conc_tr.concordance)\n",
    "ax.set(xlim=[0, 1.05], xlabel='Concordance', title='Concordance between actual and predicted')\n",
    "plt.savefig(\"%s/concordance_tr.pdf\" % outdir_concord)\n",
    "plt.close()\n",
    "\n",
    "plt.figure()\n",
    "ax = sns.distplot(df_conc_te.concordance)\n",
    "ax.set(xlim=[0, 1.05], xlabel='Concordance', title='Concordance between actual and predicted')\n",
    "plt.savefig(\"%s/concordance_te.pdf\" % outdir_concord)\n",
    "plt.close()\n",
    "    "
   ]
  },
  {
   "cell_type": "code",
   "execution_count": 118,
   "metadata": {},
   "outputs": [],
   "source": [
    "# # amend the L100only_reg_rf_boruta results with the y_compr_tr and y_compr_te\n",
    "# from ceres_infer.analyses import yComprHeatmap, constructYCompr\n",
    "# outdir_anlyz = '../out/20.0518 Lx/L100only_reg_rf_boruta/anlyz/'\n",
    "# model_results = pd.read_csv('../out/20.0518 Lx/L100only_reg_rf_boruta/model_results.csv', header=0)\n",
    "# outdir_modtmp = '../out/20.0518 Lx/L100only_reg_rf_boruta/model_perf/'\n",
    "\n",
    "# #------- Y predictions comparisons -------\n",
    "# # create dir\n",
    "# outdir_ycompr = '%s/heatmaps/' % outdir_anlyz\n",
    "# if not os.path.exists(outdir_ycompr):\n",
    "#     os.makedirs(outdir_ycompr)\n",
    "\n",
    "# genes2analyz = model_results.target.unique()\n",
    "# y_compr_fnames = glob.glob(os.path.join(outdir_modtmp, 'y_compr_*.pkl'))\n",
    "\n",
    "# if (len(y_compr_fnames) > 0) and (len(genes2analyz) > 0):\n",
    "#     # for train\n",
    "#     df_y_actual, df_y_pred = constructYCompr(genes2analyz, 'tr', outdir_modtmp)\n",
    "#     pickle.dump({'actual': df_y_actual, 'predicted': df_y_pred}, open('%s/y_compr_tr.pkl' % outdir_anlyz, 'wb'))\n",
    "#     yComprHeatmap(df_y_actual, df_y_pred, 'tr', outdir_ycompr)\n",
    "\n",
    "#     # for test\n",
    "#     df_y_actual, df_y_pred = constructYCompr(genes2analyz, 'te', outdir_modtmp)\n",
    "#     pickle.dump({'actual': df_y_actual, 'predicted': df_y_pred}, open('%s/y_compr_te.pkl' % outdir_anlyz, 'wb'))\n",
    "#     yComprHeatmap(df_y_actual, df_y_pred, 'te', outdir_ycompr)"
   ]
  },
  {
   "cell_type": "code",
   "execution_count": null,
   "metadata": {},
   "outputs": [],
   "source": []
  }
 ],
 "metadata": {
  "kernelspec": {
   "display_name": "Python 3",
   "language": "python",
   "name": "python3"
  },
  "language_info": {
   "codemirror_mode": {
    "name": "ipython",
    "version": 3
   },
   "file_extension": ".py",
   "mimetype": "text/x-python",
   "name": "python",
   "nbconvert_exporter": "python",
   "pygments_lexer": "ipython3",
   "version": "3.7.7"
  },
  "toc": {
   "base_numbering": 1,
   "nav_menu": {},
   "number_sections": true,
   "sideBar": true,
   "skip_h1_title": false,
   "title_cell": "Table of Contents",
   "title_sidebar": "Contents",
   "toc_cell": false,
   "toc_position": {},
   "toc_section_display": true,
   "toc_window_display": true
  }
 },
 "nbformat": 4,
 "nbformat_minor": 4
}
