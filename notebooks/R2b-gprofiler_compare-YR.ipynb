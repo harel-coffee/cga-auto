{
 "cells": [
  {
   "cell_type": "code",
   "execution_count": 28,
   "metadata": {},
   "outputs": [],
   "source": [
    "### This script compare the grofiler result between the cell specific gene and common architecture genes\n",
    "### First, we do a DAVID analysis on context specific genes\n",
    "### Next, we compare the overlap between top GO terms and their p-vals\n",
    "\n",
    "### Author:Yiyun\n",
    "import pandas as pd\n",
    "import os\n",
    "import matplotlib.pyplot as plt\n",
    "import matplotlib.pylab as pylab\n",
    "from matplotlib_venn import venn2, venn2_circles\n",
    "import numpy as np\n",
    "import seaborn as sns"
   ]
  },
  {
   "cell_type": "markdown",
   "metadata": {},
   "source": [
    "***Read the genes***"
   ]
  },
  {
   "cell_type": "code",
   "execution_count": 2,
   "metadata": {},
   "outputs": [],
   "source": [
    "### cell specific genes\n",
    "dir_in_res = '../out/20.0216 feat/reg_rf_boruta'\n",
    "f_featsumm = os.path.join(dir_in_res, 'anlyz_filtered','feat_summary_varExp_filtered.csv')\n",
    "df_aggRes = pd.read_csv(f_featsumm) #aggregated feat summary\n",
    "div_gene = df_aggRes['target'].unique().tolist() #div_genes is also targets\n",
    "\n",
    "### predictor genes\n",
    "feats = df_aggRes['feature'].str.split(' \\(', n=0, expand=True)[0].unique().tolist()\n",
    "\n",
    "### All genes\n",
    "all_genes = list(set(div_gene+feats))\n",
    "\n",
    "# Save all genes to txt file for submitting to DAVID website\n",
    "# because only website can handle query with large number of genes\n",
    "with open('all_genes.txt','w') as f:\n",
    "    for genes in all_genes:\n",
    "        f.write(genes+'\\n')\n",
    "\n",
    "with open('feats.txt','w') as f:\n",
    "    for genes in feats:\n",
    "        if genes not in div_gene:\n",
    "            f.write(genes+'\\n')"
   ]
  },
  {
   "cell_type": "markdown",
   "metadata": {},
   "source": [
    "***Convert gene name to ID***  \n",
    "So far only for the context specific genes because API can not handle >500 genes"
   ]
  },
  {
   "cell_type": "code",
   "execution_count": 3,
   "metadata": {},
   "outputs": [],
   "source": [
    "### Import ensembl API to convert gene ID\n",
    "import requests, sys\n",
    "server = \"https://rest.ensembl.org\"\n",
    "\n",
    "def get_HGNC_name(gene_name):\n",
    "    # Submit request to convert gene name\n",
    "    ext = \"/xrefs/symbol/homo_sapiens/\"+gene_name+ \"?object_type=gene\"\n",
    "    r = requests.get(server+ext, headers={ \"Content-Type\" : \"application/json\"})\n",
    "    if not r.ok:\n",
    "      r.raise_for_status()\n",
    "      sys.exit()\n",
    "    decoded = r.json()\n",
    "    list_idx = [sub_decoded['id'] for sub_decoded in decoded]\n",
    "    \n",
    "    # Some gene return 2 or more IDs, to avoid confusion, exclude them for now\n",
    "    idx = list_idx[0] if len(list_idx) == 1 else None\n",
    "    \n",
    "    return idx\n",
    "\n",
    "### Get the list of converted gene ID\n",
    "l_converted = []\n",
    "for names in div_gene:\n",
    "    res = get_HGNC_name(names)\n",
    "    l_converted.append(res)\n",
    "l_converted = [i for i in l_converted if i]"
   ]
  },
  {
   "cell_type": "markdown",
   "metadata": {},
   "source": [
    "***Generate API***"
   ]
  },
  {
   "cell_type": "markdown",
   "metadata": {},
   "source": [
    "When all default features are selected, the genes are enriched in cell cycle and mitochondrial terms  \n",
    "When only GO terms are selected, genes are enriched in large set like cellular organelle part"
   ]
  },
  {
   "cell_type": "code",
   "execution_count": null,
   "metadata": {},
   "outputs": [],
   "source": [
    "print(f'http://david.abcc.ncifcrf.gov/api.jsp?type=ENSEMBL_GENE_ID&ids=\\\n",
    "{\",\".join(str(x) for x in l_converted)}\\\n",
    "&tool=term2term&annot=GOTERM_BP_DIRECT,GOTERM_CC_DIRECT,GOTERM_MF_DIRECT,\\\n",
    "OMIM_DISEASE,COG_ONTOLOGY,UP_KEYWORDS,UP_SEQ_FEATURE,BBID,BIOCARTA,KEGG_PATHWAY,\\\n",
    "INTERPRO,PIR_SUPERFAMILY,SMART')\n",
    "print(f'http://david.abcc.ncifcrf.gov/api.jsp?type=ENSEMBL_GENE_ID&ids=\\\n",
    "{\",\".join(str(x) for x in l_converted)}\\\n",
    "&tool=term2term&annot=GOTERM_BP_ALL,GOTERM_CC_ALL,GOTERM_MF_ALL')"
   ]
  },
  {
   "cell_type": "markdown",
   "metadata": {},
   "source": [
    "***P-value compare***"
   ]
  },
  {
   "cell_type": "code",
   "execution_count": 3,
   "metadata": {},
   "outputs": [],
   "source": [
    "### READ go results\n",
    "df_target = pd.read_csv('target_gores.csv')\n",
    "df_predictor = pd.read_csv('predictor_gores.csv')\n",
    "df_all = pd.read_csv('target_predictor_gores.csv')"
   ]
  },
  {
   "cell_type": "code",
   "execution_count": 4,
   "metadata": {},
   "outputs": [],
   "source": [
    "### Get top100 p-val and terms\n",
    "df_target_top = df_target.sort_values('p_value').head(100)\n",
    "df_all_top = df_all.sort_values('p_value').head(100)\n",
    "df_predictor_top = df_predictor.sort_values('p_value').head(100)"
   ]
  },
  {
   "cell_type": "code",
   "execution_count": 95,
   "metadata": {},
   "outputs": [],
   "source": [
    "### Term intersection - find common terms in top100 lists\n",
    "# between target and all\n",
    "common_termid = list(set(df_target_top['term_id']).intersection(df_all_top['term_id']))\n",
    "common_termname = list(set(df_target_top['term_name']).intersection(df_all_top['term_name']))\n",
    "\n",
    "# between target and predictor only\n",
    "common_termname_target_pre = list(set(df_target_top['term_name']).intersection(df_predictor_top['term_name']))\n",
    "common_termid_target_pre = list(set(df_target_top['term_id']).intersection(df_predictor_top['term_id']))"
   ]
  },
  {
   "cell_type": "code",
   "execution_count": 6,
   "metadata": {},
   "outputs": [
    {
     "data": {
      "text/plain": [
       "41"
      ]
     },
     "execution_count": 6,
     "metadata": {},
     "output_type": "execute_result"
    }
   ],
   "source": [
    "len(common_termname_target_pre) # Number of overlapped termes in target and predictor only"
   ]
  },
  {
   "cell_type": "code",
   "execution_count": 172,
   "metadata": {},
   "outputs": [
    {
     "name": "stderr",
     "output_type": "stream",
     "text": [
      "/Users/stella/miniconda3/envs/cnp/lib/python3.7/site-packages/ipykernel_launcher.py:23: MatplotlibDeprecationWarning: \n",
      "The set_offset_position function was deprecated in Matplotlib 3.3 and will be removed two minor releases later.\n"
     ]
    },
    {
     "data": {
      "text/plain": [
       "Text(0.5, 0.98, 'Common GO term p-values of target-only and predictor only GO analysis')"
      ]
     },
     "execution_count": 172,
     "metadata": {},
     "output_type": "execute_result"
    },
    {
     "data": {
      "image/png": "[encoded data removed]",
      "text/plain": [
       "<Figure size 1080x720 with 2 Axes>"
      ]
     },
     "metadata": {
      "needs_background": "light"
     },
     "output_type": "display_data"
    }
   ],
   "source": [
    "###target and predictor only-- log10 p-vals of common terms\n",
    "df_target_top_common = df_target_top[df_target_top['term_name']\\\n",
    "            .isin(common_termname_target_pre)][['term_id','term_name','p_value','intersection_size']]\\\n",
    "            .set_index('term_id').add_suffix('_target')\n",
    "df_predictor_top_common = df_predictor_top[df_predictor_top['term_name']\\\n",
    "            .isin(common_termname_target_pre)][['term_id','term_name','p_value','intersection_size']]\\\n",
    "            .set_index('term_id').add_suffix('_predictor')\n",
    "df_combine = pd.concat([df_target_top_common,df_predictor_top_common],axis = 1)\n",
    "\n",
    "# Log10 transformation\n",
    "df_combine['p_value_target'] = -np.log10(df_combine['p_value_target'])\n",
    "df_combine['p_value_predictor'] = -np.log10(df_combine['p_value_predictor'])\n",
    "\n",
    "# Plot scatter(regression plot) and residual plot\n",
    "fig, axs = plt.subplots(1,2, figsize = (15,10))\n",
    "axs[0] = sns.regplot(x='p_value_target', y='p_value_predictor',data =df_combine, ax = axs[0])\n",
    "axs[1] = sns.residplot(x='p_value_target', y='p_value_predictor', data =df_combine, color=\"g\", ax = axs[1])\n",
    "axs[1].set_ylabel('residual')\n",
    "\n",
    "# Get x, y position in residual plot for annotating -https://stackoverflow.com/questions/32213889/get-positions-of-points-in-pathcollection-created-by-scatter\n",
    "text = df_combine['term_name_target'] # terms for annotation\n",
    "offset = axs[1].collections[0]\n",
    "offset.set_offset_position('data')\n",
    "datapos = offset.get_offsets()\n",
    "\n",
    "for i in range(len(datapos)):\n",
    "    xval = datapos[i][0];yval = datapos[i][1]\n",
    "    if yval > 10 or yval < -10:\n",
    "        # Find the term corresponding to the position\n",
    "        termname = df_combine[df_combine['p_value_target'] == xval]['term_name_target'].values[0]\n",
    "        axs[1].annotate(termname, (xval+ 0.5, yval +0.8))\n",
    "\n",
    "\n",
    "fig.suptitle('Common GO term p-values of target-only and predictor only GO analysis', fontsize=16)"
   ]
  },
  {
   "cell_type": "markdown",
   "metadata": {},
   "source": [
    "Most of the p-vals fall in diagnol. We are not really doing a regression here, but visualizing the residuals allow us to see how the true value of predictor/target only deviates from their 'linear regressed' expectation. Therefore I chose an arbitrary threshole of +-10. \n",
    "\n",
    "For common terms between target and predictor only, the terms that shift the ranking towards the higher end (observed -log10p > predicted -log10p , observed p < predicted p )are organization or biogenesis terms， and the one shift to a lower end a cell cycle and metabolic terms."
   ]
  },
  {
   "cell_type": "markdown",
   "metadata": {},
   "source": [
    "***Next, we send the common terms, target specific terms and All gene specific terms for Revigo analysis to identify the most redundant, general terms in each group***"
   ]
  },
  {
   "cell_type": "code",
   "execution_count": 163,
   "metadata": {},
   "outputs": [
    {
     "data": {
      "text/plain": [
       "64"
      ]
     },
     "execution_count": 163,
     "metadata": {},
     "output_type": "execute_result"
    }
   ],
   "source": [
    "len(common_termid_predonly) #64 overlapped terms in top100"
   ]
  },
  {
   "cell_type": "code",
   "execution_count": 168,
   "metadata": {},
   "outputs": [],
   "source": [
    "# ### Specific term name\n",
    "# target_only_term_name = df_target_top[~df_target_top['term_name'].isin(common_termname)]['term_name']\n",
    "# all_only_term_name = df_all_top[~df_all_top['term_name'].isin(common_termname)]['term_name']\n",
    "# target_only_term_id = df_target_top[~df_target_top['term_id'].isin(common_termid)]['term_id']\n",
    "# all_only_term_id = df_all_top[~df_all_top['term_id'].isin(common_termid)]['term_id']\n",
    "\n",
    "predict_only_term_id = df_predictor_top[~df_predictor_top['term_id'].isin(common_termid_target_pre)]['term_id']\n",
    "target_only_term_id = df_target_top[~df_target_top['term_id'].isin(common_termid_target_pre)]['term_id']"
   ]
  },
  {
   "cell_type": "markdown",
   "metadata": {},
   "source": [
    "Below are the code for generating term lists as input in the website"
   ]
  },
  {
   "cell_type": "code",
   "execution_count": 169,
   "metadata": {
    "scrolled": true
   },
   "outputs": [
    {
     "name": "stdout",
     "output_type": "stream",
     "text": [
      "GO:0031981\n",
      "GO:0051301\n",
      "GO:0043232\n",
      "GO:0007049\n",
      "GO:0070013\n",
      "GO:0022402\n",
      "GO:0005634\n",
      "GO:0005737\n",
      "GO:1903047\n",
      "GO:1901564\n",
      "GO:0043231\n",
      "GO:0044770\n",
      "GO:0044267\n",
      "GO:0071840\n",
      "GO:0005654\n",
      "GO:0032991\n",
      "GO:0033554\n",
      "GO:0000278\n",
      "GO:1902494\n",
      "GO:0043229\n",
      "GO:0006807\n",
      "GO:0140535\n",
      "GO:1901265\n",
      "GO:0016043\n",
      "GO:0140513\n",
      "GO:0005829\n",
      "GO:0043233\n",
      "GO:0019538\n",
      "GO:0005515\n",
      "GO:0016032\n",
      "GO:0043933\n",
      "GO:0005622\n",
      "GO:0000166\n",
      "GO:0043226\n",
      "GO:0044237\n",
      "GO:0022607\n",
      "GO:0043227\n",
      "GO:0044085\n",
      "GO:0043228\n",
      "GO:0031974\n",
      "GO:0006996\n"
     ]
    }
   ],
   "source": [
    "# Target and predictor only\n",
    "for idx in common_termid_target_pre: #print common id\n",
    "    print(idx)"
   ]
  },
  {
   "cell_type": "code",
   "execution_count": 170,
   "metadata": {
    "scrolled": true
   },
   "outputs": [
    {
     "name": "stdout",
     "output_type": "stream",
     "text": [
      "GO:0051641\n",
      "GO:0008104\n",
      "GO:0005743\n",
      "GO:0033036\n",
      "GO:0070161\n",
      "GO:0005739\n",
      "GO:0005925\n",
      "GO:0030055\n",
      "GO:0098798\n",
      "GO:0005740\n",
      "GO:0048522\n",
      "GO:0031967\n",
      "GO:0031975\n",
      "GO:0019866\n",
      "GO:0031966\n",
      "GO:0070727\n",
      "GO:1990904\n",
      "GO:0034613\n",
      "GO:0046907\n",
      "GO:0043624\n",
      "GO:0035639\n",
      "GO:0035556\n",
      "GO:0051179\n",
      "GO:0044391\n",
      "GO:0032543\n",
      "GO:0017076\n",
      "GO:0032555\n",
      "GO:0140053\n",
      "GO:0032984\n",
      "GO:0048518\n",
      "GO:0005488\n",
      "GO:0032553\n",
      "GO:0005840\n",
      "GO:0045184\n",
      "GO:0005759\n",
      "GO:0044093\n",
      "GO:0051649\n",
      "GO:0033043\n",
      "GO:0009057\n",
      "GO:0022411\n",
      "GO:0044877\n",
      "GO:0031090\n",
      "GO:0019899\n",
      "GO:0043168\n",
      "GO:0044265\n",
      "GO:0043604\n",
      "GO:0007005\n",
      "GO:0071705\n",
      "GO:0070126\n",
      "GO:0050790\n",
      "GO:0007010\n",
      "GO:0006415\n",
      "GO:0006974\n",
      "GO:0010604\n",
      "GO:0015935\n",
      "GO:0010638\n",
      "GO:0015031\n",
      "GO:0051668\n",
      "GO:0006412\n"
     ]
    }
   ],
   "source": [
    "for idx in predict_only_term_id: #print common id\n",
    "    print(idx)"
   ]
  },
  {
   "cell_type": "code",
   "execution_count": 164,
   "metadata": {
    "scrolled": true
   },
   "outputs": [
    {
     "name": "stdout",
     "output_type": "stream",
     "text": [
      "GO:0008152\n",
      "GO:1901576\n",
      "GO:0009058\n",
      "GO:0044238\n",
      "GO:0006139\n",
      "GO:0044249\n",
      "GO:0046483\n",
      "GO:1901360\n",
      "GO:0051726\n",
      "GO:0010564\n",
      "GO:0034641\n",
      "GO:0006725\n",
      "GO:0003824\n",
      "GO:0071704\n",
      "GO:0044271\n",
      "GO:0044772\n",
      "GO:1901362\n",
      "GO:0044260\n",
      "GO:0006793\n",
      "GO:0006796\n",
      "GO:0051276\n",
      "GO:1990234\n",
      "GO:0034654\n",
      "GO:0018130\n",
      "GO:0080090\n",
      "GO:0019438\n",
      "GO:2000142\n",
      "GO:1901987\n",
      "GO:0019222\n",
      "GO:0055086\n",
      "GO:0031323\n",
      "GO:0060260\n",
      "GO:0010033\n",
      "GO:0016740\n",
      "GO:0009165\n",
      "GO:0140014\n",
      "GO:0009719\n",
      "GO:1901293\n",
      "GO:0090304\n",
      "GO:0009628\n",
      "GO:0043170\n",
      "GO:0019693\n",
      "GO:0034645\n",
      "GO:0009117\n",
      "GO:0031325\n",
      "GO:0036211\n",
      "GO:0006464\n",
      "GO:0065003\n",
      "GO:0090407\n",
      "GO:0046390\n",
      "GO:0009059\n",
      "GO:0006352\n",
      "GO:0006753\n",
      "GO:0051246\n",
      "GO:0051171\n",
      "GO:0006367\n",
      "GO:0009893\n",
      "GO:0000819\n",
      "GO:0019637\n"
     ]
    }
   ],
   "source": [
    "for idx in target_only_term_id: #print common id\n",
    "    print(idx)"
   ]
  }
 ],
 "metadata": {
  "kernelspec": {
   "display_name": "Python 3",
   "language": "python",
   "name": "python3"
  },
  "language_info": {
   "codemirror_mode": {
    "name": "ipython",
    "version": 3
   },
   "file_extension": ".py",
   "mimetype": "text/x-python",
   "name": "python",
   "nbconvert_exporter": "python",
   "pygments_lexer": "ipython3",
   "version": "3.7.7"
  }
 },
 "nbformat": 4,
 "nbformat_minor": 4
}
