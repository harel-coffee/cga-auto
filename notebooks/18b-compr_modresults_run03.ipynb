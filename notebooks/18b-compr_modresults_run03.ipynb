{
 "cells": [
  {
   "cell_type": "code",
   "execution_count": 17,
   "metadata": {},
   "outputs": [],
   "source": [
    "import os\n",
    "import pandas as pd\n",
    "import pickle\n",
    "import seaborn as sns"
   ]
  },
  {
   "cell_type": "code",
   "execution_count": 2,
   "metadata": {},
   "outputs": [],
   "source": [
    "#!pip install plotly\n",
    "#pd.options.plotting.backend = \"plotly\""
   ]
  },
  {
   "cell_type": "code",
   "execution_count": 43,
   "metadata": {},
   "outputs": [],
   "source": [
    "model_dirs = {'elasticnet': '../out/20.0819 modcompr/reg_elasticNet_infer/',\n",
    "              'lm': '../out/20.0819 modcompr/reg_lm_infer/', \n",
    "              'rf': '../out/20.0819 modcompr/reg_rf_infer/', \n",
    "              'rf_boruta': '../out/20.0216 feat/reg_rf_boruta'\n",
    "             }"
   ]
  },
  {
   "cell_type": "markdown",
   "metadata": {},
   "source": [
    "## model results"
   ]
  },
  {
   "cell_type": "code",
   "execution_count": 171,
   "metadata": {},
   "outputs": [],
   "source": [
    "scores = {}\n",
    "for model, model_dir in model_dirs.items():\n",
    "    res = pd.read_csv(os.path.join(model_dir, 'model_results.csv'))\n",
    "    scores.update({model: res.loc[res.model=='all','score_test'].values})\n",
    "\n",
    "scores = pd.DataFrame.from_dict(scores)"
   ]
  },
  {
   "cell_type": "code",
   "execution_count": 172,
   "metadata": {},
   "outputs": [
    {
     "data": {
      "text/plain": [
       "elasticnet    0.106759\n",
       "lm            0.046777\n",
       "rf            0.081882\n",
       "rf_boruta     0.081882\n",
       "dtype: float64"
      ]
     },
     "execution_count": 172,
     "metadata": {},
     "output_type": "execute_result"
    }
   ],
   "source": [
    "scores.median(axis=0)"
   ]
  },
  {
   "cell_type": "code",
   "execution_count": 142,
   "metadata": {},
   "outputs": [
    {
     "data": {
      "text/plain": [
       "[Text(0, 0.5, 'Score (on test)'),\n",
       " Text(0.5, 0, 'Models'),\n",
       " [Text(0, 0, 'elastic net'),\n",
       "  Text(1, 0, 'linear regression'),\n",
       "  Text(2, 0, 'random forest'),\n",
       "  Text(3, 0, 'random forest\\niter select+boruta')],\n",
       " Text(0.5, 1.0, 'Model using all features')]"
      ]
     },
     "execution_count": 142,
     "metadata": {},
     "output_type": "execute_result"
    },
    {
     "data": {
      "image/png": "[encoded data removed]",
      "text/plain": [
       "<Figure size 432x288 with 1 Axes>"
      ]
     },
     "metadata": {
      "needs_background": "light"
     },
     "output_type": "display_data"
    }
   ],
   "source": [
    "xlab_dict = {'elasticnet': 'elastic net',\n",
    "              'lm': 'linear regression', \n",
    "              'rf': 'random forest', \n",
    "              'rf_boruta': 'random forest\\niter select+boruta'}\n",
    "df = pd.melt(scores)\n",
    "ax = sns.boxplot(data=df, x='variable', y='value', color='steelblue')\n",
    "ax.set(ylabel='Score (on test)', xlabel='Models', xticklabels=[xlab_dict[n] for n in model_dirs.keys()],\n",
    "      title='Model using all features')"
   ]
  },
  {
   "cell_type": "markdown",
   "metadata": {},
   "source": [
    "### train vs test for linear models"
   ]
  },
  {
   "cell_type": "code",
   "execution_count": 189,
   "metadata": {},
   "outputs": [
    {
     "data": {
      "text/html": [
       "<div>\n",
       "<style scoped>\n",
       "    .dataframe tbody tr th:only-of-type {\n",
       "        vertical-align: middle;\n",
       "    }\n",
       "\n",
       "    .dataframe tbody tr th {\n",
       "        vertical-align: top;\n",
       "    }\n",
       "\n",
       "    .dataframe thead th {\n",
       "        text-align: right;\n",
       "    }\n",
       "</style>\n",
       "<table border=\"1\" class=\"dataframe\">\n",
       "  <thead>\n",
       "    <tr style=\"text-align: right;\">\n",
       "      <th></th>\n",
       "      <th>score_train</th>\n",
       "      <th>score_test</th>\n",
       "    </tr>\n",
       "  </thead>\n",
       "  <tbody>\n",
       "    <tr>\n",
       "      <th>count</th>\n",
       "      <td>583.000000</td>\n",
       "      <td>583.000000</td>\n",
       "    </tr>\n",
       "    <tr>\n",
       "      <th>mean</th>\n",
       "      <td>0.222645</td>\n",
       "      <td>0.137925</td>\n",
       "    </tr>\n",
       "    <tr>\n",
       "      <th>std</th>\n",
       "      <td>0.148122</td>\n",
       "      <td>0.187106</td>\n",
       "    </tr>\n",
       "    <tr>\n",
       "      <th>min</th>\n",
       "      <td>0.000000</td>\n",
       "      <td>-2.455304</td>\n",
       "    </tr>\n",
       "    <tr>\n",
       "      <th>25%</th>\n",
       "      <td>0.110866</td>\n",
       "      <td>0.036640</td>\n",
       "    </tr>\n",
       "    <tr>\n",
       "      <th>50%</th>\n",
       "      <td>0.186384</td>\n",
       "      <td>0.106759</td>\n",
       "    </tr>\n",
       "    <tr>\n",
       "      <th>75%</th>\n",
       "      <td>0.311160</td>\n",
       "      <td>0.221161</td>\n",
       "    </tr>\n",
       "    <tr>\n",
       "      <th>max</th>\n",
       "      <td>0.764792</td>\n",
       "      <td>0.761665</td>\n",
       "    </tr>\n",
       "  </tbody>\n",
       "</table>\n",
       "</div>"
      ],
      "text/plain": [
       "       score_train  score_test\n",
       "count   583.000000  583.000000\n",
       "mean      0.222645    0.137925\n",
       "std       0.148122    0.187106\n",
       "min       0.000000   -2.455304\n",
       "25%       0.110866    0.036640\n",
       "50%       0.186384    0.106759\n",
       "75%       0.311160    0.221161\n",
       "max       0.764792    0.761665"
      ]
     },
     "execution_count": 189,
     "metadata": {},
     "output_type": "execute_result"
    }
   ],
   "source": [
    "res = pd.read_csv(os.path.join(model_dirs['elasticnet'], 'model_results.csv'))\n",
    "res.loc[res.model=='all',['score_train', 'score_test']].describe()"
   ]
  },
  {
   "cell_type": "code",
   "execution_count": 190,
   "metadata": {},
   "outputs": [
    {
     "data": {
      "text/plain": [
       "[Text(0, 0.5, 'Score'),\n",
       " Text(0.5, 0, ''),\n",
       " [Text(0, 0, 'Train'), Text(1, 0, 'Test')],\n",
       " Text(0.5, 1.0, 'Elastic net'),\n",
       " (-1.0, 1.2),\n",
       " [<matplotlib.axis.YTick at 0x12bd84e90>,\n",
       "  <matplotlib.axis.YTick at 0x12c170590>,\n",
       "  <matplotlib.axis.YTick at 0x12fa6ecd0>,\n",
       "  <matplotlib.axis.YTick at 0x12f338310>,\n",
       "  <matplotlib.axis.YTick at 0x12f338850>]]"
      ]
     },
     "execution_count": 190,
     "metadata": {},
     "output_type": "execute_result"
    },
    {
     "data": {
      "image/png": "[encoded data removed]",
      "text/plain": [
       "<Figure size 432x288 with 1 Axes>"
      ]
     },
     "metadata": {
      "needs_background": "light"
     },
     "output_type": "display_data"
    }
   ],
   "source": [
    "df = pd.melt(res.loc[res.model=='all',['score_train', 'score_test']])\n",
    "ax = sns.boxplot(data=df, x='variable',y='value')\n",
    "ax.set_yscale('symlog')\n",
    "ax.set(ylabel='Score', xlabel='',xticklabels=['Train','Test'], title='Elastic net',\n",
    "       ylim=[-1,1.2], yticks=[-1,-0.5,0,0.5,1])"
   ]
  },
  {
   "cell_type": "code",
   "execution_count": 191,
   "metadata": {},
   "outputs": [
    {
     "data": {
      "text/html": [
       "<div>\n",
       "<style scoped>\n",
       "    .dataframe tbody tr th:only-of-type {\n",
       "        vertical-align: middle;\n",
       "    }\n",
       "\n",
       "    .dataframe tbody tr th {\n",
       "        vertical-align: top;\n",
       "    }\n",
       "\n",
       "    .dataframe thead th {\n",
       "        text-align: right;\n",
       "    }\n",
       "</style>\n",
       "<table border=\"1\" class=\"dataframe\">\n",
       "  <thead>\n",
       "    <tr style=\"text-align: right;\">\n",
       "      <th></th>\n",
       "      <th>score_train</th>\n",
       "      <th>score_test</th>\n",
       "    </tr>\n",
       "  </thead>\n",
       "  <tbody>\n",
       "    <tr>\n",
       "      <th>count</th>\n",
       "      <td>583.0</td>\n",
       "      <td>583.000000</td>\n",
       "    </tr>\n",
       "    <tr>\n",
       "      <th>mean</th>\n",
       "      <td>1.0</td>\n",
       "      <td>0.030242</td>\n",
       "    </tr>\n",
       "    <tr>\n",
       "      <th>std</th>\n",
       "      <td>0.0</td>\n",
       "      <td>0.182642</td>\n",
       "    </tr>\n",
       "    <tr>\n",
       "      <th>min</th>\n",
       "      <td>1.0</td>\n",
       "      <td>-0.688894</td>\n",
       "    </tr>\n",
       "    <tr>\n",
       "      <th>25%</th>\n",
       "      <td>1.0</td>\n",
       "      <td>-0.076855</td>\n",
       "    </tr>\n",
       "    <tr>\n",
       "      <th>50%</th>\n",
       "      <td>1.0</td>\n",
       "      <td>0.046777</td>\n",
       "    </tr>\n",
       "    <tr>\n",
       "      <th>75%</th>\n",
       "      <td>1.0</td>\n",
       "      <td>0.149190</td>\n",
       "    </tr>\n",
       "    <tr>\n",
       "      <th>max</th>\n",
       "      <td>1.0</td>\n",
       "      <td>0.643561</td>\n",
       "    </tr>\n",
       "  </tbody>\n",
       "</table>\n",
       "</div>"
      ],
      "text/plain": [
       "       score_train  score_test\n",
       "count        583.0  583.000000\n",
       "mean           1.0    0.030242\n",
       "std            0.0    0.182642\n",
       "min            1.0   -0.688894\n",
       "25%            1.0   -0.076855\n",
       "50%            1.0    0.046777\n",
       "75%            1.0    0.149190\n",
       "max            1.0    0.643561"
      ]
     },
     "execution_count": 191,
     "metadata": {},
     "output_type": "execute_result"
    }
   ],
   "source": [
    "res = pd.read_csv(os.path.join(model_dirs['lm'], 'model_results.csv'))\n",
    "res.loc[res.model=='all',['score_train', 'score_test']].describe()"
   ]
  },
  {
   "cell_type": "code",
   "execution_count": 192,
   "metadata": {},
   "outputs": [
    {
     "data": {
      "text/plain": [
       "[Text(0, 0.5, 'Score'),\n",
       " Text(0.5, 0, ''),\n",
       " [Text(0, 0, 'Train'), Text(1, 0, 'Test')],\n",
       " Text(0.5, 1.0, 'Linear regression'),\n",
       " (-1.0, 1.2),\n",
       " [<matplotlib.axis.YTick at 0x12feb7450>,\n",
       "  <matplotlib.axis.YTick at 0x12fde6050>,\n",
       "  <matplotlib.axis.YTick at 0x12fc6dc10>,\n",
       "  <matplotlib.axis.YTick at 0x12feb4750>,\n",
       "  <matplotlib.axis.YTick at 0x12fea9610>]]"
      ]
     },
     "execution_count": 192,
     "metadata": {},
     "output_type": "execute_result"
    },
    {
     "data": {
      "image/png": "[encoded data removed]",
      "text/plain": [
       "<Figure size 432x288 with 1 Axes>"
      ]
     },
     "metadata": {
      "needs_background": "light"
     },
     "output_type": "display_data"
    }
   ],
   "source": [
    "df = pd.melt(res.loc[res.model=='all',['score_train', 'score_test']])\n",
    "ax = sns.boxplot(data=df, x='variable',y='value')\n",
    "ax.set_yscale('symlog')\n",
    "ax.set(ylabel='Score', xlabel='',xticklabels=['Train','Test'], title='Linear regression', \n",
    "       ylim=[-1,1.2], yticks=[-1,-0.5,0,0.5,1])"
   ]
  },
  {
   "cell_type": "markdown",
   "metadata": {},
   "source": [
    "Although the linear models look ok, but they overfitted quite substantially. Next we'll look at the results after feature selection, so to minimize overfitting on these linear models (the random forests don't overfit so we'll directly look at the test scores)."
   ]
  },
  {
   "cell_type": "markdown",
   "metadata": {},
   "source": [
    "## anlyz"
   ]
  },
  {
   "cell_type": "markdown",
   "metadata": {},
   "source": [
    "aggRes stats_score aggregates the scores, without excluding negative scores\n",
    "\n",
    "feat stats_score aggregates the scores, and excludes negative scores"
   ]
  },
  {
   "cell_type": "code",
   "execution_count": 162,
   "metadata": {},
   "outputs": [],
   "source": [
    "scores_fl = {}\n",
    "scores_rd = {}\n",
    "scores_rd10 = {}\n",
    "for model, model_dir in model_dirs.items():\n",
    "    res = pd.read_csv(os.path.join(model_dir, 'anlyz/stats_score_aggRes/stats_score.csv'), index_col=0)\n",
    "    scores_fl.update({model: res.loc[res.index=='50%', 'full'].values})\n",
    "    scores_rd.update({model: res.loc[res.index=='50%', 'reduced'].values})\n",
    "    scores_rd10.update({model: res.loc[res.index=='50%', 'reduced10feat'].values})\n",
    "\n",
    "scores_fl = pd.DataFrame.from_dict(scores_fl)\n",
    "scores_rd = pd.DataFrame.from_dict(scores_rd)\n",
    "scores_rd10 = pd.DataFrame.from_dict(scores_rd10)"
   ]
  },
  {
   "cell_type": "code",
   "execution_count": 163,
   "metadata": {},
   "outputs": [
    {
     "data": {
      "text/html": [
       "<div>\n",
       "<style scoped>\n",
       "    .dataframe tbody tr th:only-of-type {\n",
       "        vertical-align: middle;\n",
       "    }\n",
       "\n",
       "    .dataframe tbody tr th {\n",
       "        vertical-align: top;\n",
       "    }\n",
       "\n",
       "    .dataframe thead th {\n",
       "        text-align: right;\n",
       "    }\n",
       "</style>\n",
       "<table border=\"1\" class=\"dataframe\">\n",
       "  <thead>\n",
       "    <tr style=\"text-align: right;\">\n",
       "      <th></th>\n",
       "      <th>full</th>\n",
       "      <th>reduced</th>\n",
       "      <th>reduced_top10feat</th>\n",
       "    </tr>\n",
       "  </thead>\n",
       "  <tbody>\n",
       "    <tr>\n",
       "      <th>elasticnet</th>\n",
       "      <td>0.10711</td>\n",
       "      <td>0.10711</td>\n",
       "      <td>0.10011</td>\n",
       "    </tr>\n",
       "    <tr>\n",
       "      <th>lm</th>\n",
       "      <td>0.04678</td>\n",
       "      <td>0.05312</td>\n",
       "      <td>-0.02417</td>\n",
       "    </tr>\n",
       "    <tr>\n",
       "      <th>rf</th>\n",
       "      <td>0.08188</td>\n",
       "      <td>0.10336</td>\n",
       "      <td>0.25855</td>\n",
       "    </tr>\n",
       "    <tr>\n",
       "      <th>rf_boruta</th>\n",
       "      <td>0.08188</td>\n",
       "      <td>0.34822</td>\n",
       "      <td>0.38289</td>\n",
       "    </tr>\n",
       "  </tbody>\n",
       "</table>\n",
       "</div>"
      ],
      "text/plain": [
       "               full  reduced  reduced_top10feat\n",
       "elasticnet  0.10711  0.10711            0.10011\n",
       "lm          0.04678  0.05312           -0.02417\n",
       "rf          0.08188  0.10336            0.25855\n",
       "rf_boruta   0.08188  0.34822            0.38289"
      ]
     },
     "execution_count": 163,
     "metadata": {},
     "output_type": "execute_result"
    }
   ],
   "source": [
    "df = pd.concat([scores_fl, \n",
    "           scores_rd,\n",
    "           scores_rd10], axis=0)\n",
    "df = df.T\n",
    "df.columns = ['full', 'reduced', 'reduced_top10feat']\n",
    "df"
   ]
  },
  {
   "cell_type": "code",
   "execution_count": 170,
   "metadata": {},
   "outputs": [
    {
     "data": {
      "text/plain": [
       "[Text(0, 0.5, 'Score (median)'),\n",
       " Text(0.5, 0, 'Model'),\n",
       " [Text(0, 0, 'elastic net'),\n",
       "  Text(1, 0, 'linear regression'),\n",
       "  Text(2, 0, 'random forest'),\n",
       "  Text(3, 0, 'random forest\\niter select+boruta')],\n",
       " Text(0.5, 1.0, 'Reduced model with top 10 features')]"
      ]
     },
     "execution_count": 170,
     "metadata": {},
     "output_type": "execute_result"
    },
    {
     "data": {
      "image/png": "[encoded data removed]",
      "text/plain": [
       "<Figure size 432x288 with 1 Axes>"
      ]
     },
     "metadata": {
      "needs_background": "light"
     },
     "output_type": "display_data"
    }
   ],
   "source": [
    "xlab_dict = {'elasticnet': 'elastic net',\n",
    "              'lm': 'linear regression', \n",
    "              'rf': 'random forest', \n",
    "              'rf_boruta': 'random forest\\niter select+boruta'}\n",
    "ax = sns.barplot(scores_rd10.columns, scores_rd10.values[0], color='steelblue')\n",
    "ax.set(ylabel='Score (median)', xlabel='Model',xticklabels=[xlab_dict[n] for n in model_dirs.keys()],\n",
    "       title='Reduced model with top 10 features')"
   ]
  },
  {
   "cell_type": "markdown",
   "metadata": {},
   "source": [
    "## anlyz_filtered"
   ]
  },
  {
   "cell_type": "code",
   "execution_count": 12,
   "metadata": {},
   "outputs": [],
   "source": [
    "scores_fl = {}\n",
    "scores_rd = {}\n",
    "scores_rd10 = {}\n",
    "for model, model_dir in model_dirs.items():\n",
    "    res = pd.read_csv(os.path.join(model_dir, 'anlyz_filtered/stats_score_aggRes/stats_score.csv'), index_col=0)\n",
    "    scores_fl.update({model: res.loc[res.index=='mean', 'full'].values})\n",
    "    scores_rd.update({model: res.loc[res.index=='mean', 'reduced'].values})\n",
    "    scores_rd10.update({model: res.loc[res.index=='mean', 'reduced10feat'].values})\n",
    "\n",
    "scores_fl = pd.DataFrame.from_dict(scores_fl)\n",
    "scores_rd = pd.DataFrame.from_dict(scores_rd)\n",
    "scores_rd10 = pd.DataFrame.from_dict(scores_rd10)"
   ]
  },
  {
   "cell_type": "code",
   "execution_count": 13,
   "metadata": {},
   "outputs": [
    {
     "data": {
      "text/html": [
       "<div>\n",
       "<style scoped>\n",
       "    .dataframe tbody tr th:only-of-type {\n",
       "        vertical-align: middle;\n",
       "    }\n",
       "\n",
       "    .dataframe tbody tr th {\n",
       "        vertical-align: top;\n",
       "    }\n",
       "\n",
       "    .dataframe thead th {\n",
       "        text-align: right;\n",
       "    }\n",
       "</style>\n",
       "<table border=\"1\" class=\"dataframe\">\n",
       "  <thead>\n",
       "    <tr style=\"text-align: right;\">\n",
       "      <th></th>\n",
       "      <th>full</th>\n",
       "      <th>reduced</th>\n",
       "      <th>reduced_top10feat</th>\n",
       "    </tr>\n",
       "  </thead>\n",
       "  <tbody>\n",
       "    <tr>\n",
       "      <th>elasticNet</th>\n",
       "      <td>0.251047</td>\n",
       "      <td>0.251049</td>\n",
       "      <td>0.247983</td>\n",
       "    </tr>\n",
       "    <tr>\n",
       "      <th>lm</th>\n",
       "      <td>0.066277</td>\n",
       "      <td>0.074152</td>\n",
       "      <td>0.454841</td>\n",
       "    </tr>\n",
       "    <tr>\n",
       "      <th>rf</th>\n",
       "      <td>0.098717</td>\n",
       "      <td>0.132054</td>\n",
       "      <td>0.379765</td>\n",
       "    </tr>\n",
       "    <tr>\n",
       "      <th>rf_boruta</th>\n",
       "      <td>0.090035</td>\n",
       "      <td>0.382149</td>\n",
       "      <td>0.424561</td>\n",
       "    </tr>\n",
       "  </tbody>\n",
       "</table>\n",
       "</div>"
      ],
      "text/plain": [
       "                full   reduced  reduced_top10feat\n",
       "elasticNet  0.251047  0.251049           0.247983\n",
       "lm          0.066277  0.074152           0.454841\n",
       "rf          0.098717  0.132054           0.379765\n",
       "rf_boruta   0.090035  0.382149           0.424561"
      ]
     },
     "execution_count": 13,
     "metadata": {},
     "output_type": "execute_result"
    }
   ],
   "source": [
    "df = pd.concat([scores_fl.mean(), \n",
    "           scores_rd.mean(),\n",
    "           scores_rd10.mean()], axis=1)\n",
    "df.columns = ['full', 'reduced', 'reduced_top10feat']\n",
    "df"
   ]
  },
  {
   "cell_type": "markdown",
   "metadata": {},
   "source": [
    "Better to use anlyz, as anlyz_filtered applies filtering to the results, and the final list would be different among the different models"
   ]
  },
  {
   "cell_type": "code",
   "execution_count": null,
   "metadata": {},
   "outputs": [],
   "source": []
  }
 ],
 "metadata": {
  "kernelspec": {
   "display_name": "Python 3",
   "language": "python",
   "name": "python3"
  },
  "language_info": {
   "codemirror_mode": {
    "name": "ipython",
    "version": 3
   },
   "file_extension": ".py",
   "mimetype": "text/x-python",
   "name": "python",
   "nbconvert_exporter": "python",
   "pygments_lexer": "ipython3",
   "version": "3.7.7"
  },
  "toc": {
   "base_numbering": 1,
   "nav_menu": {},
   "number_sections": true,
   "sideBar": true,
   "skip_h1_title": false,
   "title_cell": "Table of Contents",
   "title_sidebar": "Contents",
   "toc_cell": false,
   "toc_position": {},
   "toc_section_display": true,
   "toc_window_display": true
  }
 },
 "nbformat": 4,
 "nbformat_minor": 4
}
