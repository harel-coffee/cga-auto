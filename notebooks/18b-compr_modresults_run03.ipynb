{
 "cells": [
  {
   "cell_type": "code",
   "execution_count": 1,
   "metadata": {},
   "outputs": [],
   "source": [
    "import os\n",
    "import pandas as pd\n",
    "import pickle"
   ]
  },
  {
   "cell_type": "code",
   "execution_count": 2,
   "metadata": {},
   "outputs": [],
   "source": [
    "#!pip install plotly\n",
    "#pd.options.plotting.backend = \"plotly\""
   ]
  },
  {
   "cell_type": "code",
   "execution_count": 3,
   "metadata": {},
   "outputs": [],
   "source": [
    "dir_run03 = '../out/20.0819 modcompr/'"
   ]
  },
  {
   "cell_type": "code",
   "execution_count": 4,
   "metadata": {},
   "outputs": [],
   "source": [
    "model_dirs = {'elasticNet': '../out/20.0819 modcompr/reg_elasticNet_infer/',\n",
    "              'lm': '../out/20.0819 modcompr/reg_lm_infer/', \n",
    "              'rf': '../out/20.0819 modcompr/reg_rf_infer/', \n",
    "              'rf_boruta': '../out/20.0216 feat/reg_rf_boruta'\n",
    "             }"
   ]
  },
  {
   "cell_type": "markdown",
   "metadata": {},
   "source": [
    "### model results"
   ]
  },
  {
   "cell_type": "code",
   "execution_count": 5,
   "metadata": {},
   "outputs": [],
   "source": [
    "scores = {}\n",
    "for model, model_dir in model_dirs.items():\n",
    "    res = pd.read_csv(os.path.join(model_dir, 'model_results.csv'))\n",
    "    scores.update({model: res.loc[res.model=='all','score_test'].values})\n",
    "\n",
    "scores = pd.DataFrame.from_dict(scores)"
   ]
  },
  {
   "cell_type": "code",
   "execution_count": 6,
   "metadata": {},
   "outputs": [
    {
     "data": {
      "text/plain": [
       "elasticNet    0.137925\n",
       "lm            0.030242\n",
       "rf            0.086768\n",
       "rf_boruta     0.086768\n",
       "dtype: float64"
      ]
     },
     "execution_count": 6,
     "metadata": {},
     "output_type": "execute_result"
    }
   ],
   "source": [
    "scores.mean(axis=0)"
   ]
  },
  {
   "cell_type": "code",
   "execution_count": 7,
   "metadata": {},
   "outputs": [
    {
     "data": {
      "text/plain": [
       "<AxesSubplot:>"
      ]
     },
     "execution_count": 7,
     "metadata": {},
     "output_type": "execute_result"
    },
    {
     "data": {
      "image/png": "[encoded data removed]",
      "text/plain": [
       "<Figure size 432x288 with 1 Axes>"
      ]
     },
     "metadata": {
      "needs_background": "light"
     },
     "output_type": "display_data"
    }
   ],
   "source": [
    "scores.boxplot()"
   ]
  },
  {
   "cell_type": "code",
   "execution_count": 8,
   "metadata": {},
   "outputs": [
    {
     "data": {
      "text/html": [
       "<div>\n",
       "<style scoped>\n",
       "    .dataframe tbody tr th:only-of-type {\n",
       "        vertical-align: middle;\n",
       "    }\n",
       "\n",
       "    .dataframe tbody tr th {\n",
       "        vertical-align: top;\n",
       "    }\n",
       "\n",
       "    .dataframe thead th {\n",
       "        text-align: right;\n",
       "    }\n",
       "</style>\n",
       "<table border=\"1\" class=\"dataframe\">\n",
       "  <thead>\n",
       "    <tr style=\"text-align: right;\">\n",
       "      <th></th>\n",
       "      <th>score_train</th>\n",
       "      <th>score_test</th>\n",
       "    </tr>\n",
       "  </thead>\n",
       "  <tbody>\n",
       "    <tr>\n",
       "      <th>count</th>\n",
       "      <td>583.000000</td>\n",
       "      <td>583.000000</td>\n",
       "    </tr>\n",
       "    <tr>\n",
       "      <th>mean</th>\n",
       "      <td>0.222645</td>\n",
       "      <td>0.137925</td>\n",
       "    </tr>\n",
       "    <tr>\n",
       "      <th>std</th>\n",
       "      <td>0.148122</td>\n",
       "      <td>0.187106</td>\n",
       "    </tr>\n",
       "    <tr>\n",
       "      <th>min</th>\n",
       "      <td>0.000000</td>\n",
       "      <td>-2.455304</td>\n",
       "    </tr>\n",
       "    <tr>\n",
       "      <th>25%</th>\n",
       "      <td>0.110866</td>\n",
       "      <td>0.036640</td>\n",
       "    </tr>\n",
       "    <tr>\n",
       "      <th>50%</th>\n",
       "      <td>0.186384</td>\n",
       "      <td>0.106759</td>\n",
       "    </tr>\n",
       "    <tr>\n",
       "      <th>75%</th>\n",
       "      <td>0.311160</td>\n",
       "      <td>0.221161</td>\n",
       "    </tr>\n",
       "    <tr>\n",
       "      <th>max</th>\n",
       "      <td>0.764792</td>\n",
       "      <td>0.761665</td>\n",
       "    </tr>\n",
       "  </tbody>\n",
       "</table>\n",
       "</div>"
      ],
      "text/plain": [
       "       score_train  score_test\n",
       "count   583.000000  583.000000\n",
       "mean      0.222645    0.137925\n",
       "std       0.148122    0.187106\n",
       "min       0.000000   -2.455304\n",
       "25%       0.110866    0.036640\n",
       "50%       0.186384    0.106759\n",
       "75%       0.311160    0.221161\n",
       "max       0.764792    0.761665"
      ]
     },
     "execution_count": 8,
     "metadata": {},
     "output_type": "execute_result"
    }
   ],
   "source": [
    "res = pd.read_csv(os.path.join(model_dirs['elasticNet'], 'model_results.csv'))\n",
    "res.loc[res.model=='all',['score_train', 'score_test']].describe()"
   ]
  },
  {
   "cell_type": "code",
   "execution_count": 9,
   "metadata": {},
   "outputs": [
    {
     "data": {
      "text/html": [
       "<div>\n",
       "<style scoped>\n",
       "    .dataframe tbody tr th:only-of-type {\n",
       "        vertical-align: middle;\n",
       "    }\n",
       "\n",
       "    .dataframe tbody tr th {\n",
       "        vertical-align: top;\n",
       "    }\n",
       "\n",
       "    .dataframe thead th {\n",
       "        text-align: right;\n",
       "    }\n",
       "</style>\n",
       "<table border=\"1\" class=\"dataframe\">\n",
       "  <thead>\n",
       "    <tr style=\"text-align: right;\">\n",
       "      <th></th>\n",
       "      <th>score_train</th>\n",
       "      <th>score_test</th>\n",
       "    </tr>\n",
       "  </thead>\n",
       "  <tbody>\n",
       "    <tr>\n",
       "      <th>count</th>\n",
       "      <td>583.0</td>\n",
       "      <td>583.000000</td>\n",
       "    </tr>\n",
       "    <tr>\n",
       "      <th>mean</th>\n",
       "      <td>1.0</td>\n",
       "      <td>0.030242</td>\n",
       "    </tr>\n",
       "    <tr>\n",
       "      <th>std</th>\n",
       "      <td>0.0</td>\n",
       "      <td>0.182642</td>\n",
       "    </tr>\n",
       "    <tr>\n",
       "      <th>min</th>\n",
       "      <td>1.0</td>\n",
       "      <td>-0.688894</td>\n",
       "    </tr>\n",
       "    <tr>\n",
       "      <th>25%</th>\n",
       "      <td>1.0</td>\n",
       "      <td>-0.076855</td>\n",
       "    </tr>\n",
       "    <tr>\n",
       "      <th>50%</th>\n",
       "      <td>1.0</td>\n",
       "      <td>0.046777</td>\n",
       "    </tr>\n",
       "    <tr>\n",
       "      <th>75%</th>\n",
       "      <td>1.0</td>\n",
       "      <td>0.149190</td>\n",
       "    </tr>\n",
       "    <tr>\n",
       "      <th>max</th>\n",
       "      <td>1.0</td>\n",
       "      <td>0.643561</td>\n",
       "    </tr>\n",
       "  </tbody>\n",
       "</table>\n",
       "</div>"
      ],
      "text/plain": [
       "       score_train  score_test\n",
       "count        583.0  583.000000\n",
       "mean           1.0    0.030242\n",
       "std            0.0    0.182642\n",
       "min            1.0   -0.688894\n",
       "25%            1.0   -0.076855\n",
       "50%            1.0    0.046777\n",
       "75%            1.0    0.149190\n",
       "max            1.0    0.643561"
      ]
     },
     "execution_count": 9,
     "metadata": {},
     "output_type": "execute_result"
    }
   ],
   "source": [
    "res = pd.read_csv(os.path.join(model_dirs['lm'], 'model_results.csv'))\n",
    "res.loc[res.model=='all',['score_train', 'score_test']].describe()"
   ]
  },
  {
   "cell_type": "markdown",
   "metadata": {},
   "source": [
    "Although the linear models look ok, but they overfitted quite substantially. Next we'll look at the results after feature selection, so to minimize overfitting on these linear models (the random forests don't overfit so we'll directly look at the test scores)."
   ]
  },
  {
   "cell_type": "markdown",
   "metadata": {},
   "source": [
    "### anlyz"
   ]
  },
  {
   "cell_type": "markdown",
   "metadata": {},
   "source": [
    "aggRes stats_score aggregates the scores, without excluding negative scores\n",
    "\n",
    "feat stats_score aggregates the scores, and excludes negative scores"
   ]
  },
  {
   "cell_type": "code",
   "execution_count": 10,
   "metadata": {},
   "outputs": [],
   "source": [
    "scores_fl = {}\n",
    "scores_rd = {}\n",
    "scores_rd10 = {}\n",
    "for model, model_dir in model_dirs.items():\n",
    "    res = pd.read_csv(os.path.join(model_dir, 'anlyz/stats_score_aggRes/stats_score.csv'), index_col=0)\n",
    "    scores_fl.update({model: res.loc[res.index=='mean', 'full'].values})\n",
    "    scores_rd.update({model: res.loc[res.index=='mean', 'reduced'].values})\n",
    "    scores_rd10.update({model: res.loc[res.index=='mean', 'reduced10feat'].values})\n",
    "\n",
    "scores_fl = pd.DataFrame.from_dict(scores_fl)\n",
    "scores_rd = pd.DataFrame.from_dict(scores_rd)\n",
    "scores_rd10 = pd.DataFrame.from_dict(scores_rd10)"
   ]
  },
  {
   "cell_type": "code",
   "execution_count": 11,
   "metadata": {},
   "outputs": [
    {
     "data": {
      "text/html": [
       "<div>\n",
       "<style scoped>\n",
       "    .dataframe tbody tr th:only-of-type {\n",
       "        vertical-align: middle;\n",
       "    }\n",
       "\n",
       "    .dataframe tbody tr th {\n",
       "        vertical-align: top;\n",
       "    }\n",
       "\n",
       "    .dataframe thead th {\n",
       "        text-align: right;\n",
       "    }\n",
       "</style>\n",
       "<table border=\"1\" class=\"dataframe\">\n",
       "  <thead>\n",
       "    <tr style=\"text-align: right;\">\n",
       "      <th></th>\n",
       "      <th>full</th>\n",
       "      <th>reduced</th>\n",
       "      <th>reduced_top10feat</th>\n",
       "    </tr>\n",
       "  </thead>\n",
       "  <tbody>\n",
       "    <tr>\n",
       "      <th>elasticNet</th>\n",
       "      <td>0.138418</td>\n",
       "      <td>0.138419</td>\n",
       "      <td>0.132926</td>\n",
       "    </tr>\n",
       "    <tr>\n",
       "      <th>lm</th>\n",
       "      <td>0.030242</td>\n",
       "      <td>0.037119</td>\n",
       "      <td>-0.071210</td>\n",
       "    </tr>\n",
       "    <tr>\n",
       "      <th>rf</th>\n",
       "      <td>0.086768</td>\n",
       "      <td>0.115086</td>\n",
       "      <td>0.285333</td>\n",
       "    </tr>\n",
       "    <tr>\n",
       "      <th>rf_boruta</th>\n",
       "      <td>0.086768</td>\n",
       "      <td>0.359706</td>\n",
       "      <td>0.389821</td>\n",
       "    </tr>\n",
       "  </tbody>\n",
       "</table>\n",
       "</div>"
      ],
      "text/plain": [
       "                full   reduced  reduced_top10feat\n",
       "elasticNet  0.138418  0.138419           0.132926\n",
       "lm          0.030242  0.037119          -0.071210\n",
       "rf          0.086768  0.115086           0.285333\n",
       "rf_boruta   0.086768  0.359706           0.389821"
      ]
     },
     "execution_count": 11,
     "metadata": {},
     "output_type": "execute_result"
    }
   ],
   "source": [
    "df = pd.concat([scores_fl.mean(), \n",
    "           scores_rd.mean(),\n",
    "           scores_rd10.mean()], axis=1)\n",
    "df.columns = ['full', 'reduced', 'reduced_top10feat']\n",
    "df"
   ]
  },
  {
   "cell_type": "markdown",
   "metadata": {},
   "source": [
    "### anlyz_filtered"
   ]
  },
  {
   "cell_type": "code",
   "execution_count": 12,
   "metadata": {},
   "outputs": [],
   "source": [
    "scores_fl = {}\n",
    "scores_rd = {}\n",
    "scores_rd10 = {}\n",
    "for model, model_dir in model_dirs.items():\n",
    "    res = pd.read_csv(os.path.join(model_dir, 'anlyz_filtered/stats_score_aggRes/stats_score.csv'), index_col=0)\n",
    "    scores_fl.update({model: res.loc[res.index=='mean', 'full'].values})\n",
    "    scores_rd.update({model: res.loc[res.index=='mean', 'reduced'].values})\n",
    "    scores_rd10.update({model: res.loc[res.index=='mean', 'reduced10feat'].values})\n",
    "\n",
    "scores_fl = pd.DataFrame.from_dict(scores_fl)\n",
    "scores_rd = pd.DataFrame.from_dict(scores_rd)\n",
    "scores_rd10 = pd.DataFrame.from_dict(scores_rd10)"
   ]
  },
  {
   "cell_type": "code",
   "execution_count": 13,
   "metadata": {},
   "outputs": [
    {
     "data": {
      "text/html": [
       "<div>\n",
       "<style scoped>\n",
       "    .dataframe tbody tr th:only-of-type {\n",
       "        vertical-align: middle;\n",
       "    }\n",
       "\n",
       "    .dataframe tbody tr th {\n",
       "        vertical-align: top;\n",
       "    }\n",
       "\n",
       "    .dataframe thead th {\n",
       "        text-align: right;\n",
       "    }\n",
       "</style>\n",
       "<table border=\"1\" class=\"dataframe\">\n",
       "  <thead>\n",
       "    <tr style=\"text-align: right;\">\n",
       "      <th></th>\n",
       "      <th>full</th>\n",
       "      <th>reduced</th>\n",
       "      <th>reduced_top10feat</th>\n",
       "    </tr>\n",
       "  </thead>\n",
       "  <tbody>\n",
       "    <tr>\n",
       "      <th>elasticNet</th>\n",
       "      <td>0.251047</td>\n",
       "      <td>0.251049</td>\n",
       "      <td>0.247983</td>\n",
       "    </tr>\n",
       "    <tr>\n",
       "      <th>lm</th>\n",
       "      <td>0.066277</td>\n",
       "      <td>0.074152</td>\n",
       "      <td>0.454841</td>\n",
       "    </tr>\n",
       "    <tr>\n",
       "      <th>rf</th>\n",
       "      <td>0.098717</td>\n",
       "      <td>0.132054</td>\n",
       "      <td>0.379765</td>\n",
       "    </tr>\n",
       "    <tr>\n",
       "      <th>rf_boruta</th>\n",
       "      <td>0.090035</td>\n",
       "      <td>0.382149</td>\n",
       "      <td>0.424561</td>\n",
       "    </tr>\n",
       "  </tbody>\n",
       "</table>\n",
       "</div>"
      ],
      "text/plain": [
       "                full   reduced  reduced_top10feat\n",
       "elasticNet  0.251047  0.251049           0.247983\n",
       "lm          0.066277  0.074152           0.454841\n",
       "rf          0.098717  0.132054           0.379765\n",
       "rf_boruta   0.090035  0.382149           0.424561"
      ]
     },
     "execution_count": 13,
     "metadata": {},
     "output_type": "execute_result"
    }
   ],
   "source": [
    "df = pd.concat([scores_fl.mean(), \n",
    "           scores_rd.mean(),\n",
    "           scores_rd10.mean()], axis=1)\n",
    "df.columns = ['full', 'reduced', 'reduced_top10feat']\n",
    "df"
   ]
  },
  {
   "cell_type": "markdown",
   "metadata": {},
   "source": [
    "Better to use anlyz, as anlyz_filtered applies filtering to the results, and the final list would be different among the different models"
   ]
  },
  {
   "cell_type": "code",
   "execution_count": null,
   "metadata": {},
   "outputs": [],
   "source": []
  }
 ],
 "metadata": {
  "kernelspec": {
   "display_name": "Python 3",
   "language": "python",
   "name": "python3"
  },
  "language_info": {
   "codemirror_mode": {
    "name": "ipython",
    "version": 3
   },
   "file_extension": ".py",
   "mimetype": "text/x-python",
   "name": "python",
   "nbconvert_exporter": "python",
   "pygments_lexer": "ipython3",
   "version": "3.7.7"
  },
  "toc": {
   "base_numbering": 1,
   "nav_menu": {},
   "number_sections": true,
   "sideBar": true,
   "skip_h1_title": false,
   "title_cell": "Table of Contents",
   "title_sidebar": "Contents",
   "toc_cell": false,
   "toc_position": {},
   "toc_section_display": true,
   "toc_window_display": true
  }
 },
 "nbformat": 4,
 "nbformat_minor": 4
}
