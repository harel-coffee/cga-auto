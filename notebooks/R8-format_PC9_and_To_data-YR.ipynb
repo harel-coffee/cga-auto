{
 "cells": [
  {
   "cell_type": "code",
   "execution_count": 41,
   "metadata": {},
   "outputs": [],
   "source": [
    "### This is a simple script formatting the PC9 data to data preprocessing\n",
    "# Author: Yiyun\n",
    "import pandas as pd\n",
    "import os\n",
    "import shutil"
   ]
  },
  {
   "cell_type": "markdown",
   "metadata": {},
   "source": [
    "***\n",
    "### Drop PC9 in 19Q3"
   ]
  },
  {
   "cell_type": "code",
   "execution_count": null,
   "metadata": {},
   "outputs": [],
   "source": [
    "### q3 and q4 input and output folder path\n",
    "q3_dir = '../data/DepMap/19Q3'\n",
    "q4_dir = '../data/DepMap/19Q4'\n",
    "\n",
    "out_q3_dir = '../data/DepMap_DROP_PC9/19Q3'\n",
    "out_q4_dir = '../data/DepMap_DROP_PC9/19Q4'\n",
    "if not os.path.exists(out_q3_dir):\n",
    "    shutil.copytree(q3_dir,out_q3_dir)\n",
    "if not os.path.exists(out_q4_dir):\n",
    "    shutil.copytree(q4_dir,out_q4_dir)"
   ]
  },
  {
   "cell_type": "code",
   "execution_count": null,
   "metadata": {},
   "outputs": [],
   "source": [
    "# Read 19Q3 and 19Q4 file, use column names as reference for genes \n",
    "df_ref19q3 = pd.read_csv(os.path.join(q3_dir,'Achilles_gene_effect.csv'), index_col = 0)\n",
    "df_ref19q4 = pd.read_csv(os.path.join(q4_dir,'Achilles_gene_effect.csv'), index_col = 0)"
   ]
  },
  {
   "cell_type": "code",
   "execution_count": null,
   "metadata": {},
   "outputs": [],
   "source": [
    "# Delete PC9 data from gene effect file\n",
    "df_ref19q3_m = df_ref19q3.drop(['ACH-000030'])\n",
    "df_ref19q4_m = df_ref19q4.drop(['ACH-000030'])"
   ]
  },
  {
   "cell_type": "code",
   "execution_count": null,
   "metadata": {},
   "outputs": [],
   "source": [
    "# Save file\n",
    "# df_ref19q3_m.to_csv(os.path.join(out_q3_dir,'Achilles_gene_effect.csv'), sep = ',')\n",
    "# df_ref19q4_m.to_csv(os.path.join(out_q4_dir,'Achilles_gene_effect.csv'), sep = ',')"
   ]
  },
  {
   "cell_type": "markdown",
   "metadata": {},
   "source": [
    "***\n",
    "### Format PC9 and To data as q3 input"
   ]
  },
  {
   "cell_type": "code",
   "execution_count": 27,
   "metadata": {},
   "outputs": [],
   "source": [
    "### Read files\n",
    "# Need to read 19Q3 files for mapping the gene name + gene code\n",
    "q3_dir = '../data/DepMap/19Q3'\n",
    "q4_dir = '../data/DepMap/19Q4'\n",
    "pc9_dir = '../data/DepMap_DROP_PC9/PC9_corrected'\n",
    "to_dir = '../data/DepMap/To'\n",
    "\n",
    "df_ref19q3 = pd.read_csv(os.path.join(q3_dir,'Achilles_gene_effect.csv'), index_col = 0)\n",
    "df_pc9 = pd.read_csv(os.path.join(pc9_dir,'BatchCorrectedPritchard.csv'), index_col = 0)\n",
    "df_to = pd.read_csv(os.path.join(to_dir,'ToCellCERES.csv'), index_col = 0)"
   ]
  },
  {
   "cell_type": "code",
   "execution_count": 28,
   "metadata": {},
   "outputs": [],
   "source": [
    "### Assign random cell line names and transpose the dataframe to let columns be genes\n",
    "df_pc9.columns = ['ACH-000113'] # Assign a random ID for PC9\n",
    "df_pc9= df_pc9.T\n",
    "df_to.columns = ['ACH-000113','ACH-000067','ACH-000070','ACH-000075',\\\n",
    "                 'ACH-000108','ACH-000228','ACH-000233','ACH-000414']\n",
    "df_to= df_to.T"
   ]
  },
  {
   "cell_type": "code",
   "execution_count": 29,
   "metadata": {},
   "outputs": [],
   "source": [
    "### Map 19q3 column names to PC9 and To data\n",
    "# Create dictionary for gene names and id in 19Q3 file\n",
    "dict_code = {}\n",
    "for i in range(0, len(df_ref19q3.T)):\n",
    "    name,idx = df_ref19q3.columns[i].split(' ')[0:2]\n",
    "    if name not in dict_code:\n",
    "        dict_code[name] = idx\n",
    "\n",
    "# Map gene in PC9 and To data\n",
    "def map_gene_names(df):\n",
    "    global dict_code\n",
    "    for names in df.columns:\n",
    "        if names in dict_code:\n",
    "            new_name = names + ' ' + dict_code[names]\n",
    "            df.rename(columns = {names:new_name}, inplace = True)\n",
    "        else:\n",
    "            df = df.drop(columns=[names])\n",
    "    \n",
    "    df = df.dropna(axis = 1)\n",
    "    return df\n",
    "\n",
    "df_pc9 = map_gene_names(df_pc9)\n",
    "df_to = map_gene_names(df_to)"
   ]
  },
  {
   "cell_type": "code",
   "execution_count": 9,
   "metadata": {},
   "outputs": [],
   "source": [
    "# df_pc9.to_csv(os.path.join(pc9_dir,'gene_effect.csv'), sep = ',')\n",
    "# df_to.to_csv(os.path.join(to_dir,'gene_effect.csv'), sep = ',')"
   ]
  }
 ],
 "metadata": {
  "kernelspec": {
   "display_name": "Python 3",
   "language": "python",
   "name": "python3"
  },
  "language_info": {
   "codemirror_mode": {
    "name": "ipython",
    "version": 3
   },
   "file_extension": ".py",
   "mimetype": "text/x-python",
   "name": "python",
   "nbconvert_exporter": "python",
   "pygments_lexer": "ipython3",
   "version": "3.7.9"
  }
 },
 "nbformat": 4,
 "nbformat_minor": 4
}
