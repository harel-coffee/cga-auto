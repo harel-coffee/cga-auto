{
 "cells": [
  {
   "cell_type": "code",
   "execution_count": 1,
   "metadata": {},
   "outputs": [],
   "source": [
    "import pandas as pd"
   ]
  },
  {
   "cell_type": "code",
   "execution_count": 120,
   "metadata": {},
   "outputs": [],
   "source": [
    "Qx = '19Q3'\n",
    "data_dir = '../data/DepMap/'+Qx\n",
    "fname_sg_efficacy = 'Achilles_guide_efficacy.csv'\n",
    "fname_sg = 'Achilles_guide_map.csv'\n",
    "fname_sg_dropped = 'Achilles_dropped_guides.csv'"
   ]
  },
  {
   "cell_type": "code",
   "execution_count": 117,
   "metadata": {},
   "outputs": [],
   "source": [
    "df_sg = pd.read_csv(f\"{data_dir}/{fname_sg}\")\n",
    "df_sg_dropped = pd.read_csv(f\"{data_dir}/{fname_sg_dropped}\")\n",
    "df_sg_efficacy = pd.read_csv(f\"{data_dir}/{fname_sg_efficacy}\")\n",
    "df_sg_efficacy.columns = ['sgrna', 'offset', 'efficacy']\n",
    "df_sg_merged = df_sg.merge(df_sg_efficacy)"
   ]
  },
  {
   "cell_type": "code",
   "execution_count": 118,
   "metadata": {},
   "outputs": [],
   "source": [
    "Lx = pd.read_csv('../out/19.1013 tight cluster/landmarks_n200_k200.csv')"
   ]
  },
  {
   "cell_type": "code",
   "execution_count": 119,
   "metadata": {},
   "outputs": [
    {
     "data": {
      "text/html": [
       "<div>\n",
       "<style scoped>\n",
       "    .dataframe tbody tr th:only-of-type {\n",
       "        vertical-align: middle;\n",
       "    }\n",
       "\n",
       "    .dataframe tbody tr th {\n",
       "        vertical-align: top;\n",
       "    }\n",
       "\n",
       "    .dataframe thead th {\n",
       "        text-align: right;\n",
       "    }\n",
       "</style>\n",
       "<table border=\"1\" class=\"dataframe\">\n",
       "  <thead>\n",
       "    <tr style=\"text-align: right;\">\n",
       "      <th></th>\n",
       "      <th>sgrna</th>\n",
       "      <th>genome_alignment</th>\n",
       "      <th>gene</th>\n",
       "      <th>n_alignments</th>\n",
       "      <th>offset</th>\n",
       "      <th>efficacy</th>\n",
       "    </tr>\n",
       "  </thead>\n",
       "  <tbody>\n",
       "    <tr>\n",
       "      <th>0</th>\n",
       "      <td>AAAAAAATCCAGCAATGCAG</td>\n",
       "      <td>chr10_110964620_+</td>\n",
       "      <td>SHOC2 (8036)</td>\n",
       "      <td>1</td>\n",
       "      <td>-0.056751</td>\n",
       "      <td>0.999947</td>\n",
       "    </tr>\n",
       "    <tr>\n",
       "      <th>1</th>\n",
       "      <td>AAAAAACCCGTAGATAGCCT</td>\n",
       "      <td>chr12_95003615_+</td>\n",
       "      <td>NDUFA12 (55967)</td>\n",
       "      <td>1</td>\n",
       "      <td>-0.902062</td>\n",
       "      <td>0.100587</td>\n",
       "    </tr>\n",
       "    <tr>\n",
       "      <th>2</th>\n",
       "      <td>AAAAAAGAAGAAAAAACCAG</td>\n",
       "      <td>chr4_75970356_-</td>\n",
       "      <td>SDAD1 (55153)</td>\n",
       "      <td>1</td>\n",
       "      <td>0.448068</td>\n",
       "      <td>0.999881</td>\n",
       "    </tr>\n",
       "  </tbody>\n",
       "</table>\n",
       "</div>"
      ],
      "text/plain": [
       "                  sgrna   genome_alignment             gene  n_alignments  \\\n",
       "0  AAAAAAATCCAGCAATGCAG  chr10_110964620_+     SHOC2 (8036)             1   \n",
       "1  AAAAAACCCGTAGATAGCCT   chr12_95003615_+  NDUFA12 (55967)             1   \n",
       "2  AAAAAAGAAGAAAAAACCAG    chr4_75970356_-    SDAD1 (55153)             1   \n",
       "\n",
       "     offset  efficacy  \n",
       "0 -0.056751  0.999947  \n",
       "1 -0.902062  0.100587  \n",
       "2  0.448068  0.999881  "
      ]
     },
     "execution_count": 119,
     "metadata": {},
     "output_type": "execute_result"
    }
   ],
   "source": [
    "df_sg_merged.head(3)"
   ]
  },
  {
   "cell_type": "code",
   "execution_count": 109,
   "metadata": {},
   "outputs": [],
   "source": [
    "df_sel = df_sg_merged[df_sg_merged.gene.isin(Lx.landmark)]"
   ]
  },
  {
   "cell_type": "code",
   "execution_count": 110,
   "metadata": {},
   "outputs": [
    {
     "data": {
      "text/html": [
       "<div>\n",
       "<style scoped>\n",
       "    .dataframe tbody tr th:only-of-type {\n",
       "        vertical-align: middle;\n",
       "    }\n",
       "\n",
       "    .dataframe tbody tr th {\n",
       "        vertical-align: top;\n",
       "    }\n",
       "\n",
       "    .dataframe thead th {\n",
       "        text-align: right;\n",
       "    }\n",
       "</style>\n",
       "<table border=\"1\" class=\"dataframe\">\n",
       "  <thead>\n",
       "    <tr style=\"text-align: right;\">\n",
       "      <th></th>\n",
       "      <th>sgrna</th>\n",
       "      <th>genome_alignment</th>\n",
       "      <th>gene</th>\n",
       "      <th>n_alignments</th>\n",
       "      <th>offset</th>\n",
       "      <th>efficacy</th>\n",
       "    </tr>\n",
       "  </thead>\n",
       "  <tbody>\n",
       "    <tr>\n",
       "      <th>38</th>\n",
       "      <td>AAAAGAATAAGAAGAAAACG</td>\n",
       "      <td>chr8_145052807_+</td>\n",
       "      <td>C8orf33 (65265)</td>\n",
       "      <td>1</td>\n",
       "      <td>-0.501050</td>\n",
       "      <td>0.785264</td>\n",
       "    </tr>\n",
       "    <tr>\n",
       "      <th>172</th>\n",
       "      <td>AAAGAGATAGCAGTGAACCA</td>\n",
       "      <td>chr3_48177958_-</td>\n",
       "      <td>CDC25A (993)</td>\n",
       "      <td>1</td>\n",
       "      <td>0.250569</td>\n",
       "      <td>0.999868</td>\n",
       "    </tr>\n",
       "    <tr>\n",
       "      <th>262</th>\n",
       "      <td>AAATAGCTACGGTGAACCCG</td>\n",
       "      <td>chr12_32722527_+</td>\n",
       "      <td>DNM1L (10059)</td>\n",
       "      <td>1</td>\n",
       "      <td>0.234568</td>\n",
       "      <td>0.992162</td>\n",
       "    </tr>\n",
       "  </tbody>\n",
       "</table>\n",
       "</div>"
      ],
      "text/plain": [
       "                    sgrna  genome_alignment             gene  n_alignments  \\\n",
       "38   AAAAGAATAAGAAGAAAACG  chr8_145052807_+  C8orf33 (65265)             1   \n",
       "172  AAAGAGATAGCAGTGAACCA   chr3_48177958_-     CDC25A (993)             1   \n",
       "262  AAATAGCTACGGTGAACCCG  chr12_32722527_+    DNM1L (10059)             1   \n",
       "\n",
       "       offset  efficacy  \n",
       "38  -0.501050  0.785264  \n",
       "172  0.250569  0.999868  \n",
       "262  0.234568  0.992162  "
      ]
     },
     "execution_count": 110,
     "metadata": {},
     "output_type": "execute_result"
    }
   ],
   "source": [
    "df_sel.head(3)"
   ]
  },
  {
   "cell_type": "code",
   "execution_count": 115,
   "metadata": {},
   "outputs": [],
   "source": [
    "df_sel.to_csv(f'../out/21.018 sgRNAs/guides_L200_{Qx}.csv')"
   ]
  },
  {
   "cell_type": "code",
   "execution_count": 112,
   "metadata": {},
   "outputs": [
    {
     "data": {
      "text/plain": [
       "194"
      ]
     },
     "execution_count": 112,
     "metadata": {},
     "output_type": "execute_result"
    }
   ],
   "source": [
    "# number of landmark genes found in guide list\n",
    "Lx.landmark[Lx.landmark.isin(df_sg_merged.gene)].nunique()"
   ]
  },
  {
   "cell_type": "code",
   "execution_count": 113,
   "metadata": {},
   "outputs": [
    {
     "data": {
      "text/plain": [
       "array(['MARS2 (92935)', 'NRAS (4893)', 'SDHAF1 (644096)'], dtype=object)"
      ]
     },
     "execution_count": 113,
     "metadata": {},
     "output_type": "execute_result"
    }
   ],
   "source": [
    "# landmark genes example found in guide list\n",
    "Lx.landmark[Lx.landmark.isin(df_sg_merged.gene)].unique()[:3]"
   ]
  },
  {
   "cell_type": "code",
   "execution_count": 114,
   "metadata": {},
   "outputs": [
    {
     "data": {
      "text/plain": [
       "array(['HIAT1 (64645)', 'ATP5I (521)', 'KIAA0907 (22889)',\n",
       "       'FAM21C (253725)', 'KIAA1279 (26128)', 'PTPLB (201562)'],\n",
       "      dtype=object)"
      ]
     },
     "execution_count": 114,
     "metadata": {},
     "output_type": "execute_result"
    }
   ],
   "source": [
    "# landmark genes not found in guide list\n",
    "Lx.landmark[~Lx.landmark.isin(df_sg_merged.gene)].unique()"
   ]
  },
  {
   "cell_type": "code",
   "execution_count": null,
   "metadata": {},
   "outputs": [],
   "source": []
  },
  {
   "cell_type": "code",
   "execution_count": null,
   "metadata": {},
   "outputs": [],
   "source": []
  }
 ],
 "metadata": {
  "kernelspec": {
   "display_name": "Python 3",
   "language": "python",
   "name": "python3"
  },
  "language_info": {
   "codemirror_mode": {
    "name": "ipython",
    "version": 3
   },
   "file_extension": ".py",
   "mimetype": "text/x-python",
   "name": "python",
   "nbconvert_exporter": "python",
   "pygments_lexer": "ipython3",
   "version": "3.7.7"
  },
  "toc": {
   "base_numbering": 1,
   "nav_menu": {},
   "number_sections": true,
   "sideBar": true,
   "skip_h1_title": false,
   "title_cell": "Table of Contents",
   "title_sidebar": "Contents",
   "toc_cell": false,
   "toc_position": {},
   "toc_section_display": true,
   "toc_window_display": true
  }
 },
 "nbformat": 4,
 "nbformat_minor": 4
}
