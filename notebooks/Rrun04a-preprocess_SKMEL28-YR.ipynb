{
 "cells": [
  {
   "cell_type": "code",
   "execution_count": 1,
   "metadata": {},
   "outputs": [],
   "source": [
    "import sys\n",
    "sys.path.append(\"../src\")\n",
    "from ceres_infer.data import preprocessData"
   ]
  },
  {
   "cell_type": "code",
   "execution_count": 2,
   "metadata": {},
   "outputs": [
    {
     "name": "stdout",
     "output_type": "stream",
     "text": [
      "start data_19Q3 preprocessing...\n",
      "loading rna-seq...\n",
      "loading copy number...\n",
      "loading mutations...\n"
     ]
    },
    {
     "name": "stderr",
     "output_type": "stream",
     "text": [
      "/opt/aci/sw/anaconda3/2020.07_gcc-4.8.5-khh/lib/python3.8/site-packages/IPython/core/interactiveshell.py:3343: DtypeWarning: Columns (3,19,25,26,27,28,29,30,31) have mixed types.Specify dtype option on import or set low_memory=False.\n",
      "  exec(code_obj, self.user_global_ns, self.user_ns)\n"
     ]
    },
    {
     "name": "stdout",
     "output_type": "stream",
     "text": [
      "loading sample_info...\n",
      "loading Achilles gene effect...\n",
      "processing CERES...\n",
      "There are 43 cell lines out of 625 that will be dropped, due to missing data\n",
      "processing rna-seq...\n",
      "processing copy number...\n",
      "processing mutations...\n",
      "processing sample_info...\n",
      "finalizing processing...\n",
      "filtering: keep only shared samples...\n",
      "filtering: baseline feature pruning...\n",
      "start data_19Q3 preprocessing...\n",
      "loading rna-seq...\n",
      "loading copy number...\n",
      "loading mutations...\n"
     ]
    },
    {
     "name": "stderr",
     "output_type": "stream",
     "text": [
      "/opt/aci/sw/anaconda3/2020.07_gcc-4.8.5-khh/lib/python3.8/site-packages/IPython/core/interactiveshell.py:3343: DtypeWarning: Columns (3,19,25,26,27,28,29,30,31) have mixed types.Specify dtype option on import or set low_memory=False.\n",
      "  exec(code_obj, self.user_global_ns, self.user_ns)\n"
     ]
    },
    {
     "name": "stdout",
     "output_type": "stream",
     "text": [
      "loading sample_info...\n",
      "loading Achilles gene effect...\n",
      "processing CERES...\n",
      "There are 43 cell lines out of 625 that will be dropped, due to missing data\n",
      "processing rna-seq...\n",
      "processing copy number...\n",
      "processing mutations...\n",
      "processing sample_info...\n",
      "finalizing processing...\n",
      "start data_19Q4 preprocessing...\n",
      "loading rna-seq...\n",
      "loading copy number...\n",
      "loading mutations...\n"
     ]
    },
    {
     "name": "stderr",
     "output_type": "stream",
     "text": [
      "/opt/aci/sw/anaconda3/2020.07_gcc-4.8.5-khh/lib/python3.8/site-packages/IPython/core/interactiveshell.py:3343: DtypeWarning: Columns (4,20,26,27,28,29,30,31,32) have mixed types.Specify dtype option on import or set low_memory=False.\n",
      "  exec(code_obj, self.user_global_ns, self.user_ns)\n"
     ]
    },
    {
     "name": "stdout",
     "output_type": "stream",
     "text": [
      "loading sample_info...\n",
      "loading Achilles gene effect...\n",
      "processing CERES...\n",
      "There are 55 cell lines out of 689 that will be dropped, due to missing data\n",
      "processing rna-seq...\n",
      "processing copy number...\n",
      "processing mutations...\n",
      "processing sample_info...\n",
      "finalizing processing...\n",
      "filtering: keep only shared samples...\n",
      "start data_skmel28 preprocessing...\n",
      "loading rna-seq...\n",
      "loading copy number...\n",
      "loading mutations...\n",
      "loading sample_info...\n",
      "loading Achilles gene effect...\n",
      "processing CERES...\n",
      "processing rna-seq...\n",
      "processing copy number...\n",
      "processing mutations...\n",
      "processing sample_info...\n",
      "finalizing processing...\n",
      "filtering: keep only shared samples...\n"
     ]
    }
   ],
   "source": [
    "# Preprocess data for gene effect (continuous)\n",
    "ext_data = {'dir_datasets': '../data/DepMap/19Q3',\n",
    "\t\t\t'dir_ceres_datasets': '../data/ceres_external/SKMEL28',\n",
    "\t\t\t'data_name': 'data_skmel28',\n",
    "\t\t\t'fname_gene_effect': 'gene_effect.csv',\n",
    "\t\t\t'fname_gene_dependency': None,\n",
    "\t\t\t'out_name': 'dm_data_skmel28',\n",
    "\t\t\t'out_match_name': 'dm_data_match_skmel28'}\n",
    "\n",
    "preprocessData(useGene_dependency = False,\n",
    "               dir_out = '../out/21.0705 proc_data SKMEL28/gene_effect/',\n",
    "               dir_depmap = '../data/DepMap/',\n",
    "               ext_data = ext_data)"
   ]
  }
 ],
 "metadata": {
  "kernelspec": {
   "display_name": "Python 3",
   "language": "python",
   "name": "python3"
  },
  "language_info": {
   "codemirror_mode": {
    "name": "ipython",
    "version": 3
   },
   "file_extension": ".py",
   "mimetype": "text/x-python",
   "name": "python",
   "nbconvert_exporter": "python",
   "pygments_lexer": "ipython3",
   "version": "3.8.3"
  }
 },
 "nbformat": 4,
 "nbformat_minor": 4
}
