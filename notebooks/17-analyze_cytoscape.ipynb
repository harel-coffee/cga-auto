{
 "cells": [
  {
   "cell_type": "code",
   "execution_count": null,
   "metadata": {},
   "outputs": [],
   "source": [
    "import os\n",
    "import pandas as pd\n",
    "import numpy as np\n",
    "import matplotlib.pyplot as plt\n",
    "import seaborn as sns\n",
    "\n",
    "#-----------------------------\n",
    "# settings\n",
    "#-----------------------------\n",
    "outdir = '../out/20.0122 test/newMut/'\n",
    "model_name = 'elasticNet'\n",
    "\n",
    "outdir_sub = '%s/cytoscape/' % outdir\n",
    "if(not os.path.exists(outdir_sub)): os.mkdir(outdir_sub)\n",
    "\n",
    "#-----------------------------\n",
    "# analyze cytoscape results\n",
    "#-----------------------------\n",
    "\n",
    "df = pd.read_csv('%s/analyze_undirected/degree_target.csv' % outdir_sub)\n",
    "plt.figure()\n",
    "ax = sns.regplot(df.R2_rd, df.Degree, order=2, scatter_kws={'s':30, 'alpha':0.5})\n",
    "ax.set(xlabel='R2 (reduced model; test set)', ylabel='Degree')\n",
    "plt.savefig('%s/deg_undirected/degree_R2_rd.pdf' % outdir_sub)\n",
    "plt.close()\n",
    "\n",
    "df = pd.read_csv('%s/deg_directed/degree_target.csv' % outdir_sub)\n",
    "plt.figure()\n",
    "ax = sns.regplot(df.R2_rd, df.Indegree, order=2, scatter_kws={'s':30, 'alpha':0.5})\n",
    "ax.set(xlabel='R2 (reduced model; test set)', ylabel='In-Degree')\n",
    "plt.savefig('%s/deg_directed/degreeIn_R2_rd.pdf' % outdir_sub)\n",
    "plt.close()\n",
    "\n",
    "plt.figure()\n",
    "ax = sns.regplot(df.R2_rd, df.Outdegree, order=2, scatter_kws={'s':30, 'alpha':0.5})\n",
    "ax.set(xlabel='R2 (reduced model; test set)', ylabel='Out-Degree')\n",
    "plt.savefig('%sdeg_directed/degreeOut_R2_rd.pdf' % outdir_sub)\n",
    "plt.close()\n",
    "\n",
    "\n"
   ]
  }
 ],
 "metadata": {
  "kernelspec": {
   "display_name": "Python 3",
   "language": "python",
   "name": "python3"
  },
  "language_info": {
   "codemirror_mode": {
    "name": "ipython",
    "version": 3
   },
   "file_extension": ".py",
   "mimetype": "text/x-python",
   "name": "python",
   "nbconvert_exporter": "python",
   "pygments_lexer": "ipython3",
   "version": "3.7.7"
  },
  "toc": {
   "base_numbering": 1,
   "nav_menu": {},
   "number_sections": true,
   "sideBar": true,
   "skip_h1_title": false,
   "title_cell": "Table of Contents",
   "title_sidebar": "Contents",
   "toc_cell": false,
   "toc_position": {},
   "toc_section_display": true,
   "toc_window_display": true
  }
 },
 "nbformat": 4,
 "nbformat_minor": 4
}
