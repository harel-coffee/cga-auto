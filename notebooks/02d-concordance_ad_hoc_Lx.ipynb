{
 "cells": [
  {
   "cell_type": "markdown",
   "metadata": {},
   "source": [
    "Ad hoc concordance analyses of the Lx results. Lx results was using a previous version of analyze results pipeline that didn't have concordance yet; this adds it in"
   ]
  },
  {
   "cell_type": "code",
   "execution_count": 7,
   "metadata": {},
   "outputs": [],
   "source": [
    "import glob\n",
    "import os\n",
    "import pandas as pd\n",
    "import re\n",
    "import pickle\n",
    "import matplotlib.pyplot as plt\n",
    "import seaborn as sns"
   ]
  },
  {
   "cell_type": "code",
   "execution_count": 8,
   "metadata": {},
   "outputs": [],
   "source": [
    "def getConcordance(df, threshold=-0.6):\n",
    "    df['concordance'] = 0\n",
    "    df.loc[(df.y_actual <= threshold) & (df.y_pred <= threshold), 'concordance'] = 1\n",
    "    df.loc[(df.y_actual > threshold) & (df.y_pred > threshold), 'concordance'] = 1\n",
    "    return sum(df.concordance == 1) / len(df)\n",
    "\n",
    "def genConcordance(Lx_dir):\n",
    "    outdir_concord = '%s/anlyz/concordance/' % Lx_dir\n",
    "    if not os.path.exists(outdir_concord):\n",
    "        os.makedirs(outdir_concord)\n",
    "\n",
    "    y_compr_fnames = glob.glob(os.path.join(Lx_dir, 'model_perf', 'y_compr_*.pkl'))\n",
    "    if len(y_compr_fnames) > 0:\n",
    "        df_conc_tr = pd.DataFrame()\n",
    "        df_conc_te = pd.DataFrame()\n",
    "        for fname in y_compr_fnames:\n",
    "            f = re.sub('.*_compr_', '', fname)\n",
    "            gene = re.sub('\\.pkl', '', f)\n",
    "            df = pickle.load(open(fname, 'rb'))\n",
    "\n",
    "            tmp = pd.DataFrame([{'gene': gene, 'concordance': getConcordance(df['tr'])}])\n",
    "            df_conc_tr = pd.concat([df_conc_tr, tmp])\n",
    "\n",
    "            tmp = pd.DataFrame([{'gene': gene, 'concordance': getConcordance(df['te'])}])\n",
    "            df_conc_te = pd.concat([df_conc_te, tmp])\n",
    "\n",
    "        df_conc_tr.to_csv('%s/concordance_tr.csv' % outdir_concord, index=False)\n",
    "        df_conc_te.to_csv('%s/concordance_te.csv' % outdir_concord, index=False)\n",
    "\n",
    "        plt.figure()\n",
    "        ax = sns.distplot(df_conc_tr.concordance)\n",
    "        ax.set(xlim=[0, 1.05], xlabel='Concordance', title='Concordance between actual and predicted')\n",
    "        plt.savefig(\"%s/concordance_tr.pdf\" % outdir_concord)\n",
    "        plt.close()\n",
    "\n",
    "        plt.figure()\n",
    "        ax = sns.distplot(df_conc_te.concordance)\n",
    "        ax.set(xlim=[0, 1.05], xlabel='Concordance', title='Concordance between actual and predicted')\n",
    "        plt.savefig(\"%s/concordance_te.pdf\" % outdir_concord)\n",
    "        plt.close()"
   ]
  },
  {
   "cell_type": "code",
   "execution_count": 9,
   "metadata": {},
   "outputs": [
    {
     "name": "stdout",
     "output_type": "stream",
     "text": [
      "../out/20.0518 Lx/L100_reg_rf_boruta/\n",
      "../out/20.0518 Lx/L200only_reg_lm/\n",
      "../out/20.0518 Lx/L200only_reg_rf_boruta/\n",
      "../out/20.0518 Lx/L300only_reg_rf_boruta/\n",
      "../out/20.0518 Lx/L100only_reg_rf_boruta/\n",
      "../out/20.0518 Lx/L100only_reg_elasticnet_all/\n",
      "../out/20.0518 Lx/L75only_reg_elasticnet_all/\n",
      "../out/20.0518 Lx/L25only_reg_rf_boruta/\n",
      "../out/20.0518 Lx/L100only_reg_lm/\n",
      "../out/20.0518 Lx/L75only_reg_rf_boruta/\n",
      "../out/20.0518 Lx/L200only_reg_elasticnet_all/\n",
      "../out/20.0518 Lx/L100only_reg_elasticnet/\n",
      "../out/20.0518 Lx/L25only_reg_elasticnet_all/\n",
      "../out/20.0518 Lx/L100only_reg_rf_boruta_all/\n"
     ]
    }
   ],
   "source": [
    "for fdir in glob.glob('../out/20.0518 Lx/*/'):\n",
    "    print(fdir)\n",
    "    genConcordance(fdir)"
   ]
  },
  {
   "cell_type": "code",
   "execution_count": null,
   "metadata": {},
   "outputs": [],
   "source": []
  }
 ],
 "metadata": {
  "kernelspec": {
   "display_name": "Python 3",
   "language": "python",
   "name": "python3"
  },
  "language_info": {
   "codemirror_mode": {
    "name": "ipython",
    "version": 3
   },
   "file_extension": ".py",
   "mimetype": "text/x-python",
   "name": "python",
   "nbconvert_exporter": "python",
   "pygments_lexer": "ipython3",
   "version": "3.7.7"
  },
  "toc": {
   "base_numbering": 1,
   "nav_menu": {},
   "number_sections": true,
   "sideBar": true,
   "skip_h1_title": false,
   "title_cell": "Table of Contents",
   "title_sidebar": "Contents",
   "toc_cell": false,
   "toc_position": {},
   "toc_section_display": true,
   "toc_window_display": true
  }
 },
 "nbformat": 4,
 "nbformat_minor": 4
}
