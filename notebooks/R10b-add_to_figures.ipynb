{
 "cells": [
  {
   "cell_type": "code",
   "execution_count": 1,
   "metadata": {},
   "outputs": [],
   "source": [
    "import sys\n",
    "sys.path.append(\"../src\")\n",
    "\n",
    "import pandas as pd\n",
    "import os\n",
    "from ast import literal_eval\n",
    "import matplotlib.pyplot as plt\n",
    "from matplotlib.colors import LinearSegmentedColormap\n",
    "import matplotlib\n",
    "import pickle\n",
    "import networkx as nx\n",
    "from ceres_infer.analyses import *\n",
    "from os import listdir\n",
    "import pickle\n",
    "from scipy.stats import pearsonr\n",
    "from sklearn.metrics import r2_score\n",
    "# from ceres_infer.data import stats_Crispr, scale_data"
   ]
  },
  {
   "cell_type": "code",
   "execution_count": 2,
   "metadata": {},
   "outputs": [],
   "source": [
    "### For reg_boruta, create y_compr_tr and te from individual model_perf file\n",
    "def create_compr(boruta_dir):\n",
    "    df_tr_actual = pd.DataFrame();df_tr_pred = pd.DataFrame()\n",
    "    df_te_actual = pd.DataFrame();df_te_pred = pd.DataFrame()\n",
    "\n",
    "    for f in listdir(boruta_dir):\n",
    "        if f.startswith('y_compr_'): \n",
    "            gene = f.split('.')[0].split('_')[-1]\n",
    "            y_compr_gene = pickle.load(open(os.path.join(boruta_dir,f),'rb'))\n",
    "            df_tr_actual[gene] = y_compr_gene['tr']['y_actual']\n",
    "            df_tr_pred[gene] = y_compr_gene['tr']['y_pred']\n",
    "            df_te_actual[gene] = y_compr_gene['te']['y_actual']\n",
    "            df_te_pred[gene] = y_compr_gene['te']['y_pred']\n",
    "\n",
    "    y_compr_te_boruta = {'actual':df_te_actual,'predicted':df_te_pred}\n",
    "    y_compr_tr_boruta = {'actual':df_tr_actual,'predicted':df_tr_pred}\n",
    "    \n",
    "    return y_compr_tr_boruta, y_compr_te_boruta"
   ]
  },
  {
   "cell_type": "code",
   "execution_count": 3,
   "metadata": {},
   "outputs": [],
   "source": [
    "### Define a function calculate pearson correlation for all genes\n",
    "def get_pearsonr(col):\n",
    "    name = col.name\n",
    "    corr = pearsonr(col,y_compr_te['predicted'][name])[0]\n",
    "    return corr"
   ]
  },
  {
   "cell_type": "code",
   "execution_count": 4,
   "metadata": {},
   "outputs": [],
   "source": [
    "### To double check, test r2 score too\n",
    "def get_r2(col):\n",
    "    name = col.name\n",
    "    r2 = r2_score(col,y_compr_te['predicted'][name])\n",
    "    return r2"
   ]
  },
  {
   "cell_type": "code",
   "execution_count": 25,
   "metadata": {},
   "outputs": [],
   "source": [
    "### Open the compr folder\n",
    "model_dirs = {'elasticnet': '../out/20.0819 modcompr/reg_elasticNet_infer/',\n",
    "              'lm': '../out/20.0819 modcompr/reg_lm_infer/',\n",
    "              'rf': '../out/20.0819 modcompr/reg_rf_infer/',\n",
    "              'rf_boruta': '../out/20.0216 feat/reg_rf_boruta',\n",
    "              'nn': None}\n",
    "xlab_dict = {'elasticnet': 'elastic net',\n",
    "              'lm': 'linear regression',\n",
    "              'rf': 'random forest',\n",
    "              'rf_boruta': 'random forest\\niter select+boruta',\n",
    "              'nn': 'nearest neighbors'} # xlabel dict mapping"
   ]
  },
  {
   "cell_type": "code",
   "execution_count": 27,
   "metadata": {},
   "outputs": [],
   "source": [
    "scores_rd10 = pd.DataFrame()\n",
    "scores_r2 = pd.DataFrame()\n",
    "# Iterate through moddir to obtain y_compr prediction data\n",
    "for model, model_dir in model_dirs.items():\n",
    "    if model == 'rf_boruta':\n",
    "        y_compr_tr, y_compr_te = create_compr(os.path.join(model_dir,'model_perf'))\n",
    "\n",
    "    elif model != 'nn': \n",
    "        y_compr_tr = pickle.load(open(os.path.join(model_dir, 'anlyz', \\\n",
    "                                                   'y_compr_tr.pkl'), 'rb'))\n",
    "        y_compr_te = pickle.load(open(os.path.join(model_dir, 'anlyz', \\\n",
    "                                                   'y_compr_te.pkl'), 'rb'))\n",
    "        \n",
    "    # Calculate pearson correlation between actual and predicted\n",
    "    ser_corr = y_compr_te['actual'].apply(lambda x: get_pearsonr(x))\n",
    "    ser_r2 = y_compr_te['actual'].apply(lambda x: get_r2(x))\n",
    "    scores_rd10[model] = [ser_corr.median()]\n",
    "    scores_r2[model] = [ser_r2.median()]"
   ]
  },
  {
   "cell_type": "code",
   "execution_count": 29,
   "metadata": {},
   "outputs": [
    {
     "data": {
      "text/html": [
       "<div>\n",
       "<style scoped>\n",
       "    .dataframe tbody tr th:only-of-type {\n",
       "        vertical-align: middle;\n",
       "    }\n",
       "\n",
       "    .dataframe tbody tr th {\n",
       "        vertical-align: top;\n",
       "    }\n",
       "\n",
       "    .dataframe thead th {\n",
       "        text-align: right;\n",
       "    }\n",
       "</style>\n",
       "<table border=\"1\" class=\"dataframe\">\n",
       "  <thead>\n",
       "    <tr style=\"text-align: right;\">\n",
       "      <th></th>\n",
       "      <th>elasticnet</th>\n",
       "      <th>lm</th>\n",
       "      <th>rf</th>\n",
       "      <th>rf_boruta</th>\n",
       "      <th>nn</th>\n",
       "    </tr>\n",
       "  </thead>\n",
       "  <tbody>\n",
       "    <tr>\n",
       "      <th>0</th>\n",
       "      <td>0.100113</td>\n",
       "      <td>-0.024167</td>\n",
       "      <td>0.258551</td>\n",
       "      <td>0.386523</td>\n",
       "      <td>0.386523</td>\n",
       "    </tr>\n",
       "  </tbody>\n",
       "</table>\n",
       "</div>"
      ],
      "text/plain": [
       "   elasticnet        lm        rf  rf_boruta        nn\n",
       "0    0.100113 -0.024167  0.258551   0.386523  0.386523"
      ]
     },
     "execution_count": 29,
     "metadata": {},
     "output_type": "execute_result"
    }
   ],
   "source": [
    "scores_r2"
   ]
  },
  {
   "cell_type": "code",
   "execution_count": 30,
   "metadata": {},
   "outputs": [],
   "source": [
    "### Get the nearest neighbor correlation plot \n",
    "df_prediction = pd.read_csv('prediction_040621.csv', index_col = 0)\n",
    "\n",
    "dir_in_res = '../out/20.0216 feat/reg_rf_boruta'\n",
    "q3_dir = '../data/DepMap/19Q3'\n",
    "df_ref19q3 = pd.read_csv(os.path.join(q3_dir,'Achilles_gene_effect.csv'), index_col = 0)\n",
    "dir_in_anlyz = os.path.join(dir_in_res, 'anlyz_filtered')\n",
    "f_featsumm = os.path.join(dir_in_anlyz,'agg_summary_filtered.csv')\n",
    "df_aggRes = pd.read_csv(f_featsumm) #aggregated feat summary\n",
    "div_genes = df_aggRes['target']\n",
    "\n",
    "### map the div_gene name to the name in prediction dataframe\n",
    "list_div_genes = []\n",
    "for gene_idx in df_prediction.columns:\n",
    "    gene_name = gene_idx.split(' ')[0]\n",
    "    if gene_name in div_genes.to_list():\n",
    "        list_div_genes.append(gene_idx)\n",
    "### Plot the correlation plot between actual and predicted, for every gene\n",
    "df_corr_gene = pd.DataFrame(columns = ['gene','corr'])\n",
    "\n",
    "list_corr = []\n",
    "list_r2 = []\n",
    "for gene in list_div_genes:\n",
    "    df_score = pd.DataFrame(columns = ['actual','predicted'])\n",
    "    df_score['actual'] = df_ref19q3.loc[:,gene]\n",
    "    df_score['predicted'] = df_prediction.loc[:,gene]\n",
    "    df_score = df_score.dropna()\n",
    "    corr = pearsonr(df_score['actual'],df_score['predicted'])[0]\n",
    "    list_corr.append(corr)\n",
    "    score_r2 = r2_score(df_score['actual'],df_score['predicted'])\n",
    "    list_r2.append(score_r2)\n",
    "    \n",
    "df_corr_gene['gene'] = div_genes; df_corr_gene['corr'] = list_corr;df_corr_gene['r2(score_test)'] = list_r2"
   ]
  },
  {
   "cell_type": "code",
   "execution_count": 31,
   "metadata": {},
   "outputs": [],
   "source": [
    "scores_rd10['nn'] = df_corr_gene['corr'].median()\n",
    "scores_r2['nn'] = df_corr_gene['r2(score_test)'].median()"
   ]
  },
  {
   "cell_type": "code",
   "execution_count": 32,
   "metadata": {},
   "outputs": [
    {
     "data": {
      "text/html": [
       "<div>\n",
       "<style scoped>\n",
       "    .dataframe tbody tr th:only-of-type {\n",
       "        vertical-align: middle;\n",
       "    }\n",
       "\n",
       "    .dataframe tbody tr th {\n",
       "        vertical-align: top;\n",
       "    }\n",
       "\n",
       "    .dataframe thead th {\n",
       "        text-align: right;\n",
       "    }\n",
       "</style>\n",
       "<table border=\"1\" class=\"dataframe\">\n",
       "  <thead>\n",
       "    <tr style=\"text-align: right;\">\n",
       "      <th></th>\n",
       "      <th>elasticnet</th>\n",
       "      <th>lm</th>\n",
       "      <th>rf</th>\n",
       "      <th>rf_boruta</th>\n",
       "      <th>nn</th>\n",
       "    </tr>\n",
       "  </thead>\n",
       "  <tbody>\n",
       "    <tr>\n",
       "      <th>0</th>\n",
       "      <td>0.100113</td>\n",
       "      <td>-0.024167</td>\n",
       "      <td>0.258551</td>\n",
       "      <td>0.386523</td>\n",
       "      <td>-0.705778</td>\n",
       "    </tr>\n",
       "  </tbody>\n",
       "</table>\n",
       "</div>"
      ],
      "text/plain": [
       "   elasticnet        lm        rf  rf_boruta        nn\n",
       "0    0.100113 -0.024167  0.258551   0.386523 -0.705778"
      ]
     },
     "execution_count": 32,
     "metadata": {},
     "output_type": "execute_result"
    }
   ],
   "source": [
    "scores_r2"
   ]
  },
  {
   "cell_type": "code",
   "execution_count": 34,
   "metadata": {},
   "outputs": [
    {
     "data": {
      "image/png": "[encoded data removed]",
      "text/plain": [
       "<Figure size 432x288 with 1 Axes>"
      ]
     },
     "metadata": {
      "needs_background": "light"
     },
     "output_type": "display_data"
    }
   ],
   "source": [
    "plt.figure()\n",
    "ax = sns.barplot(scores_r2.columns, scores_r2.values[0], color='steelblue')\n",
    "ax.set(ylabel='Score (median)', xlabel='', title='Reduced model with top 10 features')\n",
    "ax.set_xticklabels([xlab_dict[n] for n in model_dirs.keys()], rotation=-45, size=11)\n",
    "plt.tight_layout()\n",
    "# plt.savefig(\"%s/fig1supp_compr_mod_rd10.pdf\" % dir_out)\n",
    "plt.show()\n",
    "plt.close()"
   ]
  },
  {
   "cell_type": "code",
   "execution_count": 12,
   "metadata": {},
   "outputs": [
    {
     "name": "stdout",
     "output_type": "stream",
     "text": [
      "elasticnet\n",
      "lm\n",
      "rf\n",
      "rf_boruta\n"
     ]
    },
    {
     "data": {
      "image/png": "[encoded data removed]",
      "text/plain": [
       "<Figure size 432x288 with 1 Axes>"
      ]
     },
     "metadata": {
      "needs_background": "light"
     },
     "output_type": "display_data"
    },
    {
     "name": "stdout",
     "output_type": "stream",
     "text": [
      "             full     reduced  reduced10feat\n",
      "count  581.000000  581.000000     581.000000\n",
      "mean     0.138418    0.138419       0.132926\n",
      "std      0.187239    0.187239       0.220467\n",
      "min     -2.455300   -2.455270      -3.703410\n",
      "25%      0.037170    0.037170       0.035810\n",
      "50%      0.107110    0.107110       0.100110\n",
      "75%      0.221220    0.221210       0.216620\n",
      "max      0.761660    0.761690       0.762620\n",
      "             full     reduced  reduced10feat\n",
      "count  583.000000  583.000000     583.000000\n",
      "mean     0.030242    0.037119      -0.071210\n",
      "std      0.182641    0.181812       1.180950\n",
      "min     -0.688890   -0.623290     -17.472100\n",
      "25%     -0.076855   -0.074915      -0.166655\n",
      "50%      0.046780    0.053120      -0.024170\n",
      "75%      0.149190    0.149070       0.345270\n",
      "max      0.643560    0.658700       0.882980\n",
      "             full     reduced  reduced10feat\n",
      "count  583.000000  583.000000     583.000000\n",
      "mean     0.086768    0.115086       0.285333\n",
      "std      0.059469    0.077145       0.231283\n",
      "min     -0.113610   -0.119220      -0.176330\n",
      "25%      0.045760    0.060415       0.098760\n",
      "50%      0.081880    0.103360       0.258550\n",
      "75%      0.119385    0.159935       0.472485\n",
      "max      0.361230    0.448450       0.882150\n",
      "             full     reduced  reduced10feat\n",
      "count  583.000000  583.000000     583.000000\n",
      "mean     0.086768    0.359706       0.389821\n",
      "std      0.059469    0.163652       0.206648\n",
      "min     -0.113610   -0.073070      -0.321300\n",
      "25%      0.045760    0.241055       0.244845\n",
      "50%      0.081880    0.348220       0.382890\n",
      "75%      0.119385    0.467190       0.552995\n",
      "max      0.361230    0.805100       0.884740\n",
      "   elasticnet       lm       rf  rf_boruta\n",
      "0     0.10011 -0.02417  0.25855    0.38289\n"
     ]
    },
    {
     "data": {
      "image/png": "[encoded data removed]",
      "text/plain": [
       "<Figure size 432x288 with 1 Axes>"
      ]
     },
     "metadata": {
      "needs_background": "light"
     },
     "output_type": "display_data"
    }
   ],
   "source": [
    "#-- comparison of different ML models\n",
    "model_dirs = {'elasticnet': '../out/20.0819 modcompr/reg_elasticNet_infer/',\n",
    "              'lm': '../out/20.0819 modcompr/reg_lm_infer/',\n",
    "              'rf': '../out/20.0819 modcompr/reg_rf_infer/',\n",
    "              'rf_boruta': '../out/20.0216 feat/reg_rf_boruta'}\n",
    "\n",
    "\n",
    "\n",
    "# scores (test set), full model\n",
    "scores = {}\n",
    "for model, model_dir in model_dirs.items():\n",
    "    print(model)\n",
    "    res = pd.read_csv(os.path.join(model_dir, 'model_results.csv'))\n",
    "    scores.update({model: res.loc[res.model == 'all', 'score_test'].values})\n",
    "scores = pd.DataFrame.from_dict(scores)\n",
    "df = pd.melt(scores)\n",
    "\n",
    "plt.figure()\n",
    "ax = sns.boxplot(data=df, x='variable', y='value', color='steelblue')\n",
    "ax.set(ylabel='Score (on test)', xlabel='', title='Model using all features')\n",
    "ax.set_xticklabels([xlab_dict[n] for n in model_dirs.keys()], rotation=-45, size=11)\n",
    "plt.tight_layout()\n",
    "# plt.savefig(\"%s/fig1supp_compr_mod_full.pdf\" % dir_out)\n",
    "plt.show()\n",
    "plt.close()\n",
    "\n",
    "# scores (median), reduced top10 feat models\n",
    "scores_rd10 = {}\n",
    "for model, model_dir in model_dirs.items():\n",
    "    res = pd.read_csv(os.path.join(model_dir, 'anlyz/stats_score_aggRes/stats_score.csv'), index_col=0)\n",
    "    print(res)\n",
    "    scores_rd10.update({model: res.loc[res.index == '50%', 'reduced10feat'].values})\n",
    "scores_rd10 = pd.DataFrame.from_dict(scores_rd10)\n",
    "\n",
    "plt.figure()\n",
    "ax = sns.barplot(scores_rd10.columns, scores_rd10.values[0], color='steelblue')\n",
    "ax.set(ylabel='Score (median)', xlabel='', title='Reduced model with top 10 features')\n",
    "ax.set_xticklabels([xlab_dict[n] for n in model_dirs.keys()], rotation=-45, size=11)\n",
    "plt.tight_layout()\n",
    "# plt.savefig(\"%s/fig1supp_compr_mod_rd10.pdf\" % dir_out)\n",
    "plt.show()\n",
    "plt.close()"
   ]
  },
  {
   "cell_type": "code",
   "execution_count": null,
   "metadata": {},
   "outputs": [],
   "source": []
  }
 ],
 "metadata": {
  "kernelspec": {
   "display_name": "Python 3",
   "language": "python",
   "name": "python3"
  },
  "language_info": {
   "codemirror_mode": {
    "name": "ipython",
    "version": 3
   },
   "file_extension": ".py",
   "mimetype": "text/x-python",
   "name": "python",
   "nbconvert_exporter": "python",
   "pygments_lexer": "ipython3",
   "version": "3.7.9"
  }
 },
 "nbformat": 4,
 "nbformat_minor": 4
}
