{
 "cells": [
  {
   "cell_type": "markdown",
   "metadata": {},
   "source": [
    "#### calculate concordance, by quantile"
   ]
  },
  {
   "cell_type": "code",
   "execution_count": 68,
   "metadata": {},
   "outputs": [],
   "source": [
    "import pandas as pd\n",
    "import pickle\n",
    "import glob\n",
    "import re\n",
    "import seaborn as sns\n",
    "import matplotlib.pyplot as plt\n",
    "import numpy as np"
   ]
  },
  {
   "cell_type": "code",
   "execution_count": 109,
   "metadata": {},
   "outputs": [],
   "source": [
    "def getConcordance(df, vleft, vright):\n",
    "    df['concordance'] = np.nan\n",
    "    if(len(df) < 1):\n",
    "        return df\n",
    "    \n",
    "    df['concordance'] = 0\n",
    "    df.loc[(df.y_pred > vleft) & (df.y_pred <= vright),'concordance'] = 1\n",
    "    return df"
   ]
  },
  {
   "cell_type": "code",
   "execution_count": 168,
   "metadata": {},
   "outputs": [],
   "source": [
    "df_conc = pd.DataFrame()\n",
    "for fname in glob.glob('../out/20.0518 L100/L100_reg_rf_boruta/model_perf/y_compr_*.pkl'):\n",
    "    f = re.sub('.*_compr_','',fname)\n",
    "    gene = re.sub('\\.pkl','',f)\n",
    "    df = pickle.load(open(fname, 'rb'))\n",
    "    df = df['te']\n",
    "    \n",
    "    df['y_actual_cat'] = pd.cut(df.y_actual, [-10, -1, -0.5, -0.05, 10])\n",
    "    #df['y_actual_cat'] = pd.cut(df.y_actual, [-10, -0.5, 10])\n",
    "    df_conc_s = pd.DataFrame()\n",
    "    for cat,df_cat in df.groupby('y_actual_cat'):\n",
    "        df_cat = getConcordance(df_cat.copy(), cat.left, cat.right)\n",
    "        n = df_cat.shape[0]\n",
    "        if n < 1: continue\n",
    "        \n",
    "        p = sum(df_cat.concordance==1) / df_cat.shape[0]\n",
    "        ci95 = 1.96*np.sqrt(p*(1-p)/n)\n",
    "        dfc = pd.DataFrame([{'y_actual_cat': cat, \n",
    "                             'concordance': p,\n",
    "                             'ci95': [np.round(p-ci95,2), np.round(p+ci95,2)],\n",
    "                             'n': n}])\n",
    "        df_conc_s = pd.concat([df_conc_s,dfc])\n",
    "    df_conc_s['gene'] = gene    \n",
    "    df_conc_s = df_conc_s[['gene','y_actual_cat','concordance','ci95','n']]\n",
    "    \n",
    "    df_conc = pd.concat([df_conc,df_conc_s])\n"
   ]
  },
  {
   "cell_type": "code",
   "execution_count": 169,
   "metadata": {},
   "outputs": [
    {
     "data": {
      "text/html": [
       "<div>\n",
       "<style scoped>\n",
       "    .dataframe tbody tr th:only-of-type {\n",
       "        vertical-align: middle;\n",
       "    }\n",
       "\n",
       "    .dataframe tbody tr th {\n",
       "        vertical-align: top;\n",
       "    }\n",
       "\n",
       "    .dataframe thead th {\n",
       "        text-align: right;\n",
       "    }\n",
       "</style>\n",
       "<table border=\"1\" class=\"dataframe\">\n",
       "  <thead>\n",
       "    <tr style=\"text-align: right;\">\n",
       "      <th></th>\n",
       "      <th>gene</th>\n",
       "      <th>y_actual_cat</th>\n",
       "      <th>concordance</th>\n",
       "      <th>ci95</th>\n",
       "      <th>n</th>\n",
       "    </tr>\n",
       "  </thead>\n",
       "  <tbody>\n",
       "    <tr>\n",
       "      <th>0</th>\n",
       "      <td>EEF2</td>\n",
       "      <td>(-10.0, -1.0]</td>\n",
       "      <td>1.000000</td>\n",
       "      <td>[1.0, 1.0]</td>\n",
       "      <td>87</td>\n",
       "    </tr>\n",
       "    <tr>\n",
       "      <th>0</th>\n",
       "      <td>ELMO2</td>\n",
       "      <td>(-10.0, -1.0]</td>\n",
       "      <td>0.000000</td>\n",
       "      <td>[0.0, 0.0]</td>\n",
       "      <td>7</td>\n",
       "    </tr>\n",
       "    <tr>\n",
       "      <th>0</th>\n",
       "      <td>ELMO2</td>\n",
       "      <td>(-1.0, -0.5]</td>\n",
       "      <td>0.714286</td>\n",
       "      <td>[0.52, 0.91]</td>\n",
       "      <td>21</td>\n",
       "    </tr>\n",
       "    <tr>\n",
       "      <th>0</th>\n",
       "      <td>ELMO2</td>\n",
       "      <td>(-0.5, -0.05]</td>\n",
       "      <td>0.792453</td>\n",
       "      <td>[0.68, 0.9]</td>\n",
       "      <td>53</td>\n",
       "    </tr>\n",
       "    <tr>\n",
       "      <th>0</th>\n",
       "      <td>ELMO2</td>\n",
       "      <td>(-0.05, 10.0]</td>\n",
       "      <td>0.000000</td>\n",
       "      <td>[0.0, 0.0]</td>\n",
       "      <td>6</td>\n",
       "    </tr>\n",
       "  </tbody>\n",
       "</table>\n",
       "</div>"
      ],
      "text/plain": [
       "    gene   y_actual_cat  concordance          ci95   n\n",
       "0   EEF2  (-10.0, -1.0]     1.000000    [1.0, 1.0]  87\n",
       "0  ELMO2  (-10.0, -1.0]     0.000000    [0.0, 0.0]   7\n",
       "0  ELMO2   (-1.0, -0.5]     0.714286  [0.52, 0.91]  21\n",
       "0  ELMO2  (-0.5, -0.05]     0.792453   [0.68, 0.9]  53\n",
       "0  ELMO2  (-0.05, 10.0]     0.000000    [0.0, 0.0]   6"
      ]
     },
     "execution_count": 169,
     "metadata": {},
     "output_type": "execute_result"
    }
   ],
   "source": [
    "df_conc.head()"
   ]
  },
  {
   "cell_type": "code",
   "execution_count": 170,
   "metadata": {},
   "outputs": [
    {
     "data": {
      "text/plain": [
       "<seaborn.axisgrid.FacetGrid at 0x1a1b65b2e8>"
      ]
     },
     "execution_count": 170,
     "metadata": {},
     "output_type": "execute_result"
    },
    {
     "data": {
      "image/png": "[encoded data removed]",
      "text/plain": [
       "<Figure size 432x432 with 4 Axes>"
      ]
     },
     "metadata": {
      "needs_background": "light"
     },
     "output_type": "display_data"
    }
   ],
   "source": [
    "g = sns.FacetGrid(df_conc, col=\"y_actual_cat\", margin_titles=True, col_wrap=2)\n",
    "g.map(sns.distplot, 'concordance')"
   ]
  },
  {
   "cell_type": "code",
   "execution_count": null,
   "metadata": {},
   "outputs": [],
   "source": []
  }
 ],
 "metadata": {
  "kernelspec": {
   "display_name": "Python 3",
   "language": "python",
   "name": "python3"
  },
  "language_info": {
   "codemirror_mode": {
    "name": "ipython",
    "version": 3
   },
   "file_extension": ".py",
   "mimetype": "text/x-python",
   "name": "python",
   "nbconvert_exporter": "python",
   "pygments_lexer": "ipython3",
   "version": "3.7.7"
  }
 },
 "nbformat": 4,
 "nbformat_minor": 2
}
