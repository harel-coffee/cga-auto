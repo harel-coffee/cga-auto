{
 "cells": [
  {
   "cell_type": "code",
   "execution_count": 1,
   "metadata": {},
   "outputs": [],
   "source": [
    "# This is a simple script formatting the PC9 data to data preprocessing\n",
    "# Author: Yiyun\n",
    "\n",
    "import pandas as pd\n",
    "from os.path import join\n",
    "from multiprocessing import Pool\n",
    "\n",
    "import requests, sys\n",
    "server = \"https://rest.ensembl.org\" # Ensembl server"
   ]
  },
  {
   "cell_type": "code",
   "execution_count": 2,
   "metadata": {},
   "outputs": [],
   "source": [
    "# Read 19Q3 file, use column names as reference for genes \n",
    "q3_dir = '../data/DepMap/19Q3'\n",
    "df_ref19q3 = pd.read_csv(join(q3_dir,'Achilles_gene_effect.csv'), index_col = 0)\n",
    "\n",
    "# Read PC9 file\n",
    "df_pc9 = pd.read_csv(join(q3_dir,'PC9_corrected','BatchCorrectedPritchard.csv'), index_col = 0)\n",
    "df_pc9.columns = ['ACH-000113'] # id for PC9 cell line\n",
    "df_pc9= df_pc9.T"
   ]
  },
  {
   "cell_type": "code",
   "execution_count": 3,
   "metadata": {},
   "outputs": [],
   "source": [
    "# Create dictionary for gene names and id in 19Q3 file\n",
    "dict_code = {}\n",
    "for i in range(0, len(df_ref19q3.T)):\n",
    "    name,idx = df_ref19q3.columns[i].split(' ')[0:2]\n",
    "    if name not in dict_code:\n",
    "        dict_code[name] = idx"
   ]
  },
  {
   "cell_type": "code",
   "execution_count": 4,
   "metadata": {
    "scrolled": true
   },
   "outputs": [],
   "source": [
    "# How many genes can not be found in 19Q3 file\n",
    "for names in df_pc9.columns:\n",
    "    if names in dict_code:\n",
    "        new_name = names + ' ' + dict_code[names]\n",
    "        df_pc9.rename(columns = {names:new_name}, inplace = True)\n",
    "    else:\n",
    "        df_pc9 = df_pc9.drop(columns=[names])"
   ]
  },
  {
   "cell_type": "code",
   "execution_count": 7,
   "metadata": {
    "scrolled": true
   },
   "outputs": [
    {
     "data": {
      "text/plain": [
       "16003"
      ]
     },
     "execution_count": 7,
     "metadata": {},
     "output_type": "execute_result"
    }
   ],
   "source": [
    "len(df_pc9.columns) # 16003 genes are mapped, 634 genes not found"
   ]
  },
  {
   "cell_type": "code",
   "execution_count": 9,
   "metadata": {},
   "outputs": [],
   "source": [
    "df_pc9.to_csv(join(q3_dir,'PC9_corrected','gene_effect.csv'), sep = ',')"
   ]
  }
 ],
 "metadata": {
  "kernelspec": {
   "display_name": "Python 3",
   "language": "python",
   "name": "python3"
  },
  "language_info": {
   "codemirror_mode": {
    "name": "ipython",
    "version": 3
   },
   "file_extension": ".py",
   "mimetype": "text/x-python",
   "name": "python",
   "nbconvert_exporter": "python",
   "pygments_lexer": "ipython3",
   "version": "3.7.9"
  }
 },
 "nbformat": 4,
 "nbformat_minor": 4
}
