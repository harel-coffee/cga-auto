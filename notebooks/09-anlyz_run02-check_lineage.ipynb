{
 "cells": [
  {
   "cell_type": "markdown",
   "metadata": {},
   "source": [
    "### Check model results for lineage"
   ]
  },
  {
   "cell_type": "code",
   "execution_count": 13,
   "metadata": {},
   "outputs": [],
   "source": [
    "import os\n",
    "import pandas as pd\n",
    "import glob\n",
    "import re"
   ]
  },
  {
   "cell_type": "code",
   "execution_count": 6,
   "metadata": {},
   "outputs": [],
   "source": [
    "dir_in_anlyz = '../out/20.0216 feat/reg_rf_boruta/anlyz/'\n",
    "\n",
    "df = pd.read_csv(os.path.join(dir_in_anlyz, 'feat_summary_varExp.csv'))"
   ]
  },
  {
   "cell_type": "code",
   "execution_count": 12,
   "metadata": {},
   "outputs": [
    {
     "data": {
      "text/plain": [
       "feat_source\n",
       "CERES      3810\n",
       "CN          280\n",
       "Mut           6\n",
       "RNA-seq    1734\n",
       "Name: feat_source, dtype: int64"
      ]
     },
     "execution_count": 12,
     "metadata": {},
     "output_type": "execute_result"
    }
   ],
   "source": [
    "df.groupby('feat_source')['feat_source'].count()"
   ]
  },
  {
   "cell_type": "markdown",
   "metadata": {},
   "source": [
    "Lineage is not in the results (top 10 features). Check then in all the selected features"
   ]
  },
  {
   "cell_type": "code",
   "execution_count": 72,
   "metadata": {},
   "outputs": [],
   "source": [
    "# check for in the selected features\n",
    "dir_in_perf = '../out/20.0216 feat/reg_rf_boruta/model_perf/'\n",
    "\n",
    "counts = {'CERES':0,\n",
    "          'RNA-seq':0,\n",
    "          'CN':0,\n",
    "          'Mut':0,\n",
    "          'Lineage':0}\n",
    "df_lineage = pd.DataFrame()\n",
    "for fname in glob.glob('%s/feats_*.csv' % dir_in_perf):\n",
    "    df = pd.read_csv(fname) # read in the features\n",
    "    df_feat = pd.DataFrame({'feature':df.feature.str.extract('^(.*)\\s')[0],\n",
    "                            'feature_source':df.feature.str.extract('\\[(.*)\\]')[0]})\n",
    "    df_feat['target'] = re.findall('feats_(.*)\\.csv', fname)[0]\n",
    "    df_counts = df.feature.str.extract('\\[(.*)\\]').groupby(0).size() # tally the counts\n",
    "    for n,v in zip(df_counts.index, df_counts.values):\n",
    "        counts[n] = counts[n]+v # add to the counts\n",
    "        \n",
    "    if sum(df_feat.feature_source == 'Lineage')>0:\n",
    "        df_tmp = df_feat.loc[df_feat.feature_source == 'Lineage',:].copy()\n",
    "        df_lineage = pd.concat([df_lineage, df_tmp])"
   ]
  },
  {
   "cell_type": "code",
   "execution_count": 91,
   "metadata": {},
   "outputs": [],
   "source": [
    "df_counts = pd.Series(counts)"
   ]
  },
  {
   "cell_type": "code",
   "execution_count": 108,
   "metadata": {},
   "outputs": [
    {
     "data": {
      "image/png": "[encoded data removed]",
      "text/plain": [
       "<Figure size 432x288 with 1 Axes>"
      ]
     },
     "metadata": {},
     "output_type": "display_data"
    }
   ],
   "source": [
    "import matplotlib.pyplot as plt\n",
    "plt.figure()\n",
    "plt.pie(df_counts.values, labels=df_counts.index.values, autopct='%0.1f%%')\n",
    "plt.tight_layout()"
   ]
  },
  {
   "cell_type": "code",
   "execution_count": 74,
   "metadata": {},
   "outputs": [
    {
     "data": {
      "text/html": [
       "<div>\n",
       "<style scoped>\n",
       "    .dataframe tbody tr th:only-of-type {\n",
       "        vertical-align: middle;\n",
       "    }\n",
       "\n",
       "    .dataframe tbody tr th {\n",
       "        vertical-align: top;\n",
       "    }\n",
       "\n",
       "    .dataframe thead th {\n",
       "        text-align: right;\n",
       "    }\n",
       "</style>\n",
       "<table border=\"1\" class=\"dataframe\">\n",
       "  <thead>\n",
       "    <tr style=\"text-align: right;\">\n",
       "      <th></th>\n",
       "      <th>feature</th>\n",
       "      <th>feature_source</th>\n",
       "      <th>target</th>\n",
       "    </tr>\n",
       "  </thead>\n",
       "  <tbody>\n",
       "    <tr>\n",
       "      <th>102</th>\n",
       "      <td>HAEMATOPOIETIC_AND_LYMPHOID_TISSUE</td>\n",
       "      <td>Lineage</td>\n",
       "      <td>PPCDC</td>\n",
       "    </tr>\n",
       "    <tr>\n",
       "      <th>18</th>\n",
       "      <td>PANCREAS</td>\n",
       "      <td>Lineage</td>\n",
       "      <td>KRAS</td>\n",
       "    </tr>\n",
       "    <tr>\n",
       "      <th>29</th>\n",
       "      <td>HAEMATOPOIETIC_AND_LYMPHOID_TISSUE</td>\n",
       "      <td>Lineage</td>\n",
       "      <td>NAMPT</td>\n",
       "    </tr>\n",
       "    <tr>\n",
       "      <th>54</th>\n",
       "      <td>SKIN</td>\n",
       "      <td>Lineage</td>\n",
       "      <td>SOX10</td>\n",
       "    </tr>\n",
       "    <tr>\n",
       "      <th>26</th>\n",
       "      <td>SKIN</td>\n",
       "      <td>Lineage</td>\n",
       "      <td>DUSP4</td>\n",
       "    </tr>\n",
       "    <tr>\n",
       "      <th>120</th>\n",
       "      <td>HAEMATOPOIETIC_AND_LYMPHOID_TISSUE</td>\n",
       "      <td>Lineage</td>\n",
       "      <td>ATP1B3</td>\n",
       "    </tr>\n",
       "    <tr>\n",
       "      <th>40</th>\n",
       "      <td>HAEMATOPOIETIC_AND_LYMPHOID_TISSUE</td>\n",
       "      <td>Lineage</td>\n",
       "      <td>CBFB</td>\n",
       "    </tr>\n",
       "    <tr>\n",
       "      <th>64</th>\n",
       "      <td>LARGE_INTESTINE</td>\n",
       "      <td>Lineage</td>\n",
       "      <td>CTNNB1</td>\n",
       "    </tr>\n",
       "    <tr>\n",
       "      <th>30</th>\n",
       "      <td>HAEMATOPOIETIC_AND_LYMPHOID_TISSUE</td>\n",
       "      <td>Lineage</td>\n",
       "      <td>NCKAP1</td>\n",
       "    </tr>\n",
       "    <tr>\n",
       "      <th>39</th>\n",
       "      <td>SKIN</td>\n",
       "      <td>Lineage</td>\n",
       "      <td>BRAF</td>\n",
       "    </tr>\n",
       "    <tr>\n",
       "      <th>51</th>\n",
       "      <td>SKIN</td>\n",
       "      <td>Lineage</td>\n",
       "      <td>ZEB2</td>\n",
       "    </tr>\n",
       "  </tbody>\n",
       "</table>\n",
       "</div>"
      ],
      "text/plain": [
       "                                feature feature_source  target\n",
       "102  HAEMATOPOIETIC_AND_LYMPHOID_TISSUE        Lineage   PPCDC\n",
       "18                             PANCREAS        Lineage    KRAS\n",
       "29   HAEMATOPOIETIC_AND_LYMPHOID_TISSUE        Lineage   NAMPT\n",
       "54                                 SKIN        Lineage   SOX10\n",
       "26                                 SKIN        Lineage   DUSP4\n",
       "120  HAEMATOPOIETIC_AND_LYMPHOID_TISSUE        Lineage  ATP1B3\n",
       "40   HAEMATOPOIETIC_AND_LYMPHOID_TISSUE        Lineage    CBFB\n",
       "64                      LARGE_INTESTINE        Lineage  CTNNB1\n",
       "30   HAEMATOPOIETIC_AND_LYMPHOID_TISSUE        Lineage  NCKAP1\n",
       "39                                 SKIN        Lineage    BRAF\n",
       "51                                 SKIN        Lineage    ZEB2"
      ]
     },
     "execution_count": 74,
     "metadata": {},
     "output_type": "execute_result"
    }
   ],
   "source": [
    "df_lineage"
   ]
  },
  {
   "cell_type": "code",
   "execution_count": null,
   "metadata": {},
   "outputs": [],
   "source": []
  }
 ],
 "metadata": {
  "kernelspec": {
   "display_name": "Python 3",
   "language": "python",
   "name": "python3"
  },
  "language_info": {
   "codemirror_mode": {
    "name": "ipython",
    "version": 3
   },
   "file_extension": ".py",
   "mimetype": "text/x-python",
   "name": "python",
   "nbconvert_exporter": "python",
   "pygments_lexer": "ipython3",
   "version": "3.7.7"
  },
  "toc": {
   "base_numbering": 1,
   "nav_menu": {},
   "number_sections": true,
   "sideBar": true,
   "skip_h1_title": false,
   "title_cell": "Table of Contents",
   "title_sidebar": "Contents",
   "toc_cell": false,
   "toc_position": {},
   "toc_section_display": true,
   "toc_window_display": false
  }
 },
 "nbformat": 4,
 "nbformat_minor": 2
}
