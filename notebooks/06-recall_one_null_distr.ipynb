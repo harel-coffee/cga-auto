{
 "cells": [
  {
   "cell_type": "markdown",
   "metadata": {},
   "source": [
    "Current recall generates a null distribution for each given gene, while the previous recall method uses a single null distribution. Reanalyze the data with a single null distribution."
   ]
  },
  {
   "cell_type": "code",
   "execution_count": 168,
   "metadata": {},
   "outputs": [],
   "source": [
    "import pickle\n",
    "import pandas as pd\n",
    "import glob\n",
    "import re\n",
    "from scipy.stats import spearmanr\n",
    "import numpy as np"
   ]
  },
  {
   "cell_type": "code",
   "execution_count": 169,
   "metadata": {},
   "outputs": [],
   "source": [
    "# get results\n",
    "dir_Lx = '../out/20.0518 Lx/'\n",
    "Lx = 300\n",
    "model_name = 'topfeat'\n",
    "df_results = pd.read_csv('%s/L%sonly_reg_rf_boruta/model_results.csv' % (dir_Lx, Lx))\n",
    "df_results = df_results.loc[df_results.model == model_name,:].copy()"
   ]
  },
  {
   "cell_type": "code",
   "execution_count": 170,
   "metadata": {},
   "outputs": [],
   "source": [
    "# get y_actual and y_pred, list of pickle file names\n",
    "dir_pkl = '../out/20.0518 Lx/L%sonly_reg_rf_boruta/model_perf' % Lx\n",
    "pkl_files = glob.glob('%s/y_compr_*.pkl' % dir_pkl)"
   ]
  },
  {
   "cell_type": "code",
   "execution_count": 171,
   "metadata": {},
   "outputs": [],
   "source": [
    "y_compr_list = []\n",
    "gene_names = []\n",
    "\n",
    "for pkl_file in pkl_files:\n",
    "    gene = re.findall('.*/y_compr_(.*).pkl', pkl_file)[0]\n",
    "    y_compr = pickle.load(open(pkl_file, 'rb'))\n",
    "\n",
    "    y_compr_list.append(y_compr['te'])\n",
    "    gene_names.append(gene)"
   ]
  },
  {
   "cell_type": "code",
   "execution_count": 172,
   "metadata": {},
   "outputs": [],
   "source": [
    "cell_lines = []\n",
    "\n",
    "#null rho distribution\n",
    "y_actual = pd.DataFrame([i['y_actual'] for i in y_compr_list],\n",
    "                        #columns=cell_lines,\n",
    "                        index=gene_names)\n",
    "y_actual = y_actual.T\n",
    "y_inf = pd.DataFrame([i['y_pred'] for i in y_compr_list],\n",
    "                     #columns=cell_lines,\n",
    "                     index=gene_names)\n",
    "y_inf = y_inf.T\n",
    "\n",
    "rho,pval = spearmanr(y_actual, y_inf, axis=0)\n",
    "\n",
    "rho_actual = rho[0:y_actual.shape[1], y_actual.shape[1]:]\n",
    "rho_actual = rho_actual[np.eye(rho_actual.shape[0],dtype=bool)].reshape(rho_actual.shape[0])\n",
    "rho_actual = pd.DataFrame(rho_actual, index=y_inf.columns, columns=['rho_actual'])\n",
    "rho_null = rho[0:y_actual.shape[1], y_actual.shape[1]:]\n",
    "rho_null = rho_null[~np.eye(rho_null.shape[0],dtype=bool)].reshape(rho_null.shape[0],-1) #remove diagonal\n",
    "rho_null = np.squeeze(rho_null.reshape(1,np.prod(rho_null.shape))) #squeeze into 1d array\n",
    "\n",
    "#calculate recall\n",
    "def calcRecall(val):\n",
    "    return np.sum(val > rho_null) / len(rho_null)\n",
    "\n",
    "df_results['corr_test_recall_1null'] = df_results['corr_test'].apply(calcRecall)"
   ]
  },
  {
   "cell_type": "code",
   "execution_count": 173,
   "metadata": {},
   "outputs": [],
   "source": [
    "df_results.to_csv('tmp/model_results_L%s_reg_rf_boruta_%s.csv' % (Lx,model_name), index=False)"
   ]
  },
  {
   "cell_type": "code",
   "execution_count": null,
   "metadata": {},
   "outputs": [],
   "source": []
  }
 ],
 "metadata": {
  "kernelspec": {
   "display_name": "Python 3",
   "language": "python",
   "name": "python3"
  },
  "language_info": {
   "codemirror_mode": {
    "name": "ipython",
    "version": 3
   },
   "file_extension": ".py",
   "mimetype": "text/x-python",
   "name": "python",
   "nbconvert_exporter": "python",
   "pygments_lexer": "ipython3",
   "version": "3.7.7"
  }
 },
 "nbformat": 4,
 "nbformat_minor": 2
}
