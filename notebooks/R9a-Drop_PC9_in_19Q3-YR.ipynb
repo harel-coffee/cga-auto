{
 "cells": [
  {
   "cell_type": "code",
   "execution_count": 1,
   "metadata": {},
   "outputs": [],
   "source": [
    "# This notebook delete PC9 from 19Q3 data to predict PC9 data\n",
    "# Author: Yiyun\n",
    "\n",
    "import pandas as pd\n",
    "from os.path import join\n",
    "from multiprocessing import Pool\n",
    "q3_dir = '../data/DepMap/19Q3'\n",
    "q4_dir = '../data/DepMap/19Q4'"
   ]
  },
  {
   "cell_type": "code",
   "execution_count": 2,
   "metadata": {},
   "outputs": [],
   "source": [
    "# Read 19Q3 and 19Q4 file, use column names as reference for genes \n",
    "df_ref19q3 = pd.read_csv(join(q3_dir,'Achilles_gene_effect.csv'), index_col = 0)\n",
    "df_ref19q4 = pd.read_csv(join(q4_dir,'Achilles_gene_effect.csv'), index_col = 0)"
   ]
  },
  {
   "cell_type": "code",
   "execution_count": 3,
   "metadata": {},
   "outputs": [],
   "source": [
    "# Delete PC9 data from gene effect file\n",
    "df_ref19q3_m = df_ref19q3.drop(['ACH-000030'])\n",
    "df_ref19q4_m = df_ref19q4.drop(['ACH-000030'])"
   ]
  },
  {
   "cell_type": "code",
   "execution_count": null,
   "metadata": {},
   "outputs": [],
   "source": [
    "# Save file\n",
    "df_ref19q3_m.to_csv(join(q3_dir,'Achilles_gene_effect_drop_pc9.csv'), sep = ',')\n",
    "df_ref19q4_m.to_csv(join(q4_dir,'Achilles_gene_effect_drop_pc9.csv'), sep = ',')"
   ]
  },
  {
   "cell_type": "code",
   "execution_count": null,
   "metadata": {},
   "outputs": [],
   "source": [
    "# Change PC9 cell name into an arbitrary cell name as well\n",
    "df_pc9 = pd.read_csv(join(q3_dir,'PC9_corrected','gene_effect.csv'), index_col = 0)"
   ]
  },
  {
   "cell_type": "code",
   "execution_count": null,
   "metadata": {},
   "outputs": [],
   "source": [
    "df_pc9"
   ]
  }
 ],
 "metadata": {
  "kernelspec": {
   "display_name": "Python 3",
   "language": "python",
   "name": "python3"
  },
  "language_info": {
   "codemirror_mode": {
    "name": "ipython",
    "version": 3
   },
   "file_extension": ".py",
   "mimetype": "text/x-python",
   "name": "python",
   "nbconvert_exporter": "python",
   "pygments_lexer": "ipython3",
   "version": "3.7.9"
  }
 },
 "nbformat": 4,
 "nbformat_minor": 4
}
