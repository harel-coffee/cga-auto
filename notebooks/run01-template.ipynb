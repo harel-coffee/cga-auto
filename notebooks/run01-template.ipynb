{
 "cells": [
  {
   "cell_type": "markdown",
   "metadata": {},
   "source": [
    "## Run pipeline templates"
   ]
  },
  {
   "cell_type": "markdown",
   "metadata": {},
   "source": [
    "These are templates for running the pipline. Note this depends on preprocessed DepMap data. See *run01-preprocess_data.ipynb* for such run."
   ]
  },
  {
   "cell_type": "code",
   "execution_count": 1,
   "metadata": {},
   "outputs": [
    {
     "name": "stderr",
     "output_type": "stream",
     "text": [
      "/storage/home/yur97/anaconda3/envs/cnp/lib/python3.7/site-packages/tqdm/std.py:668: FutureWarning: The Panel class is removed from pandas. Accessing it from the top-level namespace will also be removed in the next version\n",
      "  from pandas import Panel\n",
      "Using TensorFlow backend.\n",
      "Matplotlib is building the font cache; this may take a moment.\n"
     ]
    }
   ],
   "source": [
    "import sys\n",
    "sys.path.append('../src/')\n",
    "\n",
    "from ceres_infer.session import workflow\n",
    "from ceres_infer.models import model_infer_iter_ens"
   ]
  },
  {
   "cell_type": "code",
   "execution_count": 17,
   "metadata": {},
   "outputs": [
    {
     "name": "stdout",
     "output_type": "stream",
     "text": [
      "The autoreload extension is already loaded. To reload it, use:\n",
      "  %reload_ext autoreload\n"
     ]
    }
   ],
   "source": [
    "%load_ext autoreload\n",
    "%autoreload 2"
   ]
  },
  {
   "cell_type": "code",
   "execution_count": 3,
   "metadata": {},
   "outputs": [],
   "source": [
    "import logging\n",
    "logging.basicConfig(level=logging.INFO)"
   ]
  },
  {
   "cell_type": "code",
   "execution_count": 11,
   "metadata": {},
   "outputs": [],
   "source": [
    "# Parameters\n",
    "params = {\n",
    "    # directories\n",
    "    'outdir_run': '../out/20.0926 feat/reg_rf_boruta/', # output dir for the run\n",
    "    'outdir_modtmp': '../out/20.0926 feat/reg_rf_boruta/model_perf/', # intermediate files for each model\n",
    "    'indir_dmdata_Q3': '../out/20.0925 proc_data/gene_effect/dm_data.pkl', # pickled preprocessed DepMap Q3 data\n",
    "    'indir_dmdata_Q4': '../out/20.0925 proc_data/gene_effect/dm_data_Q4.pkl', # pickled preprocessed DepMap Q3 data\n",
    "    'indir_dmdata_sanger': '../out/20.0925 proc_data/gene_effect/dm_data_sanger.pkl', # pickled preprocessed DepMap Q3 data\n",
    "    'indir_genesets': '../data/gene_sets/',\n",
    "    'indir_landmarks': None, # csv file of landmarks [default: None]\n",
    "\n",
    "    # notes\n",
    "    'session_notes': 'regression model, with random forest (iterative) and boruta feature selection; \\\n",
    "    run on selective dependent genes (CERES std > 0.25 and CERES range > 0.6)',\n",
    "\n",
    "    # data\n",
    "    'use_Sanger': True, # 'Sanger' or 'BROAD'\n",
    "    'opt_scale_data': True, # scale input data True/False\n",
    "    'opt_scale_data_types': '\\[(?:RNA-seq|CN)\\]', # data source types to scale; in regexp\n",
    "    'model_data_source': ['CERES','RNA-seq','CN','Mut','Lineage'],\n",
    "    'anlyz_set_topN': 10, # for analysis set how many of the top features to look at\n",
    "    'perm_null': 1000, # number of samples to get build the null distribution, for corr\n",
    "    'useGene_dependency': False, # whether to use CERES gene dependency (true) or gene effect (false)\n",
    "    'scope': ['KRAS','TP53'], # scope for which target genes to run on; list of gene names, or 'all', 'differential'\n",
    "\n",
    "    # model\n",
    "    'model_name': 'rf',\n",
    "    'model_params': {'n_estimators':1000,'max_depth':15,'min_samples_leaf':5,'max_features':'log2'},\n",
    "    'model_paramsgrid': {},\n",
    "    'model_pipeline': model_infer_iter_ens,\n",
    "    'pipeline_params': {},\n",
    "    \n",
    "    # pipeline\n",
    "    'parallelize': False, # parallelize workflow\n",
    "    'processes': 1, # number of cpu processes to use\n",
    "    \n",
    "    # analysis\n",
    "    'metric_eval': 'score_test',  # metric in model_results to evaluate, e.g. score_test, score_oob\n",
    "    'thresholds': {'score_rd10': 0.1,  # score of reduced model - threshold for filtering\n",
    "                   'recall_rd10': 0.95},  # recall of reduced model - threshold for filtering\n",
    "    'min_gs_size': 4 # minimum gene set size, to be derived\n",
    "}"
   ]
  },
  {
   "cell_type": "code",
   "execution_count": null,
   "metadata": {},
   "outputs": [],
   "source": [
    "# Run whole pipeline\n",
    "wf = workflow(params)\n",
    "wf.run_pipe()"
   ]
  },
  {
   "cell_type": "code",
   "execution_count": 18,
   "metadata": {},
   "outputs": [
    {
     "name": "stderr",
     "output_type": "stream",
     "text": [
      "INFO:root:Loading preprocessed data...\n",
      "INFO:root:Running model building and inference...\n",
      "  0%|          | 0/2 [00:00<?, ?it/s]"
     ]
    },
    {
     "name": "stdout",
     "output_type": "stream",
     "text": [
      "Feature name/order across the datasets do not match. There are 91205 common feats, drop other columns\n"
     ]
    },
    {
     "name": "stderr",
     "output_type": "stream",
     "text": [
      "\r",
      " 50%|█████     | 1/2 [04:55<04:55, 295.02s/it]"
     ]
    },
    {
     "name": "stdout",
     "output_type": "stream",
     "text": [
      "Feature name/order across the datasets do not match. There are 91205 common feats, drop other columns\n"
     ]
    },
    {
     "name": "stderr",
     "output_type": "stream",
     "text": [
      "100%|██████████| 2/2 [09:23<00:00, 281.73s/it]\n"
     ]
    }
   ],
   "source": [
    "# Run just the inference\n",
    "wf = workflow(params)\n",
    "pipeline = ['load_processed_data', 'infer']\n",
    "wf.create_pipe(pipeline)\n",
    "wf.run_pipe()"
   ]
  },
  {
   "cell_type": "code",
   "execution_count": null,
   "metadata": {},
   "outputs": [],
   "source": [
    "# Run analysis, based on pre-existing inference\n",
    "wf = workflow(params)\n",
    "pipeline = ['load_processed_data', 'load_model_results', \n",
    "            'analyze', 'analyze_filtered', 'derive_genesets', 'run_Rscripts']\n",
    "wf.create_pipe(pipeline)\n",
    "wf.run_pipe()"
   ]
  },
  {
   "cell_type": "code",
   "execution_count": null,
   "metadata": {},
   "outputs": [],
   "source": [
    "# Run just the inference\n",
    "import os\n",
    "wf = workflow(params)\n",
    "wf._get_analysis_paths()"
   ]
  },
  {
   "cell_type": "code",
   "execution_count": null,
   "metadata": {},
   "outputs": [],
   "source": [
    "# Analyze specific genes\n",
    "from ceres_infer.analyses import genBarPlotGene\n",
    "outdir = os.path.join(params['outdir_run'], gene_specific)\n",
    "if not os.path.exists(outdir_sub):\n",
    "    os.makedirs(outdir)\n",
    "\n",
    "#generate plot of specific gene\n",
    "genBarPlotGene(model_results, 'CDK4', 'score_oob', 0.5, outdir)\n",
    "genBarPlotGene(model_results, 'KRAS', 'score_oob', 0.5, outdir)\n",
    "genBarPlotGene(model_results, 'SOX10', 'score_oob', 0.5,  outdir)"
   ]
  }
 ],
 "metadata": {
  "kernelspec": {
   "display_name": "Python 3",
   "language": "python",
   "name": "python3"
  },
  "language_info": {
   "codemirror_mode": {
    "name": "ipython",
    "version": 3
   },
   "file_extension": ".py",
   "mimetype": "text/x-python",
   "name": "python",
   "nbconvert_exporter": "python",
   "pygments_lexer": "ipython3",
   "version": "3.7.9"
  },
  "toc": {
   "base_numbering": 1,
   "nav_menu": {},
   "number_sections": true,
   "sideBar": true,
   "skip_h1_title": false,
   "title_cell": "Table of Contents",
   "title_sidebar": "Contents",
   "toc_cell": false,
   "toc_position": {},
   "toc_section_display": true,
   "toc_window_display": true
  }
 },
 "nbformat": 4,
 "nbformat_minor": 4
}
