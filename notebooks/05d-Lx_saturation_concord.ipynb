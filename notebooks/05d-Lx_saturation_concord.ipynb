{
 "cells": [
  {
   "cell_type": "markdown",
   "metadata": {},
   "source": [
    "## Saturation analyses on the Lx (concordance)\n",
    "Based on concordance. The concordance calculations are added using 02d-concordance_ad_hoc_Lx"
   ]
  },
  {
   "cell_type": "code",
   "execution_count": 22,
   "metadata": {},
   "outputs": [],
   "source": [
    "import pandas as pd\n",
    "import numpy as np\n",
    "import matplotlib.pyplot as plt\n",
    "import seaborn as sns"
   ]
  },
  {
   "cell_type": "code",
   "execution_count": 23,
   "metadata": {},
   "outputs": [],
   "source": [
    "dir_Lx = '../out/20.0909 Lx/'"
   ]
  },
  {
   "cell_type": "code",
   "execution_count": 24,
   "metadata": {},
   "outputs": [],
   "source": [
    "def getConcord(x, mod_sfx, dummy_sfx=None):\n",
    "    # get concordance scores\n",
    "    if x == 0:\n",
    "        concord_tr = pd.read_csv('%s/%s/anlyz/concordance/concordance_tr.csv' % (dir_Lx, dummy_sfx))\n",
    "        concord_te = pd.read_csv('%s/%s/anlyz/concordance/concordance_te.csv' % (dir_Lx, dummy_sfx))\n",
    "    else:\n",
    "        concord_tr = pd.read_csv('%s/L%s%s/anlyz/concordance/concordance_tr.csv' % (dir_Lx, x, mod_sfx))\n",
    "        concord_te = pd.read_csv('%s/L%s%s/anlyz/concordance/concordance_te.csv' % (dir_Lx, x, mod_sfx))\n",
    "    \n",
    "    c_mean_tr = concord_tr.concordance.mean()\n",
    "    c_mean_te = concord_te.concordance.mean()\n",
    "    c_med_tr = concord_tr.concordance.median()\n",
    "    c_med_te = concord_te.concordance.median()\n",
    "                \n",
    "    return c_mean_tr, c_mean_te, c_med_tr, c_med_te, concord_tr.shape[0]\n",
    "\n",
    "\n",
    "def getStats(mod_sfx, dummy_sfx):\n",
    "    df_stats = {'Lx':[], 'c_mean_tr':[], 'c_mean_te':[], 'c_med_tr':[], 'c_med_te':[], 'n_targets':[]}\n",
    "    for x in Lx_range:\n",
    "        df_stats['Lx'].append(x)\n",
    "        c_mean_tr, c_mean_te, c_med_tr, c_med_te, n_targets = getConcord(x, mod_sfx, dummy_sfx)\n",
    "        df_stats['c_mean_tr'].append(c_mean_tr)\n",
    "        df_stats['c_mean_te'].append(c_mean_te)\n",
    "        df_stats['c_med_tr'].append(c_med_tr)\n",
    "        df_stats['c_med_te'].append(c_med_te)\n",
    "        df_stats['n_targets'].append(n_targets)\n",
    "    df_stats = pd.DataFrame(df_stats)\n",
    "    return df_stats"
   ]
  },
  {
   "cell_type": "markdown",
   "metadata": {},
   "source": [
    "### LxOnly rf-boruta"
   ]
  },
  {
   "cell_type": "code",
   "execution_count": 16,
   "metadata": {},
   "outputs": [
    {
     "data": {
      "text/html": [
       "<div>\n",
       "<style scoped>\n",
       "    .dataframe tbody tr th:only-of-type {\n",
       "        vertical-align: middle;\n",
       "    }\n",
       "\n",
       "    .dataframe tbody tr th {\n",
       "        vertical-align: top;\n",
       "    }\n",
       "\n",
       "    .dataframe thead th {\n",
       "        text-align: right;\n",
       "    }\n",
       "</style>\n",
       "<table border=\"1\" class=\"dataframe\">\n",
       "  <thead>\n",
       "    <tr style=\"text-align: right;\">\n",
       "      <th></th>\n",
       "      <th>Lx</th>\n",
       "      <th>c_mean_tr</th>\n",
       "      <th>c_mean_te</th>\n",
       "      <th>c_med_tr</th>\n",
       "      <th>c_med_te</th>\n",
       "      <th>n_targets</th>\n",
       "    </tr>\n",
       "  </thead>\n",
       "  <tbody>\n",
       "    <tr>\n",
       "      <th>0</th>\n",
       "      <td>0</td>\n",
       "      <td>0.798334</td>\n",
       "      <td>0.791213</td>\n",
       "      <td>0.827869</td>\n",
       "      <td>0.816092</td>\n",
       "      <td>535</td>\n",
       "    </tr>\n",
       "    <tr>\n",
       "      <th>1</th>\n",
       "      <td>25</td>\n",
       "      <td>0.854887</td>\n",
       "      <td>0.800140</td>\n",
       "      <td>0.846311</td>\n",
       "      <td>0.827586</td>\n",
       "      <td>557</td>\n",
       "    </tr>\n",
       "    <tr>\n",
       "      <th>2</th>\n",
       "      <td>75</td>\n",
       "      <td>0.866338</td>\n",
       "      <td>0.804387</td>\n",
       "      <td>0.856557</td>\n",
       "      <td>0.821839</td>\n",
       "      <td>546</td>\n",
       "    </tr>\n",
       "    <tr>\n",
       "      <th>3</th>\n",
       "      <td>100</td>\n",
       "      <td>0.871614</td>\n",
       "      <td>0.811322</td>\n",
       "      <td>0.860656</td>\n",
       "      <td>0.827586</td>\n",
       "      <td>535</td>\n",
       "    </tr>\n",
       "    <tr>\n",
       "      <th>4</th>\n",
       "      <td>200</td>\n",
       "      <td>0.877859</td>\n",
       "      <td>0.820019</td>\n",
       "      <td>0.866803</td>\n",
       "      <td>0.827586</td>\n",
       "      <td>521</td>\n",
       "    </tr>\n",
       "    <tr>\n",
       "      <th>5</th>\n",
       "      <td>300</td>\n",
       "      <td>0.879201</td>\n",
       "      <td>0.820529</td>\n",
       "      <td>0.870902</td>\n",
       "      <td>0.827586</td>\n",
       "      <td>500</td>\n",
       "    </tr>\n",
       "  </tbody>\n",
       "</table>\n",
       "</div>"
      ],
      "text/plain": [
       "    Lx  c_mean_tr  c_mean_te  c_med_tr  c_med_te  n_targets\n",
       "0    0   0.798334   0.791213  0.827869  0.816092        535\n",
       "1   25   0.854887   0.800140  0.846311  0.827586        557\n",
       "2   75   0.866338   0.804387  0.856557  0.821839        546\n",
       "3  100   0.871614   0.811322  0.860656  0.827586        535\n",
       "4  200   0.877859   0.820019  0.866803  0.827586        521\n",
       "5  300   0.879201   0.820529  0.870902  0.827586        500"
      ]
     },
     "execution_count": 16,
     "metadata": {},
     "output_type": "execute_result"
    }
   ],
   "source": [
    "Lx_range = [0,25,75,100,200,300]\n",
    "df_stats = getStats('only_reg_rf_boruta', 'L0only_reg_dummy')\n",
    "df_stats"
   ]
  },
  {
   "cell_type": "code",
   "execution_count": 17,
   "metadata": {},
   "outputs": [
    {
     "data": {
      "text/plain": [
       "[Text(0.5, 0, 'Lx'), Text(0, 0.5, 'Concordance')]"
      ]
     },
     "execution_count": 17,
     "metadata": {},
     "output_type": "execute_result"
    },
    {
     "data": {
      "image/png": "[encoded data removed]",
      "text/plain": [
       "<Figure size 432x288 with 1 Axes>"
      ]
     },
     "metadata": {
      "needs_background": "light"
     },
     "output_type": "display_data"
    }
   ],
   "source": [
    "ax = sns.scatterplot(df_stats.Lx, df_stats.c_mean_te, s=100)\n",
    "ax.set(xlabel='Lx', ylabel='Concordance')"
   ]
  },
  {
   "cell_type": "code",
   "execution_count": 20,
   "metadata": {},
   "outputs": [
    {
     "data": {
      "text/plain": [
       "[Text(0.5, 0, 'Lx'), Text(0, 0.5, 'Concordance')]"
      ]
     },
     "execution_count": 20,
     "metadata": {},
     "output_type": "execute_result"
    },
    {
     "data": {
      "image/png": "[encoded data removed]",
      "text/plain": [
       "<Figure size 432x288 with 1 Axes>"
      ]
     },
     "metadata": {
      "needs_background": "light"
     },
     "output_type": "display_data"
    }
   ],
   "source": [
    "ax = sns.scatterplot(df_stats.Lx, df_stats.c_mean_te / df_stats.c_mean_te[0], s=100)\n",
    "ax.set(xlabel='Lx', ylabel='Normalized Concordance')"
   ]
  },
  {
   "cell_type": "markdown",
   "metadata": {},
   "source": [
    "### LxOnly elastic-net genome-wide"
   ]
  },
  {
   "cell_type": "code",
   "execution_count": 13,
   "metadata": {},
   "outputs": [
    {
     "data": {
      "text/html": [
       "<div>\n",
       "<style scoped>\n",
       "    .dataframe tbody tr th:only-of-type {\n",
       "        vertical-align: middle;\n",
       "    }\n",
       "\n",
       "    .dataframe tbody tr th {\n",
       "        vertical-align: top;\n",
       "    }\n",
       "\n",
       "    .dataframe thead th {\n",
       "        text-align: right;\n",
       "    }\n",
       "</style>\n",
       "<table border=\"1\" class=\"dataframe\">\n",
       "  <thead>\n",
       "    <tr style=\"text-align: right;\">\n",
       "      <th></th>\n",
       "      <th>Lx</th>\n",
       "      <th>c_mean_tr</th>\n",
       "      <th>c_mean_te</th>\n",
       "      <th>c_med_tr</th>\n",
       "      <th>c_med_te</th>\n",
       "      <th>n_targets</th>\n",
       "    </tr>\n",
       "  </thead>\n",
       "  <tbody>\n",
       "    <tr>\n",
       "      <th>0</th>\n",
       "      <td>0</td>\n",
       "      <td>0.973425</td>\n",
       "      <td>0.973026</td>\n",
       "      <td>1.000000</td>\n",
       "      <td>1.000000</td>\n",
       "      <td>18228</td>\n",
       "    </tr>\n",
       "    <tr>\n",
       "      <th>1</th>\n",
       "      <td>200</td>\n",
       "      <td>0.829175</td>\n",
       "      <td>0.825966</td>\n",
       "      <td>0.834016</td>\n",
       "      <td>0.827586</td>\n",
       "      <td>149</td>\n",
       "    </tr>\n",
       "  </tbody>\n",
       "</table>\n",
       "</div>"
      ],
      "text/plain": [
       "    Lx  c_mean_tr  c_mean_te  c_med_tr  c_med_te  n_targets\n",
       "0    0   0.973425   0.973026  1.000000  1.000000      18228\n",
       "1  200   0.829175   0.825966  0.834016  0.827586        149"
      ]
     },
     "execution_count": 13,
     "metadata": {},
     "output_type": "execute_result"
    }
   ],
   "source": [
    "Lx_range = [0,200]\n",
    "df_stats = getStats('only_reg_elasticNet_all', 'L0only_reg_dummy_all')\n",
    "df_stats"
   ]
  },
  {
   "cell_type": "code",
   "execution_count": 14,
   "metadata": {},
   "outputs": [
    {
     "data": {
      "text/plain": [
       "[Text(0.5, 0, 'Lx'), Text(0, 0.5, 'Concordance')]"
      ]
     },
     "execution_count": 14,
     "metadata": {},
     "output_type": "execute_result"
    },
    {
     "data": {
      "image/png": "[encoded data removed]",
      "text/plain": [
       "<Figure size 432x288 with 1 Axes>"
      ]
     },
     "metadata": {
      "needs_background": "light"
     },
     "output_type": "display_data"
    }
   ],
   "source": [
    "ax = sns.scatterplot(df_stats.Lx, df_stats.c_mean_te, s=100)\n",
    "ax.set(xlabel='Lx', ylabel='Concordance')"
   ]
  },
  {
   "cell_type": "markdown",
   "metadata": {},
   "source": [
    "### LxOnly rf-boruta all"
   ]
  },
  {
   "cell_type": "code",
   "execution_count": 32,
   "metadata": {},
   "outputs": [
    {
     "data": {
      "text/html": [
       "<div>\n",
       "<style scoped>\n",
       "    .dataframe tbody tr th:only-of-type {\n",
       "        vertical-align: middle;\n",
       "    }\n",
       "\n",
       "    .dataframe tbody tr th {\n",
       "        vertical-align: top;\n",
       "    }\n",
       "\n",
       "    .dataframe thead th {\n",
       "        text-align: right;\n",
       "    }\n",
       "</style>\n",
       "<table border=\"1\" class=\"dataframe\">\n",
       "  <thead>\n",
       "    <tr style=\"text-align: right;\">\n",
       "      <th></th>\n",
       "      <th>Lx</th>\n",
       "      <th>c_mean_tr</th>\n",
       "      <th>c_mean_te</th>\n",
       "      <th>c_med_tr</th>\n",
       "      <th>c_med_te</th>\n",
       "      <th>n_targets</th>\n",
       "    </tr>\n",
       "  </thead>\n",
       "  <tbody>\n",
       "    <tr>\n",
       "      <th>0</th>\n",
       "      <td>0</td>\n",
       "      <td>0.973425</td>\n",
       "      <td>0.973026</td>\n",
       "      <td>1.0</td>\n",
       "      <td>1.0</td>\n",
       "      <td>18228</td>\n",
       "    </tr>\n",
       "    <tr>\n",
       "      <th>1</th>\n",
       "      <td>100</td>\n",
       "      <td>0.980433</td>\n",
       "      <td>0.974341</td>\n",
       "      <td>1.0</td>\n",
       "      <td>1.0</td>\n",
       "      <td>18222</td>\n",
       "    </tr>\n",
       "    <tr>\n",
       "      <th>2</th>\n",
       "      <td>200</td>\n",
       "      <td>0.981255</td>\n",
       "      <td>0.975158</td>\n",
       "      <td>1.0</td>\n",
       "      <td>1.0</td>\n",
       "      <td>18141</td>\n",
       "    </tr>\n",
       "    <tr>\n",
       "      <th>3</th>\n",
       "      <td>300</td>\n",
       "      <td>0.981713</td>\n",
       "      <td>0.975559</td>\n",
       "      <td>1.0</td>\n",
       "      <td>1.0</td>\n",
       "      <td>18047</td>\n",
       "    </tr>\n",
       "  </tbody>\n",
       "</table>\n",
       "</div>"
      ],
      "text/plain": [
       "    Lx  c_mean_tr  c_mean_te  c_med_tr  c_med_te  n_targets\n",
       "0    0   0.973425   0.973026       1.0       1.0      18228\n",
       "1  100   0.980433   0.974341       1.0       1.0      18222\n",
       "2  200   0.981255   0.975158       1.0       1.0      18141\n",
       "3  300   0.981713   0.975559       1.0       1.0      18047"
      ]
     },
     "execution_count": 32,
     "metadata": {},
     "output_type": "execute_result"
    }
   ],
   "source": [
    "Lx_range = [0,100, 200, 300]\n",
    "df_stats = getStats('only_reg_rf_boruta_all', 'L0only_reg_dummy_all')\n",
    "df_stats"
   ]
  },
  {
   "cell_type": "code",
   "execution_count": 33,
   "metadata": {},
   "outputs": [
    {
     "data": {
      "text/plain": [
       "[Text(0.5, 0, 'Lx'), Text(0, 0.5, 'Concordance')]"
      ]
     },
     "execution_count": 33,
     "metadata": {},
     "output_type": "execute_result"
    },
    {
     "data": {
      "image/png": "[encoded data removed]",
      "text/plain": [
       "<Figure size 432x288 with 1 Axes>"
      ]
     },
     "metadata": {
      "needs_background": "light"
     },
     "output_type": "display_data"
    }
   ],
   "source": [
    "ax = sns.scatterplot(df_stats.Lx, df_stats.c_mean_te, s=100)\n",
    "ax.set(xlabel='Lx', ylabel='Concordance')"
   ]
  },
  {
   "cell_type": "code",
   "execution_count": 34,
   "metadata": {},
   "outputs": [
    {
     "data": {
      "text/plain": [
       "[Text(0.5, 0, 'Lx'), Text(0, 0.5, 'Normalized Concordance')]"
      ]
     },
     "execution_count": 34,
     "metadata": {},
     "output_type": "execute_result"
    },
    {
     "data": {
      "image/png": "[encoded data removed]",
      "text/plain": [
       "<Figure size 432x288 with 1 Axes>"
      ]
     },
     "metadata": {
      "needs_background": "light"
     },
     "output_type": "display_data"
    }
   ],
   "source": [
    "ax = sns.scatterplot(df_stats.Lx, df_stats.c_mean_te / df_stats.c_mean_te[0], s=100)\n",
    "ax.set(xlabel='Lx', ylabel='Normalized Concordance')"
   ]
  },
  {
   "cell_type": "code",
   "execution_count": null,
   "metadata": {},
   "outputs": [],
   "source": []
  }
 ],
 "metadata": {
  "kernelspec": {
   "display_name": "Python 3",
   "language": "python",
   "name": "python3"
  },
  "language_info": {
   "codemirror_mode": {
    "name": "ipython",
    "version": 3
   },
   "file_extension": ".py",
   "mimetype": "text/x-python",
   "name": "python",
   "nbconvert_exporter": "python",
   "pygments_lexer": "ipython3",
   "version": "3.7.7"
  },
  "toc": {
   "base_numbering": 1,
   "nav_menu": {},
   "number_sections": true,
   "sideBar": true,
   "skip_h1_title": false,
   "title_cell": "Table of Contents",
   "title_sidebar": "Contents",
   "toc_cell": false,
   "toc_position": {},
   "toc_section_display": true,
   "toc_window_display": false
  }
 },
 "nbformat": 4,
 "nbformat_minor": 2
}
