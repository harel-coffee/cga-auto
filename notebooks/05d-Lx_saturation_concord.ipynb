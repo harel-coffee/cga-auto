{
 "cells": [
  {
   "cell_type": "markdown",
   "metadata": {},
   "source": [
    "## Saturation analyses on the Lx (concordance)\n",
    "Based on concordance. The concordance calculations are added using 02d-concordance_ad_hoc_Lx"
   ]
  },
  {
   "cell_type": "code",
   "execution_count": 3,
   "metadata": {},
   "outputs": [],
   "source": [
    "import pandas as pd\n",
    "import numpy as np\n",
    "import matplotlib.pyplot as plt\n",
    "import seaborn as sns"
   ]
  },
  {
   "cell_type": "code",
   "execution_count": 33,
   "metadata": {},
   "outputs": [],
   "source": [
    "dir_Lx = '../out/20.0518 Lx/'"
   ]
  },
  {
   "cell_type": "code",
   "execution_count": 34,
   "metadata": {},
   "outputs": [],
   "source": [
    "def getConcord(x, mod_sfx):\n",
    "    # get concordance scores\n",
    "    concord_tr = pd.read_csv('%s/L%s%s/anlyz/concordance/concordance_tr.csv' % (dir_Lx, x, mod_sfx))\n",
    "    concord_te = pd.read_csv('%s/L%sonly_reg_rf_boruta/anlyz/concordance/concordance_te.csv' % (dir_Lx, x))\n",
    "    \n",
    "    c_mean_tr = concord_tr.concordance.mean()\n",
    "    c_mean_te = concord_te.concordance.mean()\n",
    "    c_med_tr = concord_tr.concordance.median()\n",
    "    c_med_te = concord_te.concordance.median()\n",
    "                \n",
    "    return c_mean_tr, c_mean_te, c_med_tr, c_med_te, concord_tr.shape[0]\n",
    "\n",
    "\n",
    "def getStats(mod_sfx):\n",
    "    df_stats = {'Lx':[], 'c_mean_tr':[], 'c_mean_te':[], 'c_med_tr':[], 'c_med_te':[], 'n_targets':[]}\n",
    "    for x in Lx_range:\n",
    "        df_stats['Lx'].append(x)\n",
    "        c_mean_tr, c_mean_te, c_med_tr, c_med_te, n_targets = getConcord(x, mod_sfx)\n",
    "        df_stats['c_mean_tr'].append(c_mean_tr)\n",
    "        df_stats['c_mean_te'].append(c_mean_te)\n",
    "        df_stats['c_med_tr'].append(c_med_tr)\n",
    "        df_stats['c_med_te'].append(c_med_te)\n",
    "        df_stats['n_targets'].append(n_targets)\n",
    "    df_stats = pd.DataFrame(df_stats)\n",
    "    return df_stats"
   ]
  },
  {
   "cell_type": "markdown",
   "metadata": {},
   "source": [
    "### LxOnly rf-boruta"
   ]
  },
  {
   "cell_type": "code",
   "execution_count": 53,
   "metadata": {},
   "outputs": [
    {
     "data": {
      "text/html": [
       "<div>\n",
       "<style scoped>\n",
       "    .dataframe tbody tr th:only-of-type {\n",
       "        vertical-align: middle;\n",
       "    }\n",
       "\n",
       "    .dataframe tbody tr th {\n",
       "        vertical-align: top;\n",
       "    }\n",
       "\n",
       "    .dataframe thead th {\n",
       "        text-align: right;\n",
       "    }\n",
       "</style>\n",
       "<table border=\"1\" class=\"dataframe\">\n",
       "  <thead>\n",
       "    <tr style=\"text-align: right;\">\n",
       "      <th></th>\n",
       "      <th>Lx</th>\n",
       "      <th>c_mean_tr</th>\n",
       "      <th>c_mean_te</th>\n",
       "      <th>c_med_tr</th>\n",
       "      <th>c_med_te</th>\n",
       "      <th>n_targets</th>\n",
       "    </tr>\n",
       "  </thead>\n",
       "  <tbody>\n",
       "    <tr>\n",
       "      <th>0</th>\n",
       "      <td>25</td>\n",
       "      <td>0.831300</td>\n",
       "      <td>0.789341</td>\n",
       "      <td>0.836066</td>\n",
       "      <td>0.816092</td>\n",
       "      <td>559</td>\n",
       "    </tr>\n",
       "    <tr>\n",
       "      <th>1</th>\n",
       "      <td>75</td>\n",
       "      <td>0.843861</td>\n",
       "      <td>0.796724</td>\n",
       "      <td>0.843238</td>\n",
       "      <td>0.816092</td>\n",
       "      <td>546</td>\n",
       "    </tr>\n",
       "    <tr>\n",
       "      <th>2</th>\n",
       "      <td>100</td>\n",
       "      <td>0.848353</td>\n",
       "      <td>0.803438</td>\n",
       "      <td>0.846311</td>\n",
       "      <td>0.816092</td>\n",
       "      <td>535</td>\n",
       "    </tr>\n",
       "    <tr>\n",
       "      <th>3</th>\n",
       "      <td>200</td>\n",
       "      <td>0.857340</td>\n",
       "      <td>0.813930</td>\n",
       "      <td>0.852459</td>\n",
       "      <td>0.827586</td>\n",
       "      <td>521</td>\n",
       "    </tr>\n",
       "    <tr>\n",
       "      <th>4</th>\n",
       "      <td>300</td>\n",
       "      <td>0.870738</td>\n",
       "      <td>0.816207</td>\n",
       "      <td>0.864754</td>\n",
       "      <td>0.827586</td>\n",
       "      <td>500</td>\n",
       "    </tr>\n",
       "  </tbody>\n",
       "</table>\n",
       "</div>"
      ],
      "text/plain": [
       "    Lx  c_mean_tr  c_mean_te  c_med_tr  c_med_te  n_targets\n",
       "0   25   0.831300   0.789341  0.836066  0.816092        559\n",
       "1   75   0.843861   0.796724  0.843238  0.816092        546\n",
       "2  100   0.848353   0.803438  0.846311  0.816092        535\n",
       "3  200   0.857340   0.813930  0.852459  0.827586        521\n",
       "4  300   0.870738   0.816207  0.864754  0.827586        500"
      ]
     },
     "execution_count": 53,
     "metadata": {},
     "output_type": "execute_result"
    }
   ],
   "source": [
    "Lx_range = [25,75,100,200,300]\n",
    "df_stats = getStats('only_reg_rf_boruta')\n",
    "df_stats"
   ]
  },
  {
   "cell_type": "code",
   "execution_count": 54,
   "metadata": {},
   "outputs": [
    {
     "data": {
      "text/plain": [
       "[Text(0.5, 0, 'Lx'), Text(0, 0.5, 'Concordance')]"
      ]
     },
     "execution_count": 54,
     "metadata": {},
     "output_type": "execute_result"
    },
    {
     "data": {
      "image/png": "[encoded data removed]",
      "text/plain": [
       "<Figure size 432x288 with 1 Axes>"
      ]
     },
     "metadata": {
      "needs_background": "light"
     },
     "output_type": "display_data"
    }
   ],
   "source": [
    "ax = sns.scatterplot(df_stats.Lx, df_stats.c_mean_te, s=100)\n",
    "ax.set(xlabel='Lx', ylabel='Concordance')"
   ]
  },
  {
   "cell_type": "markdown",
   "metadata": {},
   "source": [
    "### LxOnly elastic-net genome-wide"
   ]
  },
  {
   "cell_type": "code",
   "execution_count": 48,
   "metadata": {},
   "outputs": [
    {
     "data": {
      "text/html": [
       "<div>\n",
       "<style scoped>\n",
       "    .dataframe tbody tr th:only-of-type {\n",
       "        vertical-align: middle;\n",
       "    }\n",
       "\n",
       "    .dataframe tbody tr th {\n",
       "        vertical-align: top;\n",
       "    }\n",
       "\n",
       "    .dataframe thead th {\n",
       "        text-align: right;\n",
       "    }\n",
       "</style>\n",
       "<table border=\"1\" class=\"dataframe\">\n",
       "  <thead>\n",
       "    <tr style=\"text-align: right;\">\n",
       "      <th></th>\n",
       "      <th>Lx</th>\n",
       "      <th>c_mean_tr</th>\n",
       "      <th>c_mean_te</th>\n",
       "      <th>c_med_tr</th>\n",
       "      <th>c_med_te</th>\n",
       "      <th>n_targets</th>\n",
       "    </tr>\n",
       "  </thead>\n",
       "  <tbody>\n",
       "    <tr>\n",
       "      <th>0</th>\n",
       "      <td>25</td>\n",
       "      <td>0.873783</td>\n",
       "      <td>0.789341</td>\n",
       "      <td>0.940574</td>\n",
       "      <td>0.816092</td>\n",
       "      <td>1487</td>\n",
       "    </tr>\n",
       "    <tr>\n",
       "      <th>1</th>\n",
       "      <td>75</td>\n",
       "      <td>0.895392</td>\n",
       "      <td>0.796724</td>\n",
       "      <td>0.965164</td>\n",
       "      <td>0.816092</td>\n",
       "      <td>2620</td>\n",
       "    </tr>\n",
       "    <tr>\n",
       "      <th>2</th>\n",
       "      <td>100</td>\n",
       "      <td>0.898453</td>\n",
       "      <td>0.803438</td>\n",
       "      <td>0.965164</td>\n",
       "      <td>0.816092</td>\n",
       "      <td>2594</td>\n",
       "    </tr>\n",
       "    <tr>\n",
       "      <th>3</th>\n",
       "      <td>200</td>\n",
       "      <td>0.900985</td>\n",
       "      <td>0.813930</td>\n",
       "      <td>0.967213</td>\n",
       "      <td>0.827586</td>\n",
       "      <td>2729</td>\n",
       "    </tr>\n",
       "  </tbody>\n",
       "</table>\n",
       "</div>"
      ],
      "text/plain": [
       "    Lx  c_mean_tr  c_mean_te  c_med_tr  c_med_te  n_targets\n",
       "0   25   0.873783   0.789341  0.940574  0.816092       1487\n",
       "1   75   0.895392   0.796724  0.965164  0.816092       2620\n",
       "2  100   0.898453   0.803438  0.965164  0.816092       2594\n",
       "3  200   0.900985   0.813930  0.967213  0.827586       2729"
      ]
     },
     "execution_count": 48,
     "metadata": {},
     "output_type": "execute_result"
    }
   ],
   "source": [
    "Lx_range = [25,75,100,200]\n",
    "df_stats = getStats('only_reg_elasticnet_all')\n",
    "df_stats"
   ]
  },
  {
   "cell_type": "code",
   "execution_count": 49,
   "metadata": {},
   "outputs": [
    {
     "data": {
      "text/plain": [
       "[Text(0.5, 0, 'Lx'), Text(0, 0.5, 'Concordance')]"
      ]
     },
     "execution_count": 49,
     "metadata": {},
     "output_type": "execute_result"
    },
    {
     "data": {
      "image/png": "[encoded data removed]",
      "text/plain": [
       "<Figure size 432x288 with 1 Axes>"
      ]
     },
     "metadata": {
      "needs_background": "light"
     },
     "output_type": "display_data"
    }
   ],
   "source": [
    "ax = sns.scatterplot(df_stats.Lx, df_stats.c_mean_te, s=100)\n",
    "ax.set(xlabel='Lx', ylabel='Concordance')"
   ]
  },
  {
   "cell_type": "code",
   "execution_count": null,
   "metadata": {},
   "outputs": [],
   "source": []
  }
 ],
 "metadata": {
  "kernelspec": {
   "display_name": "Python 3",
   "language": "python",
   "name": "python3"
  },
  "language_info": {
   "codemirror_mode": {
    "name": "ipython",
    "version": 3
   },
   "file_extension": ".py",
   "mimetype": "text/x-python",
   "name": "python",
   "nbconvert_exporter": "python",
   "pygments_lexer": "ipython3",
   "version": "3.7.7"
  },
  "toc": {
   "base_numbering": 1,
   "nav_menu": {},
   "number_sections": true,
   "sideBar": true,
   "skip_h1_title": false,
   "title_cell": "Table of Contents",
   "title_sidebar": "Contents",
   "toc_cell": false,
   "toc_position": {},
   "toc_section_display": true,
   "toc_window_display": false
  }
 },
 "nbformat": 4,
 "nbformat_minor": 2
}
