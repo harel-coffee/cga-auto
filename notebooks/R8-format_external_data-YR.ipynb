{
 "cells": [
  {
   "cell_type": "code",
   "execution_count": 1,
   "metadata": {},
   "outputs": [],
   "source": [
    "### This is a simple script formatting the PC9 data to data preprocessing\n",
    "# Author: Yiyun\n",
    "import pandas as pd\n",
    "import os\n",
    "import shutil"
   ]
  },
  {
   "cell_type": "markdown",
   "metadata": {},
   "source": [
    "***\n",
    "### Drop PC9 in 19Q3"
   ]
  },
  {
   "cell_type": "code",
   "execution_count": 4,
   "metadata": {},
   "outputs": [],
   "source": [
    "### q3 and q4 input and output folder path\n",
    "q3_dir = '../data/DepMap/19Q3'\n",
    "q4_dir = '../data/DepMap/19Q4'\n",
    "\n",
    "out_q3_dir = '../data/DepMap_DROP_PC9/19Q3'\n",
    "out_q4_dir = '../data/DepMap_DROP_PC9/19Q4'\n",
    "if not os.path.exists(out_q3_dir):\n",
    "    shutil.copytree(q3_dir,out_q3_dir)\n",
    "if not os.path.exists(out_q4_dir):\n",
    "    shutil.copytree(q4_dir,out_q4_dir)"
   ]
  },
  {
   "cell_type": "code",
   "execution_count": 5,
   "metadata": {},
   "outputs": [],
   "source": [
    "# Read 19Q3 and 19Q4 file, use column names as reference for genes \n",
    "df_ref19q3 = pd.read_csv(os.path.join(q3_dir,'Achilles_gene_effect.csv'), index_col = 0)\n",
    "df_ref19q4 = pd.read_csv(os.path.join(q4_dir,'Achilles_gene_effect.csv'), index_col = 0)"
   ]
  },
  {
   "cell_type": "code",
   "execution_count": 6,
   "metadata": {},
   "outputs": [],
   "source": [
    "# Delete PC9 data from gene effect file\n",
    "df_ref19q3_m = df_ref19q3.drop(['ACH-000030'])\n",
    "df_ref19q4_m = df_ref19q4.drop(['ACH-000030'])"
   ]
  },
  {
   "cell_type": "code",
   "execution_count": 7,
   "metadata": {},
   "outputs": [],
   "source": [
    "# Save file\n",
    "# df_ref19q3_m.to_csv(os.path.join(out_q3_dir,'Achilles_gene_effect.csv'), sep = ',')\n",
    "# df_ref19q4_m.to_csv(os.path.join(out_q4_dir,'Achilles_gene_effect.csv'), sep = ',')"
   ]
  },
  {
   "cell_type": "markdown",
   "metadata": {},
   "source": [
    "***\n",
    "### Format external data as q3 input"
   ]
  },
  {
   "cell_type": "code",
   "execution_count": 7,
   "metadata": {},
   "outputs": [],
   "source": [
    "### Read files\n",
    "# Need to read 19Q3 files for mapping the gene name + gene code\n",
    "q3_dir = '../data/DepMap/19Q3'\n",
    "q4_dir = '../data/DepMap/19Q4'\n",
    "skmel28_dir = '../data/ceres_external/SKMEL28'\n",
    "colo704_dir = '../data/ceres_external/COLO704'\n",
    "pc9_dir = '../data/ceres_external/PC9_corrected'\n",
    "to_dir = '../data/ceres_external/To'\n",
    "\n",
    "\n",
    "df_ref19q3 = pd.read_csv(os.path.join(q3_dir,'Achilles_gene_effect.csv'), index_col = 0)\n",
    "df_pc9 = pd.read_csv(os.path.join(pc9_dir,'BatchCorrectedPritchard.csv'), index_col = 0)\n",
    "df_to = pd.read_csv(os.path.join(to_dir,'ToCellCERES.csv'), index_col = 0)\n",
    "df_colo704 = pd.read_csv(os.path.join(colo704_dir,'COLO704_CERES.csv'), index_col = 0)\n",
    "df_skmel28 = pd.read_csv(os.path.join(skmel28_dir,'SKMEL28_CERES.csv'), index_col = 0)"
   ]
  },
  {
   "cell_type": "code",
   "execution_count": 9,
   "metadata": {},
   "outputs": [],
   "source": [
    "### Assign random cell line names and transpose the dataframe to let columns be genes\n",
    "df_pc9.columns = ['ACH-000113'] # Assign a random ID for PC9\n",
    "df_pc9= df_pc9.T\n",
    "df_to.columns = ['ACH-000113','ACH-000067','ACH-000070','ACH-000075',\\\n",
    "                 'ACH-000108','ACH-000228','ACH-000233','ACH-000414']\n",
    "df_to= df_to.T"
   ]
  },
  {
   "cell_type": "code",
   "execution_count": 8,
   "metadata": {},
   "outputs": [],
   "source": [
    "df_colo704.columns = ['ACH-000113']\n",
    "df_skmel28.columns = ['ACH-000113']\n",
    "df_colo704= df_colo704.T\n",
    "df_skmel28= df_skmel28.T"
   ]
  },
  {
   "cell_type": "code",
   "execution_count": null,
   "metadata": {
    "scrolled": true
   },
   "outputs": [],
   "source": [
    "### Map 19q3 column names to PC9 and To data\n",
    "# Create dictionary for gene names and id in 19Q3 file\n",
    "dict_code = {}\n",
    "for i in range(0, len(df_ref19q3.T)):\n",
    "    name,idx = df_ref19q3.columns[i].split(' ')[0:2]\n",
    "    if name not in dict_code:\n",
    "        dict_code[name] = idx\n",
    "\n",
    "# Map gene in PC9 and To data\n",
    "def map_gene_names(df):\n",
    "    global dict_code\n",
    "    for names in df.columns:\n",
    "        if names in dict_code:\n",
    "            new_name = names + ' ' + dict_code[names]\n",
    "            df.rename(columns = {names:new_name}, inplace = True)\n",
    "        else:\n",
    "            print(names)\n",
    "            df = df.drop(columns=[names])\n",
    "    \n",
    "    df = df.dropna(axis = 1)\n",
    "    return df\n",
    "\n",
    "# df_pc9 = map_gene_names(df_pc9)\n",
    "# df_to = map_gene_names(df_to)\n",
    "df_colo704 = map_gene_names(df_colo704)\n",
    "df_skmel28 = map_gene_names(df_skmel28)"
   ]
  },
  {
   "cell_type": "code",
   "execution_count": 9,
   "metadata": {},
   "outputs": [],
   "source": [
    "# df_pc9.to_csv(os.path.join(pc9_dir,'gene_effect.csv'), sep = ',')\n",
    "# df_to.to_csv(os.path.join(to_dir,'gene_effect.csv'), sep = ',')\n",
    "# df_skmel28.to_csv(os.path.join(skmel28_dir,'gene_effect.csv'), sep = ',')\n",
    "# df_colo704.to_csv(os.path.join(colo704_dir,'gene_effect.csv'), sep = ',')"
   ]
  },
  {
   "cell_type": "markdown",
   "metadata": {},
   "source": [
    "***\n",
    "### L200 standalone score"
   ]
  },
  {
   "cell_type": "code",
   "execution_count": 11,
   "metadata": {},
   "outputs": [],
   "source": [
    "### Read the l200 standalone gene and score\n",
    "pc9_dir = '../data/ceres_external/PC9_corrected'\n",
    "df_l200 = pd.read_csv(os.path.join(pc9_dir,'PC9AvL200_CERES.csv'))"
   ]
  },
  {
   "cell_type": "code",
   "execution_count": 12,
   "metadata": {},
   "outputs": [],
   "source": [
    "df_l200.columns = ['landmark','PC9.1','PC9.2','mean','gene.type','scaled.score']"
   ]
  },
  {
   "cell_type": "code",
   "execution_count": 13,
   "metadata": {},
   "outputs": [],
   "source": [
    "### Assign gene id\n",
    "### q3 and q4 input and output folder path\n",
    "q3_dir = '../data/DepMap/19Q3'\n",
    "q4_dir = '../data/DepMap/19Q4'\n",
    "    \n",
    "# Read 19Q3 and 19Q4 file, use column names as reference for genes \n",
    "df_ref19q3 = pd.read_csv(os.path.join(q3_dir,'Achilles_gene_effect.csv'), index_col = 0)\n",
    "df_ref19q4 = pd.read_csv(os.path.join(q4_dir,'Achilles_gene_effect.csv'), index_col = 0)\n",
    "### map gene id to gene name\n",
    "dict_code = {}\n",
    "for i in range(0, len(df_ref19q3.T)):\n",
    "    name,idx = df_ref19q3.columns[i].split(' ')[0:2]\n",
    "    if name not in dict_code:\n",
    "        dict_code[name] = idx"
   ]
  },
  {
   "cell_type": "code",
   "execution_count": 14,
   "metadata": {
    "scrolled": false
   },
   "outputs": [
    {
     "name": "stdout",
     "output_type": "stream",
     "text": [
      "KIAA0907\n",
      "HIAT1\n",
      "PTPLB\n",
      "NUDT4\n",
      "NPIPB5\n",
      "FAM21C\n",
      "ATP5I\n",
      "KIAA1279\n"
     ]
    }
   ],
   "source": [
    "# Map gene id to gene\n",
    "for i in range(0,len(df_l200)):\n",
    "    name = df_l200.loc[i,'landmark']\n",
    "    if name in dict_code:\n",
    "        new_name = name + ' ' + dict_code[name]\n",
    "        df_l200.loc[i,'landmark'] = new_name\n",
    "    else:\n",
    "        print(name)\n",
    "        df_l200 = df_l200.drop(i)\n",
    "df_l200 = df_l200.reset_index(drop = True)"
   ]
  },
  {
   "cell_type": "code",
   "execution_count": 16,
   "metadata": {},
   "outputs": [],
   "source": [
    "### Create stand alone l200 q3q4 file\n",
    "out_q3_dir = '../data/DepMap_DROP_PC9/19Q3'\n",
    "out_q4_dir = '../data/DepMap_DROP_PC9/19Q4'\n",
    "\n",
    "standalone_q3_dir = '../data/DepMap_PC9_Standalonel200/19Q3'\n",
    "standalone_q4_dir = '../data/DepMap_PC9_Standalonel200/19Q4'\n",
    "if not os.path.exists(standalone_q3_dir):\n",
    "    shutil.copytree(out_q3_dir,standalone_q3_dir)\n",
    "if not os.path.exists(standalone_q4_dir):\n",
    "    shutil.copytree(out_q4_dir,standalone_q4_dir)\n",
    "### Change gene names in 19q3 and 14(dropped pc9) -- read data\n",
    "df_q3 = pd.read_csv(os.path.join(standalone_q3_dir,'Achilles_gene_effect.csv'), index_col = 0)\n",
    "df_q4 = pd.read_csv(os.path.join(standalone_q4_dir,'Achilles_gene_effect.csv'), index_col = 0)"
   ]
  },
  {
   "cell_type": "code",
   "execution_count": 14,
   "metadata": {},
   "outputs": [],
   "source": [
    "### Change gene names in 19q3 and 14(dropped pc9) -- read data\n",
    "for i in range(0,len(df_l200)):\n",
    "    name = df_l200.loc[i,'landmark']\n",
    "    score = df_l200.loc[i,'scaled.score']\n",
    "    df_q3.loc['ACH-000113',name] = score\n",
    "    df_q4.loc['ACH-000113',name] = score"
   ]
  },
  {
   "cell_type": "code",
   "execution_count": null,
   "metadata": {},
   "outputs": [],
   "source": [
    "# Save file\n",
    "# df_q3.to_csv(os.path.join(standalone_q3_dir,'Achilles_gene_effect.csv'), sep = ',')\n",
    "# df_q4.to_csv(os.path.join(standalone_q4_dir,'Achilles_gene_effect.csv'), sep = ',')"
   ]
  },
  {
   "cell_type": "code",
   "execution_count": 21,
   "metadata": {},
   "outputs": [],
   "source": [
    "### For compare original l200 and standalone l200\n",
    "for i in range(0,len(df_l200)):\n",
    "    name = df_l200.loc[i,'landmark']\n",
    "    score_q3 = df_ref19q3.loc['ACH-000113',name]\n",
    "    df_l200.loc[i,'q3.score'] = score_q3"
   ]
  },
  {
   "cell_type": "code",
   "execution_count": 23,
   "metadata": {},
   "outputs": [],
   "source": [
    "import pandas as pd\n",
    "from os.path import join\n",
    "import pickle\n",
    "import matplotlib.pyplot as plt\n",
    "import seaborn as sns\n",
    "from scipy.stats import pearsonr,spearmanr\n",
    "from sklearn.metrics import r2_score\n",
    "import numpy as np\n",
    "from matplotlib_venn import venn2\n",
    "from scipy.stats import gaussian_kde"
   ]
  },
  {
   "cell_type": "code",
   "execution_count": 24,
   "metadata": {},
   "outputs": [
    {
     "data": {
      "text/html": [
       "<div>\n",
       "<style scoped>\n",
       "    .dataframe tbody tr th:only-of-type {\n",
       "        vertical-align: middle;\n",
       "    }\n",
       "\n",
       "    .dataframe tbody tr th {\n",
       "        vertical-align: top;\n",
       "    }\n",
       "\n",
       "    .dataframe thead th {\n",
       "        text-align: right;\n",
       "    }\n",
       "</style>\n",
       "<table border=\"1\" class=\"dataframe\">\n",
       "  <thead>\n",
       "    <tr style=\"text-align: right;\">\n",
       "      <th></th>\n",
       "      <th>landmark</th>\n",
       "      <th>PC9.1</th>\n",
       "      <th>PC9.2</th>\n",
       "      <th>mean</th>\n",
       "      <th>gene.type</th>\n",
       "      <th>scaled.score</th>\n",
       "      <th>q3.score</th>\n",
       "    </tr>\n",
       "  </thead>\n",
       "  <tbody>\n",
       "    <tr>\n",
       "      <th>0</th>\n",
       "      <td>C8orf33 (65265)</td>\n",
       "      <td>0.035669</td>\n",
       "      <td>0.023740</td>\n",
       "      <td>0.029705</td>\n",
       "      <td>cond.ess</td>\n",
       "      <td>-0.338620</td>\n",
       "      <td>-0.479853</td>\n",
       "    </tr>\n",
       "    <tr>\n",
       "      <th>1</th>\n",
       "      <td>CDC25A (993)</td>\n",
       "      <td>0.379579</td>\n",
       "      <td>0.230819</td>\n",
       "      <td>0.305199</td>\n",
       "      <td>cond.ess</td>\n",
       "      <td>-0.198675</td>\n",
       "      <td>-0.238549</td>\n",
       "    </tr>\n",
       "    <tr>\n",
       "      <th>2</th>\n",
       "      <td>DNM1L (10059)</td>\n",
       "      <td>-1.413506</td>\n",
       "      <td>-1.355609</td>\n",
       "      <td>-1.384558</td>\n",
       "      <td>essntl</td>\n",
       "      <td>-1.057037</td>\n",
       "      <td>-0.773638</td>\n",
       "    </tr>\n",
       "    <tr>\n",
       "      <th>3</th>\n",
       "      <td>SNAPC3 (6619)</td>\n",
       "      <td>-1.952913</td>\n",
       "      <td>-1.548754</td>\n",
       "      <td>-1.750833</td>\n",
       "      <td>essntl</td>\n",
       "      <td>-1.243098</td>\n",
       "      <td>-1.189180</td>\n",
       "    </tr>\n",
       "    <tr>\n",
       "      <th>4</th>\n",
       "      <td>KLF4 (9314)</td>\n",
       "      <td>0.539209</td>\n",
       "      <td>0.305948</td>\n",
       "      <td>0.422579</td>\n",
       "      <td>cond.ess</td>\n",
       "      <td>-0.139048</td>\n",
       "      <td>-0.056916</td>\n",
       "    </tr>\n",
       "    <tr>\n",
       "      <th>...</th>\n",
       "      <td>...</td>\n",
       "      <td>...</td>\n",
       "      <td>...</td>\n",
       "      <td>...</td>\n",
       "      <td>...</td>\n",
       "      <td>...</td>\n",
       "      <td>...</td>\n",
       "    </tr>\n",
       "    <tr>\n",
       "      <th>186</th>\n",
       "      <td>ADNP (23394)</td>\n",
       "      <td>1.487091</td>\n",
       "      <td>1.296611</td>\n",
       "      <td>1.391851</td>\n",
       "      <td>cond.ess</td>\n",
       "      <td>0.353323</td>\n",
       "      <td>-0.611680</td>\n",
       "    </tr>\n",
       "    <tr>\n",
       "      <th>187</th>\n",
       "      <td>FRA10AC1 (118924)</td>\n",
       "      <td>0.330606</td>\n",
       "      <td>0.228484</td>\n",
       "      <td>0.279545</td>\n",
       "      <td>cond.ess</td>\n",
       "      <td>-0.211706</td>\n",
       "      <td>0.252767</td>\n",
       "    </tr>\n",
       "    <tr>\n",
       "      <th>188</th>\n",
       "      <td>MIB1 (57534)</td>\n",
       "      <td>0.221647</td>\n",
       "      <td>0.262249</td>\n",
       "      <td>0.241948</td>\n",
       "      <td>cond.ess</td>\n",
       "      <td>-0.230805</td>\n",
       "      <td>0.001649</td>\n",
       "    </tr>\n",
       "    <tr>\n",
       "      <th>189</th>\n",
       "      <td>NAIP (4671)</td>\n",
       "      <td>-0.324782</td>\n",
       "      <td>0.133451</td>\n",
       "      <td>-0.095666</td>\n",
       "      <td>cond.ess</td>\n",
       "      <td>-0.402306</td>\n",
       "      <td>-0.181346</td>\n",
       "    </tr>\n",
       "    <tr>\n",
       "      <th>190</th>\n",
       "      <td>PTPRF (5792)</td>\n",
       "      <td>-0.032640</td>\n",
       "      <td>-0.089618</td>\n",
       "      <td>-0.061129</td>\n",
       "      <td>cond.ess</td>\n",
       "      <td>-0.384762</td>\n",
       "      <td>-0.132325</td>\n",
       "    </tr>\n",
       "  </tbody>\n",
       "</table>\n",
       "<p>191 rows × 7 columns</p>\n",
       "</div>"
      ],
      "text/plain": [
       "              landmark     PC9.1     PC9.2      mean gene.type  scaled.score  \\\n",
       "0      C8orf33 (65265)  0.035669  0.023740  0.029705  cond.ess     -0.338620   \n",
       "1         CDC25A (993)  0.379579  0.230819  0.305199  cond.ess     -0.198675   \n",
       "2        DNM1L (10059) -1.413506 -1.355609 -1.384558    essntl     -1.057037   \n",
       "3        SNAPC3 (6619) -1.952913 -1.548754 -1.750833    essntl     -1.243098   \n",
       "4          KLF4 (9314)  0.539209  0.305948  0.422579  cond.ess     -0.139048   \n",
       "..                 ...       ...       ...       ...       ...           ...   \n",
       "186       ADNP (23394)  1.487091  1.296611  1.391851  cond.ess      0.353323   \n",
       "187  FRA10AC1 (118924)  0.330606  0.228484  0.279545  cond.ess     -0.211706   \n",
       "188       MIB1 (57534)  0.221647  0.262249  0.241948  cond.ess     -0.230805   \n",
       "189        NAIP (4671) -0.324782  0.133451 -0.095666  cond.ess     -0.402306   \n",
       "190       PTPRF (5792) -0.032640 -0.089618 -0.061129  cond.ess     -0.384762   \n",
       "\n",
       "     q3.score  \n",
       "0   -0.479853  \n",
       "1   -0.238549  \n",
       "2   -0.773638  \n",
       "3   -1.189180  \n",
       "4   -0.056916  \n",
       "..        ...  \n",
       "186 -0.611680  \n",
       "187  0.252767  \n",
       "188  0.001649  \n",
       "189 -0.181346  \n",
       "190 -0.132325  \n",
       "\n",
       "[191 rows x 7 columns]"
      ]
     },
     "execution_count": 24,
     "metadata": {},
     "output_type": "execute_result"
    }
   ],
   "source": [
    "df_l200"
   ]
  },
  {
   "cell_type": "code",
   "execution_count": 25,
   "metadata": {},
   "outputs": [
    {
     "data": {
      "text/plain": [
       "Text(0, 0.5, 'Q3')"
      ]
     },
     "execution_count": 25,
     "metadata": {},
     "output_type": "execute_result"
    },
    {
     "data": {
      "image/png": "[encoded data removed]",
      "text/plain": [
       "<Figure size 576x432 with 1 Axes>"
      ]
     },
     "metadata": {
      "needs_background": "light"
     },
     "output_type": "display_data"
    }
   ],
   "source": [
    "fig, ax = plt.subplots()\n",
    "fig.set_size_inches(8, 6)\n",
    "ax = sns.regplot(x='scaled.score', y='q3.score',data = df_l200)\n",
    "# corr_pear = pearsonr(df_pc9['actual'], df_pc9['predicted'])[0]\n",
    "# corr_spear = spearmanr(df_pc9['actual'], df_pc9['predicted'])[0]\n",
    "# ax.text(0.05,0.95,'rho = '+str(corr_pear),transform=ax.transAxes,fontsize = 8) #add text\n",
    "ax.set_title('Q3 V.S. Standalone L200 Screening Score', fontsize = 15)\n",
    "ax.set_xlabel('Standalone', fontsize=15);ax.set_ylabel('Q3', fontsize=15)"
   ]
  }
 ],
 "metadata": {
  "kernelspec": {
   "display_name": "Python 3",
   "language": "python",
   "name": "python3"
  },
  "language_info": {
   "codemirror_mode": {
    "name": "ipython",
    "version": 3
   },
   "file_extension": ".py",
   "mimetype": "text/x-python",
   "name": "python",
   "nbconvert_exporter": "python",
   "pygments_lexer": "ipython3",
   "version": "3.7.9"
  }
 },
 "nbformat": 4,
 "nbformat_minor": 4
}
