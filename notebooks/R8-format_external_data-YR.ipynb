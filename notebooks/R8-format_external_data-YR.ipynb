{
 "cells": [
  {
   "cell_type": "code",
   "execution_count": 17,
   "metadata": {},
   "outputs": [],
   "source": [
    "### This is a simple script formatting the PC9 data to data preprocessing\n",
    "# Author: Yiyun\n",
    "import pandas as pd\n",
    "import os, shutil"
   ]
  },
  {
   "cell_type": "markdown",
   "metadata": {},
   "source": [
    "***\n",
    "### Drop PC9 from 19Q3"
   ]
  },
  {
   "cell_type": "code",
   "execution_count": 18,
   "metadata": {},
   "outputs": [],
   "source": [
    "# q3 input and output folder path\n",
    "q3_dir = '../data/DepMap/19Q3';out_q3_dir = '../data/DepMap_DROP_PC9/19Q3'\n",
    "\n",
    "# If the output folder does not exist, make a copy of the 19Q3 folder to output path\n",
    "if not os.path.exists(out_q3_dir):\n",
    "    shutil.copytree(q3_dir,out_q3_dir)\n",
    "    \n",
    "# Read 19Q3 and delete PC9 data from gene effect file -- 'ACH-000030' = PC14 = PC9\n",
    "df_ref19q3 = pd.read_csv(os.path.join(q3_dir,'Achilles_gene_effect.csv'), index_col = 0)\n",
    "df_ref19q3_m = df_ref19q3.drop(['ACH-000030'])\n",
    "\n",
    "# Save file\n",
    "# df_ref19q3_m.to_csv(os.path.join(out_q3_dir,'Achilles_gene_effect.csv'), sep = ',')"
   ]
  },
  {
   "cell_type": "markdown",
   "metadata": {},
   "source": [
    "***\n",
    "### Format PC9 and To data to match 19Q3 CERES input"
   ]
  },
  {
   "cell_type": "code",
   "execution_count": 51,
   "metadata": {},
   "outputs": [],
   "source": [
    "### Read files\n",
    "# Directories for PC9 and To data\n",
    "q3_dir = '../data/DepMap/19Q3' # Need to read 19Q3 files for mapping the gene name + gene ID\n",
    "pc9_dir = '../data/ceres_external/PC9_corrected'\n",
    "to_dir = '../data/ceres_external/To'\n",
    "# read data\n",
    "df_ref19q3 = pd.read_csv(os.path.join(q3_dir,'Achilles_gene_effect.csv'), index_col = 0)\n",
    "df_pc9 = pd.read_csv(os.path.join(pc9_dir,'BatchCorrectedPritchard.csv'), index_col = 0)\n",
    "df_to = pd.read_csv(os.path.join(to_dir,'ToCellCERES.csv'), index_col = 0)"
   ]
  },
  {
   "cell_type": "code",
   "execution_count": 20,
   "metadata": {},
   "outputs": [],
   "source": [
    "### Start formatting...\n",
    "\n",
    "### 1. Assign a name for PC9 (use original name for To)\n",
    "df_pc9.columns = ['PC9'] \n",
    "\n",
    "### 2. Transpose the dataframe to let column names be genes as in 19Q3\n",
    "df_pc9= df_pc9.T; df_to= df_to.T\n",
    "\n",
    "### 3. Rename gene columns in PC9 and To data to match that with 19Q3\n",
    "#   3.1 Create a dictionary for gene names and ids in 19Q3 file, e.g. dict_code['A1BG'] = '1'\n",
    "dict_code = {}\n",
    "for i in range(0, len(df_ref19q3.T)):\n",
    "    name,idx = df_ref19q3.columns[i].split(' ')[0:2]\n",
    "    if name not in dict_code:\n",
    "        dict_code[name] = idx\n",
    "\n",
    "#   3.2 Go through the external dataframe columns and rename the gene columns to gene+gene id\n",
    "def map_gene_names(df):\n",
    "    global dict_code\n",
    "    for names in df.columns:\n",
    "        if names in dict_code: \n",
    "            new_name = names + ' ' + dict_code[names]\n",
    "            df.rename(columns = {names:new_name}, inplace = True) # e.g. A1BG to A1BG (1)\n",
    "        else:\n",
    "            df = df.drop(columns=[names]) # a few genes are not found in Q3 dataset\n",
    "    df = df.dropna(axis = 1) # Drop columns with NA. There is one NA in To data.\n",
    "    return df\n",
    "#   3.3 Apply function to pc9 and To\n",
    "df_pc9 = map_gene_names(df_pc9)\n",
    "df_to = map_gene_names(df_to)\n",
    "\n",
    "### Finish formatting..."
   ]
  },
  {
   "cell_type": "code",
   "execution_count": 21,
   "metadata": {},
   "outputs": [],
   "source": [
    "### Save the formatted files \n",
    "# df_pc9.to_csv(os.path.join(pc9_dir,'gene_effect.csv'), sep = ',')\n",
    "# df_to.to_csv(os.path.join(to_dir,'gene_effect.csv'), sep = ',')"
   ]
  },
  {
   "cell_type": "markdown",
   "metadata": {},
   "source": [
    "***\n",
    "### Format L200 standalone score and replace the pooled L200 score "
   ]
  },
  {
   "cell_type": "code",
   "execution_count": 28,
   "metadata": {},
   "outputs": [],
   "source": [
    "### Read the l200 standalone and PC9 dataframe\n",
    "pc9_dir = '../data/ceres_external/PC9_corrected'\n",
    "df_l200 = pd.read_csv(os.path.join(pc9_dir,'PC9AvL200_CERES.csv'))"
   ]
  },
  {
   "cell_type": "code",
   "execution_count": 31,
   "metadata": {},
   "outputs": [],
   "source": [
    "### Start formatting ...\n",
    "\n",
    "### 1. rename columns for l200 dataframe\n",
    "df_l200.columns = ['landmark','PC9.1','PC9.2','mean','gene.type','scaled.score']\n",
    "\n",
    "### 2. Rename gene name to match that with 19Q3 - A1BG to A1BG (1)\n",
    "#   2.1 Go through the l200 dataframe columns and rename the gene columns to gene+gene id\n",
    "for i in range(0,len(df_l200)):\n",
    "    name = df_l200.loc[i,'landmark'] # Get gene name\n",
    "    if name in dict_code:\n",
    "        new_name = name + ' ' + dict_code[name]\n",
    "        df_l200.loc[i,'landmark'] = new_name\n",
    "    else:\n",
    "        df_l200 = df_l200.drop(i) # a few genes are not found in Q3 dataset\n",
    "\n",
    "### 3. Reset the index as some genes were dropped\n",
    "df_l200 = df_l200.reset_index(drop = True)\n",
    "\n",
    "### Finish formatting ..."
   ]
  },
  {
   "cell_type": "code",
   "execution_count": 38,
   "metadata": {},
   "outputs": [],
   "source": [
    "### Start replacing the pooled L200 score...\n",
    "# Read PC9 gene effect\n",
    "df_pc9_l200 = pd.read_csv(os.path.join(pc9_dir,'gene_effect.csv'), index_col = 0)\n",
    "# Replace the score of l200 in PC9 gene effect by the score in l200 dataframe\n",
    "for i in range(0,len(df_l200)):\n",
    "    name = df_l200.loc[i,'landmark']\n",
    "    score = df_l200.loc[i,'scaled.score']\n",
    "    df_pc9_l200.loc['PC9',name] = score\n",
    "### Finish replacing the pooled L200 score..."
   ]
  },
  {
   "cell_type": "code",
   "execution_count": 41,
   "metadata": {},
   "outputs": [],
   "source": [
    "# Save file\n",
    "# df_pc9_l200.to_csv(os.path.join(pc9_dir,'gene_effect_standalone.csv'), sep = ',')"
   ]
  },
  {
   "cell_type": "code",
   "execution_count": 50,
   "metadata": {},
   "outputs": [
    {
     "name": "stdout",
     "output_type": "stream",
     "text": [
      "TBC1D3 (729873)\n",
      "MARCH5 (54708)\n",
      "ICE1 (23379)\n",
      "GOLGA6L1 (283767)\n",
      "SPAG11B (10407)\n",
      "RIC1 (57589)\n",
      "OR4N4 (283694)\n",
      "FOXO3 (2309)\n",
      "ZNF658 (26149)\n",
      "KDF1 (126695)\n",
      "OST4 (100128731)\n",
      "FKBP6 (8468)\n",
      "HSD17B7 (51478)\n",
      "NAIP (4671)\n"
     ]
    }
   ],
   "source": [
    "### Note, there are more standalone l200 genes than the PC9 pooled l200 genes\n",
    "for columns in df_pc9_l200.columns:\n",
    "    if columns not in df_pc9.columns:\n",
    "        print(columns)"
   ]
  }
 ],
 "metadata": {
  "kernelspec": {
   "display_name": "Python 3",
   "language": "python",
   "name": "python3"
  },
  "language_info": {
   "codemirror_mode": {
    "name": "ipython",
    "version": 3
   },
   "file_extension": ".py",
   "mimetype": "text/x-python",
   "name": "python",
   "nbconvert_exporter": "python",
   "pygments_lexer": "ipython3",
   "version": "3.7.9"
  }
 },
 "nbformat": 4,
 "nbformat_minor": 4
}
