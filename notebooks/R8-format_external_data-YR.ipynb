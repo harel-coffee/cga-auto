{
 "cells": [
  {
   "cell_type": "code",
   "execution_count": null,
   "metadata": {},
   "outputs": [],
   "source": [
    "### This is a simple script formatting the PC9 data to data preprocessing\n",
    "# Author: Yiyun\n",
    "import pandas as pd\n",
    "import os\n",
    "import shutil"
   ]
  },
  {
   "cell_type": "markdown",
   "metadata": {},
   "source": [
    "***\n",
    "### Drop PC9 in 19Q3"
   ]
  },
  {
   "cell_type": "code",
   "execution_count": null,
   "metadata": {},
   "outputs": [],
   "source": [
    "### q3 and q4 input and output folder path\n",
    "q3_dir = '../data/DepMap/19Q3'\n",
    "q4_dir = '../data/DepMap/19Q4'\n",
    "\n",
    "out_q3_dir = '../data/DepMap_DROP_PC9/19Q3'\n",
    "out_q4_dir = '../data/DepMap_DROP_PC9/19Q4'\n",
    "if not os.path.exists(out_q3_dir):\n",
    "    shutil.copytree(q3_dir,out_q3_dir)\n",
    "if not os.path.exists(out_q4_dir):\n",
    "    shutil.copytree(q4_dir,out_q4_dir)"
   ]
  },
  {
   "cell_type": "code",
   "execution_count": null,
   "metadata": {},
   "outputs": [],
   "source": [
    "# Read 19Q3 and 19Q4 file, use column names as reference for genes \n",
    "df_ref19q3 = pd.read_csv(os.path.join(q3_dir,'Achilles_gene_effect.csv'), index_col = 0)\n",
    "df_ref19q4 = pd.read_csv(os.path.join(q4_dir,'Achilles_gene_effect.csv'), index_col = 0)"
   ]
  },
  {
   "cell_type": "code",
   "execution_count": null,
   "metadata": {},
   "outputs": [],
   "source": [
    "# Delete PC9 data from gene effect file\n",
    "df_ref19q3_m = df_ref19q3.drop(['ACH-000030'])\n",
    "df_ref19q4_m = df_ref19q4.drop(['ACH-000030'])"
   ]
  },
  {
   "cell_type": "code",
   "execution_count": null,
   "metadata": {},
   "outputs": [],
   "source": [
    "# Save file\n",
    "# df_ref19q3_m.to_csv(os.path.join(out_q3_dir,'Achilles_gene_effect.csv'), sep = ',')\n",
    "# df_ref19q4_m.to_csv(os.path.join(out_q4_dir,'Achilles_gene_effect.csv'), sep = ',')"
   ]
  },
  {
   "cell_type": "markdown",
   "metadata": {},
   "source": [
    "***\n",
    "### Format external data as q3 input"
   ]
  },
  {
   "cell_type": "code",
   "execution_count": null,
   "metadata": {},
   "outputs": [],
   "source": [
    "### Read files\n",
    "# Need to read 19Q3 files for mapping the gene name + gene code\n",
    "q3_dir = '../data/DepMap/19Q3'\n",
    "q4_dir = '../data/DepMap/19Q4'\n",
    "pc9_dir = '../data/ceres_external/PC9_corrected'\n",
    "to_dir = '../data/ceres_external/To'\n",
    "\n",
    "\n",
    "df_ref19q3 = pd.read_csv(os.path.join(q3_dir,'Achilles_gene_effect.csv'), index_col = 0)\n",
    "df_pc9 = pd.read_csv(os.path.join(pc9_dir,'BatchCorrectedPritchard.csv'), index_col = 0)\n",
    "df_to = pd.read_csv(os.path.join(to_dir,'ToCellCERES.csv'), index_col = 0)"
   ]
  },
  {
   "cell_type": "code",
   "execution_count": null,
   "metadata": {},
   "outputs": [],
   "source": [
    "### Assign random cell line names and transpose the dataframe to let columns be genes\n",
    "df_pc9.columns = ['ACH-000113'] # Assign a random ID for PC9\n",
    "df_pc9= df_pc9.T\n",
    "df_to.columns = ['ACH-000113','ACH-000067','ACH-000070','ACH-000075',\\\n",
    "                 'ACH-000108','ACH-000228','ACH-000233','ACH-000414']\n",
    "df_to= df_to.T"
   ]
  },
  {
   "cell_type": "code",
   "execution_count": null,
   "metadata": {
    "scrolled": true
   },
   "outputs": [],
   "source": [
    "### Map 19q3 column names to external data\n",
    "# Create dictionary for gene names and id in 19Q3 file\n",
    "dict_code = {}\n",
    "for i in range(0, len(df_ref19q3.T)):\n",
    "    name,idx = df_ref19q3.columns[i].split(' ')[0:2]\n",
    "    if name not in dict_code:\n",
    "        dict_code[name] = idx\n",
    "\n",
    "# Map gene in external data\n",
    "def map_gene_names(df):\n",
    "    global dict_code\n",
    "    for names in df.columns:\n",
    "        if names in dict_code:\n",
    "            new_name = names + ' ' + dict_code[names]\n",
    "            df.rename(columns = {names:new_name}, inplace = True)\n",
    "        else:\n",
    "            df = df.drop(columns=[names])\n",
    "    \n",
    "    df = df.dropna(axis = 1)\n",
    "    return df\n",
    "\n",
    "df_pc9 = map_gene_names(df_pc9)\n",
    "df_to = map_gene_names(df_to)"
   ]
  },
  {
   "cell_type": "code",
   "execution_count": null,
   "metadata": {},
   "outputs": [],
   "source": [
    "# df_pc9.to_csv(os.path.join(pc9_dir,'gene_effect.csv'), sep = ',')\n",
    "# df_to.to_csv(os.path.join(to_dir,'gene_effect.csv'), sep = ',')"
   ]
  },
  {
   "cell_type": "markdown",
   "metadata": {},
   "source": [
    "***\n",
    "### Format L200 standalone score "
   ]
  },
  {
   "cell_type": "code",
   "execution_count": null,
   "metadata": {},
   "outputs": [],
   "source": [
    "### Read the l200 standalone gene and score\n",
    "pc9_dir = '../data/ceres_external/PC9_corrected'\n",
    "df_pc9 = pd.read_csv(os.path.join(pc9_dir,'gene_effect.csv'), index_col = 0)\n",
    "df_l200 = pd.read_csv(os.path.join(pc9_dir,'PC9AvL200_CERES.csv'))\n",
    "df_l200.columns = ['landmark','PC9.1','PC9.2','mean','gene.type','scaled.score']"
   ]
  },
  {
   "cell_type": "code",
   "execution_count": null,
   "metadata": {},
   "outputs": [],
   "source": [
    "### Assign gene id - use q3 column names as reference for genes \n",
    "q3_dir = '../data/DepMap/19Q3'\n",
    "df_ref19q3 = pd.read_csv(os.path.join(q3_dir,'Achilles_gene_effect.csv'), index_col = 0)\n",
    "\n",
    "### map gene id to gene name\n",
    "dict_code = {}\n",
    "for i in range(0, len(df_ref19q3.T)):\n",
    "    name,idx = df_ref19q3.columns[i].split(' ')[0:2]\n",
    "    if name not in dict_code:\n",
    "        dict_code[name] = idx\n",
    "# Map gene id to gene\n",
    "for i in range(0,len(df_l200)):\n",
    "    name = df_l200.loc[i,'landmark']\n",
    "    if name in dict_code:\n",
    "        new_name = name + ' ' + dict_code[name]\n",
    "        df_l200.loc[i,'landmark'] = new_name\n",
    "    else:\n",
    "        df_l200 = df_l200.drop(i)\n",
    "df_l200 = df_l200.reset_index(drop = True)"
   ]
  },
  {
   "cell_type": "code",
   "execution_count": null,
   "metadata": {},
   "outputs": [],
   "source": [
    "### Create stand alone l200 q3q4 file \n",
    "## -- Note, this is based on the PC9 drop version, so you have to drop PC9 beforehead\n",
    "out_q3_dir = '../data/DepMap_DROP_PC9/19Q3'\n",
    "out_q4_dir = '../data/DepMap_DROP_PC9/19Q4'\n",
    "\n",
    "standalone_q3_dir = '../data/DepMap_PC9_Standalonel200/19Q3'\n",
    "standalone_q4_dir = '../data/DepMap_PC9_Standalonel200/19Q4'\n",
    "if not os.path.exists(standalone_q3_dir):\n",
    "    shutil.copytree(out_q3_dir,standalone_q3_dir)\n",
    "if not os.path.exists(standalone_q4_dir):\n",
    "    shutil.copytree(out_q4_dir,standalone_q4_dir)"
   ]
  },
  {
   "cell_type": "code",
   "execution_count": null,
   "metadata": {},
   "outputs": [],
   "source": [
    "### Change L200 gene scores in 19q3 and 14(dropped pc9) -- read data\n",
    "df_q3 = pd.read_csv(os.path.join(standalone_q3_dir,'Achilles_gene_effect.csv'), index_col = 0)\n",
    "df_q4 = pd.read_csv(os.path.join(standalone_q4_dir,'Achilles_gene_effect.csv'), index_col = 0)\n",
    "for i in range(0,len(df_l200)):\n",
    "    name = df_l200.loc[i,'landmark']\n",
    "    score = df_l200.loc[i,'scaled.score']\n",
    "    df_q3.loc['ACH-000113',name] = score\n",
    "    df_q4.loc['ACH-000113',name] = score\n",
    "# Save file\n",
    "# df_q3.to_csv(os.path.join(standalone_q3_dir,'Achilles_gene_effect.csv'), sep = ',')\n",
    "# df_q4.to_csv(os.path.join(standalone_q4_dir,'Achilles_gene_effect.csv'), sep = ',')"
   ]
  },
  {
   "cell_type": "code",
   "execution_count": null,
   "metadata": {},
   "outputs": [],
   "source": [
    "### For comparing Bunello l200 and standalone l200\n",
    "for i in range(0,len(df_l200)):\n",
    "    name = df_l200.loc[i,'landmark']\n",
    "    try:\n",
    "        score_q3 = df_pc9.loc['ACH-000113',name]\n",
    "        df_l200.loc[i,'brunello.score.pc9'] = score_q3\n",
    "    except KeyError:\n",
    "        pass # Some l200 genes is not in Brunello\n",
    "# save l200 file\n",
    "# df_l200.to_csv(os.path.join(pc9_dir,'formatted_PC9AvL200_CERES.csv'))"
   ]
  }
 ],
 "metadata": {
  "kernelspec": {
   "display_name": "Python 3",
   "language": "python",
   "name": "python3"
  },
  "language_info": {
   "codemirror_mode": {
    "name": "ipython",
    "version": 3
   },
   "file_extension": ".py",
   "mimetype": "text/x-python",
   "name": "python",
   "nbconvert_exporter": "python",
   "pygments_lexer": "ipython3",
   "version": "3.7.9"
  }
 },
 "nbformat": 4,
 "nbformat_minor": 4
}