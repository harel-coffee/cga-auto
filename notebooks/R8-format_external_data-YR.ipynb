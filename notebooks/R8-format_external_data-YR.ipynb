{
 "cells": [
  {
   "cell_type": "code",
   "execution_count": 2,
   "metadata": {},
   "outputs": [],
   "source": [
    "### This is a simple script formatting the PC9 data to data preprocessing\n",
    "# Author: Yiyun\n",
    "import pandas as pd\n",
    "import os\n",
    "import shutil"
   ]
  },
  {
   "cell_type": "markdown",
   "metadata": {},
   "source": [
    "***\n",
    "### Drop PC9 in 19Q3"
   ]
  },
  {
   "cell_type": "code",
   "execution_count": null,
   "metadata": {},
   "outputs": [],
   "source": [
    "### q3 and q4 input and output folder path\n",
    "q3_dir = '../data/DepMap/19Q3'\n",
    "q4_dir = '../data/DepMap/19Q4'\n",
    "\n",
    "out_q3_dir = '../data/DepMap_DROP_PC9/19Q3'\n",
    "out_q4_dir = '../data/DepMap_DROP_PC9/19Q4'\n",
    "if not os.path.exists(out_q3_dir):\n",
    "    shutil.copytree(q3_dir,out_q3_dir)\n",
    "if not os.path.exists(out_q4_dir):\n",
    "    shutil.copytree(q4_dir,out_q4_dir)"
   ]
  },
  {
   "cell_type": "code",
   "execution_count": null,
   "metadata": {},
   "outputs": [],
   "source": [
    "# Read 19Q3 and 19Q4 file, use column names as reference for genes \n",
    "df_ref19q3 = pd.read_csv(os.path.join(q3_dir,'Achilles_gene_effect.csv'), index_col = 0)\n",
    "df_ref19q4 = pd.read_csv(os.path.join(q4_dir,'Achilles_gene_effect.csv'), index_col = 0)"
   ]
  },
  {
   "cell_type": "code",
   "execution_count": null,
   "metadata": {},
   "outputs": [],
   "source": [
    "# Delete PC9 data from gene effect file\n",
    "df_ref19q3_m = df_ref19q3.drop(['ACH-000030'])\n",
    "df_ref19q4_m = df_ref19q4.drop(['ACH-000030'])"
   ]
  },
  {
   "cell_type": "code",
   "execution_count": null,
   "metadata": {},
   "outputs": [],
   "source": [
    "# Save file\n",
    "# df_ref19q3_m.to_csv(os.path.join(out_q3_dir,'Achilles_gene_effect.csv'), sep = ',')\n",
    "# df_ref19q4_m.to_csv(os.path.join(out_q4_dir,'Achilles_gene_effect.csv'), sep = ',')"
   ]
  },
  {
   "cell_type": "markdown",
   "metadata": {},
   "source": [
    "***\n",
    "### Format PC9 and To data as q3 input"
   ]
  },
  {
   "cell_type": "code",
   "execution_count": 3,
   "metadata": {},
   "outputs": [],
   "source": [
    "### Read files\n",
    "# Need to read 19Q3 files for mapping the gene name + gene code\n",
    "q3_dir = '../data/DepMap/19Q3'\n",
    "q4_dir = '../data/DepMap/19Q4'\n",
    "skmel28_dir = '../data/ceres_external/SKMEL28'\n",
    "colo704_dir = '../data/ceres_external/COLO704'\n",
    "pc9_dir = '../data/ceres_external/PC9_corrected'\n",
    "to_dir = '../data/ceres_external/To'\n",
    "\n",
    "\n",
    "df_ref19q3 = pd.read_csv(os.path.join(q3_dir,'Achilles_gene_effect.csv'), index_col = 0)\n",
    "df_pc9 = pd.read_csv(os.path.join(pc9_dir,'BatchCorrectedPritchard.csv'), index_col = 0)\n",
    "df_to = pd.read_csv(os.path.join(to_dir,'ToCellCERES.csv'), index_col = 0)\n",
    "df_colo704 = pd.read_csv(os.path.join(colo704_dir,'COLO704_CERES.csv'), index_col = 0)\n",
    "df_skmel28 = pd.read_csv(os.path.join(skmel28_dir,'SKMEL28_CERES.csv'), index_col = 0)"
   ]
  },
  {
   "cell_type": "code",
   "execution_count": 9,
   "metadata": {},
   "outputs": [],
   "source": [
    "### Assign random cell line names and transpose the dataframe to let columns be genes\n",
    "df_pc9.columns = ['ACH-000113'] # Assign a random ID for PC9\n",
    "df_pc9= df_pc9.T\n",
    "df_to.columns = ['ACH-000113','ACH-000067','ACH-000070','ACH-000075',\\\n",
    "                 'ACH-000108','ACH-000228','ACH-000233','ACH-000414']\n",
    "df_to= df_to.T"
   ]
  },
  {
   "cell_type": "code",
   "execution_count": 41,
   "metadata": {},
   "outputs": [],
   "source": [
    "df_colo704.columns = ['ACH-000113']\n",
    "df_skmel28.columns = ['ACH-000113']\n",
    "df_colo704= df_colo704.T\n",
    "df_skmel28= df_skmel28.T"
   ]
  },
  {
   "cell_type": "code",
   "execution_count": 42,
   "metadata": {
    "scrolled": true
   },
   "outputs": [],
   "source": [
    "### Map 19q3 column names to PC9 and To data\n",
    "# Create dictionary for gene names and id in 19Q3 file\n",
    "dict_code = {}\n",
    "for i in range(0, len(df_ref19q3.T)):\n",
    "    name,idx = df_ref19q3.columns[i].split(' ')[0:2]\n",
    "    if name not in dict_code:\n",
    "        dict_code[name] = idx\n",
    "\n",
    "# Map gene in PC9 and To data\n",
    "def map_gene_names(df):\n",
    "    global dict_code\n",
    "    for names in df.columns:\n",
    "        if names in dict_code:\n",
    "            new_name = names + ' ' + dict_code[names]\n",
    "            df.rename(columns = {names:new_name}, inplace = True)\n",
    "        else:\n",
    "            df = df.drop(columns=[names])\n",
    "    \n",
    "    df = df.dropna(axis = 1)\n",
    "    return df\n",
    "\n",
    "# df_pc9 = map_gene_names(df_pc9)\n",
    "# df_to = map_gene_names(df_to)\n",
    "df_colo704 = map_gene_names(df_colo704)\n",
    "df_skmel28 = map_gene_names(df_skmel28)"
   ]
  },
  {
   "cell_type": "code",
   "execution_count": 9,
   "metadata": {},
   "outputs": [],
   "source": [
    "# df_pc9.to_csv(os.path.join(pc9_dir,'gene_effect.csv'), sep = ',')\n",
    "# df_to.to_csv(os.path.join(to_dir,'gene_effect.csv'), sep = ',')\n",
    "df_skmel28.to_csv(os.path.join(skmel28_dir,'gene_effect.csv'), sep = ',')\n",
    "df_colo704.to_csv(os.path.join(colo704_dir,'gene_effect.csv'), sep = ',')"
   ]
  },
  {
   "cell_type": "markdown",
   "metadata": {},
   "source": [
    "***\n",
    "### L200 standalone score - test version before getting gene names"
   ]
  },
  {
   "cell_type": "code",
   "execution_count": null,
   "metadata": {},
   "outputs": [],
   "source": [
    "### Read the l200 standalone gene and score\n",
    "pc9_dir = '../data/ceres_external/PC9_corrected'\n",
    "df_l200 = pd.read_csv(os.path.join(pc9_dir,'PC9AvL200_CERES.csv'))"
   ]
  },
  {
   "cell_type": "code",
   "execution_count": null,
   "metadata": {},
   "outputs": [],
   "source": [
    "### Process landmark.pseudo to possible format with no gene id\n",
    "l200_gene = [i[0] for i in df_l200['landmark.pseudo'].str.split(' ()')]\n",
    "df_l200['landmark.pseudo'] = l200_gene"
   ]
  },
  {
   "cell_type": "code",
   "execution_count": 32,
   "metadata": {},
   "outputs": [],
   "source": [
    "### Assign gene id to landmark.pseudo\n",
    "### q3 and q4 input and output folder path\n",
    "q3_dir = '../data/DepMap/19Q3'\n",
    "q4_dir = '../data/DepMap/19Q4'\n",
    "    \n",
    "# Read 19Q3 and 19Q4 file, use column names as reference for genes \n",
    "df_ref19q3 = pd.read_csv(os.path.join(q3_dir,'Achilles_gene_effect.csv'), index_col = 0)\n",
    "df_ref19q4 = pd.read_csv(os.path.join(q4_dir,'Achilles_gene_effect.csv'), index_col = 0)"
   ]
  },
  {
   "cell_type": "code",
   "execution_count": 33,
   "metadata": {},
   "outputs": [
    {
     "name": "stdout",
     "output_type": "stream",
     "text": [
      "NPIPB5\n",
      "HIAT1\n",
      "ATP5I\n",
      "NUDT4\n",
      "KIAA0907\n",
      "FAM21C\n",
      "KIAA1279\n",
      "PTPLB\n"
     ]
    }
   ],
   "source": [
    "### map gene id to gene name\n",
    "dict_code = {}\n",
    "for i in range(0, len(df_ref19q3.T)):\n",
    "    name,idx = df_ref19q3.columns[i].split(' ')[0:2]\n",
    "    if name not in dict_code:\n",
    "        dict_code[name] = idx\n",
    "\n",
    "# Map gene in PC9 and To data\n",
    "for i in range(0,len(df_l200)):\n",
    "    name = df_l200.loc[i,'landmark.pseudo']\n",
    "    if name in dict_code:\n",
    "        new_name = name + ' ' + dict_code[name]\n",
    "        df_l200.loc[i,'landamrk.pseudo'] = new_name\n",
    "    else:\n",
    "        print(name)\n",
    "        df_l200.drop(i)"
   ]
  },
  {
   "cell_type": "code",
   "execution_count": 39,
   "metadata": {
    "scrolled": true
   },
   "outputs": [],
   "source": [
    "### Change gene names in 19q3 and 14(dropped pc9) -- read data\n",
    "out_q3_dir = '../data/DepMap_DROP_PC9/19Q3'\n",
    "out_q4_dir = '../data/DepMap_DROP_PC9/19Q4'\n",
    "df_ref19q3_pc9 = pd.read_csv(os.path.join(out_q3_dir,'Achilles_gene_effect.csv'), index_col = 0)\n",
    "df_ref19q4_pc9 = pd.read_csv(os.path.join(out_q4_dir,'Achilles_gene_effect.csv'), index_col = 0)"
   ]
  },
  {
   "cell_type": "code",
   "execution_count": 41,
   "metadata": {},
   "outputs": [
    {
     "data": {
      "text/html": [
       "<div>\n",
       "<style scoped>\n",
       "    .dataframe tbody tr th:only-of-type {\n",
       "        vertical-align: middle;\n",
       "    }\n",
       "\n",
       "    .dataframe tbody tr th {\n",
       "        vertical-align: top;\n",
       "    }\n",
       "\n",
       "    .dataframe thead th {\n",
       "        text-align: right;\n",
       "    }\n",
       "</style>\n",
       "<table border=\"1\" class=\"dataframe\">\n",
       "  <thead>\n",
       "    <tr style=\"text-align: right;\">\n",
       "      <th></th>\n",
       "      <th>PC9.1</th>\n",
       "      <th>PC9.2</th>\n",
       "      <th>mean</th>\n",
       "      <th>gene.type</th>\n",
       "      <th>scaled.score</th>\n",
       "      <th>landmark.pseudo</th>\n",
       "      <th>landamrk.pseudo</th>\n",
       "    </tr>\n",
       "  </thead>\n",
       "  <tbody>\n",
       "    <tr>\n",
       "      <th>0</th>\n",
       "      <td>0.038043</td>\n",
       "      <td>0.026153</td>\n",
       "      <td>0.032098</td>\n",
       "      <td>cond.ess</td>\n",
       "      <td>-0.370860</td>\n",
       "      <td>MARS2</td>\n",
       "      <td>MARS2 (92935)</td>\n",
       "    </tr>\n",
       "    <tr>\n",
       "      <th>1</th>\n",
       "      <td>0.381959</td>\n",
       "      <td>0.233241</td>\n",
       "      <td>0.307600</td>\n",
       "      <td>cond.ess</td>\n",
       "      <td>-0.237248</td>\n",
       "      <td>NRAS</td>\n",
       "      <td>NRAS (4893)</td>\n",
       "    </tr>\n",
       "    <tr>\n",
       "      <th>2</th>\n",
       "      <td>-1.411134</td>\n",
       "      <td>-1.353202</td>\n",
       "      <td>-1.382168</td>\n",
       "      <td>essntl</td>\n",
       "      <td>-1.056740</td>\n",
       "      <td>SDHAF1</td>\n",
       "      <td>SDHAF1 (644096)</td>\n",
       "    </tr>\n",
       "    <tr>\n",
       "      <th>3</th>\n",
       "      <td>-1.950500</td>\n",
       "      <td>-1.546198</td>\n",
       "      <td>-1.748349</td>\n",
       "      <td>essntl</td>\n",
       "      <td>-1.234328</td>\n",
       "      <td>IRF9</td>\n",
       "      <td>IRF9 (10379)</td>\n",
       "    </tr>\n",
       "    <tr>\n",
       "      <th>4</th>\n",
       "      <td>0.541585</td>\n",
       "      <td>0.308363</td>\n",
       "      <td>0.424974</td>\n",
       "      <td>cond.ess</td>\n",
       "      <td>-0.180325</td>\n",
       "      <td>ING5</td>\n",
       "      <td>ING5 (84289)</td>\n",
       "    </tr>\n",
       "    <tr>\n",
       "      <th>...</th>\n",
       "      <td>...</td>\n",
       "      <td>...</td>\n",
       "      <td>...</td>\n",
       "      <td>...</td>\n",
       "      <td>...</td>\n",
       "      <td>...</td>\n",
       "      <td>...</td>\n",
       "    </tr>\n",
       "    <tr>\n",
       "      <th>195</th>\n",
       "      <td>0.333017</td>\n",
       "      <td>0.231041</td>\n",
       "      <td>0.282029</td>\n",
       "      <td>cond.ess</td>\n",
       "      <td>-0.249650</td>\n",
       "      <td>AHCYL1</td>\n",
       "      <td>AHCYL1 (10768)</td>\n",
       "    </tr>\n",
       "    <tr>\n",
       "      <th>196</th>\n",
       "      <td>0.224058</td>\n",
       "      <td>0.264806</td>\n",
       "      <td>0.244432</td>\n",
       "      <td>cond.ess</td>\n",
       "      <td>-0.267883</td>\n",
       "      <td>GMNN</td>\n",
       "      <td>GMNN (51053)</td>\n",
       "    </tr>\n",
       "    <tr>\n",
       "      <th>197</th>\n",
       "      <td>-0.322791</td>\n",
       "      <td>0.135472</td>\n",
       "      <td>-0.093659</td>\n",
       "      <td>cond.ess</td>\n",
       "      <td>-0.431848</td>\n",
       "      <td>SNRPB2</td>\n",
       "      <td>SNRPB2 (6629)</td>\n",
       "    </tr>\n",
       "    <tr>\n",
       "      <th>198</th>\n",
       "      <td>-0.030267</td>\n",
       "      <td>-0.087209</td>\n",
       "      <td>-0.058738</td>\n",
       "      <td>cond.ess</td>\n",
       "      <td>-0.414913</td>\n",
       "      <td>UBE2D3</td>\n",
       "      <td>UBE2D3 (7323)</td>\n",
       "    </tr>\n",
       "    <tr>\n",
       "      <th>199</th>\n",
       "      <td>NaN</td>\n",
       "      <td>NaN</td>\n",
       "      <td>NaN</td>\n",
       "      <td>NaN</td>\n",
       "      <td>NaN</td>\n",
       "      <td>NXT1</td>\n",
       "      <td>NXT1 (29107)</td>\n",
       "    </tr>\n",
       "  </tbody>\n",
       "</table>\n",
       "<p>200 rows × 7 columns</p>\n",
       "</div>"
      ],
      "text/plain": [
       "        PC9.1     PC9.2      mean gene.type  scaled.score landmark.pseudo  \\\n",
       "0    0.038043  0.026153  0.032098  cond.ess     -0.370860           MARS2   \n",
       "1    0.381959  0.233241  0.307600  cond.ess     -0.237248            NRAS   \n",
       "2   -1.411134 -1.353202 -1.382168    essntl     -1.056740          SDHAF1   \n",
       "3   -1.950500 -1.546198 -1.748349    essntl     -1.234328            IRF9   \n",
       "4    0.541585  0.308363  0.424974  cond.ess     -0.180325            ING5   \n",
       "..        ...       ...       ...       ...           ...             ...   \n",
       "195  0.333017  0.231041  0.282029  cond.ess     -0.249650          AHCYL1   \n",
       "196  0.224058  0.264806  0.244432  cond.ess     -0.267883            GMNN   \n",
       "197 -0.322791  0.135472 -0.093659  cond.ess     -0.431848          SNRPB2   \n",
       "198 -0.030267 -0.087209 -0.058738  cond.ess     -0.414913          UBE2D3   \n",
       "199       NaN       NaN       NaN       NaN           NaN            NXT1   \n",
       "\n",
       "     landamrk.pseudo  \n",
       "0      MARS2 (92935)  \n",
       "1        NRAS (4893)  \n",
       "2    SDHAF1 (644096)  \n",
       "3       IRF9 (10379)  \n",
       "4       ING5 (84289)  \n",
       "..               ...  \n",
       "195   AHCYL1 (10768)  \n",
       "196     GMNN (51053)  \n",
       "197    SNRPB2 (6629)  \n",
       "198    UBE2D3 (7323)  \n",
       "199     NXT1 (29107)  \n",
       "\n",
       "[200 rows x 7 columns]"
      ]
     },
     "execution_count": 41,
     "metadata": {},
     "output_type": "execute_result"
    }
   ],
   "source": [
    "### Change gene names in 19q3 and 14(dropped pc9) -- read data\n",
    "df_l200"
   ]
  }
 ],
 "metadata": {
  "kernelspec": {
   "display_name": "Python 3",
   "language": "python",
   "name": "python3"
  },
  "language_info": {
   "codemirror_mode": {
    "name": "ipython",
    "version": 3
   },
   "file_extension": ".py",
   "mimetype": "text/x-python",
   "name": "python",
   "nbconvert_exporter": "python",
   "pygments_lexer": "ipython3",
   "version": "3.7.9"
  }
 },
 "nbformat": 4,
 "nbformat_minor": 4
}
